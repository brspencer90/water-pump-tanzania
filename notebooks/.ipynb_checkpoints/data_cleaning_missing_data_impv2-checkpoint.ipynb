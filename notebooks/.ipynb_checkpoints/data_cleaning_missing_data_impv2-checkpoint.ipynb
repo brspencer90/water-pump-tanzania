{
 "cells": [
  {
   "cell_type": "code",
   "execution_count": 1,
   "metadata": {
    "id": "OoWedoLaDQfO"
   },
   "outputs": [],
   "source": [
    "import pandas as pd\n",
    "import numpy as np\n",
    "\n",
    "import datetime as dt\n",
    "\n",
    "import matplotlib.pyplot as plt\n",
    "import seaborn as sns\n",
    "\n",
    "import geopandas as gpd\n",
    "from shapely.geometry import Point \n",
    "\n",
    "from random import *\n",
    "\n",
    "%qtconsole"
   ]
  },
  {
   "cell_type": "code",
   "execution_count": 2,
   "metadata": {
    "id": "D_NPD5GqDQfT"
   },
   "outputs": [],
   "source": [
    "data_raw_dir = 'C:\\\\Users\\\\Bryan\\\\OneDrive\\\\02 GitHub\\\\water-pump-tanzania\\\\data\\\\raw\\\\'\n",
    "data_interim_dir = 'C:\\\\Users\\\\Bryan\\\\OneDrive\\\\02 GitHub\\\\water-pump-tanzania\\\\data\\\\interim\\\\'\n",
    "data_processed_dir = 'C:\\\\Users\\\\Bryan\\\\OneDrive\\\\02 GitHub\\\\water-pump-tanzania\\\\data\\\\processed\\\\'\n",
    "docs_img_dir = 'C:\\\\Users\\\\bryan\\\\OneDrive\\\\02 GitHub\\\\water-pump-tanzania\\\\docs\\\\img\\\\'"
   ]
  },
  {
   "cell_type": "markdown",
   "metadata": {
    "id": "i9KK6d3ZDQfU"
   },
   "source": [
    "## Initial Data Exploration"
   ]
  },
  {
   "cell_type": "code",
   "execution_count": 3,
   "metadata": {
    "colab": {
     "base_uri": "https://localhost:8080/",
     "height": 231
    },
    "id": "AZe1B9UWDQfU",
    "outputId": "6a1e25aa-4b5d-41b5-a914-fd8b2dba2115",
    "scrolled": false
   },
   "outputs": [
    {
     "name": "stdout",
     "output_type": "stream",
     "text": [
      "(74228, 40)\n",
      "Index(['id', 'amount_tsh', 'date_recorded', 'funder', 'gps_height',\n",
      "       'installer', 'longitude', 'latitude', 'wpt_name', 'num_private',\n",
      "       'basin', 'subvillage', 'region', 'region_code', 'district_code', 'lga',\n",
      "       'ward', 'population', 'public_meeting', 'recorded_by',\n",
      "       'scheme_management', 'scheme_name', 'permit', 'construction_year',\n",
      "       'extraction_type', 'extraction_type_group', 'extraction_type_class',\n",
      "       'management', 'management_group', 'payment', 'payment_type',\n",
      "       'water_quality', 'quality_group', 'quantity', 'quantity_group',\n",
      "       'source', 'source_type', 'source_class', 'waterpoint_type',\n",
      "       'waterpoint_type_group'],\n",
      "      dtype='object')\n"
     ]
    },
    {
     "data": {
      "text/html": [
       "<div>\n",
       "<style scoped>\n",
       "    .dataframe tbody tr th:only-of-type {\n",
       "        vertical-align: middle;\n",
       "    }\n",
       "\n",
       "    .dataframe tbody tr th {\n",
       "        vertical-align: top;\n",
       "    }\n",
       "\n",
       "    .dataframe thead th {\n",
       "        text-align: right;\n",
       "    }\n",
       "</style>\n",
       "<table border=\"1\" class=\"dataframe\">\n",
       "  <thead>\n",
       "    <tr style=\"text-align: right;\">\n",
       "      <th></th>\n",
       "      <th>id</th>\n",
       "      <th>amount_tsh</th>\n",
       "      <th>date_recorded</th>\n",
       "      <th>funder</th>\n",
       "      <th>gps_height</th>\n",
       "      <th>installer</th>\n",
       "      <th>longitude</th>\n",
       "      <th>latitude</th>\n",
       "      <th>wpt_name</th>\n",
       "      <th>num_private</th>\n",
       "      <th>...</th>\n",
       "      <th>payment_type</th>\n",
       "      <th>water_quality</th>\n",
       "      <th>quality_group</th>\n",
       "      <th>quantity</th>\n",
       "      <th>quantity_group</th>\n",
       "      <th>source</th>\n",
       "      <th>source_type</th>\n",
       "      <th>source_class</th>\n",
       "      <th>waterpoint_type</th>\n",
       "      <th>waterpoint_type_group</th>\n",
       "    </tr>\n",
       "  </thead>\n",
       "  <tbody>\n",
       "    <tr>\n",
       "      <th>0</th>\n",
       "      <td>69572</td>\n",
       "      <td>6000.0</td>\n",
       "      <td>2011-03-14</td>\n",
       "      <td>Roman</td>\n",
       "      <td>1390</td>\n",
       "      <td>Roman</td>\n",
       "      <td>34.938093</td>\n",
       "      <td>-9.856322</td>\n",
       "      <td>none</td>\n",
       "      <td>0</td>\n",
       "      <td>...</td>\n",
       "      <td>annually</td>\n",
       "      <td>soft</td>\n",
       "      <td>good</td>\n",
       "      <td>enough</td>\n",
       "      <td>enough</td>\n",
       "      <td>spring</td>\n",
       "      <td>spring</td>\n",
       "      <td>groundwater</td>\n",
       "      <td>communal standpipe</td>\n",
       "      <td>communal standpipe</td>\n",
       "    </tr>\n",
       "    <tr>\n",
       "      <th>1</th>\n",
       "      <td>8776</td>\n",
       "      <td>0.0</td>\n",
       "      <td>2013-03-06</td>\n",
       "      <td>Grumeti</td>\n",
       "      <td>1399</td>\n",
       "      <td>GRUMETI</td>\n",
       "      <td>34.698766</td>\n",
       "      <td>-2.147466</td>\n",
       "      <td>Zahanati</td>\n",
       "      <td>0</td>\n",
       "      <td>...</td>\n",
       "      <td>never pay</td>\n",
       "      <td>soft</td>\n",
       "      <td>good</td>\n",
       "      <td>insufficient</td>\n",
       "      <td>insufficient</td>\n",
       "      <td>rainwater harvesting</td>\n",
       "      <td>rainwater harvesting</td>\n",
       "      <td>surface</td>\n",
       "      <td>communal standpipe</td>\n",
       "      <td>communal standpipe</td>\n",
       "    </tr>\n",
       "  </tbody>\n",
       "</table>\n",
       "<p>2 rows × 40 columns</p>\n",
       "</div>"
      ],
      "text/plain": [
       "      id  amount_tsh date_recorded   funder  gps_height installer  longitude  \\\n",
       "0  69572      6000.0    2011-03-14    Roman        1390     Roman  34.938093   \n",
       "1   8776         0.0    2013-03-06  Grumeti        1399   GRUMETI  34.698766   \n",
       "\n",
       "   latitude  wpt_name  num_private  ... payment_type water_quality  \\\n",
       "0 -9.856322      none            0  ...     annually          soft   \n",
       "1 -2.147466  Zahanati            0  ...    never pay          soft   \n",
       "\n",
       "  quality_group      quantity  quantity_group                source  \\\n",
       "0          good        enough          enough                spring   \n",
       "1          good  insufficient    insufficient  rainwater harvesting   \n",
       "\n",
       "            source_type  source_class     waterpoint_type  \\\n",
       "0                spring   groundwater  communal standpipe   \n",
       "1  rainwater harvesting       surface  communal standpipe   \n",
       "\n",
       "  waterpoint_type_group  \n",
       "0    communal standpipe  \n",
       "1    communal standpipe  \n",
       "\n",
       "[2 rows x 40 columns]"
      ]
     },
     "execution_count": 3,
     "metadata": {},
     "output_type": "execute_result"
    }
   ],
   "source": [
    "df_train_val = pd.read_csv(data_raw_dir + 'training_values.csv')\n",
    "df_test_val = pd.read_csv(data_raw_dir + 'test_values.csv')\n",
    "df_train_lab = pd.read_csv(data_raw_dir + 'training_labels.csv')\n",
    "\n",
    "df_comp_val = pd.read_csv(data_interim_dir+'comp_val_gps_corrected.csv',index_col=0)\n",
    "\n",
    "print(df_comp_val.shape)\n",
    "print(df_comp_val.columns)\n",
    "\n",
    "df_comp_val.head(2)"
   ]
  },
  {
   "cell_type": "markdown",
   "metadata": {
    "id": "MrAzKNbhDQfW"
   },
   "source": [
    "#### Create Label Definition Dictionary"
   ]
  },
  {
   "cell_type": "code",
   "execution_count": 4,
   "metadata": {
    "id": "666PERX3DQfW"
   },
   "outputs": [],
   "source": [
    "label_list = ['amount_tsh - Total static head (amount water available to waterpoint)',\n",
    "'date_recorded - The date the row was entered',\n",
    "'funder - Who funded the well',\n",
    "'gps_height - Altitude of the well',\n",
    "'installer - Organization that installed the well',\n",
    "'longitude - GPS coordinate',\n",
    "'latitude - GPS coordinate',\n",
    "'wpt_name - Name of the waterpoint if there is one',\n",
    "'num_private - ',\n",
    "'basin - Geographic water basin',\n",
    "'subvillage - Geographic location',\n",
    "'region - Geographic location',\n",
    "'region_code - Geographic location (coded)',\n",
    "'district_code - Geographic location (coded)',\n",
    "'lga - Geographic location',\n",
    "'ward - Geographic location',\n",
    "'population - Population around the well',\n",
    "'public_meeting - True/False',\n",
    "'recorded_by - Group entering this row of data',\n",
    "'scheme_management - Who operates the waterpoint',\n",
    "'scheme_name - Who operates the waterpoint',\n",
    "'permit - If the waterpoint is permitted',\n",
    "'construction_year - Year the waterpoint was constructed',\n",
    "'extraction_type - The kind of extraction the waterpoint uses',\n",
    "'extraction_type_group - The kind of extraction the waterpoint uses',\n",
    "'extraction_type_class - The kind of extraction the waterpoint uses',\n",
    "'management - How the waterpoint is managed',\n",
    "'management_group - How the waterpoint is managed',\n",
    "'payment - What the water costs',\n",
    "'payment_type - What the water costs',\n",
    "'water_quality - The quality of the water',\n",
    "'quality_group - The quality of the water',\n",
    "'quantity - The quantity of water',\n",
    "'quantity_group - The quantity of water',\n",
    "'source - The source of the water',\n",
    "'source_type - The source of the water',\n",
    "'source_class - The source of the water',\n",
    "'waterpoint_type - The kind of waterpoint',\n",
    "'waterpoint_type_group - The kind of waterpoint']\n",
    "\n",
    "label_list = [x.split(' - ') for x in label_list]\n",
    "label_desc = [y for (x,y) in label_list]\n",
    "label_list = [x for (x,y) in label_list]\n",
    "\n",
    "label_dict = {}\n",
    "label_dict = dict(zip(label_list,label_desc))"
   ]
  },
  {
   "cell_type": "code",
   "execution_count": 5,
   "metadata": {
    "colab": {
     "base_uri": "https://localhost:8080/",
     "height": 231
    },
    "id": "4FQMmh6yDQfW",
    "outputId": "c5e65cce-db02-47f7-9133-c290c0aa6f45"
   },
   "outputs": [],
   "source": [
    "var = 'id'\n",
    "def explore_data(var,slice=-len(df_comp_val[var].unique())):\n",
    "    print(label_dict[var])\n",
    "    print(df_comp_val[var].dtype)\n",
    "    print(df_comp_val[var].unique()[slice:])\n",
    "    print(str(len(df_comp_val[var].unique())) + ' unique values')\n",
    "    print(str(df_comp_val[var].isna().sum())+' missing or null values')"
   ]
  },
  {
   "cell_type": "markdown",
   "metadata": {
    "id": "DblJU0_iDQjR"
   },
   "source": [
    "### Missing Data"
   ]
  },
  {
   "cell_type": "code",
   "execution_count": 6,
   "metadata": {
    "id": "nWZsDydQDQjR",
    "scrolled": false
   },
   "outputs": [
    {
     "name": "stdout",
     "output_type": "stream",
     "text": [
      "<class 'pandas.core.frame.DataFrame'>\n",
      "Int64Index: 74228 entries, 0 to 74227\n",
      "Data columns (total 40 columns):\n",
      " #   Column                 Non-Null Count  Dtype  \n",
      "---  ------                 --------------  -----  \n",
      " 0   id                     74228 non-null  int64  \n",
      " 1   amount_tsh             74228 non-null  float64\n",
      " 2   date_recorded          74228 non-null  object \n",
      " 3   funder                 69724 non-null  object \n",
      " 4   gps_height             74228 non-null  int64  \n",
      " 5   installer              69696 non-null  object \n",
      " 6   longitude              74228 non-null  float64\n",
      " 7   latitude               74228 non-null  float64\n",
      " 8   wpt_name               74228 non-null  object \n",
      " 9   num_private            74228 non-null  int64  \n",
      " 10  basin                  74228 non-null  object \n",
      " 11  subvillage             73758 non-null  object \n",
      " 12  region                 74228 non-null  object \n",
      " 13  region_code            74228 non-null  int64  \n",
      " 14  district_code          74228 non-null  int64  \n",
      " 15  lga                    74228 non-null  object \n",
      " 16  ward                   74228 non-null  object \n",
      " 17  population             74228 non-null  int64  \n",
      " 18  public_meeting         70073 non-null  object \n",
      " 19  recorded_by            74228 non-null  object \n",
      " 20  scheme_management      69382 non-null  object \n",
      " 21  scheme_name            38987 non-null  object \n",
      " 22  permit                 70435 non-null  object \n",
      " 23  construction_year      74228 non-null  int64  \n",
      " 24  extraction_type        74228 non-null  object \n",
      " 25  extraction_type_group  74228 non-null  object \n",
      " 26  extraction_type_class  74228 non-null  object \n",
      " 27  management             74228 non-null  object \n",
      " 28  management_group       74228 non-null  object \n",
      " 29  payment                74228 non-null  object \n",
      " 30  payment_type           74228 non-null  object \n",
      " 31  water_quality          74228 non-null  object \n",
      " 32  quality_group          74228 non-null  object \n",
      " 33  quantity               74228 non-null  object \n",
      " 34  quantity_group         74228 non-null  object \n",
      " 35  source                 74228 non-null  object \n",
      " 36  source_type            74228 non-null  object \n",
      " 37  source_class           74228 non-null  object \n",
      " 38  waterpoint_type        74228 non-null  object \n",
      " 39  waterpoint_type_group  74228 non-null  object \n",
      "dtypes: float64(3), int64(7), object(30)\n",
      "memory usage: 23.2+ MB\n"
     ]
    }
   ],
   "source": [
    "\n",
    "df_comp_val.info()"
   ]
  },
  {
   "cell_type": "markdown",
   "metadata": {
    "id": "zFcvo8kZDQjR"
   },
   "source": [
    "#### id"
   ]
  },
  {
   "cell_type": "code",
   "execution_count": 7,
   "metadata": {
    "colab": {
     "base_uri": "https://localhost:8080/",
     "height": 197
    },
    "id": "nyaiAtJxDQfX",
    "outputId": "d85b38c4-ce1e-45a9-8639-e7818e154a9f"
   },
   "outputs": [
    {
     "name": "stdout",
     "output_type": "stream",
     "text": [
      "[69572  8776 34310 ... 28749 33492 68707]\n"
     ]
    },
    {
     "data": {
      "text/plain": [
       "0        1\n",
       "42238    1\n",
       "Name: id, dtype: int64"
      ]
     },
     "execution_count": 7,
     "metadata": {},
     "output_type": "execute_result"
    }
   ],
   "source": [
    "var='id'\n",
    "\n",
    "print(df_comp_val[var].unique())\n",
    "\n",
    "# type int - index / id value - Good\n",
    "\n",
    "df_comp_val[var].value_counts(sort=True)[:2]\n",
    "\n",
    "# no duplicates - no error values"
   ]
  },
  {
   "cell_type": "markdown",
   "metadata": {},
   "source": [
    "#### amount_tsh"
   ]
  },
  {
   "cell_type": "code",
   "execution_count": 8,
   "metadata": {
    "id": "ZO7_bii8DQfX",
    "outputId": "218cb29f-344b-4fb7-d9a2-a8054faef845"
   },
   "outputs": [
    {
     "name": "stdout",
     "output_type": "stream",
     "text": [
      "Total static head (amount water available to waterpoint)\n",
      "float64\n",
      "[5.90e+01 3.50e+04 3.00e+00 2.55e+03 5.00e-01]\n",
      "102 unique values\n",
      "0 missing or null values\n"
     ]
    },
    {
     "data": {
      "text/plain": [
       "0.0         52027\n",
       "500.0        3874\n",
       "50.0         3103\n",
       "1000.0       1858\n",
       "20.0         1812\n",
       "            ...  \n",
       "70000.0         2\n",
       "53.0            1\n",
       "250000.0        1\n",
       "900.0           1\n",
       "3.0             1\n",
       "Name: amount_tsh, Length: 84, dtype: int64"
      ]
     },
     "execution_count": 8,
     "metadata": {},
     "output_type": "execute_result"
    }
   ],
   "source": [
    "var = 'amount_tsh'\n",
    "explore_data(var,-5)\n",
    "\n",
    "# type float - some decimal values it looks like - Good\n",
    "\n",
    "df_comp_val[var].value_counts(sort=True)[:3]"
   ]
  },
  {
   "cell_type": "markdown",
   "metadata": {},
   "source": [
    "70% of data read zero, could be an bad column but will keep for now."
   ]
  },
  {
   "cell_type": "markdown",
   "metadata": {},
   "source": [
    "#### date_recorded"
   ]
  },
  {
   "cell_type": "code",
   "execution_count": 9,
   "metadata": {
    "id": "MsdyuHG-DQfX",
    "outputId": "5f27bae7-4305-40e5-b9e7-8356ab081e95",
    "scrolled": true
   },
   "outputs": [
    {
     "name": "stdout",
     "output_type": "stream",
     "text": [
      "The date the row was entered\n",
      "object\n",
      "['2004-01-12' '2011-09-07' '2004-12-03' '2011-09-22' '2004-01-09']\n",
      "369 unique values\n",
      "0 missing or null values\n"
     ]
    },
    {
     "data": {
      "text/plain": [
       "2011-03-17    695\n",
       "2011-03-15    694\n",
       "2013-02-03    684\n",
       "2011-03-16    650\n",
       "2011-03-14    649\n",
       "Name: date_recorded, dtype: int64"
      ]
     },
     "execution_count": 9,
     "metadata": {},
     "output_type": "execute_result"
    }
   ],
   "source": [
    "var = 'date_recorded'\n",
    "explore_data(var,-5)\n",
    "\n",
    "# type object - change to datetime\n",
    "\n",
    "df_comp_val[var].value_counts(sort=True)[:5]\n"
   ]
  },
  {
   "cell_type": "code",
   "execution_count": 10,
   "metadata": {},
   "outputs": [],
   "source": [
    "df_comp_val[var] = pd.to_datetime(df_comp_val[var],format='%Y-%m-%d')\n",
    "\n",
    "# type datetime - Good"
   ]
  },
  {
   "cell_type": "markdown",
   "metadata": {},
   "source": [
    "#### funder"
   ]
  },
  {
   "cell_type": "code",
   "execution_count": 11,
   "metadata": {
    "id": "bO_lN3BfDQfX",
    "outputId": "55e0cdb3-3679-40ba-a7d6-b10400bcff7e",
    "scrolled": false
   },
   "outputs": [
    {
     "name": "stdout",
     "output_type": "stream",
     "text": [
      "Who funded the well\n",
      "object\n",
      "['Canaco' 'Banane' 'Nyamigogo' 'Village Fou' 'Velem']\n",
      "2141 unique values\n",
      "4504 missing or null values\n",
      "Government Of Tanzania    11292\n",
      "Danida                     3907\n",
      "Hesawa                     2771\n",
      "Rwssp                      1703\n",
      "World Bank                 1701\n",
      "Kkkt                       1623\n",
      "World Vision               1562\n",
      "Unicef                     1322\n",
      "Tasaf                      1136\n",
      "Dhv                        1065\n",
      "District Council           1037\n",
      "Private Individual         1034\n",
      "Dwsp                       1012\n",
      "0                           980\n",
      "Norad                       949\n",
      "Germany Republi             765\n",
      "Water                       739\n",
      "Tcrs                        735\n",
      "Ministry Of Water           728\n",
      "Dwe                         605\n",
      "Name: funder, dtype: int64\n",
      "1129 values have 1 instance\n"
     ]
    }
   ],
   "source": [
    "var = 'funder'\n",
    "explore_data(var,-5)\n",
    "\n",
    "# type string / object - lots of values - Good\n",
    "\n",
    "print(df_comp_val[var].value_counts(sort=True)[:20])\n",
    "\n",
    "# 0 values - unknown?\n",
    "\n",
    "print(str(((df_comp_val[var].value_counts()==1).sum()))+' values have 1 instance')\n",
    "\n",
    "# lots of potential error in input (romam catholic church vs. Roman Catholic Church, etc.)"
   ]
  },
  {
   "cell_type": "code",
   "execution_count": 12,
   "metadata": {},
   "outputs": [],
   "source": [
    "list_one = df_comp_val[var].value_counts()[df_comp_val[var].value_counts()==1].index.to_list()\n",
    "\n",
    "for idx in df_comp_val[df_comp_val[var].isin(list_one)].index.to_list():\n",
    "    df_comp_val.loc[idx,var] = 'other'\n",
    "\n",
    "for idx in df_comp_val[(df_comp_val[var]=='0') | (df_comp_val[var].isnull())].index.to_list():\n",
    "    df_comp_val.loc[idx,var] = 'other'"
   ]
  },
  {
   "cell_type": "code",
   "execution_count": 13,
   "metadata": {},
   "outputs": [],
   "source": [
    "# type object - to category\n",
    "\n",
    "df_comp_val[var] = df_comp_val[var].astype('category')"
   ]
  },
  {
   "cell_type": "markdown",
   "metadata": {},
   "source": [
    "#### installer"
   ]
  },
  {
   "cell_type": "code",
   "execution_count": 14,
   "metadata": {
    "id": "TX2319AADQfX",
    "outputId": "eb50fa1e-bcd7-4151-b38c-fd1d72378079"
   },
   "outputs": [
    {
     "name": "stdout",
     "output_type": "stream",
     "text": [
      "Organization that installed the well\n",
      "object\n",
      "['Mombia' 'CANACO' 'Banane' 'MAJIJA CHARLES' 'Central government/TLC']\n",
      "2410 unique values\n",
      "4532 missing or null values\n",
      "DWE                   21739\n",
      "Government             2275\n",
      "RWE                    1498\n",
      "Commu                  1347\n",
      "DANIDA                 1305\n",
      "KKKT                   1120\n",
      "Hesawa                 1070\n",
      "0                       980\n",
      "TCRS                    887\n",
      "CES                     765\n",
      "Central government      764\n",
      "DANID                   690\n",
      "Community               687\n",
      "HESAWA                  679\n",
      "District Council        663\n",
      "World vision            517\n",
      "TASAF                   504\n",
      "LGA                     501\n",
      "WEDECO                  496\n",
      "District council        490\n",
      "Name: installer, dtype: int64\n",
      "1244 values have 1 instance\n"
     ]
    }
   ],
   "source": [
    "var = 'installer'\n",
    "explore_data(var,-5)\n",
    "\n",
    "# type string / object - lots of values - Good\n",
    "\n",
    "print(df_comp_val[var].value_counts(sort=True)[:20])\n",
    "\n",
    "# 0 values - unknown?\n",
    "\n",
    "print(str(((df_comp_val[var].value_counts()==1).sum()))+' values have 1 instance')"
   ]
  },
  {
   "cell_type": "code",
   "execution_count": 15,
   "metadata": {
    "scrolled": true
   },
   "outputs": [],
   "source": [
    "list_one = df_comp_val[var].value_counts()[df_comp_val[var].value_counts()==1].index.to_list()\n",
    "\n",
    "for idx in df_comp_val[df_comp_val[var].isin(list_one)].index.to_list():\n",
    "    df_comp_val.loc[idx,var] = 'other'\n",
    "\n",
    "for idx in df_comp_val[(df_comp_val[var]=='0') | (df_comp_val[var].isnull())].index.to_list():\n",
    "    df_comp_val.loc[idx,var] = 'other'"
   ]
  },
  {
   "cell_type": "code",
   "execution_count": 16,
   "metadata": {},
   "outputs": [],
   "source": [
    "# type object - to category\n",
    "\n",
    "df_comp_val[var] = df_comp_val[var].astype('category')"
   ]
  },
  {
   "cell_type": "markdown",
   "metadata": {},
   "source": [
    "#### longitude"
   ]
  },
  {
   "cell_type": "code",
   "execution_count": 17,
   "metadata": {
    "id": "NhvftQ72DQfY",
    "outputId": "81b8d2a5-0ac9-4de7-e9d0-237dbb08e871"
   },
   "outputs": [
    {
     "name": "stdout",
     "output_type": "stream",
     "text": [
      "GPS coordinate\n",
      "float64\n",
      "[38.85266884 37.45163346 34.7398045  35.43273168 34.76505448]\n",
      "71937 unique values\n",
      "0 missing or null values\n"
     ]
    },
    {
     "data": {
      "text/plain": [
       "34.211478    135\n",
       "34.149346    100\n",
       "34.167443     94\n",
       "32.278174     86\n",
       "33.995811     85\n",
       "            ... \n",
       "36.681688      1\n",
       "33.319196      1\n",
       "38.348075      1\n",
       "37.806786      1\n",
       "35.164770      1\n",
       "Name: longitude, Length: 71937, dtype: int64"
      ]
     },
     "execution_count": 17,
     "metadata": {},
     "output_type": "execute_result"
    }
   ],
   "source": [
    "var = 'longitude'\n",
    "explore_data(var,-5)\n",
    "\n",
    "# type float - Good\n",
    "\n",
    "df_comp_val[var].value_counts(sort=True)"
   ]
  },
  {
   "cell_type": "markdown",
   "metadata": {},
   "source": [
    "#### latitude"
   ]
  },
  {
   "cell_type": "code",
   "execution_count": 18,
   "metadata": {
    "id": "WWap8ffCDQfY",
    "outputId": "b34cb30f-f13d-44f6-acd8-a5a56323ffa2"
   },
   "outputs": [
    {
     "name": "stdout",
     "output_type": "stream",
     "text": [
      "GPS coordinate\n",
      "float64\n",
      "[ -6.58284095  -5.35042799  -4.58558667 -10.58415869 -11.22601197]\n",
      "71936 unique values\n",
      "0 missing or null values\n"
     ]
    },
    {
     "data": {
      "text/plain": [
       "-2.863661     135\n",
       "-2.754004     100\n",
       "-2.656559      94\n",
       "-2.877503      86\n",
       "-2.748329      85\n",
       "             ... \n",
       "-4.790095       1\n",
       "-3.669355       1\n",
       "-3.167823       1\n",
       "-1.844915       1\n",
       "-10.772897      1\n",
       "Name: latitude, Length: 71936, dtype: int64"
      ]
     },
     "execution_count": 18,
     "metadata": {},
     "output_type": "execute_result"
    }
   ],
   "source": [
    "var = 'latitude'\n",
    "explore_data(var,-5)\n",
    "\n",
    "# type float - Good\n",
    "\n",
    "df_comp_val[var].value_counts(sort=True)"
   ]
  },
  {
   "cell_type": "markdown",
   "metadata": {},
   "source": [
    "#### wpt_name"
   ]
  },
  {
   "cell_type": "code",
   "execution_count": 19,
   "metadata": {
    "id": "KqsopGhFDQfZ",
    "outputId": "0ef3be89-213b-48e5-b05f-b87a52574380"
   },
   "outputs": [
    {
     "name": "stdout",
     "output_type": "stream",
     "text": [
      "Name of the waterpoint if there is one\n",
      "object\n",
      "['Mwandami' 'Ikanayugu' 'Kwambwezi' 'Bonde La Mkondoa' 'Kwa Mzee Chagala']\n",
      "45672 unique values\n",
      "0 missing or null values\n"
     ]
    },
    {
     "data": {
      "text/plain": [
       "none                 4440\n",
       "Shuleni              2183\n",
       "Zahanati             1034\n",
       "Msikitini             646\n",
       "Kanisani              390\n",
       "                     ... \n",
       "Kwa Ntegwa Manawa       1\n",
       "Samu Sinyinza           1\n",
       "Kwa Bwele               1\n",
       "Million B               1\n",
       "K Emil                  1\n",
       "Name: wpt_name, Length: 45672, dtype: int64"
      ]
     },
     "execution_count": 19,
     "metadata": {},
     "output_type": "execute_result"
    }
   ],
   "source": [
    "var = 'wpt_name'\n",
    "explore_data(var,-5)\n",
    "\n",
    "df_comp_val[var].value_counts(sort=True)"
   ]
  },
  {
   "cell_type": "code",
   "execution_count": 20,
   "metadata": {},
   "outputs": [],
   "source": [
    "# too many values to be a useful feature\n",
    "df_comp_val = df_comp_val.drop(labels=[var],axis=1)"
   ]
  },
  {
   "cell_type": "markdown",
   "metadata": {},
   "source": [
    "#### num_private"
   ]
  },
  {
   "cell_type": "code",
   "execution_count": 21,
   "metadata": {
    "id": "YW_1_a27DQfZ",
    "outputId": "ee9b42e3-93bf-4a52-83a4-5b4a2866a7ba"
   },
   "outputs": [
    {
     "name": "stdout",
     "output_type": "stream",
     "text": [
      "\n",
      "int64\n",
      "[  55 1402  669   13  420]\n",
      "68 unique values\n",
      "0 missing or null values\n"
     ]
    },
    {
     "data": {
      "text/plain": [
       "0    0.987188\n",
       "1    0.001266\n",
       "6    0.001239\n",
       "Name: num_private, dtype: float64"
      ]
     },
     "execution_count": 21,
     "metadata": {},
     "output_type": "execute_result"
    }
   ],
   "source": [
    "var = 'num_private'\n",
    "explore_data(var,-5)\n",
    "\n",
    "# type int - very few unique values - not sure what it means so hard to interpret\n",
    "\n",
    "df_comp_val[var].value_counts(sort=True,normalize=True)[:3]"
   ]
  },
  {
   "cell_type": "code",
   "execution_count": 22,
   "metadata": {},
   "outputs": [],
   "source": [
    "# 98% of data with value 0 - drop\n",
    "df_comp_val = df_comp_val.drop(labels=[var],axis=1)"
   ]
  },
  {
   "cell_type": "markdown",
   "metadata": {},
   "source": [
    "#### basin"
   ]
  },
  {
   "cell_type": "code",
   "execution_count": 23,
   "metadata": {
    "id": "kJBLGS2oDQfZ",
    "outputId": "1850a868-841d-42af-e53e-fa76606275c1"
   },
   "outputs": [
    {
     "name": "stdout",
     "output_type": "stream",
     "text": [
      "Geographic water basin\n",
      "object\n",
      "['Internal' 'Lake Tanganyika' 'Wami / Ruvu' 'Rufiji' 'Lake Rukwa']\n",
      "9 unique values\n",
      "0 missing or null values\n"
     ]
    },
    {
     "data": {
      "text/plain": [
       "Lake Victoria              0.173102\n",
       "Pangani                    0.150119\n",
       "Rufiji                     0.134545\n",
       "Internal                   0.129897\n",
       "Lake Tanganyika            0.108477\n",
       "Wami / Ruvu                0.102077\n",
       "Lake Nyasa                 0.085305\n",
       "Ruvuma / Southern Coast    0.075268\n",
       "Lake Rukwa                 0.041211\n",
       "Name: basin, dtype: float64"
      ]
     },
     "execution_count": 23,
     "metadata": {},
     "output_type": "execute_result"
    }
   ],
   "source": [
    "var = 'basin'\n",
    "explore_data(var,-5)\n",
    "\n",
    "df_comp_val[var].value_counts(sort=True,normalize=True)"
   ]
  },
  {
   "cell_type": "code",
   "execution_count": 24,
   "metadata": {},
   "outputs": [],
   "source": [
    "# type object - to category\n",
    "\n",
    "df_comp_val[var] = df_comp_val[var].astype('category')"
   ]
  },
  {
   "cell_type": "markdown",
   "metadata": {},
   "source": [
    "#### subvillage"
   ]
  },
  {
   "cell_type": "code",
   "execution_count": 25,
   "metadata": {
    "id": "dLHxUFCxDQfZ",
    "outputId": "71995567-c2e7-435c-af79-74500af4f955"
   },
   "outputs": [
    {
     "name": "stdout",
     "output_type": "stream",
     "text": [
      "Geographic location\n",
      "object\n",
      "['Ilege' 'Mbwenga' 'Kabita' 'Nyamalonda' 'Kosoro']\n",
      "21414 unique values\n",
      "470 missing or null values\n"
     ]
    },
    {
     "data": {
      "text/plain": [
       "Shuleni              646\n",
       "Majengo              631\n",
       "Madukani             629\n",
       "Kati                 467\n",
       "Mtakuja              322\n",
       "                    ... \n",
       "Mjuini                 1\n",
       "Kabonelo               1\n",
       "Shaurimoyo Street      1\n",
       "Chesa                  1\n",
       "Mgamboi A              1\n",
       "Name: subvillage, Length: 21413, dtype: int64"
      ]
     },
     "execution_count": 25,
     "metadata": {},
     "output_type": "execute_result"
    }
   ],
   "source": [
    "var = 'subvillage'\n",
    "explore_data(var,-5)\n",
    "\n",
    "df_comp_val[var].value_counts(sort=True)\n",
    "\n",
    "# many unique values"
   ]
  },
  {
   "cell_type": "code",
   "execution_count": 26,
   "metadata": {},
   "outputs": [],
   "source": [
    "list_one_subvillage = df_comp_val[var].value_counts()[df_comp_val[var].value_counts()==1].index.to_list()\n",
    "\n",
    "for idx in df_comp_val[df_comp_val[var].isin(list_one_subvillage)].index.to_list():\n",
    "    df_comp_val.loc[idx,var] = 'other'\n",
    "    \n",
    "for idx in df_comp_val[df_comp_val[var].isnull()].index.to_list():\n",
    "    df_comp_val.loc[idx,var] = 'other'"
   ]
  },
  {
   "cell_type": "code",
   "execution_count": 27,
   "metadata": {},
   "outputs": [],
   "source": [
    "# many unique values - already have many location features\n",
    "df_comp_val = df_comp_val.drop(labels=[var],axis=1)"
   ]
  },
  {
   "cell_type": "markdown",
   "metadata": {},
   "source": [
    "### Region"
   ]
  },
  {
   "cell_type": "markdown",
   "metadata": {},
   "source": [
    "#### region"
   ]
  },
  {
   "cell_type": "code",
   "execution_count": 28,
   "metadata": {
    "id": "QKwhsWO_DQfZ",
    "outputId": "289fe056-e04c-40a9-d5fd-39a928c3c608"
   },
   "outputs": [
    {
     "name": "stdout",
     "output_type": "stream",
     "text": [
      "Geographic location\n",
      "object\n",
      "['Geita' 'Morogoro' 'Songwe' 'Dar es Salaam' 'Katavi']\n",
      "26 unique values\n",
      "0 missing or null values\n"
     ]
    }
   ],
   "source": [
    "var = 'region'\n",
    "explore_data(var,-5)"
   ]
  },
  {
   "cell_type": "code",
   "execution_count": 29,
   "metadata": {},
   "outputs": [],
   "source": [
    "# type object - few unique values - to categorical, corrected by GPS.\n",
    "\n",
    "df_comp_val[var] = df_comp_val[var].astype('category')"
   ]
  },
  {
   "cell_type": "markdown",
   "metadata": {},
   "source": [
    "#### region_code"
   ]
  },
  {
   "cell_type": "code",
   "execution_count": 30,
   "metadata": {
    "id": "WLdSD3LUDQfa",
    "outputId": "8ee22d62-0500-42c4-f8c1-76be23b6fa73"
   },
   "outputs": [
    {
     "name": "stdout",
     "output_type": "stream",
     "text": [
      "Geographic location (coded)\n",
      "int64\n",
      "[99 24  9  8 40]\n",
      "27 unique values\n",
      "0 missing or null values\n",
      "          region  region_code\n",
      "0         Njombe           11\n",
      "38        Iringa           11\n",
      "4883       Mbeya           11\n",
      "15904     Simiyu           11\n",
      "19767  Shinyanga           11\n",
      "22004   Morogoro           11\n",
      "       region  region_code\n",
      "1        Mara           20\n",
      "71712  Simiyu           20\n"
     ]
    }
   ],
   "source": [
    "var = 'region_code'\n",
    "explore_data(var,-5)\n",
    "\n",
    "for rc in df_comp_val['region_code'].unique()[:2]:\n",
    "    print(df_comp_val[['region','region_code']][df_comp_val.region_code == rc].drop_duplicates())\n"
   ]
  },
  {
   "cell_type": "markdown",
   "metadata": {},
   "source": [
    "Values are inconsistent between regions, and region already corrected with GPS coordinates. Drop region_code."
   ]
  },
  {
   "cell_type": "code",
   "execution_count": 31,
   "metadata": {},
   "outputs": [],
   "source": [
    "df_comp_val = df_comp_val.drop(labels=['region_code'],axis=1)"
   ]
  },
  {
   "cell_type": "markdown",
   "metadata": {},
   "source": [
    "#### district_code"
   ]
  },
  {
   "cell_type": "code",
   "execution_count": 32,
   "metadata": {
    "id": "a8TGbPscDQfa",
    "outputId": "4858e0d2-dddd-4e07-e636-68d025fa9fb8"
   },
   "outputs": [
    {
     "name": "stdout",
     "output_type": "stream",
     "text": [
      "Geographic location (coded)\n",
      "int64\n",
      "[30 13  0 80 67]\n",
      "20 unique values\n",
      "0 missing or null values\n",
      "            region             lga  district_code\n",
      "0           Njombe          Ludewa              5\n",
      "11          Ruvuma        Namtumbo              5\n",
      "79           Geita          Mbogwe              5\n",
      "85          Mwanza       Sengerema              5\n",
      "89          Dodoma    Dodoma Urban              5\n",
      "104    Kilimanjaro             Hai              5\n",
      "119        Manyara          Kiteto              5\n",
      "142         Tabora         Sikonge              5\n",
      "213         Songwe           Ileje              5\n",
      "290       Morogoro         Mvomero              5\n",
      "320         Mtwara    Mtwara Urban              5\n",
      "361          Tanga         Kilindi              5\n",
      "465         Arusha      Ngorongoro              5\n",
      "515          Tanga         Pangani              5\n",
      "693          Geita         Bukombe              5\n",
      "2621      Morogoro        Morogoro              5\n",
      "3609        Dodoma          Kongwa              5\n",
      "3788        Mtwara          Mtwara              5\n",
      "4524      Morogoro  Morogoro Urban              5\n",
      "10011        Mbeya           Mbeya              5\n",
      "17074       Ruvuma          Songea              5\n",
      "26965    Shinyanga          Kahama              5\n",
      "35177       Songwe           Mbozi              5\n",
      "41162        Geita           Geita              5\n"
     ]
    }
   ],
   "source": [
    "var = 'district_code'\n",
    "explore_data(var,-5)\n",
    "\n",
    "df_comp_val[var].value_counts(sort=True)[:3]\n",
    "\n",
    "for rc in df_comp_val[var].unique()[:1]:\n",
    "    print(df_comp_val[['region','lga',var]][df_comp_val[var] == rc].drop_duplicates())\n"
   ]
  },
  {
   "cell_type": "markdown",
   "metadata": {},
   "source": [
    "Values are inconsistent between region / lga, and region already corrected with GPS coordinates - candidate to drop the feature if no modelling value."
   ]
  },
  {
   "cell_type": "markdown",
   "metadata": {},
   "source": [
    "#### lga"
   ]
  },
  {
   "cell_type": "code",
   "execution_count": 33,
   "metadata": {
    "id": "HjR5QphFDQfa",
    "outputId": "b67533ae-0c22-43be-8169-7402fbf79276"
   },
   "outputs": [
    {
     "name": "stdout",
     "output_type": "stream",
     "text": [
      "Geographic location\n",
      "object\n",
      "['Masasi  Township Authority' 'Mbeya Urban' 'Tunduma' 'Bukoba Rural'\n",
      " 'Babati Urban']\n",
      "159 unique values\n",
      "0 missing or null values\n"
     ]
    }
   ],
   "source": [
    "var = 'lga'\n",
    "explore_data(var,-5)\n"
   ]
  },
  {
   "cell_type": "code",
   "execution_count": 34,
   "metadata": {},
   "outputs": [],
   "source": [
    "# type string / object - few unique values - to categorical\n",
    "\n",
    "df_comp_val.lga = df_comp_val.lga.replace('Kigoma  Urban','Kigoma Urban')\n",
    "df_comp_val.lga = df_comp_val.lga.replace('Bukoba Rural','Bukoba')\n",
    "\n",
    "df_comp_val[var] = df_comp_val[var].astype('category')"
   ]
  },
  {
   "cell_type": "markdown",
   "metadata": {},
   "source": [
    "#### ward"
   ]
  },
  {
   "cell_type": "code",
   "execution_count": 35,
   "metadata": {
    "id": "gDTmx4EaDQfa",
    "outputId": "6388c11b-c6eb-4539-b4c5-bd42cd1cbeec"
   },
   "outputs": [
    {
     "name": "stdout",
     "output_type": "stream",
     "text": [
      "Geographic location\n",
      "object\n",
      "['Sange' \"Kang'ata\" \"Gorong'a\" 'Mdabulo' 'Mwalugulu']\n",
      "2097 unique values\n",
      "0 missing or null values\n"
     ]
    }
   ],
   "source": [
    "var = 'ward'\n",
    "explore_data(var,-5)"
   ]
  },
  {
   "cell_type": "code",
   "execution_count": 36,
   "metadata": {},
   "outputs": [],
   "source": [
    "# type string / object - unique categorical values - to categorical\n",
    "\n",
    "df_comp_val[var] = df_comp_val[var].astype('category')"
   ]
  },
  {
   "cell_type": "markdown",
   "metadata": {},
   "source": [
    "#### population"
   ]
  },
  {
   "cell_type": "code",
   "execution_count": 37,
   "metadata": {
    "id": "9_JViMH-DQfb",
    "outputId": "caec0c27-1817-4699-f88d-bd0c6fa823a9",
    "scrolled": false
   },
   "outputs": [
    {
     "name": "stdout",
     "output_type": "stream",
     "text": [
      "Population around the well\n",
      "int64\n",
      "[2554 7600 1869 1542 2960]\n",
      "1128 unique values\n",
      "0 missing or null values\n",
      "0    26812\n",
      "1     8782\n",
      "2        9\n",
      "Name: population, dtype: int64\n"
     ]
    }
   ],
   "source": [
    "var = 'population'\n",
    "explore_data(var,-5)\n",
    "\n",
    "print(df_comp_val[var].value_counts().sort_index()[:3])"
   ]
  },
  {
   "cell_type": "markdown",
   "metadata": {},
   "source": [
    "Zero values could have significance or insignificance. Potential to revisit if no value in modelling."
   ]
  },
  {
   "cell_type": "markdown",
   "metadata": {},
   "source": [
    "#### public_meeting"
   ]
  },
  {
   "cell_type": "code",
   "execution_count": 38,
   "metadata": {
    "id": "wR9FAgXZDQfb",
    "outputId": "cf81500c-d599-40d7-db65-9d33b78efad7"
   },
   "outputs": [
    {
     "name": "stdout",
     "output_type": "stream",
     "text": [
      "True/False\n",
      "object\n",
      "[True nan False]\n",
      "3 unique values\n",
      "4155 missing or null values\n"
     ]
    }
   ],
   "source": [
    "var = 'public_meeting'\n",
    "explore_data(var,-5)\n",
    "\n",
    "# type object - to Boolean\n",
    "# change NaN to False\n",
    "\n",
    "for idx in df_comp_val[df_comp_val[var].isna()].index.tolist():\n",
    "    df_comp_val.loc[idx,var] = False\n",
    "\n",
    "df_comp_val[var] = df_comp_val[var].astype(int)"
   ]
  },
  {
   "cell_type": "code",
   "execution_count": 39,
   "metadata": {},
   "outputs": [
    {
     "data": {
      "text/plain": [
       "1    0.85853\n",
       "0    0.14147\n",
       "Name: public_meeting, dtype: float64"
      ]
     },
     "execution_count": 39,
     "metadata": {},
     "output_type": "execute_result"
    }
   ],
   "source": [
    "df_comp_val[var].value_counts(normalize=True)"
   ]
  },
  {
   "cell_type": "markdown",
   "metadata": {},
   "source": [
    "#### recorded_by"
   ]
  },
  {
   "cell_type": "code",
   "execution_count": 40,
   "metadata": {
    "id": "U4Kx9YCIDQfb",
    "outputId": "35edc097-a598-419f-dcd2-8b665fb82cc0"
   },
   "outputs": [
    {
     "name": "stdout",
     "output_type": "stream",
     "text": [
      "Group entering this row of data\n",
      "object\n",
      "['GeoData Consultants Ltd']\n",
      "1 unique values\n",
      "0 missing or null values\n"
     ]
    }
   ],
   "source": [
    "var = 'recorded_by'\n",
    "explore_data(var,-5)"
   ]
  },
  {
   "cell_type": "code",
   "execution_count": 41,
   "metadata": {},
   "outputs": [],
   "source": [
    "# one value - can delete this column.\n",
    "df_comp_val = df_comp_val.drop(labels=[var],axis=1)"
   ]
  },
  {
   "cell_type": "markdown",
   "metadata": {},
   "source": [
    "#### scheme_management"
   ]
  },
  {
   "cell_type": "code",
   "execution_count": 42,
   "metadata": {
    "id": "fqHsDj7GDQfb",
    "outputId": "766088a4-1369-4fab-a134-433e6c103235"
   },
   "outputs": [
    {
     "name": "stdout",
     "output_type": "stream",
     "text": [
      "Who operates the waterpoint\n",
      "object\n",
      "['Company' 'Parastatal' 'Trust' 'SWC' 'None']\n",
      "13 unique values\n",
      "4846 missing or null values\n"
     ]
    },
    {
     "data": {
      "text/plain": [
       "VWC                 45895\n",
       "WUG                  6496\n",
       "Water authority      3975\n",
       "WUA                  3551\n",
       "Water Board          3462\n",
       "Parastatal           2124\n",
       "Company              1341\n",
       "Private operator     1326\n",
       "Other                 996\n",
       "SWC                   123\n",
       "Trust                  92\n",
       "None                    1\n",
       "Name: scheme_management, dtype: int64"
      ]
     },
     "execution_count": 42,
     "metadata": {},
     "output_type": "execute_result"
    }
   ],
   "source": [
    "var = 'scheme_management'\n",
    "explore_data(var,-5)\n",
    "\n",
    "df_comp_val[var].value_counts()"
   ]
  },
  {
   "cell_type": "code",
   "execution_count": 43,
   "metadata": {},
   "outputs": [
    {
     "data": {
      "text/html": [
       "<div>\n",
       "<style scoped>\n",
       "    .dataframe tbody tr th:only-of-type {\n",
       "        vertical-align: middle;\n",
       "    }\n",
       "\n",
       "    .dataframe tbody tr th {\n",
       "        vertical-align: top;\n",
       "    }\n",
       "\n",
       "    .dataframe thead th {\n",
       "        text-align: right;\n",
       "    }\n",
       "</style>\n",
       "<table border=\"1\" class=\"dataframe\">\n",
       "  <thead>\n",
       "    <tr style=\"text-align: right;\">\n",
       "      <th></th>\n",
       "      <th>scheme_management_invalid</th>\n",
       "      <th>scheme_management_count_tot</th>\n",
       "      <th>missing_perc</th>\n",
       "    </tr>\n",
       "    <tr>\n",
       "      <th>region</th>\n",
       "      <th></th>\n",
       "      <th></th>\n",
       "      <th></th>\n",
       "    </tr>\n",
       "  </thead>\n",
       "  <tbody>\n",
       "    <tr>\n",
       "      <th>Shinyanga</th>\n",
       "      <td>939</td>\n",
       "      <td>2525</td>\n",
       "      <td>0.371881</td>\n",
       "    </tr>\n",
       "    <tr>\n",
       "      <th>Lindi</th>\n",
       "      <td>527</td>\n",
       "      <td>1920</td>\n",
       "      <td>0.274479</td>\n",
       "    </tr>\n",
       "    <tr>\n",
       "      <th>Morogoro</th>\n",
       "      <td>1298</td>\n",
       "      <td>5073</td>\n",
       "      <td>0.255864</td>\n",
       "    </tr>\n",
       "    <tr>\n",
       "      <th>Mwanza</th>\n",
       "      <td>416</td>\n",
       "      <td>2958</td>\n",
       "      <td>0.140636</td>\n",
       "    </tr>\n",
       "    <tr>\n",
       "      <th>Mara</th>\n",
       "      <td>315</td>\n",
       "      <td>2450</td>\n",
       "      <td>0.128571</td>\n",
       "    </tr>\n",
       "  </tbody>\n",
       "</table>\n",
       "</div>"
      ],
      "text/plain": [
       "           scheme_management_invalid  scheme_management_count_tot  \\\n",
       "region                                                              \n",
       "Shinyanga                        939                         2525   \n",
       "Lindi                            527                         1920   \n",
       "Morogoro                        1298                         5073   \n",
       "Mwanza                           416                         2958   \n",
       "Mara                             315                         2450   \n",
       "\n",
       "           missing_perc  \n",
       "region                   \n",
       "Shinyanga      0.371881  \n",
       "Lindi          0.274479  \n",
       "Morogoro       0.255864  \n",
       "Mwanza         0.140636  \n",
       "Mara           0.128571  "
      ]
     },
     "execution_count": 43,
     "metadata": {},
     "output_type": "execute_result"
    }
   ],
   "source": [
    "division = 'region'\n",
    "\n",
    "df_schm_compare = pd.DataFrame(df_comp_val[var].isnull().groupby(by=df_comp_val[division]).sum()).merge(right=pd.DataFrame(df_comp_val[['id']].groupby(by=df_comp_val[division]).count()).rename(columns={'id':var}),on=division,suffixes=['_invalid','_count_tot'])\n",
    "\n",
    "for index in df_schm_compare.index.tolist():\n",
    "    df_schm_compare.loc[index,'missing_perc'] = df_schm_compare.loc[index,var+'_invalid'] / df_schm_compare.loc[index,var+'_count_tot']\n",
    "\n",
    "df_schm_compare = df_schm_compare.sort_values(by='missing_perc',ascending=False)\n",
    "\n",
    "df_schm_compare[:5]"
   ]
  },
  {
   "cell_type": "code",
   "execution_count": 44,
   "metadata": {},
   "outputs": [
    {
     "data": {
      "text/html": [
       "<div>\n",
       "<style scoped>\n",
       "    .dataframe tbody tr th:only-of-type {\n",
       "        vertical-align: middle;\n",
       "    }\n",
       "\n",
       "    .dataframe tbody tr th {\n",
       "        vertical-align: top;\n",
       "    }\n",
       "\n",
       "    .dataframe thead th {\n",
       "        text-align: right;\n",
       "    }\n",
       "</style>\n",
       "<table border=\"1\" class=\"dataframe\">\n",
       "  <thead>\n",
       "    <tr style=\"text-align: right;\">\n",
       "      <th></th>\n",
       "      <th>scheme_management_invalid</th>\n",
       "      <th>scheme_management_count_tot</th>\n",
       "      <th>missing_perc</th>\n",
       "    </tr>\n",
       "    <tr>\n",
       "      <th>lga</th>\n",
       "      <th></th>\n",
       "      <th></th>\n",
       "      <th></th>\n",
       "    </tr>\n",
       "  </thead>\n",
       "  <tbody>\n",
       "    <tr>\n",
       "      <th>Kahama</th>\n",
       "      <td>632</td>\n",
       "      <td>674</td>\n",
       "      <td>0.937685</td>\n",
       "    </tr>\n",
       "    <tr>\n",
       "      <th>Lindi Urban</th>\n",
       "      <td>113</td>\n",
       "      <td>128</td>\n",
       "      <td>0.882812</td>\n",
       "    </tr>\n",
       "    <tr>\n",
       "      <th>Tarime</th>\n",
       "      <td>184</td>\n",
       "      <td>219</td>\n",
       "      <td>0.840183</td>\n",
       "    </tr>\n",
       "    <tr>\n",
       "      <th>Kahama Township Authority</th>\n",
       "      <td>290</td>\n",
       "      <td>360</td>\n",
       "      <td>0.805556</td>\n",
       "    </tr>\n",
       "    <tr>\n",
       "      <th>Kilwa</th>\n",
       "      <td>387</td>\n",
       "      <td>497</td>\n",
       "      <td>0.778672</td>\n",
       "    </tr>\n",
       "  </tbody>\n",
       "</table>\n",
       "</div>"
      ],
      "text/plain": [
       "                           scheme_management_invalid  \\\n",
       "lga                                                    \n",
       "Kahama                                           632   \n",
       "Lindi Urban                                      113   \n",
       "Tarime                                           184   \n",
       "Kahama Township Authority                        290   \n",
       "Kilwa                                            387   \n",
       "\n",
       "                           scheme_management_count_tot  missing_perc  \n",
       "lga                                                                   \n",
       "Kahama                                             674      0.937685  \n",
       "Lindi Urban                                        128      0.882812  \n",
       "Tarime                                             219      0.840183  \n",
       "Kahama Township Authority                          360      0.805556  \n",
       "Kilwa                                              497      0.778672  "
      ]
     },
     "execution_count": 44,
     "metadata": {},
     "output_type": "execute_result"
    }
   ],
   "source": [
    "division = 'lga'\n",
    "\n",
    "df_schm_compare = pd.DataFrame(df_comp_val[var].isnull().groupby(by=df_comp_val[division]).sum()).merge(right=pd.DataFrame(df_comp_val[['id']].groupby(by=df_comp_val[division]).count()).rename(columns={'id':var}),on=division,suffixes=['_invalid','_count_tot'])\n",
    "\n",
    "for index in df_schm_compare.index.tolist():\n",
    "    df_schm_compare.loc[index,'missing_perc'] = df_schm_compare.loc[index,var+'_invalid'] / df_schm_compare.loc[index,var+'_count_tot']\n",
    "\n",
    "df_schm_compare = df_schm_compare.sort_values(by='missing_perc',ascending=False)\n",
    "\n",
    "df_schm_compare[:5]"
   ]
  },
  {
   "cell_type": "code",
   "execution_count": 45,
   "metadata": {},
   "outputs": [],
   "source": [
    "def create_prob_func_all(df,var):\n",
    "\n",
    "    prob = df[var].value_counts(normalize=True)\n",
    "\n",
    "    df_prob = pd.DataFrame(columns=[var,'cum_prob'])\n",
    "\n",
    "    for idx in range(0,len(prob.index.tolist())):\n",
    "        df_prob.loc[idx+1,var] = prob.index[idx]\n",
    "        df_prob.loc[idx+1,'cum_prob'] = prob.iloc[:idx+1].sum()\n",
    "    \n",
    "    return df_prob\n",
    "\n",
    "def create_prob_func_lga(df,var,lga):\n",
    "\n",
    "    prob = df[df.lga==lga][var].value_counts(normalize=True)\n",
    "\n",
    "    df_prob = pd.DataFrame(columns=[var,'cum_prob'])\n",
    "\n",
    "    for idx in range(0,len(prob.index.tolist())):\n",
    "        df_prob.loc[idx+1,var] = prob.index[idx]\n",
    "        df_prob.loc[idx+1,'cum_prob'] = prob.iloc[:idx+1].sum()\n",
    "    \n",
    "    return df_prob\n",
    "\n",
    "def create_prob_func_region(df,var,region):\n",
    "\n",
    "    prob = df[df.region==region][var].value_counts(normalize=True)\n",
    "\n",
    "    df_prob = pd.DataFrame(columns=[var,'cum_prob'])\n",
    "\n",
    "    for idx in range(0,len(prob.index.tolist())):\n",
    "        df_prob.loc[idx+1,var] = prob.index[idx]\n",
    "        df_prob.loc[idx+1,'cum_prob'] = prob.iloc[:idx+1].sum()\n",
    "    \n",
    "    return df_prob\n",
    "\n",
    "def return_name(df_prob,var):\n",
    "    return df_prob[df_prob.cum_prob > random()][0:1][var].values[0]"
   ]
  },
  {
   "cell_type": "code",
   "execution_count": 46,
   "metadata": {},
   "outputs": [],
   "source": [
    "# for missing_perc > 40%, use region to impute\n",
    "for lga in df_schm_compare[df_schm_compare.missing_perc>0.4].index.tolist():\n",
    "    \n",
    "    region = df_comp_val[df_comp_val.lga==lga].region.values[0]\n",
    "    \n",
    "    region_prob_dist = create_prob_func_region(df_comp_val[~df_comp_val[var].isnull()],var,region)\n",
    "    \n",
    "    for idx in df_comp_val[(df_comp_val[var].isnull()) & (df_comp_val.region==region)].index.tolist():\n",
    "        df_comp_val.loc[idx,var] = return_name(region_prob_dist,var)\n"
   ]
  },
  {
   "cell_type": "code",
   "execution_count": 47,
   "metadata": {},
   "outputs": [],
   "source": [
    "# for missing_perc < 40%, use region to impute\n",
    "for lga in df_schm_compare[df_schm_compare.missing_perc<=0.4].index.tolist():\n",
    "    df_prob = create_prob_func_lga(df_comp_val[~df_comp_val[var].isnull()],var,lga)\n",
    "    \n",
    "    for idx in df_comp_val[(df_comp_val[var].isnull()) & (df_comp_val.lga==lga)].index.tolist():\n",
    "        \n",
    "        df_comp_val.loc[idx,var] = return_name(df_prob,var)    \n"
   ]
  },
  {
   "cell_type": "code",
   "execution_count": 48,
   "metadata": {},
   "outputs": [],
   "source": [
    "# type object - few unique values - to category\n",
    "\n",
    "df_comp_val[var] = df_comp_val[var].astype('category')"
   ]
  },
  {
   "cell_type": "markdown",
   "metadata": {},
   "source": [
    "#### scheme_name"
   ]
  },
  {
   "cell_type": "code",
   "execution_count": 49,
   "metadata": {
    "id": "tiWZ0dUDDQfc",
    "outputId": "88562efc-547f-45af-9581-51df3ec16b66"
   },
   "outputs": [
    {
     "name": "stdout",
     "output_type": "stream",
     "text": [
      "Who operates the waterpoint\n",
      "object\n",
      "['Mradi wa maji wa Buhanda' 'LumeyaKalebezo Nyehunge Water project'\n",
      " 'Grumeti' 'BL Vetenary' 'MIGA']\n",
      "2866 unique values\n",
      "35241 missing or null values\n"
     ]
    },
    {
     "data": {
      "text/plain": [
       "K                858\n",
       "None             794\n",
       "Borehole         704\n",
       "Chalinze wate    501\n",
       "M                490\n",
       "                ... \n",
       "Nguj               1\n",
       "BL Nsherehehe      1\n",
       "Tina               1\n",
       "Mafi Mountain      1\n",
       "Jaduwaso           1\n",
       "Name: scheme_name, Length: 2865, dtype: int64"
      ]
     },
     "execution_count": 49,
     "metadata": {},
     "output_type": "execute_result"
    }
   ],
   "source": [
    "var = 'scheme_name'\n",
    "explore_data(var,-5)\n",
    "\n",
    "df_comp_val[var].value_counts()"
   ]
  },
  {
   "cell_type": "code",
   "execution_count": 50,
   "metadata": {},
   "outputs": [],
   "source": [
    "df_comp_val = df_comp_val.drop(labels=[var],axis=1)"
   ]
  },
  {
   "cell_type": "markdown",
   "metadata": {},
   "source": [
    "Significant number of unique values - LOTS of missing values. Best thing to do is to drop column."
   ]
  },
  {
   "cell_type": "markdown",
   "metadata": {},
   "source": [
    "#### permit"
   ]
  },
  {
   "cell_type": "code",
   "execution_count": 51,
   "metadata": {
    "id": "0MmkG3hxDQfc",
    "outputId": "714366a9-ca36-43e2-af78-ba6c299b9658"
   },
   "outputs": [
    {
     "name": "stdout",
     "output_type": "stream",
     "text": [
      "If the waterpoint is permitted\n",
      "object\n",
      "[False True nan]\n",
      "3 unique values\n",
      "3793 missing or null values\n"
     ]
    },
    {
     "data": {
      "text/plain": [
       "True     48584\n",
       "False    21851\n",
       "Name: permit, dtype: int64"
      ]
     },
     "execution_count": 51,
     "metadata": {},
     "output_type": "execute_result"
    }
   ],
   "source": [
    "var = 'permit'\n",
    "explore_data(var,-5)\n",
    "\n",
    "df_comp_val[var].value_counts()"
   ]
  },
  {
   "cell_type": "code",
   "execution_count": 52,
   "metadata": {},
   "outputs": [],
   "source": [
    "for idx in df_comp_val[df_comp_val[var].isna()].index.tolist():\n",
    "    df_comp_val.loc[idx,var] = False\n",
    "\n",
    "df_comp_val[var] = df_comp_val[var].astype(int)"
   ]
  },
  {
   "cell_type": "markdown",
   "metadata": {},
   "source": [
    "#### construction_year"
   ]
  },
  {
   "cell_type": "code",
   "execution_count": 53,
   "metadata": {
    "id": "M3VMXCS0DQfc",
    "outputId": "e3c0dcfb-387b-4802-fa24-37d1a6d6e1e6",
    "scrolled": false
   },
   "outputs": [
    {
     "name": "stdout",
     "output_type": "stream",
     "text": [
      "Year the waterpoint was constructed\n",
      "int64\n",
      "[1969 1981 1964 1966 1965]\n",
      "55 unique values\n",
      "0 missing or null values\n",
      "0       25947\n",
      "2010     3314\n",
      "2008     3243\n",
      "Name: construction_year, dtype: int64\n"
     ]
    },
    {
     "data": {
      "image/png": "[encoded data removed]",
      "text/plain": [
       "<Figure size 432x288 with 1 Axes>"
      ]
     },
     "metadata": {
      "needs_background": "light"
     },
     "output_type": "display_data"
    }
   ],
   "source": [
    "var = 'construction_year'\n",
    "explore_data(var,-5)\n",
    "\n",
    "# type int - to datetime\n",
    "\n",
    "print(df_comp_val[var].value_counts()[:3])\n",
    "\n",
    "# nearly 1/3 of values are zero (N/A), most likely not a useful column without more data\n",
    "\n",
    "df_comp_val[df_comp_val[var]!=0].construction_year.hist();"
   ]
  },
  {
   "cell_type": "code",
   "execution_count": 54,
   "metadata": {},
   "outputs": [
    {
     "data": {
      "text/html": [
       "<div>\n",
       "<style scoped>\n",
       "    .dataframe tbody tr th:only-of-type {\n",
       "        vertical-align: middle;\n",
       "    }\n",
       "\n",
       "    .dataframe tbody tr th {\n",
       "        vertical-align: top;\n",
       "    }\n",
       "\n",
       "    .dataframe thead th {\n",
       "        text-align: right;\n",
       "    }\n",
       "</style>\n",
       "<table border=\"1\" class=\"dataframe\">\n",
       "  <thead>\n",
       "    <tr style=\"text-align: right;\">\n",
       "      <th></th>\n",
       "      <th>construction_year_invalid</th>\n",
       "      <th>construction_year_count_tot</th>\n",
       "      <th>missing_perc</th>\n",
       "    </tr>\n",
       "    <tr>\n",
       "      <th>region</th>\n",
       "      <th></th>\n",
       "      <th></th>\n",
       "      <th></th>\n",
       "    </tr>\n",
       "  </thead>\n",
       "  <tbody>\n",
       "    <tr>\n",
       "      <th>Geita</th>\n",
       "      <td>1548</td>\n",
       "      <td>1548</td>\n",
       "      <td>1.000000</td>\n",
       "    </tr>\n",
       "    <tr>\n",
       "      <th>Kagera</th>\n",
       "      <td>3884</td>\n",
       "      <td>3884</td>\n",
       "      <td>1.000000</td>\n",
       "    </tr>\n",
       "    <tr>\n",
       "      <th>Tabora</th>\n",
       "      <td>2489</td>\n",
       "      <td>2489</td>\n",
       "      <td>1.000000</td>\n",
       "    </tr>\n",
       "    <tr>\n",
       "      <th>Songwe</th>\n",
       "      <td>1718</td>\n",
       "      <td>1718</td>\n",
       "      <td>1.000000</td>\n",
       "    </tr>\n",
       "    <tr>\n",
       "      <th>Shinyanga</th>\n",
       "      <td>2525</td>\n",
       "      <td>2525</td>\n",
       "      <td>1.000000</td>\n",
       "    </tr>\n",
       "    <tr>\n",
       "      <th>Dodoma</th>\n",
       "      <td>2772</td>\n",
       "      <td>2780</td>\n",
       "      <td>0.997122</td>\n",
       "    </tr>\n",
       "    <tr>\n",
       "      <th>Mbeya</th>\n",
       "      <td>4037</td>\n",
       "      <td>4056</td>\n",
       "      <td>0.995316</td>\n",
       "    </tr>\n",
       "    <tr>\n",
       "      <th>Simiyu</th>\n",
       "      <td>3187</td>\n",
       "      <td>3405</td>\n",
       "      <td>0.935977</td>\n",
       "    </tr>\n",
       "    <tr>\n",
       "      <th>Mwanza</th>\n",
       "      <td>2502</td>\n",
       "      <td>2958</td>\n",
       "      <td>0.845842</td>\n",
       "    </tr>\n",
       "  </tbody>\n",
       "</table>\n",
       "</div>"
      ],
      "text/plain": [
       "           construction_year_invalid  construction_year_count_tot  \\\n",
       "region                                                              \n",
       "Geita                           1548                         1548   \n",
       "Kagera                          3884                         3884   \n",
       "Tabora                          2489                         2489   \n",
       "Songwe                          1718                         1718   \n",
       "Shinyanga                       2525                         2525   \n",
       "Dodoma                          2772                         2780   \n",
       "Mbeya                           4037                         4056   \n",
       "Simiyu                          3187                         3405   \n",
       "Mwanza                          2502                         2958   \n",
       "\n",
       "           missing_perc  \n",
       "region                   \n",
       "Geita          1.000000  \n",
       "Kagera         1.000000  \n",
       "Tabora         1.000000  \n",
       "Songwe         1.000000  \n",
       "Shinyanga      1.000000  \n",
       "Dodoma         0.997122  \n",
       "Mbeya          0.995316  \n",
       "Simiyu         0.935977  \n",
       "Mwanza         0.845842  "
      ]
     },
     "execution_count": 54,
     "metadata": {},
     "output_type": "execute_result"
    }
   ],
   "source": [
    "division = 'region'\n",
    "\n",
    "df_cons_compare = pd.DataFrame((df_comp_val[var]==0).groupby(by=df_comp_val[division]).sum()).merge(right=pd.DataFrame(df_comp_val[['id']].groupby(by=df_comp_val[division]).count()).rename(columns={'id':var}),on=division,suffixes=['_invalid','_count_tot'])\n",
    "\n",
    "for index in df_cons_compare.index.tolist():\n",
    "    df_cons_compare.loc[index,'missing_perc'] = df_cons_compare.loc[index,var+'_invalid'] / df_cons_compare.loc[index,var+'_count_tot']\n",
    "\n",
    "df_cons_compare = df_cons_compare.sort_values(by='missing_perc',ascending=False)\n",
    "\n",
    "df_cons_compare[df_cons_compare.missing_perc>0.8]"
   ]
  },
  {
   "cell_type": "code",
   "execution_count": 55,
   "metadata": {},
   "outputs": [],
   "source": [
    "# impute construction year for missing_perc year based on overall distribution for regions with high percentage of missing points.\n",
    "overall_prob_dist = create_prob_func_all(df_comp_val[df_comp_val[var]!=0],var)\n",
    "\n",
    "for region in df_cons_compare[df_cons_compare.missing_perc>0.8].index.tolist():\n",
    "    for idx in df_comp_val[(df_comp_val[var]==0) & (df_comp_val.region==region)].index.tolist():\n",
    "        df_comp_val.loc[idx,var] = return_name(overall_prob_dist,var)"
   ]
  },
  {
   "cell_type": "code",
   "execution_count": 56,
   "metadata": {},
   "outputs": [
    {
     "data": {
      "text/html": [
       "<div>\n",
       "<style scoped>\n",
       "    .dataframe tbody tr th:only-of-type {\n",
       "        vertical-align: middle;\n",
       "    }\n",
       "\n",
       "    .dataframe tbody tr th {\n",
       "        vertical-align: top;\n",
       "    }\n",
       "\n",
       "    .dataframe thead th {\n",
       "        text-align: right;\n",
       "    }\n",
       "</style>\n",
       "<table border=\"1\" class=\"dataframe\">\n",
       "  <thead>\n",
       "    <tr style=\"text-align: right;\">\n",
       "      <th></th>\n",
       "      <th>construction_year_invalid</th>\n",
       "      <th>construction_year_count_tot</th>\n",
       "      <th>missing_perc</th>\n",
       "    </tr>\n",
       "    <tr>\n",
       "      <th>lga</th>\n",
       "      <th></th>\n",
       "      <th></th>\n",
       "      <th></th>\n",
       "    </tr>\n",
       "  </thead>\n",
       "  <tbody>\n",
       "    <tr>\n",
       "      <th>Mafia</th>\n",
       "      <td>170</td>\n",
       "      <td>170</td>\n",
       "      <td>1.000000</td>\n",
       "    </tr>\n",
       "    <tr>\n",
       "      <th>Mufindi</th>\n",
       "      <td>440</td>\n",
       "      <td>629</td>\n",
       "      <td>0.699523</td>\n",
       "    </tr>\n",
       "    <tr>\n",
       "      <th>Mafinga Township Authority</th>\n",
       "      <td>15</td>\n",
       "      <td>32</td>\n",
       "      <td>0.468750</td>\n",
       "    </tr>\n",
       "    <tr>\n",
       "      <th>Mtwara Urban</th>\n",
       "      <td>41</td>\n",
       "      <td>140</td>\n",
       "      <td>0.292857</td>\n",
       "    </tr>\n",
       "    <tr>\n",
       "      <th>Nachingwea</th>\n",
       "      <td>108</td>\n",
       "      <td>375</td>\n",
       "      <td>0.288000</td>\n",
       "    </tr>\n",
       "    <tr>\n",
       "      <th>...</th>\n",
       "      <td>...</td>\n",
       "      <td>...</td>\n",
       "      <td>...</td>\n",
       "    </tr>\n",
       "    <tr>\n",
       "      <th>Ikungi</th>\n",
       "      <td>1</td>\n",
       "      <td>639</td>\n",
       "      <td>0.001565</td>\n",
       "    </tr>\n",
       "    <tr>\n",
       "      <th>Babati</th>\n",
       "      <td>1</td>\n",
       "      <td>663</td>\n",
       "      <td>0.001508</td>\n",
       "    </tr>\n",
       "    <tr>\n",
       "      <th>Morogoro</th>\n",
       "      <td>1</td>\n",
       "      <td>668</td>\n",
       "      <td>0.001497</td>\n",
       "    </tr>\n",
       "    <tr>\n",
       "      <th>Hai</th>\n",
       "      <td>1</td>\n",
       "      <td>785</td>\n",
       "      <td>0.001274</td>\n",
       "    </tr>\n",
       "    <tr>\n",
       "      <th>Iringa</th>\n",
       "      <td>1</td>\n",
       "      <td>915</td>\n",
       "      <td>0.001093</td>\n",
       "    </tr>\n",
       "  </tbody>\n",
       "</table>\n",
       "<p>72 rows × 3 columns</p>\n",
       "</div>"
      ],
      "text/plain": [
       "                            construction_year_invalid  \\\n",
       "lga                                                     \n",
       "Mafia                                             170   \n",
       "Mufindi                                           440   \n",
       "Mafinga Township Authority                         15   \n",
       "Mtwara Urban                                       41   \n",
       "Nachingwea                                        108   \n",
       "...                                               ...   \n",
       "Ikungi                                              1   \n",
       "Babati                                              1   \n",
       "Morogoro                                            1   \n",
       "Hai                                                 1   \n",
       "Iringa                                              1   \n",
       "\n",
       "                            construction_year_count_tot  missing_perc  \n",
       "lga                                                                    \n",
       "Mafia                                               170      1.000000  \n",
       "Mufindi                                             629      0.699523  \n",
       "Mafinga Township Authority                           32      0.468750  \n",
       "Mtwara Urban                                        140      0.292857  \n",
       "Nachingwea                                          375      0.288000  \n",
       "...                                                 ...           ...  \n",
       "Ikungi                                              639      0.001565  \n",
       "Babati                                              663      0.001508  \n",
       "Morogoro                                            668      0.001497  \n",
       "Hai                                                 785      0.001274  \n",
       "Iringa                                              915      0.001093  \n",
       "\n",
       "[72 rows x 3 columns]"
      ]
     },
     "execution_count": 56,
     "metadata": {},
     "output_type": "execute_result"
    }
   ],
   "source": [
    "division = 'lga'\n",
    "\n",
    "df_cons_compare = pd.DataFrame((df_comp_val[var]==0).groupby(by=df_comp_val[division]).sum()).merge(right=pd.DataFrame(df_comp_val[['id']].groupby(by=df_comp_val[division]).count()).rename(columns={'id':var}),on=division,suffixes=['_invalid','_count_tot'])\n",
    "\n",
    "for index in df_cons_compare.index.tolist():\n",
    "    df_cons_compare.loc[index,'missing_perc'] = df_cons_compare.loc[index,var+'_invalid'] / df_cons_compare.loc[index,var+'_count_tot']\n",
    "\n",
    "df_cons_compare = df_cons_compare.sort_values(by='missing_perc',ascending=False)\n",
    "\n",
    "df_cons_compare[df_cons_compare.missing_perc>0]"
   ]
  },
  {
   "cell_type": "code",
   "execution_count": 57,
   "metadata": {},
   "outputs": [],
   "source": [
    "# for missing_perc > 40%, use region to impute\n",
    "for lga in df_cons_compare[df_cons_compare.missing_perc>0.4].index.tolist():\n",
    "    \n",
    "    region = df_comp_val[df_comp_val.lga==lga].region.values[0]\n",
    "    \n",
    "    region_prob_dist = create_prob_func_region(df_comp_val[df_comp_val[var]!=0],var,region)\n",
    "    \n",
    "    for idx in df_comp_val[(df_comp_val[var]==0) & (df_comp_val.region==region)].index.tolist():\n",
    "        df_comp_val.loc[idx,var] = return_name(region_prob_dist,var)\n",
    "        \n",
    "# for missing_perc < 40%, use lga\n",
    "for lga in df_cons_compare[df_cons_compare.missing_perc<0.4].index.tolist():\n",
    "    \n",
    "    lga_prob_dist = create_prob_func_lga(df_comp_val[df_comp_val[var]!=0],var,lga)\n",
    "    \n",
    "    for idx in df_comp_val[(df_comp_val[var]==0) & (df_comp_val.lga==lga)].index.tolist():\n",
    "        df_comp_val.loc[idx,var] = return_name(lga_prob_dist,var)"
   ]
  },
  {
   "cell_type": "markdown",
   "metadata": {},
   "source": [
    "#### extraction_type"
   ]
  },
  {
   "cell_type": "code",
   "execution_count": 58,
   "metadata": {
    "id": "URHKci85DQfd",
    "outputId": "8b0c535f-9e48-4926-9d12-20b932c62cf7",
    "scrolled": false
   },
   "outputs": [
    {
     "name": "stdout",
     "output_type": "stream",
     "text": [
      "The kind of extraction the waterpoint uses\n",
      "object\n",
      "['gravity' 'submersible' 'swn 80' 'nira/tanira' 'india mark ii' 'other'\n",
      " 'ksb' 'mono' 'windmill' 'afridev' 'other - rope pump' 'india mark iii'\n",
      " 'other - swn 81' 'other - play pump' 'cemo' 'climax' 'walimi'\n",
      " 'other - mkulima/shinyanga']\n",
      "18 unique values\n",
      "0 missing or null values\n"
     ]
    },
    {
     "data": {
      "text/plain": [
       "gravity                      33262\n",
       "nira/tanira                  10197\n",
       "other                         8097\n",
       "submersible                   5982\n",
       "swn 80                        4588\n",
       "mono                          3621\n",
       "india mark ii                 3029\n",
       "afridev                       2207\n",
       "ksb                           1790\n",
       "other - rope pump              572\n",
       "other - swn 81                 284\n",
       "windmill                       152\n",
       "india mark iii                 135\n",
       "cemo                           108\n",
       "other - play pump              101\n",
       "walimi                          60\n",
       "climax                          41\n",
       "other - mkulima/shinyanga        2\n",
       "Name: extraction_type, dtype: int64"
      ]
     },
     "execution_count": 58,
     "metadata": {},
     "output_type": "execute_result"
    }
   ],
   "source": [
    "var = 'extraction_type'\n",
    "explore_data(var)\n",
    "\n",
    "df_comp_val[var].value_counts()"
   ]
  },
  {
   "cell_type": "markdown",
   "metadata": {},
   "source": [
    "#### extraction_type_group"
   ]
  },
  {
   "cell_type": "code",
   "execution_count": 59,
   "metadata": {
    "id": "F8PLWhuoDQfd",
    "outputId": "863fba8b-601e-4e55-b861-af37b823bf02"
   },
   "outputs": [
    {
     "name": "stdout",
     "output_type": "stream",
     "text": [
      "The kind of extraction the waterpoint uses\n",
      "object\n",
      "['gravity' 'submersible' 'swn 80' 'nira/tanira' 'india mark ii' 'other'\n",
      " 'mono' 'wind-powered' 'afridev' 'rope pump' 'india mark iii'\n",
      " 'other handpump' 'other motorpump']\n",
      "13 unique values\n",
      "0 missing or null values\n"
     ]
    },
    {
     "data": {
      "text/plain": [
       "gravity            33262\n",
       "nira/tanira        10197\n",
       "other               8097\n",
       "submersible         7772\n",
       "swn 80              4588\n",
       "mono                3621\n",
       "india mark ii       3029\n",
       "afridev             2207\n",
       "rope pump            572\n",
       "other handpump       447\n",
       "wind-powered         152\n",
       "other motorpump      149\n",
       "india mark iii       135\n",
       "Name: extraction_type_group, dtype: int64"
      ]
     },
     "execution_count": 59,
     "metadata": {},
     "output_type": "execute_result"
    }
   ],
   "source": [
    "var = 'extraction_type_group'\n",
    "explore_data(var)\n",
    "\n",
    "df_comp_val[var].value_counts()"
   ]
  },
  {
   "cell_type": "markdown",
   "metadata": {},
   "source": [
    "#### extraction_type_class"
   ]
  },
  {
   "cell_type": "code",
   "execution_count": 60,
   "metadata": {
    "id": "4zY8v2flDQfd",
    "outputId": "7f6936c7-6d86-4435-e552-274c9f9caf84"
   },
   "outputs": [
    {
     "name": "stdout",
     "output_type": "stream",
     "text": [
      "The kind of extraction the waterpoint uses\n",
      "object\n",
      "['gravity' 'submersible' 'handpump' 'other' 'motorpump' 'wind-powered'\n",
      " 'rope pump']\n",
      "7 unique values\n",
      "0 missing or null values\n"
     ]
    },
    {
     "data": {
      "text/plain": [
       "gravity         33262\n",
       "handpump        20603\n",
       "other            8097\n",
       "submersible      7772\n",
       "motorpump        3770\n",
       "rope pump         572\n",
       "wind-powered      152\n",
       "Name: extraction_type_class, dtype: int64"
      ]
     },
     "execution_count": 60,
     "metadata": {},
     "output_type": "execute_result"
    }
   ],
   "source": [
    "var = 'extraction_type_class'\n",
    "explore_data(var)\n",
    "\n",
    "df_comp_val[var].value_counts()"
   ]
  },
  {
   "cell_type": "markdown",
   "metadata": {},
   "source": [
    "Features are more interpretable in extraction_type_class - use this in place of the other extraction features."
   ]
  },
  {
   "cell_type": "code",
   "execution_count": 61,
   "metadata": {},
   "outputs": [],
   "source": [
    "df_comp_val = df_comp_val.drop(labels=['extraction_type','extraction_type_group'],axis=1)"
   ]
  },
  {
   "cell_type": "markdown",
   "metadata": {},
   "source": [
    "#### management"
   ]
  },
  {
   "cell_type": "code",
   "execution_count": 62,
   "metadata": {
    "id": "nKJw_6OkDQfd",
    "outputId": "c0e68c1d-61bc-4edc-e7ba-9c4c10d870c5",
    "scrolled": true
   },
   "outputs": [
    {
     "name": "stdout",
     "output_type": "stream",
     "text": [
      "How the waterpoint is managed\n",
      "object\n",
      "['vwc' 'wug' 'other' 'private operator' 'water board' 'wua' 'company'\n",
      " 'water authority' 'parastatal' 'unknown' 'other - school' 'trust']\n",
      "12 unique values\n",
      "0 missing or null values\n"
     ]
    },
    {
     "data": {
      "text/plain": [
       "vwc                 50602\n",
       "wug                  8108\n",
       "water board          3688\n",
       "wua                  3118\n",
       "private operator     2504\n",
       "parastatal           2229\n",
       "water authority      1123\n",
       "other                1083\n",
       "company               859\n",
       "unknown               683\n",
       "other - school        126\n",
       "trust                 105\n",
       "Name: management, dtype: int64"
      ]
     },
     "execution_count": 62,
     "metadata": {},
     "output_type": "execute_result"
    }
   ],
   "source": [
    "var = 'management'\n",
    "explore_data(var)\n",
    "\n",
    "df_comp_val[var].value_counts()[:]"
   ]
  },
  {
   "cell_type": "code",
   "execution_count": 63,
   "metadata": {},
   "outputs": [],
   "source": [
    "df_comp_val[var] = df_comp_val[var].astype('category')"
   ]
  },
  {
   "cell_type": "markdown",
   "metadata": {},
   "source": [
    "#### management_group"
   ]
  },
  {
   "cell_type": "code",
   "execution_count": 64,
   "metadata": {
    "id": "V7u5ODXTDQfe",
    "outputId": "6ce6725a-3631-4fd5-f6ff-dd8d1c6f8226"
   },
   "outputs": [
    {
     "name": "stdout",
     "output_type": "stream",
     "text": [
      "How the waterpoint is managed\n",
      "object\n",
      "['user-group' 'other' 'commercial' 'parastatal' 'unknown']\n",
      "5 unique values\n",
      "0 missing or null values\n"
     ]
    },
    {
     "data": {
      "text/plain": [
       "user-group    65516\n",
       "commercial     4591\n",
       "parastatal     2229\n",
       "other          1209\n",
       "unknown         683\n",
       "Name: management_group, dtype: int64"
      ]
     },
     "execution_count": 64,
     "metadata": {},
     "output_type": "execute_result"
    }
   ],
   "source": [
    "var = 'management_group'\n",
    "explore_data(var)\n",
    "\n",
    "df_comp_val[var].value_counts()"
   ]
  },
  {
   "cell_type": "markdown",
   "metadata": {},
   "source": [
    "Features more interpretable with management, will drop management_group."
   ]
  },
  {
   "cell_type": "code",
   "execution_count": 65,
   "metadata": {},
   "outputs": [],
   "source": [
    "df_comp_val = df_comp_val.drop(labels=['management_group'],axis=1)"
   ]
  },
  {
   "cell_type": "markdown",
   "metadata": {},
   "source": [
    "### payment"
   ]
  },
  {
   "cell_type": "markdown",
   "metadata": {},
   "source": [
    "#### payment"
   ]
  },
  {
   "cell_type": "code",
   "execution_count": 66,
   "metadata": {
    "id": "7XRZQTCHDQfe",
    "outputId": "ab819655-3a6a-4aeb-c833-7cbc530b1345"
   },
   "outputs": [
    {
     "name": "stdout",
     "output_type": "stream",
     "text": [
      "What the water costs\n",
      "object\n",
      "['pay annually' 'never pay' 'pay per bucket' 'unknown'\n",
      " 'pay when scheme fails' 'other' 'pay monthly']\n",
      "7 unique values\n",
      "0 missing or null values\n"
     ]
    },
    {
     "data": {
      "text/plain": [
       "never pay                31696\n",
       "pay per bucket           11261\n",
       "pay monthly              10396\n",
       "unknown                  10149\n",
       "pay when scheme fails     4842\n",
       "pay annually              4570\n",
       "other                     1314\n",
       "Name: payment, dtype: int64"
      ]
     },
     "execution_count": 66,
     "metadata": {},
     "output_type": "execute_result"
    }
   ],
   "source": [
    "var = 'payment'\n",
    "explore_data(var)\n",
    "\n",
    "df_comp_val[var].value_counts()"
   ]
  },
  {
   "cell_type": "markdown",
   "metadata": {},
   "source": [
    "#### payment_type"
   ]
  },
  {
   "cell_type": "code",
   "execution_count": 67,
   "metadata": {
    "id": "iBe0dqWGDQfe",
    "outputId": "ef4d2f05-fc8c-4398-8317-5245e34816a5"
   },
   "outputs": [
    {
     "name": "stdout",
     "output_type": "stream",
     "text": [
      "What the water costs\n",
      "object\n",
      "['annually' 'never pay' 'per bucket' 'unknown' 'on failure' 'other'\n",
      " 'monthly']\n",
      "7 unique values\n",
      "0 missing or null values\n"
     ]
    },
    {
     "data": {
      "text/plain": [
       "never pay     31696\n",
       "per bucket    11261\n",
       "monthly       10396\n",
       "unknown       10149\n",
       "on failure     4842\n",
       "annually       4570\n",
       "other          1314\n",
       "Name: payment_type, dtype: int64"
      ]
     },
     "execution_count": 67,
     "metadata": {},
     "output_type": "execute_result"
    }
   ],
   "source": [
    "var = 'payment_type'\n",
    "explore_data(var)\n",
    "\n",
    "df_comp_val[var].value_counts()"
   ]
  },
  {
   "cell_type": "markdown",
   "metadata": {},
   "source": [
    "Payment_type is the same as payment, drop payment_type."
   ]
  },
  {
   "cell_type": "code",
   "execution_count": 68,
   "metadata": {},
   "outputs": [],
   "source": [
    "df_comp_val = df_comp_val.drop(labels=['payment_type'],axis=1)"
   ]
  },
  {
   "cell_type": "markdown",
   "metadata": {},
   "source": [
    "### quality"
   ]
  },
  {
   "cell_type": "markdown",
   "metadata": {},
   "source": [
    "#### water_quality"
   ]
  },
  {
   "cell_type": "code",
   "execution_count": 69,
   "metadata": {
    "id": "MtPaOvaoDQfe",
    "outputId": "76f69f2f-e5b0-4646-d57b-aa0503564901"
   },
   "outputs": [
    {
     "name": "stdout",
     "output_type": "stream",
     "text": [
      "The quality of the water\n",
      "object\n",
      "['soft' 'salty' 'milky' 'unknown' 'fluoride' 'coloured' 'salty abandoned'\n",
      " 'fluoride abandoned']\n",
      "8 unique values\n",
      "0 missing or null values\n"
     ]
    },
    {
     "data": {
      "text/plain": [
       "soft                  63484\n",
       "salty                  6081\n",
       "unknown                2345\n",
       "milky                  1005\n",
       "coloured                623\n",
       "salty abandoned         423\n",
       "fluoride                244\n",
       "fluoride abandoned       23\n",
       "Name: water_quality, dtype: int64"
      ]
     },
     "execution_count": 69,
     "metadata": {},
     "output_type": "execute_result"
    }
   ],
   "source": [
    "var = 'water_quality'\n",
    "explore_data(var)\n",
    "\n",
    "df_comp_val[var].value_counts()"
   ]
  },
  {
   "cell_type": "markdown",
   "metadata": {},
   "source": [
    "#### quality_group"
   ]
  },
  {
   "cell_type": "code",
   "execution_count": 70,
   "metadata": {
    "id": "MKZxY5mMDQfe",
    "outputId": "106f9398-7ba3-43c8-b3c1-0b6d9fa4e333"
   },
   "outputs": [
    {
     "name": "stdout",
     "output_type": "stream",
     "text": [
      "The quality of the water\n",
      "object\n",
      "['good' 'salty' 'milky' 'unknown' 'fluoride' 'colored']\n",
      "6 unique values\n",
      "0 missing or null values\n"
     ]
    },
    {
     "data": {
      "text/plain": [
       "good        63484\n",
       "salty        6504\n",
       "unknown      2345\n",
       "milky        1005\n",
       "colored       623\n",
       "fluoride      267\n",
       "Name: quality_group, dtype: int64"
      ]
     },
     "execution_count": 70,
     "metadata": {},
     "output_type": "execute_result"
    }
   ],
   "source": [
    "var = 'quality_group'\n",
    "explore_data(var)\n",
    "\n",
    "df_comp_val[var].value_counts()"
   ]
  },
  {
   "cell_type": "markdown",
   "metadata": {},
   "source": [
    "water_quality is more interpretable than quality_group (soft > good), drop quality_group"
   ]
  },
  {
   "cell_type": "code",
   "execution_count": 71,
   "metadata": {},
   "outputs": [],
   "source": [
    "df_comp_val = df_comp_val.drop(labels=['quality_group'],axis=1)"
   ]
  },
  {
   "cell_type": "markdown",
   "metadata": {},
   "source": [
    "### Quantity"
   ]
  },
  {
   "cell_type": "markdown",
   "metadata": {},
   "source": [
    "#### quantity"
   ]
  },
  {
   "cell_type": "code",
   "execution_count": 72,
   "metadata": {
    "id": "HkpJzdZlDQff",
    "outputId": "d2856ee2-e7c8-4021-95a6-4396230ad0e0"
   },
   "outputs": [
    {
     "name": "stdout",
     "output_type": "stream",
     "text": [
      "The quantity of water\n",
      "object\n",
      "['enough' 'insufficient' 'dry' 'seasonal' 'unknown']\n",
      "5 unique values\n",
      "0 missing or null values\n"
     ]
    },
    {
     "data": {
      "text/plain": [
       "enough          41502\n",
       "insufficient    18894\n",
       "dry              7782\n",
       "seasonal         5075\n",
       "unknown           975\n",
       "Name: quantity, dtype: int64"
      ]
     },
     "execution_count": 72,
     "metadata": {},
     "output_type": "execute_result"
    }
   ],
   "source": [
    "var = 'quantity'\n",
    "explore_data(var)\n",
    "\n",
    "df_comp_val[var].value_counts()"
   ]
  },
  {
   "cell_type": "markdown",
   "metadata": {},
   "source": [
    "#### quantity_group"
   ]
  },
  {
   "cell_type": "code",
   "execution_count": 73,
   "metadata": {
    "id": "GG9LJtrHDQff",
    "outputId": "9ce6ecc7-4702-4343-c194-14c06fd82461"
   },
   "outputs": [
    {
     "name": "stdout",
     "output_type": "stream",
     "text": [
      "The quantity of water\n",
      "object\n",
      "['enough' 'insufficient' 'dry' 'seasonal' 'unknown']\n",
      "5 unique values\n",
      "0 missing or null values\n"
     ]
    },
    {
     "data": {
      "text/plain": [
       "enough          41502\n",
       "insufficient    18894\n",
       "dry              7782\n",
       "seasonal         5075\n",
       "unknown           975\n",
       "Name: quantity_group, dtype: int64"
      ]
     },
     "execution_count": 73,
     "metadata": {},
     "output_type": "execute_result"
    }
   ],
   "source": [
    "var = 'quantity_group'\n",
    "explore_data(var)\n",
    "\n",
    "df_comp_val[var].value_counts()"
   ]
  },
  {
   "cell_type": "code",
   "execution_count": 74,
   "metadata": {},
   "outputs": [
    {
     "data": {
      "text/html": [
       "<div>\n",
       "<style scoped>\n",
       "    .dataframe tbody tr th:only-of-type {\n",
       "        vertical-align: middle;\n",
       "    }\n",
       "\n",
       "    .dataframe tbody tr th {\n",
       "        vertical-align: top;\n",
       "    }\n",
       "\n",
       "    .dataframe thead th {\n",
       "        text-align: right;\n",
       "    }\n",
       "</style>\n",
       "<table border=\"1\" class=\"dataframe\">\n",
       "  <thead>\n",
       "    <tr style=\"text-align: right;\">\n",
       "      <th></th>\n",
       "      <th>id</th>\n",
       "      <th>amount_tsh</th>\n",
       "      <th>date_recorded</th>\n",
       "      <th>funder</th>\n",
       "      <th>gps_height</th>\n",
       "      <th>installer</th>\n",
       "      <th>longitude</th>\n",
       "      <th>latitude</th>\n",
       "      <th>basin</th>\n",
       "      <th>region</th>\n",
       "      <th>...</th>\n",
       "      <th>management</th>\n",
       "      <th>payment</th>\n",
       "      <th>water_quality</th>\n",
       "      <th>quantity</th>\n",
       "      <th>quantity_group</th>\n",
       "      <th>source</th>\n",
       "      <th>source_type</th>\n",
       "      <th>source_class</th>\n",
       "      <th>waterpoint_type</th>\n",
       "      <th>waterpoint_type_group</th>\n",
       "    </tr>\n",
       "  </thead>\n",
       "  <tbody>\n",
       "  </tbody>\n",
       "</table>\n",
       "<p>0 rows × 29 columns</p>\n",
       "</div>"
      ],
      "text/plain": [
       "Empty DataFrame\n",
       "Columns: [id, amount_tsh, date_recorded, funder, gps_height, installer, longitude, latitude, basin, region, district_code, lga, ward, population, public_meeting, scheme_management, permit, construction_year, extraction_type_class, management, payment, water_quality, quantity, quantity_group, source, source_type, source_class, waterpoint_type, waterpoint_type_group]\n",
       "Index: []\n",
       "\n",
       "[0 rows x 29 columns]"
      ]
     },
     "execution_count": 74,
     "metadata": {},
     "output_type": "execute_result"
    }
   ],
   "source": [
    "df_comp_val[df_comp_val['quantity'] != df_comp_val[var]]"
   ]
  },
  {
   "cell_type": "markdown",
   "metadata": {},
   "source": [
    "quantity is the same as quantity_group, drop quantity_group"
   ]
  },
  {
   "cell_type": "code",
   "execution_count": 75,
   "metadata": {},
   "outputs": [],
   "source": [
    "df_comp_val = df_comp_val.drop(labels=['quantity_group'],axis=1)"
   ]
  },
  {
   "cell_type": "markdown",
   "metadata": {},
   "source": [
    "### Source"
   ]
  },
  {
   "cell_type": "markdown",
   "metadata": {},
   "source": [
    "#### source"
   ]
  },
  {
   "cell_type": "code",
   "execution_count": 76,
   "metadata": {
    "id": "KM3Riy7sDQff",
    "outputId": "003d158f-1cd7-4625-b55e-30bdeb4b61a1"
   },
   "outputs": [
    {
     "name": "stdout",
     "output_type": "stream",
     "text": [
      "The source of the water\n",
      "object\n",
      "['spring' 'rainwater harvesting' 'dam' 'machine dbh' 'other'\n",
      " 'shallow well' 'river' 'hand dtw' 'lake' 'unknown']\n",
      "10 unique values\n",
      "0 missing or null values\n"
     ]
    },
    {
     "data": {
      "text/plain": [
       "spring                  21216\n",
       "shallow well            21127\n",
       "machine dbh             13814\n",
       "river                   11964\n",
       "rainwater harvesting     2862\n",
       "hand dtw                 1108\n",
       "lake                      950\n",
       "dam                       840\n",
       "other                     261\n",
       "unknown                    86\n",
       "Name: source, dtype: int64"
      ]
     },
     "execution_count": 76,
     "metadata": {},
     "output_type": "execute_result"
    }
   ],
   "source": [
    "var = 'source'\n",
    "explore_data(var)\n",
    "\n",
    "df_comp_val[var].value_counts()"
   ]
  },
  {
   "cell_type": "markdown",
   "metadata": {},
   "source": [
    "#### source_type"
   ]
  },
  {
   "cell_type": "code",
   "execution_count": 77,
   "metadata": {
    "id": "9EnWB2zuDQfg",
    "outputId": "65a557e3-3e81-4def-c15c-af8ee7d3777a"
   },
   "outputs": [
    {
     "name": "stdout",
     "output_type": "stream",
     "text": [
      "The source of the water\n",
      "object\n",
      "['spring' 'rainwater harvesting' 'dam' 'borehole' 'other' 'shallow well'\n",
      " 'river/lake']\n",
      "7 unique values\n",
      "0 missing or null values\n"
     ]
    },
    {
     "data": {
      "text/plain": [
       "spring                  21216\n",
       "shallow well            21127\n",
       "borehole                14922\n",
       "river/lake              12914\n",
       "rainwater harvesting     2862\n",
       "dam                       840\n",
       "other                     347\n",
       "Name: source_type, dtype: int64"
      ]
     },
     "execution_count": 77,
     "metadata": {},
     "output_type": "execute_result"
    }
   ],
   "source": [
    "var = 'source_type'\n",
    "explore_data(var)\n",
    "\n",
    "df_comp_val[var].value_counts()"
   ]
  },
  {
   "cell_type": "markdown",
   "metadata": {},
   "source": [
    "#### source_class"
   ]
  },
  {
   "cell_type": "code",
   "execution_count": 78,
   "metadata": {
    "id": "iObjT-uQDQfg",
    "outputId": "112e64d9-b74c-44e4-c3d2-d43de9edb6d4"
   },
   "outputs": [
    {
     "name": "stdout",
     "output_type": "stream",
     "text": [
      "The source of the water\n",
      "object\n",
      "['groundwater' 'surface' 'unknown']\n",
      "3 unique values\n",
      "0 missing or null values\n"
     ]
    },
    {
     "data": {
      "text/plain": [
       "groundwater    57265\n",
       "surface        16616\n",
       "unknown          347\n",
       "Name: source_class, dtype: int64"
      ]
     },
     "execution_count": 78,
     "metadata": {},
     "output_type": "execute_result"
    }
   ],
   "source": [
    "var = 'source_class'\n",
    "explore_data(var)\n",
    "\n",
    "df_comp_val[var].value_counts()"
   ]
  },
  {
   "cell_type": "markdown",
   "metadata": {},
   "source": [
    "source_type seems to be balance between specificity and interpretability"
   ]
  },
  {
   "cell_type": "code",
   "execution_count": 79,
   "metadata": {},
   "outputs": [],
   "source": [
    "df_comp_val = df_comp_val.drop(labels=['source','source_type'],axis=1)"
   ]
  },
  {
   "cell_type": "markdown",
   "metadata": {},
   "source": [
    "### waterpoint"
   ]
  },
  {
   "cell_type": "markdown",
   "metadata": {},
   "source": [
    "#### waterpoint_type"
   ]
  },
  {
   "cell_type": "code",
   "execution_count": 80,
   "metadata": {
    "id": "MOPKohReDQfg",
    "outputId": "7a325597-43c1-4e2e-e80c-c22452573bc4"
   },
   "outputs": [
    {
     "name": "stdout",
     "output_type": "stream",
     "text": [
      "The kind of waterpoint\n",
      "object\n",
      "['communal standpipe' 'communal standpipe multiple' 'hand pump' 'other'\n",
      " 'improved spring' 'cattle trough' 'dam']\n",
      "7 unique values\n",
      "0 missing or null values\n"
     ]
    },
    {
     "data": {
      "text/plain": [
       "communal standpipe             35624\n",
       "hand pump                      21875\n",
       "other                           8004\n",
       "communal standpipe multiple     7608\n",
       "improved spring                  959\n",
       "cattle trough                    150\n",
       "dam                                8\n",
       "Name: waterpoint_type, dtype: int64"
      ]
     },
     "execution_count": 80,
     "metadata": {},
     "output_type": "execute_result"
    }
   ],
   "source": [
    "var = 'waterpoint_type'\n",
    "explore_data(var)\n",
    "\n",
    "df_comp_val[var].value_counts()"
   ]
  },
  {
   "cell_type": "markdown",
   "metadata": {},
   "source": [
    "#### waterpoint_type_group"
   ]
  },
  {
   "cell_type": "code",
   "execution_count": 81,
   "metadata": {
    "id": "8OALziiXDQfg",
    "outputId": "5d7885a0-2926-4a40-db41-376dcebfce29"
   },
   "outputs": [
    {
     "name": "stdout",
     "output_type": "stream",
     "text": [
      "The kind of waterpoint\n",
      "object\n",
      "['communal standpipe' 'hand pump' 'other' 'improved spring'\n",
      " 'cattle trough' 'dam']\n",
      "6 unique values\n",
      "0 missing or null values\n"
     ]
    },
    {
     "data": {
      "text/plain": [
       "communal standpipe    43232\n",
       "hand pump             21875\n",
       "other                  8004\n",
       "improved spring         959\n",
       "cattle trough           150\n",
       "dam                       8\n",
       "Name: waterpoint_type_group, dtype: int64"
      ]
     },
     "execution_count": 81,
     "metadata": {},
     "output_type": "execute_result"
    }
   ],
   "source": [
    "var = 'waterpoint_type_group'\n",
    "explore_data(var)\n",
    "\n",
    "df_comp_val[var].value_counts()"
   ]
  },
  {
   "cell_type": "markdown",
   "metadata": {},
   "source": [
    "Dropping waterpoint_type_group"
   ]
  },
  {
   "cell_type": "code",
   "execution_count": 82,
   "metadata": {},
   "outputs": [],
   "source": [
    "df_comp_val = df_comp_val.drop(labels=['waterpoint_type_group'],axis=1)"
   ]
  },
  {
   "cell_type": "markdown",
   "metadata": {},
   "source": [
    "## Create features"
   ]
  },
  {
   "cell_type": "markdown",
   "metadata": {},
   "source": [
    "#### year_recorded"
   ]
  },
  {
   "cell_type": "code",
   "execution_count": 83,
   "metadata": {},
   "outputs": [],
   "source": [
    "var = 'year_recorded'\n",
    "\n",
    "df_comp_val[var] = df_comp_val['date_recorded'].dt.year"
   ]
  },
  {
   "cell_type": "markdown",
   "metadata": {},
   "source": [
    "#### pump_age"
   ]
  },
  {
   "cell_type": "code",
   "execution_count": 84,
   "metadata": {},
   "outputs": [],
   "source": [
    "var = 'pump_age'\n",
    "\n",
    "df_comp_val[var] = df_comp_val['year_recorded'] - df_comp_val['construction_year']\n",
    "\n",
    "df_comp_val = df_comp_val.drop(labels=['year_recorded','date_recorded'],axis=1)"
   ]
  },
  {
   "cell_type": "markdown",
   "metadata": {},
   "source": [
    "## Review missing data"
   ]
  },
  {
   "cell_type": "code",
   "execution_count": 85,
   "metadata": {
    "id": "JHLAbv5tDQjR"
   },
   "outputs": [
    {
     "name": "stdout",
     "output_type": "stream",
     "text": [
      "<class 'pandas.core.frame.DataFrame'>\n",
      "Int64Index: 74228 entries, 0 to 74227\n",
      "Data columns (total 25 columns):\n",
      " #   Column                 Non-Null Count  Dtype   \n",
      "---  ------                 --------------  -----   \n",
      " 0   id                     74228 non-null  int64   \n",
      " 1   amount_tsh             74228 non-null  float64 \n",
      " 2   funder                 74228 non-null  category\n",
      " 3   gps_height             74228 non-null  int64   \n",
      " 4   installer              74228 non-null  category\n",
      " 5   longitude              74228 non-null  float64 \n",
      " 6   latitude               74228 non-null  float64 \n",
      " 7   basin                  74228 non-null  category\n",
      " 8   region                 74228 non-null  category\n",
      " 9   district_code          74228 non-null  int64   \n",
      " 10  lga                    74228 non-null  category\n",
      " 11  ward                   74228 non-null  category\n",
      " 12  population             74228 non-null  int64   \n",
      " 13  public_meeting         74228 non-null  int32   \n",
      " 14  scheme_management      74228 non-null  category\n",
      " 15  permit                 74228 non-null  int32   \n",
      " 16  construction_year      74228 non-null  int64   \n",
      " 17  extraction_type_class  74228 non-null  object  \n",
      " 18  management             74228 non-null  category\n",
      " 19  payment                74228 non-null  object  \n",
      " 20  water_quality          74228 non-null  object  \n",
      " 21  quantity               74228 non-null  object  \n",
      " 22  source_class           74228 non-null  object  \n",
      " 23  waterpoint_type        74228 non-null  object  \n",
      " 24  pump_age               74228 non-null  int64   \n",
      "dtypes: category(8), float64(3), int32(2), int64(6), object(6)\n",
      "memory usage: 12.7+ MB\n"
     ]
    }
   ],
   "source": [
    "df_comp_val.info()"
   ]
  },
  {
   "cell_type": "markdown",
   "metadata": {},
   "source": [
    "## Save final file "
   ]
  },
  {
   "cell_type": "code",
   "execution_count": 86,
   "metadata": {},
   "outputs": [
    {
     "name": "stderr",
     "output_type": "stream",
     "text": [
      "<ipython-input-86-f305c2a85613>:5: SettingWithCopyWarning: \n",
      "A value is trying to be set on a copy of a slice from a DataFrame.\n",
      "Try using .loc[row_indexer,col_indexer] = value instead\n",
      "\n",
      "See the caveats in the documentation: https://pandas.pydata.org/pandas-docs/stable/user_guide/indexing.html#returning-a-view-versus-a-copy\n",
      "  df_train_val_new['status_group'] = df_train_lab['status_group']\n"
     ]
    }
   ],
   "source": [
    "train_index = df_train_val.id.tolist()\n",
    "test_index = df_test_val.id.tolist()\n",
    "\n",
    "df_train_val_new = df_comp_val[df_comp_val.id.isin(train_index)]\n",
    "df_train_val_new['status_group'] = df_train_lab['status_group']\n",
    "\n",
    "df_train_val_new.to_csv(data_interim_dir+'training_data_clean_impv1.csv',index=False)\n",
    "\n",
    "df_test_val_new = df_comp_val[df_comp_val.id.isin(test_index)]\n",
    "df_test_val_new.to_csv(data_interim_dir+'test_data_clean_impv1.csv',index=False)"
   ]
  }
 ],
 "metadata": {
  "colab": {
   "name": "Data Cleaning.ipynb",
   "provenance": []
  },
  "kernelspec": {
   "display_name": "Python 3",
   "language": "python",
   "name": "python3"
  },
  "language_info": {
   "codemirror_mode": {
    "name": "ipython",
    "version": 3
   },
   "file_extension": ".py",
   "mimetype": "text/x-python",
   "name": "python",
   "nbconvert_exporter": "python",
   "pygments_lexer": "ipython3",
   "version": "3.9.1"
  }
 },
 "nbformat": 4,
 "nbformat_minor": 1
}
