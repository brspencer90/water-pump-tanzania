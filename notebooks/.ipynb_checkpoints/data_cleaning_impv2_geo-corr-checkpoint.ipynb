{
 "cells": [
  {
   "cell_type": "code",
   "execution_count": 1,
   "metadata": {
    "id": "OoWedoLaDQfO"
   },
   "outputs": [],
   "source": [
    "import pandas as pd\n",
    "import numpy as np\n",
    "\n",
    "import datetime as dt\n",
    "\n",
    "import matplotlib.pyplot as plt\n",
    "import seaborn as sns\n",
    "\n",
    "import geopandas as gpd\n",
    "from shapely.geometry import Point \n",
    "\n",
    "from random import *\n",
    "\n",
    "%qtconsole"
   ]
  },
  {
   "cell_type": "code",
   "execution_count": 2,
   "metadata": {
    "id": "D_NPD5GqDQfT"
   },
   "outputs": [],
   "source": [
    "data_raw_dir = 'C:\\\\Users\\\\Bryan\\\\OneDrive\\\\02 GitHub\\\\water-pump-tanzania\\\\data\\\\raw\\\\'\n",
    "data_interim_dir = 'C:\\\\Users\\\\Bryan\\\\OneDrive\\\\02 GitHub\\\\water-pump-tanzania\\\\data\\\\interim\\\\'\n",
    "data_processed_dir = 'C:\\\\Users\\\\Bryan\\\\OneDrive\\\\02 GitHub\\\\water-pump-tanzania\\\\data\\\\processed\\\\'\n",
    "docs_img_dir = 'C:\\\\Users\\\\bryan\\\\OneDrive\\\\02 GitHub\\\\water-pump-tanzania\\\\docs\\\\img\\\\'"
   ]
  },
  {
   "cell_type": "code",
   "execution_count": 3,
   "metadata": {
    "id": "nWZsDydQDQjR",
    "scrolled": true
   },
   "outputs": [
    {
     "name": "stdout",
     "output_type": "stream",
     "text": [
      "(59400, 40)\n",
      "(14850, 40)\n",
      "(74250, 40)\n",
      "Index(['id', 'amount_tsh', 'date_recorded', 'funder', 'gps_height',\n",
      "       'installer', 'longitude', 'latitude', 'wpt_name', 'num_private',\n",
      "       'basin', 'subvillage', 'region', 'region_code', 'district_code', 'lga',\n",
      "       'ward', 'population', 'public_meeting', 'recorded_by',\n",
      "       'scheme_management', 'scheme_name', 'permit', 'construction_year',\n",
      "       'extraction_type', 'extraction_type_group', 'extraction_type_class',\n",
      "       'management', 'management_group', 'payment', 'payment_type',\n",
      "       'water_quality', 'quality_group', 'quantity', 'quantity_group',\n",
      "       'source', 'source_type', 'source_class', 'waterpoint_type',\n",
      "       'waterpoint_type_group'],\n",
      "      dtype='object')\n"
     ]
    },
    {
     "data": {
      "text/html": [
       "<div>\n",
       "<style scoped>\n",
       "    .dataframe tbody tr th:only-of-type {\n",
       "        vertical-align: middle;\n",
       "    }\n",
       "\n",
       "    .dataframe tbody tr th {\n",
       "        vertical-align: top;\n",
       "    }\n",
       "\n",
       "    .dataframe thead th {\n",
       "        text-align: right;\n",
       "    }\n",
       "</style>\n",
       "<table border=\"1\" class=\"dataframe\">\n",
       "  <thead>\n",
       "    <tr style=\"text-align: right;\">\n",
       "      <th></th>\n",
       "      <th>id</th>\n",
       "      <th>amount_tsh</th>\n",
       "      <th>date_recorded</th>\n",
       "      <th>funder</th>\n",
       "      <th>gps_height</th>\n",
       "      <th>installer</th>\n",
       "      <th>longitude</th>\n",
       "      <th>latitude</th>\n",
       "      <th>wpt_name</th>\n",
       "      <th>num_private</th>\n",
       "      <th>...</th>\n",
       "      <th>payment_type</th>\n",
       "      <th>water_quality</th>\n",
       "      <th>quality_group</th>\n",
       "      <th>quantity</th>\n",
       "      <th>quantity_group</th>\n",
       "      <th>source</th>\n",
       "      <th>source_type</th>\n",
       "      <th>source_class</th>\n",
       "      <th>waterpoint_type</th>\n",
       "      <th>waterpoint_type_group</th>\n",
       "    </tr>\n",
       "  </thead>\n",
       "  <tbody>\n",
       "    <tr>\n",
       "      <th>0</th>\n",
       "      <td>69572</td>\n",
       "      <td>6000.0</td>\n",
       "      <td>2011-03-14</td>\n",
       "      <td>Roman</td>\n",
       "      <td>1390</td>\n",
       "      <td>Roman</td>\n",
       "      <td>34.938093</td>\n",
       "      <td>-9.856322</td>\n",
       "      <td>none</td>\n",
       "      <td>0</td>\n",
       "      <td>...</td>\n",
       "      <td>annually</td>\n",
       "      <td>soft</td>\n",
       "      <td>good</td>\n",
       "      <td>enough</td>\n",
       "      <td>enough</td>\n",
       "      <td>spring</td>\n",
       "      <td>spring</td>\n",
       "      <td>groundwater</td>\n",
       "      <td>communal standpipe</td>\n",
       "      <td>communal standpipe</td>\n",
       "    </tr>\n",
       "    <tr>\n",
       "      <th>1</th>\n",
       "      <td>8776</td>\n",
       "      <td>0.0</td>\n",
       "      <td>2013-03-06</td>\n",
       "      <td>Grumeti</td>\n",
       "      <td>1399</td>\n",
       "      <td>GRUMETI</td>\n",
       "      <td>34.698766</td>\n",
       "      <td>-2.147466</td>\n",
       "      <td>Zahanati</td>\n",
       "      <td>0</td>\n",
       "      <td>...</td>\n",
       "      <td>never pay</td>\n",
       "      <td>soft</td>\n",
       "      <td>good</td>\n",
       "      <td>insufficient</td>\n",
       "      <td>insufficient</td>\n",
       "      <td>rainwater harvesting</td>\n",
       "      <td>rainwater harvesting</td>\n",
       "      <td>surface</td>\n",
       "      <td>communal standpipe</td>\n",
       "      <td>communal standpipe</td>\n",
       "    </tr>\n",
       "  </tbody>\n",
       "</table>\n",
       "<p>2 rows × 40 columns</p>\n",
       "</div>"
      ],
      "text/plain": [
       "      id  amount_tsh date_recorded   funder  gps_height installer  longitude  \\\n",
       "0  69572      6000.0    2011-03-14    Roman        1390     Roman  34.938093   \n",
       "1   8776         0.0    2013-03-06  Grumeti        1399   GRUMETI  34.698766   \n",
       "\n",
       "   latitude  wpt_name  num_private  ... payment_type water_quality  \\\n",
       "0 -9.856322      none            0  ...     annually          soft   \n",
       "1 -2.147466  Zahanati            0  ...    never pay          soft   \n",
       "\n",
       "  quality_group      quantity  quantity_group                source  \\\n",
       "0          good        enough          enough                spring   \n",
       "1          good  insufficient    insufficient  rainwater harvesting   \n",
       "\n",
       "            source_type  source_class     waterpoint_type  \\\n",
       "0                spring   groundwater  communal standpipe   \n",
       "1  rainwater harvesting       surface  communal standpipe   \n",
       "\n",
       "  waterpoint_type_group  \n",
       "0    communal standpipe  \n",
       "1    communal standpipe  \n",
       "\n",
       "[2 rows x 40 columns]"
      ]
     },
     "execution_count": 3,
     "metadata": {},
     "output_type": "execute_result"
    }
   ],
   "source": [
    "df_train_val = pd.read_csv(data_raw_dir + 'training_values.csv')\n",
    "df_test_val = pd.read_csv(data_raw_dir + 'test_values.csv')\n",
    "df_train_lab = pd.read_csv(data_raw_dir + 'training_labels.csv')\n",
    "\n",
    "print(df_train_val.shape)\n",
    "print(df_test_val.shape)\n",
    "\n",
    "df_comp_val = pd.concat([df_train_val,df_test_val]).reset_index(drop=True)\n",
    "\n",
    "print(df_comp_val.shape)\n",
    "print(df_comp_val.columns)\n",
    "\n",
    "df_comp_val.head(2)"
   ]
  },
  {
   "cell_type": "code",
   "execution_count": 4,
   "metadata": {},
   "outputs": [],
   "source": [
    "label_list = ['amount_tsh - Total static head (amount water available to waterpoint)',\n",
    "'date_recorded - The date the row was entered',\n",
    "'funder - Who funded the well',\n",
    "'gps_height - Altitude of the well',\n",
    "'installer - Organization that installed the well',\n",
    "'longitude - GPS coordinate',\n",
    "'latitude - GPS coordinate',\n",
    "'wpt_name - Name of the waterpoint if there is one',\n",
    "'num_private - ',\n",
    "'basin - Geographic water basin',\n",
    "'subvillage - Geographic location',\n",
    "'region - Geographic location',\n",
    "'region_code - Geographic location (coded)',\n",
    "'district_code - Geographic location (coded)',\n",
    "'lga - Geographic location',\n",
    "'ward - Geographic location',\n",
    "'population - Population around the well',\n",
    "'public_meeting - True/False',\n",
    "'recorded_by - Group entering this row of data',\n",
    "'scheme_management - Who operates the waterpoint',\n",
    "'scheme_name - Who operates the waterpoint',\n",
    "'permit - If the waterpoint is permitted',\n",
    "'construction_year - Year the waterpoint was constructed',\n",
    "'extraction_type - The kind of extraction the waterpoint uses',\n",
    "'extraction_type_group - The kind of extraction the waterpoint uses',\n",
    "'extraction_type_class - The kind of extraction the waterpoint uses',\n",
    "'management - How the waterpoint is managed',\n",
    "'management_group - How the waterpoint is managed',\n",
    "'payment - What the water costs',\n",
    "'payment_type - What the water costs',\n",
    "'water_quality - The quality of the water',\n",
    "'quality_group - The quality of the water',\n",
    "'quantity - The quantity of water',\n",
    "'quantity_group - The quantity of water',\n",
    "'source - The source of the water',\n",
    "'source_type - The source of the water',\n",
    "'source_class - The source of the water',\n",
    "'waterpoint_type - The kind of waterpoint',\n",
    "'waterpoint_type_group - The kind of waterpoint']\n",
    "\n",
    "label_list = [x.split(' - ') for x in label_list]\n",
    "label_desc = [y for (x,y) in label_list]\n",
    "label_list = [x for (x,y) in label_list]\n",
    "\n",
    "label_dict = {}\n",
    "label_dict = dict(zip(label_list,label_desc))"
   ]
  },
  {
   "cell_type": "code",
   "execution_count": 5,
   "metadata": {},
   "outputs": [],
   "source": [
    "var = 'id'\n",
    "def explore_data(var,slice=-len(df_comp_val[var].unique())):\n",
    "    print(label_dict[var])\n",
    "    print(df_comp_val[var].dtype)\n",
    "    print(df_comp_val[var].unique()[slice:])\n",
    "    print(str(len(df_comp_val[var].unique())) + ' unique values')\n",
    "    print(str(df_comp_val[var].isna().sum())+' missing or null values')"
   ]
  },
  {
   "cell_type": "markdown",
   "metadata": {
    "id": "DblJU0_iDQjR"
   },
   "source": [
    "### Missing Data"
   ]
  },
  {
   "cell_type": "code",
   "execution_count": 6,
   "metadata": {},
   "outputs": [
    {
     "name": "stdout",
     "output_type": "stream",
     "text": [
      "<class 'pandas.core.frame.DataFrame'>\n",
      "RangeIndex: 74250 entries, 0 to 74249\n",
      "Data columns (total 22 columns):\n",
      " #   Column                 Non-Null Count  Dtype  \n",
      "---  ------                 --------------  -----  \n",
      " 0   id                     74250 non-null  int64  \n",
      " 1   amount_tsh             74250 non-null  float64\n",
      " 2   gps_height             74250 non-null  int64  \n",
      " 3   date_recorded          74250 non-null  object \n",
      " 4   construction_year      74250 non-null  int64  \n",
      " 5   installer              69718 non-null  object \n",
      " 6   longitude              74250 non-null  float64\n",
      " 7   latitude               74250 non-null  float64\n",
      " 8   basin                  74250 non-null  object \n",
      " 9   region                 74250 non-null  object \n",
      " 10  district_code          74250 non-null  int64  \n",
      " 11  population             74250 non-null  int64  \n",
      " 12  public_meeting         70095 non-null  object \n",
      " 13  permit                 70457 non-null  object \n",
      " 14  extraction_type_class  74250 non-null  object \n",
      " 15  management             74250 non-null  object \n",
      " 16  payment_type           74250 non-null  object \n",
      " 17  water_quality          74250 non-null  object \n",
      " 18  quantity               74250 non-null  object \n",
      " 19  source                 74250 non-null  object \n",
      " 20  source_class           74250 non-null  object \n",
      " 21  waterpoint_type        74250 non-null  object \n",
      "dtypes: float64(3), int64(5), object(14)\n",
      "memory usage: 12.5+ MB\n"
     ]
    }
   ],
   "source": [
    "df_comp_val = df_comp_val[['id',\n",
    " 'amount_tsh',\n",
    " 'gps_height',\n",
    " 'date_recorded',\n",
    " 'construction_year',\n",
    " 'installer',\n",
    " 'longitude',\n",
    " 'latitude',\n",
    " 'basin',\n",
    " 'region',\n",
    " 'district_code',\n",
    " 'population',\n",
    " 'public_meeting',\n",
    " 'permit',\n",
    " 'extraction_type_class',\n",
    " 'management',\n",
    " 'payment_type',\n",
    " 'water_quality',\n",
    " 'quantity',\n",
    " 'source',\n",
    " 'source_class',\n",
    " 'waterpoint_type',\n",
    " ]]\n",
    "\n",
    "df_comp_val.info()"
   ]
  },
  {
   "cell_type": "markdown",
   "metadata": {
    "id": "zFcvo8kZDQjR"
   },
   "source": [
    "#### id"
   ]
  },
  {
   "cell_type": "code",
   "execution_count": 7,
   "metadata": {
    "colab": {
     "base_uri": "https://localhost:8080/",
     "height": 197
    },
    "id": "nyaiAtJxDQfX",
    "outputId": "d85b38c4-ce1e-45a9-8639-e7818e154a9f"
   },
   "outputs": [
    {
     "name": "stdout",
     "output_type": "stream",
     "text": [
      "[69572  8776 34310 ... 28749 33492 68707]\n"
     ]
    },
    {
     "data": {
      "text/plain": [
       "0        1\n",
       "36219    1\n",
       "Name: id, dtype: int64"
      ]
     },
     "execution_count": 7,
     "metadata": {},
     "output_type": "execute_result"
    }
   ],
   "source": [
    "var='id'\n",
    "\n",
    "print(df_comp_val[var].unique())\n",
    "\n",
    "# type int - index / id value - Good\n",
    "\n",
    "df_comp_val[var].value_counts(sort=True)[:2]\n",
    "\n",
    "# no duplicates - no error values"
   ]
  },
  {
   "cell_type": "markdown",
   "metadata": {},
   "source": [
    "#### amount_tsh"
   ]
  },
  {
   "cell_type": "code",
   "execution_count": 8,
   "metadata": {
    "id": "ZO7_bii8DQfX",
    "outputId": "218cb29f-344b-4fb7-d9a2-a8054faef845"
   },
   "outputs": [
    {
     "name": "stdout",
     "output_type": "stream",
     "text": [
      "Total static head (amount water available to waterpoint)\n",
      "float64\n",
      "[5.90e+01 3.50e+04 3.00e+00 2.55e+03 5.00e-01]\n",
      "102 unique values\n",
      "0 missing or null values\n"
     ]
    },
    {
     "data": {
      "text/plain": [
       "0.0         52049\n",
       "500.0        3874\n",
       "50.0         3103\n",
       "1000.0       1858\n",
       "20.0         1812\n",
       "            ...  \n",
       "70000.0         2\n",
       "53.0            1\n",
       "250000.0        1\n",
       "900.0           1\n",
       "3.0             1\n",
       "Name: amount_tsh, Length: 84, dtype: int64"
      ]
     },
     "execution_count": 8,
     "metadata": {},
     "output_type": "execute_result"
    }
   ],
   "source": [
    "var = 'amount_tsh'\n",
    "explore_data(var,-5)\n",
    "\n",
    "# type float - some decimal values it looks like - Good\n",
    "\n",
    "df_comp_val[var].value_counts(sort=True)[:3]"
   ]
  },
  {
   "cell_type": "code",
   "execution_count": 9,
   "metadata": {},
   "outputs": [],
   "source": [
    "# 70% of data read zero, could be an bad column but will keep for now."
   ]
  },
  {
   "cell_type": "markdown",
   "metadata": {},
   "source": [
    "#### date_recorded"
   ]
  },
  {
   "cell_type": "code",
   "execution_count": 10,
   "metadata": {
    "id": "MsdyuHG-DQfX",
    "outputId": "5f27bae7-4305-40e5-b9e7-8356ab081e95",
    "scrolled": true
   },
   "outputs": [
    {
     "name": "stdout",
     "output_type": "stream",
     "text": [
      "The date the row was entered\n",
      "datetime64[ns]\n",
      "['2004-01-12T00:00:00.000000000' '2011-09-07T00:00:00.000000000'\n",
      " '2004-12-03T00:00:00.000000000' '2011-09-22T00:00:00.000000000'\n",
      " '2004-01-09T00:00:00.000000000']\n",
      "369 unique values\n",
      "0 missing or null values\n"
     ]
    },
    {
     "data": {
      "text/plain": [
       "2011-03-17    695\n",
       "2011-03-15    694\n",
       "2013-02-03    684\n",
       "2011-03-16    650\n",
       "2011-03-14    649\n",
       "             ... \n",
       "2011-09-11      1\n",
       "2004-01-09      1\n",
       "2011-09-22      1\n",
       "2004-02-23      1\n",
       "2011-09-10      1\n",
       "Name: date_recorded, Length: 369, dtype: int64"
      ]
     },
     "execution_count": 10,
     "metadata": {},
     "output_type": "execute_result"
    }
   ],
   "source": [
    "var = 'date_recorded'\n",
    "df_comp_val[var] = pd.to_datetime(df_comp_val[var],format='%Y-%m-%d')\n",
    "\n",
    "explore_data(var,-5)\n",
    "\n",
    "df_comp_val[var].value_counts(sort=True)"
   ]
  },
  {
   "cell_type": "markdown",
   "metadata": {},
   "source": [
    "#### year_recorded"
   ]
  },
  {
   "cell_type": "code",
   "execution_count": 11,
   "metadata": {},
   "outputs": [
    {
     "data": {
      "text/plain": [
       "2011    35908\n",
       "2013    30210\n",
       "2012     8089\n",
       "2004       41\n",
       "2001        1\n",
       "2002        1\n",
       "Name: year_recorded, dtype: int64"
      ]
     },
     "execution_count": 11,
     "metadata": {},
     "output_type": "execute_result"
    }
   ],
   "source": [
    "var = 'year_recorded'\n",
    "\n",
    "df_comp_val[var] = df_comp_val['date_recorded'].dt.year\n",
    "df_comp_val[var].value_counts(sort=True)"
   ]
  },
  {
   "cell_type": "markdown",
   "metadata": {},
   "source": [
    "#### longitude"
   ]
  },
  {
   "cell_type": "code",
   "execution_count": 12,
   "metadata": {
    "id": "NhvftQ72DQfY",
    "outputId": "81b8d2a5-0ac9-4de7-e9d0-237dbb08e871"
   },
   "outputs": [
    {
     "name": "stdout",
     "output_type": "stream",
     "text": [
      "GPS coordinate\n",
      "float64\n",
      "[38.85266884 37.45163346 34.7398045  35.43273168 34.76505448]\n",
      "71870 unique values\n",
      "0 missing or null values\n"
     ]
    },
    {
     "data": {
      "text/plain": [
       "0.000000     2269\n",
       "35.627125       2\n",
       "32.920579       2\n",
       "37.268771       2\n",
       "32.967009       2\n",
       "             ... \n",
       "34.333025       1\n",
       "32.050698       1\n",
       "37.663656       1\n",
       "39.021435       1\n",
       "35.164770       1\n",
       "Name: longitude, Length: 71870, dtype: int64"
      ]
     },
     "execution_count": 12,
     "metadata": {},
     "output_type": "execute_result"
    }
   ],
   "source": [
    "var = 'longitude'\n",
    "explore_data(var,-5)\n",
    "\n",
    "# type float - Good\n",
    "\n",
    "df_comp_val[var].value_counts(sort=True)"
   ]
  },
  {
   "cell_type": "markdown",
   "metadata": {},
   "source": [
    "#### latitude"
   ]
  },
  {
   "cell_type": "code",
   "execution_count": 13,
   "metadata": {
    "id": "WWap8ffCDQfY",
    "outputId": "b34cb30f-f13d-44f6-acd8-a5a56323ffa2"
   },
   "outputs": [
    {
     "name": "stdout",
     "output_type": "stream",
     "text": [
      "GPS coordinate\n",
      "float64\n",
      "[ -6.58284095  -5.35042799  -4.58558667 -10.58415869 -11.22601197]\n",
      "71869 unique values\n",
      "0 missing or null values\n"
     ]
    },
    {
     "data": {
      "text/plain": [
       "-2.000000e-08    2269\n",
       "-2.516047e+00       2\n",
       "-7.104625e+00       2\n",
       "-6.981830e+00       2\n",
       "-7.162493e+00       2\n",
       "                 ... \n",
       "-8.840959e+00       1\n",
       "-9.255190e+00       1\n",
       "-7.264203e+00       1\n",
       "-9.273082e+00       1\n",
       "-1.077290e+01       1\n",
       "Name: latitude, Length: 71869, dtype: int64"
      ]
     },
     "execution_count": 13,
     "metadata": {},
     "output_type": "execute_result"
    }
   ],
   "source": [
    "var = 'latitude'\n",
    "explore_data(var,-5)\n",
    "\n",
    "# type float - Good\n",
    "\n",
    "df_comp_val[var].value_counts(sort=True)"
   ]
  },
  {
   "cell_type": "code",
   "execution_count": 14,
   "metadata": {
    "scrolled": true
   },
   "outputs": [],
   "source": [
    "df_comp_val = df_comp_val[df_comp_val.longitude != 0]\n",
    "df_comp_val = df_comp_val[df_comp_val.latitude != -2.000000e-08]"
   ]
  },
  {
   "cell_type": "markdown",
   "metadata": {},
   "source": [
    "#### installer"
   ]
  },
  {
   "cell_type": "code",
   "execution_count": 15,
   "metadata": {
    "scrolled": true
   },
   "outputs": [
    {
     "name": "stdout",
     "output_type": "stream",
     "text": [
      "Organization that installed the well\n",
      "object\n",
      "['Mombia' 'CANACO' 'Banane' 'MAJIJA CHARLES' 'Central government/TLC']\n",
      "2371 unique values\n",
      "4511 missing or null values\n"
     ]
    },
    {
     "data": {
      "text/plain": [
       "DWE           20310\n",
       "Government     2096\n",
       "RWE            1467\n",
       "Commu          1347\n",
       "DANIDA         1305\n",
       "              ...  \n",
       "Mahita            1\n",
       "Bahresa           1\n",
       "Tansi             1\n",
       "Jacks             1\n",
       "DAWE              1\n",
       "Name: installer, Length: 2370, dtype: int64"
      ]
     },
     "execution_count": 15,
     "metadata": {},
     "output_type": "execute_result"
    }
   ],
   "source": [
    "var = 'installer'\n",
    "explore_data(var,-5)\n",
    "\n",
    "# type float - Good\n",
    "\n",
    "df_comp_val[var].value_counts(sort=True)"
   ]
  },
  {
   "cell_type": "code",
   "execution_count": 16,
   "metadata": {},
   "outputs": [],
   "source": [
    "df_comp_val[var].fillna('unknown',inplace=True)"
   ]
  },
  {
   "cell_type": "markdown",
   "metadata": {},
   "source": [
    "#### basin"
   ]
  },
  {
   "cell_type": "code",
   "execution_count": 17,
   "metadata": {
    "id": "kJBLGS2oDQfZ",
    "outputId": "1850a868-841d-42af-e53e-fa76606275c1"
   },
   "outputs": [
    {
     "name": "stdout",
     "output_type": "stream",
     "text": [
      "Geographic water basin\n",
      "object\n",
      "['Internal' 'Lake Tanganyika' 'Wami / Ruvu' 'Rufiji' 'Lake Rukwa']\n",
      "9 unique values\n",
      "0 missing or null values\n"
     ]
    },
    {
     "data": {
      "text/plain": [
       "Pangani                    0.154805\n",
       "Lake Victoria              0.149012\n",
       "Rufiji                     0.138745\n",
       "Internal                   0.133952\n",
       "Lake Tanganyika            0.110140\n",
       "Wami / Ruvu                0.105264\n",
       "Lake Nyasa                 0.087968\n",
       "Ruvuma / Southern Coast    0.077618\n",
       "Lake Rukwa                 0.042497\n",
       "Name: basin, dtype: float64"
      ]
     },
     "execution_count": 17,
     "metadata": {},
     "output_type": "execute_result"
    }
   ],
   "source": [
    "var = 'basin'\n",
    "explore_data(var,-5)\n",
    "\n",
    "df_comp_val[var].value_counts(sort=True,normalize=True)"
   ]
  },
  {
   "cell_type": "markdown",
   "metadata": {},
   "source": [
    "#### region"
   ]
  },
  {
   "cell_type": "code",
   "execution_count": 18,
   "metadata": {
    "id": "QKwhsWO_DQfZ",
    "outputId": "289fe056-e04c-40a9-d5fd-39a928c3c608"
   },
   "outputs": [
    {
     "name": "stdout",
     "output_type": "stream",
     "text": [
      "Geographic location\n",
      "object\n",
      "['Arusha' 'Mbeya' 'Singida' 'Morogoro' 'Dar es Salaam']\n",
      "21 unique values\n",
      "0 missing or null values\n"
     ]
    }
   ],
   "source": [
    "var = 'region'\n",
    "explore_data(var,-5)"
   ]
  },
  {
   "cell_type": "markdown",
   "metadata": {},
   "source": [
    "#### district_code"
   ]
  },
  {
   "cell_type": "code",
   "execution_count": 19,
   "metadata": {
    "id": "a8TGbPscDQfa",
    "outputId": "4858e0d2-dddd-4e07-e636-68d025fa9fb8",
    "scrolled": true
   },
   "outputs": [
    {
     "name": "stdout",
     "output_type": "stream",
     "text": [
      "Geographic location (coded)\n",
      "int64\n",
      "[30 13  0 80 67]\n",
      "20 unique values\n",
      "0 missing or null values\n",
      "1     13973\n",
      "2     13594\n",
      "3     12521\n",
      "4     11248\n",
      "5      5428\n",
      "6      4505\n",
      "7      4166\n",
      "8      1282\n",
      "30     1256\n",
      "33     1063\n",
      "53      921\n",
      "43      653\n",
      "13      496\n",
      "23      360\n",
      "63      264\n",
      "62      127\n",
      "60       76\n",
      "0        27\n",
      "80       13\n",
      "67        8\n",
      "Name: district_code, dtype: int64\n",
      "          region  district_code\n",
      "0         Iringa              5\n",
      "11        Ruvuma              5\n",
      "79     Shinyanga              5\n",
      "85        Mwanza              5\n",
      "89        Dodoma              5\n",
      "104  Kilimanjaro              5\n",
      "119      Manyara              5\n",
      "142       Tabora              5\n",
      "213        Mbeya              5\n",
      "290     Morogoro              5\n",
      "320       Mtwara              5\n",
      "465       Arusha              5\n",
      "515        Tanga              5\n",
      "            region  district_code\n",
      "1             Mara              2\n",
      "12       Shinyanga              2\n",
      "15           Rukwa              2\n",
      "35          Arusha              2\n",
      "43         Singida              2\n",
      "59          Kagera              2\n",
      "69          Kigoma              2\n",
      "78           Tanga              2\n",
      "81        Morogoro              2\n",
      "93         Manyara              2\n",
      "98          Ruvuma              2\n",
      "105    Kilimanjaro              2\n",
      "113          Mbeya              2\n",
      "137          Lindi              2\n",
      "145  Dar es Salaam              2\n",
      "164         Mwanza              2\n",
      "166         Tabora              2\n",
      "191         Iringa              2\n",
      "224          Pwani              2\n",
      "           region  district_code\n",
      "2         Manyara              4\n",
      "16         Iringa              4\n",
      "25    Kilimanjaro              4\n",
      "30         Dodoma              4\n",
      "47          Mbeya              4\n",
      "100         Tanga              4\n",
      "112        Kagera              4\n",
      "117          Mara              4\n",
      "125        Tabora              4\n",
      "227       Singida              4\n",
      "249         Pwani              4\n",
      "276      Morogoro              4\n",
      "288         Rukwa              4\n",
      "296        Mtwara              4\n",
      "390        Mwanza              4\n",
      "1033       Kigoma              4\n",
      "1170       Ruvuma              4\n",
      "7990    Shinyanga              4\n",
      "    region  district_code\n",
      "3   Mtwara             63\n",
      "34   Pwani             63\n",
      "             region  district_code\n",
      "4            Kagera              1\n",
      "18           Mwanza              1\n",
      "28      Kilimanjaro              1\n",
      "31            Pwani              1\n",
      "37           Dodoma              1\n",
      "39           Kigoma              1\n",
      "61            Tanga              1\n",
      "64          Singida              1\n",
      "86           Iringa              1\n",
      "103          Ruvuma              1\n",
      "150            Mara              1\n",
      "174        Morogoro              1\n",
      "176         Manyara              1\n",
      "186           Mbeya              1\n",
      "195          Mtwara              1\n",
      "212           Rukwa              1\n",
      "236          Tabora              1\n",
      "383       Shinyanga              1\n",
      "426          Arusha              1\n",
      "849   Dar es Salaam              1\n",
      "1846          Lindi              1\n",
      "         region  district_code\n",
      "5         Tanga              8\n",
      "83    Shinyanga              8\n",
      "107      Kagera              8\n",
      "1317     Mwanza              8\n",
      "             region  district_code\n",
      "6         Shinyanga              3\n",
      "23      Kilimanjaro              3\n",
      "24           Kigoma              3\n",
      "36            Mbeya              3\n",
      "41           Iringa              3\n",
      "58          Manyara              3\n",
      "60            Tanga              3\n",
      "70         Morogoro              3\n",
      "84             Mara              3\n",
      "87           Kagera              3\n",
      "152   Dar es Salaam              3\n",
      "165         Singida              3\n",
      "259           Rukwa              3\n",
      "275          Ruvuma              3\n",
      "342          Dodoma              3\n",
      "368          Tabora              3\n",
      "626           Lindi              3\n",
      "685           Pwani              3\n",
      "899          Arusha              3\n",
      "1133         Mwanza              3\n",
      "           region  district_code\n",
      "8          Tabora              6\n",
      "14      Shinyanga              6\n",
      "50    Kilimanjaro              6\n",
      "75         Kagera              6\n",
      "116      Morogoro              6\n",
      "123        Arusha              6\n",
      "136         Mbeya              6\n",
      "264        Dodoma              6\n",
      "469         Tanga              6\n",
      "506          Mara              6\n",
      "6682        Pwani              6\n",
      "    region  district_code\n",
      "10   Pwani             43\n",
      "330  Lindi             43\n",
      "           region  district_code\n",
      "13    Kilimanjaro              7\n",
      "38         Iringa              7\n",
      "63         Arusha              7\n",
      "71          Mbeya              7\n",
      "94         Kagera              7\n",
      "97         Mwanza              7\n",
      "437     Shinyanga              7\n",
      "1792        Tanga              7\n",
      "   region  district_code\n",
      "26  Lindi             23\n",
      "     region  district_code\n",
      "46   Mtwara             33\n",
      "314   Pwani             33\n",
      "    region  district_code\n",
      "91   Lindi             53\n",
      "375  Pwani             53\n",
      "    region  district_code\n",
      "148  Lindi             62\n",
      "    region  district_code\n",
      "181  Pwani             60\n",
      "     region  district_code\n",
      "200  Kagera             30\n",
      "209  Arusha             30\n",
      "    region  district_code\n",
      "324  Lindi             13\n",
      "     region  district_code\n",
      "895  Dodoma              0\n",
      "         region  district_code\n",
      "5711  Shinyanga             80\n",
      "      region  district_code\n",
      "27633  Pwani             67\n"
     ]
    }
   ],
   "source": [
    "var = 'district_code'\n",
    "explore_data(var,-5)\n",
    "\n",
    "print(df_comp_val[var].value_counts(sort=True))\n",
    "\n",
    "for rc in df_comp_val[var].unique():\n",
    "    print(df_comp_val[['region',var]][df_comp_val[var] == rc].drop_duplicates())\n"
   ]
  },
  {
   "cell_type": "markdown",
   "metadata": {},
   "source": [
    "#### population"
   ]
  },
  {
   "cell_type": "code",
   "execution_count": 20,
   "metadata": {
    "id": "9_JViMH-DQfb",
    "outputId": "caec0c27-1817-4699-f88d-bd0c6fa823a9",
    "scrolled": false
   },
   "outputs": [
    {
     "name": "stdout",
     "output_type": "stream",
     "text": [
      "Population around the well\n",
      "int64\n",
      "[2554 7600 1869 1542 2960]\n",
      "1128 unique values\n",
      "0 missing or null values\n",
      "0    24565\n",
      "1     8782\n",
      "2        9\n",
      "Name: population, dtype: int64\n"
     ]
    }
   ],
   "source": [
    "var = 'population'\n",
    "explore_data(var,-5)\n",
    "\n",
    "print(df_comp_val[var].value_counts().sort_index()[:3])"
   ]
  },
  {
   "cell_type": "markdown",
   "metadata": {},
   "source": [
    "#### public_meeting"
   ]
  },
  {
   "cell_type": "code",
   "execution_count": 21,
   "metadata": {
    "id": "wR9FAgXZDQfb",
    "outputId": "cf81500c-d599-40d7-db65-9d33b78efad7"
   },
   "outputs": [
    {
     "name": "stdout",
     "output_type": "stream",
     "text": [
      "True/False\n",
      "object\n",
      "[True nan False]\n",
      "3 unique values\n",
      "3708 missing or null values\n"
     ]
    }
   ],
   "source": [
    "var = 'public_meeting'\n",
    "explore_data(var,-5)\n",
    "\n",
    "prob = df_comp_val[var].value_counts(normalize=True)"
   ]
  },
  {
   "cell_type": "code",
   "execution_count": 22,
   "metadata": {},
   "outputs": [],
   "source": [
    "for idx in df_comp_val[var].isna().index.tolist():\n",
    "    df_comp_val.loc[idx,var] = np.random.choice([prob.index[0],prob.index[1]],p=[prob.values[0],prob.values[1]])"
   ]
  },
  {
   "cell_type": "code",
   "execution_count": 23,
   "metadata": {},
   "outputs": [
    {
     "name": "stdout",
     "output_type": "stream",
     "text": [
      "True/False\n",
      "int32\n",
      "[1 0]\n",
      "2 unique values\n",
      "0 missing or null values\n"
     ]
    }
   ],
   "source": [
    "df_comp_val[var] = df_comp_val[var].astype(int)\n",
    "\n",
    "explore_data(var,-5)"
   ]
  },
  {
   "cell_type": "markdown",
   "metadata": {},
   "source": [
    "#### permit"
   ]
  },
  {
   "cell_type": "code",
   "execution_count": 24,
   "metadata": {
    "id": "0MmkG3hxDQfc",
    "outputId": "714366a9-ca36-43e2-af78-ba6c299b9658"
   },
   "outputs": [
    {
     "name": "stdout",
     "output_type": "stream",
     "text": [
      "If the waterpoint is permitted\n",
      "object\n",
      "[False True nan]\n",
      "3 unique values\n",
      "3793 missing or null values\n"
     ]
    }
   ],
   "source": [
    "var = 'permit'\n",
    "explore_data(var,-5)\n",
    "\n",
    "prob = df_comp_val[var].value_counts(normalize=True)"
   ]
  },
  {
   "cell_type": "code",
   "execution_count": 25,
   "metadata": {},
   "outputs": [],
   "source": [
    "for idx in df_comp_val[var].isna().index.tolist():\n",
    "    df_comp_val.loc[idx,var] = np.random.choice([prob.index[0],prob.index[1]],p=[prob.values[0],prob.values[1]])"
   ]
  },
  {
   "cell_type": "code",
   "execution_count": 26,
   "metadata": {},
   "outputs": [
    {
     "name": "stdout",
     "output_type": "stream",
     "text": [
      "If the waterpoint is permitted\n",
      "int32\n",
      "[0 1]\n",
      "2 unique values\n",
      "0 missing or null values\n"
     ]
    }
   ],
   "source": [
    "df_comp_val[var] = df_comp_val[var].astype(int)\n",
    "\n",
    "explore_data(var,-5)"
   ]
  },
  {
   "cell_type": "markdown",
   "metadata": {},
   "source": [
    "#### construction_year"
   ]
  },
  {
   "cell_type": "code",
   "execution_count": 27,
   "metadata": {
    "id": "M3VMXCS0DQfc",
    "outputId": "e3c0dcfb-387b-4802-fa24-37d1a6d6e1e6",
    "scrolled": false
   },
   "outputs": [
    {
     "name": "stdout",
     "output_type": "stream",
     "text": [
      "Year the waterpoint was constructed\n",
      "int64\n",
      "[1969 1981 1964 1966 1965]\n",
      "55 unique values\n",
      "0 missing or null values\n",
      "0       23700\n",
      "2010     3314\n",
      "2008     3243\n",
      "Name: construction_year, dtype: int64\n"
     ]
    },
    {
     "data": {
      "image/png": "[encoded data removed]",
      "text/plain": [
       "<Figure size 432x288 with 1 Axes>"
      ]
     },
     "metadata": {
      "needs_background": "light"
     },
     "output_type": "display_data"
    }
   ],
   "source": [
    "var = 'construction_year'\n",
    "explore_data(var,-5)\n",
    "\n",
    "\n",
    "print(df_comp_val[var].value_counts()[:3])\n",
    "\n",
    "# nearly 1/3 of values are zero (N/A)\n",
    "\n",
    "df_comp_val[df_comp_val[var]!=0].construction_year.hist();"
   ]
  },
  {
   "cell_type": "code",
   "execution_count": 28,
   "metadata": {},
   "outputs": [],
   "source": [
    "df_comp_val[var] = df_comp_val[var].replace(0,df_comp_val[var].median())"
   ]
  },
  {
   "cell_type": "code",
   "execution_count": 29,
   "metadata": {},
   "outputs": [
    {
     "data": {
      "text/plain": [
       "1988.0    24357\n",
       "2010.0     3314\n",
       "2008.0     3243\n",
       "2009.0     3196\n",
       "2000.0     2578\n",
       "2007.0     1960\n",
       "2006.0     1892\n",
       "2011.0     1591\n",
       "2003.0     1579\n",
       "2004.0     1417\n",
       "2012.0     1347\n",
       "2002.0     1343\n",
       "1995.0     1283\n",
       "2005.0     1275\n",
       "1978.0     1267\n",
       "1999.0     1222\n",
       "1998.0     1190\n",
       "1985.0     1177\n",
       "1990.0     1176\n",
       "1996.0     1020\n",
       "1980.0     1005\n",
       "1984.0      970\n",
       "1994.0      940\n",
       "1982.0      926\n",
       "1972.0      892\n",
       "1997.0      821\n",
       "1974.0      814\n",
       "1992.0      807\n",
       "1993.0      745\n",
       "2001.0      680\n",
       "1983.0      594\n",
       "1975.0      561\n",
       "1986.0      553\n",
       "1976.0      525\n",
       "1970.0      493\n",
       "1991.0      407\n",
       "1989.0      396\n",
       "1987.0      370\n",
       "1981.0      291\n",
       "1977.0      247\n",
       "1979.0      245\n",
       "1973.0      227\n",
       "2013.0      209\n",
       "1971.0      177\n",
       "1960.0      124\n",
       "1963.0      107\n",
       "1967.0      106\n",
       "1968.0       93\n",
       "1969.0       77\n",
       "1964.0       48\n",
       "1962.0       36\n",
       "1961.0       28\n",
       "1965.0       21\n",
       "1966.0       19\n",
       "Name: construction_year, dtype: int64"
      ]
     },
     "execution_count": 29,
     "metadata": {},
     "output_type": "execute_result"
    }
   ],
   "source": [
    "df_comp_val[var].value_counts()"
   ]
  },
  {
   "cell_type": "markdown",
   "metadata": {},
   "source": [
    "#### extraction_type_class"
   ]
  },
  {
   "cell_type": "code",
   "execution_count": 30,
   "metadata": {
    "id": "4zY8v2flDQfd",
    "outputId": "7f6936c7-6d86-4435-e552-274c9f9caf84"
   },
   "outputs": [
    {
     "name": "stdout",
     "output_type": "stream",
     "text": [
      "The kind of extraction the waterpoint uses\n",
      "object\n",
      "['gravity' 'submersible' 'handpump' 'other' 'motorpump' 'wind-powered'\n",
      " 'rope pump']\n",
      "7 unique values\n",
      "0 missing or null values\n"
     ]
    },
    {
     "data": {
      "text/plain": [
       "gravity         33158\n",
       "handpump        19028\n",
       "other            7748\n",
       "submersible      7607\n",
       "motorpump        3716\n",
       "rope pump         572\n",
       "wind-powered      152\n",
       "Name: extraction_type_class, dtype: int64"
      ]
     },
     "execution_count": 30,
     "metadata": {},
     "output_type": "execute_result"
    }
   ],
   "source": [
    "var = 'extraction_type_class'\n",
    "explore_data(var)\n",
    "\n",
    "df_comp_val[var].value_counts()"
   ]
  },
  {
   "cell_type": "code",
   "execution_count": 31,
   "metadata": {},
   "outputs": [],
   "source": [
    "# type object - to categorical\n",
    "# similar to other extraction types, less specific\n",
    "    # why use one over the others?\n",
    "\n",
    "df_comp_val[var] = df_comp_val[var].astype('category')"
   ]
  },
  {
   "cell_type": "markdown",
   "metadata": {},
   "source": [
    "#### management"
   ]
  },
  {
   "cell_type": "code",
   "execution_count": 32,
   "metadata": {
    "id": "nKJw_6OkDQfd",
    "outputId": "c0e68c1d-61bc-4edc-e7ba-9c4c10d870c5"
   },
   "outputs": [
    {
     "name": "stdout",
     "output_type": "stream",
     "text": [
      "How the waterpoint is managed\n",
      "object\n",
      "['vwc' 'wug' 'other' 'private operator' 'water board' 'wua' 'company'\n",
      " 'water authority' 'parastatal' 'unknown' 'other - school' 'trust']\n",
      "12 unique values\n",
      "0 missing or null values\n"
     ]
    },
    {
     "data": {
      "text/plain": [
       "vwc                 49677\n",
       "wug                  6910\n",
       "water board          3687\n",
       "wua                  3116\n",
       "private operator     2503\n",
       "parastatal           2129\n",
       "water authority      1121\n",
       "other                1078\n",
       "company               859\n",
       "unknown               670\n",
       "other - school        126\n",
       "trust                 105\n",
       "Name: management, dtype: int64"
      ]
     },
     "execution_count": 32,
     "metadata": {},
     "output_type": "execute_result"
    }
   ],
   "source": [
    "var = 'management'\n",
    "explore_data(var)\n",
    "\n",
    "# type string / object - few unique values - to category\n",
    "    # what is unknown? - few instances\n",
    "    # water board = water authority?\n",
    "    # company vs private operator?\n",
    "    # wug / wua?\n",
    "\n",
    "df_comp_val[var].value_counts()[:]"
   ]
  },
  {
   "cell_type": "code",
   "execution_count": 33,
   "metadata": {},
   "outputs": [],
   "source": [
    "df_comp_val[var] = df_comp_val[var].astype('category')"
   ]
  },
  {
   "cell_type": "markdown",
   "metadata": {},
   "source": [
    "#### payment_type"
   ]
  },
  {
   "cell_type": "code",
   "execution_count": 34,
   "metadata": {
    "id": "iBe0dqWGDQfe",
    "outputId": "ef4d2f05-fc8c-4398-8317-5245e34816a5"
   },
   "outputs": [
    {
     "name": "stdout",
     "output_type": "stream",
     "text": [
      "What the water costs\n",
      "object\n",
      "['annually' 'never pay' 'per bucket' 'unknown' 'on failure' 'other'\n",
      " 'monthly']\n",
      "7 unique values\n",
      "0 missing or null values\n"
     ]
    },
    {
     "data": {
      "text/plain": [
       "never pay     30493\n",
       "per bucket    11228\n",
       "monthly       10308\n",
       "unknown        9525\n",
       "on failure     4754\n",
       "annually       4550\n",
       "other          1123\n",
       "Name: payment_type, dtype: int64"
      ]
     },
     "execution_count": 34,
     "metadata": {},
     "output_type": "execute_result"
    }
   ],
   "source": [
    "var = 'payment_type'\n",
    "explore_data(var)\n",
    "\n",
    "df_comp_val[var].value_counts()"
   ]
  },
  {
   "cell_type": "code",
   "execution_count": 35,
   "metadata": {},
   "outputs": [],
   "source": [
    "# type string / object - to category\n",
    "\n",
    "# unknown significant, but smaller percentage\n",
    "\n",
    "df_comp_val[var] = df_comp_val[var].astype('category')"
   ]
  },
  {
   "cell_type": "markdown",
   "metadata": {},
   "source": [
    "#### water_quality"
   ]
  },
  {
   "cell_type": "code",
   "execution_count": 36,
   "metadata": {
    "id": "MtPaOvaoDQfe",
    "outputId": "76f69f2f-e5b0-4646-d57b-aa0503564901"
   },
   "outputs": [
    {
     "name": "stdout",
     "output_type": "stream",
     "text": [
      "The quality of the water\n",
      "object\n",
      "['soft' 'salty' 'milky' 'unknown' 'fluoride' 'coloured' 'salty abandoned'\n",
      " 'fluoride abandoned']\n",
      "8 unique values\n",
      "0 missing or null values\n"
     ]
    },
    {
     "data": {
      "text/plain": [
       "soft                  61763\n",
       "salty                  5979\n",
       "unknown                2073\n",
       "milky                  1004\n",
       "coloured                611\n",
       "salty abandoned         287\n",
       "fluoride                243\n",
       "fluoride abandoned       21\n",
       "Name: water_quality, dtype: int64"
      ]
     },
     "execution_count": 36,
     "metadata": {},
     "output_type": "execute_result"
    }
   ],
   "source": [
    "var = 'water_quality'\n",
    "explore_data(var)\n",
    "\n",
    "df_comp_val[var].value_counts()"
   ]
  },
  {
   "cell_type": "code",
   "execution_count": 37,
   "metadata": {},
   "outputs": [],
   "source": [
    "# unknown small percentage\n",
    "\n",
    "# type string / object - to category\n",
    "\n",
    "df_comp_val[var] = df_comp_val[var].astype('category')"
   ]
  },
  {
   "cell_type": "markdown",
   "metadata": {},
   "source": [
    "#### quantity"
   ]
  },
  {
   "cell_type": "code",
   "execution_count": 38,
   "metadata": {
    "id": "HkpJzdZlDQff",
    "outputId": "d2856ee2-e7c8-4021-95a6-4396230ad0e0"
   },
   "outputs": [
    {
     "name": "stdout",
     "output_type": "stream",
     "text": [
      "The quantity of water\n",
      "object\n",
      "['enough' 'insufficient' 'dry' 'seasonal' 'unknown']\n",
      "5 unique values\n",
      "0 missing or null values\n"
     ]
    },
    {
     "data": {
      "text/plain": [
       "enough          40374\n",
       "insufficient    18177\n",
       "dry              7459\n",
       "seasonal         5016\n",
       "unknown           955\n",
       "Name: quantity, dtype: int64"
      ]
     },
     "execution_count": 38,
     "metadata": {},
     "output_type": "execute_result"
    }
   ],
   "source": [
    "var = 'quantity'\n",
    "explore_data(var)\n",
    "\n",
    "df_comp_val[var].value_counts()"
   ]
  },
  {
   "cell_type": "code",
   "execution_count": 39,
   "metadata": {},
   "outputs": [],
   "source": [
    "# unknown small percentage\n",
    "\n",
    "df_comp_val[var] = df_comp_val[var].astype('category')"
   ]
  },
  {
   "cell_type": "markdown",
   "metadata": {},
   "source": [
    "#### quantity"
   ]
  },
  {
   "cell_type": "code",
   "execution_count": 40,
   "metadata": {
    "id": "GG9LJtrHDQff",
    "outputId": "9ce6ecc7-4702-4343-c194-14c06fd82461"
   },
   "outputs": [
    {
     "name": "stdout",
     "output_type": "stream",
     "text": [
      "The quantity of water\n",
      "category\n",
      "['enough', 'insufficient', 'dry', 'seasonal', 'unknown']\n",
      "Categories (5, object): ['enough', 'insufficient', 'dry', 'seasonal', 'unknown']\n",
      "5 unique values\n",
      "0 missing or null values\n"
     ]
    },
    {
     "data": {
      "text/plain": [
       "enough          40374\n",
       "insufficient    18177\n",
       "dry              7459\n",
       "seasonal         5016\n",
       "unknown           955\n",
       "Name: quantity, dtype: int64"
      ]
     },
     "execution_count": 40,
     "metadata": {},
     "output_type": "execute_result"
    }
   ],
   "source": [
    "var = 'quantity'\n",
    "explore_data(var)\n",
    "\n",
    "df_comp_val[var].value_counts()"
   ]
  },
  {
   "cell_type": "markdown",
   "metadata": {},
   "source": [
    "#### source"
   ]
  },
  {
   "cell_type": "code",
   "execution_count": 41,
   "metadata": {
    "id": "KM3Riy7sDQff",
    "outputId": "003d158f-1cd7-4625-b55e-30bdeb4b61a1"
   },
   "outputs": [
    {
     "name": "stdout",
     "output_type": "stream",
     "text": [
      "The source of the water\n",
      "object\n",
      "['spring' 'rainwater harvesting' 'dam' 'machine dbh' 'other'\n",
      " 'shallow well' 'river' 'hand dtw' 'lake' 'unknown']\n",
      "10 unique values\n",
      "0 missing or null values\n"
     ]
    },
    {
     "data": {
      "text/plain": [
       "spring                  21199\n",
       "shallow well            19482\n",
       "machine dbh             13505\n",
       "river                   11964\n",
       "rainwater harvesting     2764\n",
       "hand dtw                 1107\n",
       "dam                       833\n",
       "lake                      797\n",
       "other                     246\n",
       "unknown                    84\n",
       "Name: source, dtype: int64"
      ]
     },
     "execution_count": 41,
     "metadata": {},
     "output_type": "execute_result"
    }
   ],
   "source": [
    "var = 'source'\n",
    "explore_data(var)\n",
    "\n",
    "df_comp_val[var].value_counts()"
   ]
  },
  {
   "cell_type": "code",
   "execution_count": 42,
   "metadata": {},
   "outputs": [],
   "source": [
    "# type string / object - to category\n",
    "\n",
    "df_comp_val[var] = df_comp_val[var].astype('category')"
   ]
  },
  {
   "cell_type": "markdown",
   "metadata": {},
   "source": [
    "#### waterpoint_type"
   ]
  },
  {
   "cell_type": "code",
   "execution_count": 43,
   "metadata": {
    "id": "MOPKohReDQfg",
    "outputId": "7a325597-43c1-4e2e-e80c-c22452573bc4"
   },
   "outputs": [
    {
     "name": "stdout",
     "output_type": "stream",
     "text": [
      "The kind of waterpoint\n",
      "object\n",
      "['communal standpipe' 'communal standpipe multiple' 'hand pump' 'other'\n",
      " 'improved spring' 'cattle trough' 'dam']\n",
      "7 unique values\n",
      "0 missing or null values\n"
     ]
    },
    {
     "data": {
      "text/plain": [
       "communal standpipe             35443\n",
       "hand pump                      20265\n",
       "other                           7724\n",
       "communal standpipe multiple     7433\n",
       "improved spring                  958\n",
       "cattle trough                    150\n",
       "dam                                8\n",
       "Name: waterpoint_type, dtype: int64"
      ]
     },
     "execution_count": 43,
     "metadata": {},
     "output_type": "execute_result"
    }
   ],
   "source": [
    "var = 'waterpoint_type'\n",
    "explore_data(var)\n",
    "\n",
    "df_comp_val[var].value_counts()"
   ]
  },
  {
   "cell_type": "code",
   "execution_count": 44,
   "metadata": {},
   "outputs": [],
   "source": [
    "# type string / object - to category\n",
    "\n",
    "df_comp_val[var] = df_comp_val[var].astype('category')"
   ]
  },
  {
   "cell_type": "markdown",
   "metadata": {},
   "source": [
    "#### pump_age"
   ]
  },
  {
   "cell_type": "code",
   "execution_count": 45,
   "metadata": {},
   "outputs": [
    {
     "data": {
      "text/plain": [
       "<AxesSubplot:>"
      ]
     },
     "execution_count": 45,
     "metadata": {},
     "output_type": "execute_result"
    },
    {
     "data": {
      "image/png": "[encoded data removed]",
      "text/plain": [
       "<Figure size 432x288 with 1 Axes>"
      ]
     },
     "metadata": {
      "needs_background": "light"
     },
     "output_type": "display_data"
    }
   ],
   "source": [
    "var = 'pump_age'\n",
    "\n",
    "df_comp_val[var] = df_comp_val['year_recorded'] - df_comp_val['construction_year']\n",
    "\n",
    "df_comp_val = df_comp_val.drop(labels=['year_recorded','date_recorded','construction_year'],axis=1)\n",
    "\n",
    "df_comp_val[var].hist()"
   ]
  },
  {
   "cell_type": "markdown",
   "metadata": {},
   "source": [
    "## Review missing data"
   ]
  },
  {
   "cell_type": "code",
   "execution_count": 46,
   "metadata": {
    "id": "JHLAbv5tDQjR"
   },
   "outputs": [
    {
     "name": "stdout",
     "output_type": "stream",
     "text": [
      "<class 'pandas.core.frame.DataFrame'>\n",
      "Int64Index: 71981 entries, 0 to 74249\n",
      "Data columns (total 21 columns):\n",
      " #   Column                 Non-Null Count  Dtype   \n",
      "---  ------                 --------------  -----   \n",
      " 0   id                     71981 non-null  int64   \n",
      " 1   amount_tsh             71981 non-null  float64 \n",
      " 2   gps_height             71981 non-null  int64   \n",
      " 3   installer              71981 non-null  object  \n",
      " 4   longitude              71981 non-null  float64 \n",
      " 5   latitude               71981 non-null  float64 \n",
      " 6   basin                  71981 non-null  object  \n",
      " 7   region                 71981 non-null  object  \n",
      " 8   district_code          71981 non-null  int64   \n",
      " 9   population             71981 non-null  int64   \n",
      " 10  public_meeting         71981 non-null  int32   \n",
      " 11  permit                 71981 non-null  int32   \n",
      " 12  extraction_type_class  71981 non-null  category\n",
      " 13  management             71981 non-null  category\n",
      " 14  payment_type           71981 non-null  category\n",
      " 15  water_quality          71981 non-null  category\n",
      " 16  quantity               71981 non-null  category\n",
      " 17  source                 71981 non-null  category\n",
      " 18  source_class           71981 non-null  object  \n",
      " 19  waterpoint_type        71981 non-null  category\n",
      " 20  pump_age               71981 non-null  float64 \n",
      "dtypes: category(7), float64(4), int32(2), int64(4), object(4)\n",
      "memory usage: 10.2+ MB\n"
     ]
    }
   ],
   "source": [
    "df_comp_val.info()"
   ]
  },
  {
   "cell_type": "markdown",
   "metadata": {},
   "source": [
    "## Save final data"
   ]
  },
  {
   "cell_type": "code",
   "execution_count": 47,
   "metadata": {},
   "outputs": [
    {
     "name": "stderr",
     "output_type": "stream",
     "text": [
      "<ipython-input-47-172da0364fd1>:5: SettingWithCopyWarning: \n",
      "A value is trying to be set on a copy of a slice from a DataFrame.\n",
      "Try using .loc[row_indexer,col_indexer] = value instead\n",
      "\n",
      "See the caveats in the documentation: https://pandas.pydata.org/pandas-docs/stable/user_guide/indexing.html#returning-a-view-versus-a-copy\n",
      "  df_train_val_new['status_group'] = df_train_lab['status_group']\n"
     ]
    }
   ],
   "source": [
    "train_index = df_train_val.id.tolist()\n",
    "test_index = df_test_val.id.tolist()\n",
    "\n",
    "df_train_val_new = df_comp_val[df_comp_val.id.isin(train_index)]\n",
    "df_train_val_new['status_group'] = df_train_lab['status_group']\n",
    "\n",
    "df_train_val_new.to_csv(data_interim_dir+'training_data_clean_no-geo.csv',index=False)\n",
    "\n",
    "df_test_val_new = df_comp_val[df_comp_val.id.isin(test_index)]\n",
    "df_test_val_new.to_csv(data_interim_dir+'test_data_clean_no-geo.csv',index=False)"
   ]
  }
 ],
 "metadata": {
  "colab": {
   "name": "Data Cleaning.ipynb",
   "provenance": []
  },
  "kernelspec": {
   "display_name": "Python 3",
   "language": "python",
   "name": "python3"
  },
  "language_info": {
   "codemirror_mode": {
    "name": "ipython",
    "version": 3
   },
   "file_extension": ".py",
   "mimetype": "text/x-python",
   "name": "python",
   "nbconvert_exporter": "python",
   "pygments_lexer": "ipython3",
   "version": "3.9.1"
  }
 },
 "nbformat": 4,
 "nbformat_minor": 1
}
