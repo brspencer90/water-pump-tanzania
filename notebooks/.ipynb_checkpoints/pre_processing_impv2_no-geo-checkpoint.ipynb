{
 "cells": [
  {
   "cell_type": "code",
   "execution_count": 1,
   "metadata": {},
   "outputs": [],
   "source": [
    "# import modules\n",
    "\n",
    "import pandas as pd\n",
    "import matplotlib.pyplot as plt\n",
    "import numpy as np\n",
    "\n",
    "import seaborn as sns\n",
    "\n",
    "from sklearn.preprocessing import LabelEncoder, OneHotEncoder\n",
    "\n",
    "%qtconsole"
   ]
  },
  {
   "cell_type": "code",
   "execution_count": 125,
   "metadata": {},
   "outputs": [],
   "source": [
    "data_raw_dir = 'C:\\\\Users\\\\Bryan\\\\OneDrive\\\\02 GitHub\\\\water-pump-tanzania\\\\data\\\\raw\\\\'\n",
    "data_interim_dir = 'C:\\\\Users\\\\Bryan\\\\OneDrive\\\\02 GitHub\\\\water-pump-tanzania\\\\data\\\\interim\\\\'\n",
    "data_processed_dir = 'C:\\\\Users\\\\Bryan\\\\OneDrive\\\\02 GitHub\\\\water-pump-tanzania\\\\data\\\\processed\\\\'\n",
    "docs_img_dir = 'C:\\\\Users\\\\bryan\\\\OneDrive\\\\02 GitHub\\\\water-pump-tanzania\\\\docs\\\\img\\\\'"
   ]
  },
  {
   "cell_type": "code",
   "execution_count": 126,
   "metadata": {},
   "outputs": [],
   "source": [
    "df_train_val = pd.read_csv(data_interim_dir + 'training_data_clean.csv')\n",
    "\n",
    "status_group = df_train_val['status_group']\n",
    "\n",
    "df_test_val = pd.read_csv(data_interim_dir+'test_data_clean.csv')\n",
    "\n",
    "df_comp_val = pd.concat([df_train_val,df_test_val]).reset_index(drop=True)"
   ]
  },
  {
   "cell_type": "code",
   "execution_count": 4,
   "metadata": {},
   "outputs": [
    {
     "name": "stdout",
     "output_type": "stream",
     "text": [
      "<class 'pandas.core.frame.DataFrame'>\n",
      "RangeIndex: 74228 entries, 0 to 74227\n",
      "Data columns (total 36 columns):\n",
      " #   Column                 Non-Null Count  Dtype  \n",
      "---  ------                 --------------  -----  \n",
      " 0   id                     74228 non-null  int64  \n",
      " 1   date_recorded          74228 non-null  object \n",
      " 2   funder                 74228 non-null  object \n",
      " 3   gps_height             74228 non-null  int64  \n",
      " 4   installer              74228 non-null  object \n",
      " 5   longitude              74228 non-null  float64\n",
      " 6   latitude               74228 non-null  float64\n",
      " 7   wpt_name               74228 non-null  object \n",
      " 8   basin                  74228 non-null  object \n",
      " 9   subvillage             74228 non-null  object \n",
      " 10  region                 74228 non-null  object \n",
      " 11  lga                    74228 non-null  object \n",
      " 12  ward                   74228 non-null  object \n",
      " 13  population             74228 non-null  float64\n",
      " 14  public_meeting         74228 non-null  bool   \n",
      " 15  scheme_management      74228 non-null  object \n",
      " 16  permit                 74228 non-null  bool   \n",
      " 17  construction_year      74228 non-null  int64  \n",
      " 18  extraction_type        74228 non-null  object \n",
      " 19  extraction_type_group  74228 non-null  object \n",
      " 20  extraction_type_class  74228 non-null  object \n",
      " 21  management             74228 non-null  object \n",
      " 22  management_group       74228 non-null  object \n",
      " 23  payment                74228 non-null  object \n",
      " 24  payment_type           74228 non-null  object \n",
      " 25  water_quality          74228 non-null  object \n",
      " 26  quality_group          74228 non-null  object \n",
      " 27  quantity               74228 non-null  object \n",
      " 28  source                 74228 non-null  object \n",
      " 29  source_type            74228 non-null  object \n",
      " 30  source_class           74228 non-null  object \n",
      " 31  waterpoint_type        74228 non-null  object \n",
      " 32  waterpoint_type_group  74228 non-null  object \n",
      " 33  year_recorded          74228 non-null  int64  \n",
      " 34  pump_age               74228 non-null  int64  \n",
      " 35  status_group           59384 non-null  object \n",
      "dtypes: bool(2), float64(3), int64(5), object(26)\n",
      "memory usage: 19.4+ MB\n"
     ]
    }
   ],
   "source": [
    "df_comp_val.info()"
   ]
  },
  {
   "cell_type": "markdown",
   "metadata": {},
   "source": [
    "Need to encode all object and categorical values."
   ]
  },
  {
   "cell_type": "markdown",
   "metadata": {},
   "source": [
    "### funder"
   ]
  },
  {
   "cell_type": "code",
   "execution_count": 5,
   "metadata": {},
   "outputs": [
    {
     "data": {
      "text/plain": [
       "Government Of Tanzania    11292\n",
       "unknown                    5484\n",
       "Danida                     3907\n",
       "Hesawa                     2771\n",
       "Rwssp                      1703\n",
       "World Bank                 1701\n",
       "Kkkt                       1623\n",
       "World Vision               1562\n",
       "Unicef                     1322\n",
       "Tasaf                      1136\n",
       "other                      1129\n",
       "Dhv                        1065\n",
       "District Council           1037\n",
       "Private Individual         1034\n",
       "Dwsp                       1012\n",
       "Norad                       949\n",
       "Germany Republi             765\n",
       "Name: funder_reduced, dtype: int64"
      ]
     },
     "execution_count": 5,
     "metadata": {},
     "output_type": "execute_result"
    }
   ],
   "source": [
    "var = 'funder'\n",
    "var_red = var+'_reduced'\n",
    "df_comp_val[var_red] = df_comp_val[var]\n",
    "\n",
    "limited_list = df_comp_val[var_red].value_counts()[df_comp_val[var_red].value_counts(normalize=True)<=0.01]\n",
    "df_comp_val[var_red][~df_comp_val[var_red].isin(limited_list.index.to_list())].value_counts()"
   ]
  },
  {
   "cell_type": "code",
   "execution_count": 6,
   "metadata": {},
   "outputs": [
    {
     "data": {
      "text/plain": [
       "other                     35865\n",
       "Government Of Tanzania    11292\n",
       "unknown                    5484\n",
       "Danida                     3907\n",
       "Hesawa                     2771\n",
       "Rwssp                      1703\n",
       "World Bank                 1701\n",
       "Kkkt                       1623\n",
       "World Vision               1562\n",
       "Unicef                     1322\n",
       "Tasaf                      1136\n",
       "Dhv                        1065\n",
       "District Council           1037\n",
       "Private Individual         1034\n",
       "Dwsp                       1012\n",
       "Norad                       949\n",
       "Germany Republi             765\n",
       "Name: funder_reduced, dtype: int64"
      ]
     },
     "execution_count": 6,
     "metadata": {},
     "output_type": "execute_result"
    }
   ],
   "source": [
    "# Reduce number of categorical variables, encoding values with less than 1% prevalence to 'other'\n",
    "for idx in df_comp_val[df_comp_val[var_red].isin(limited_list.index.to_list())].index.tolist():\n",
    "    df_comp_val.loc[idx,var_red] = 'other'\n",
    "    \n",
    "df_comp_val[var_red].value_counts()"
   ]
  },
  {
   "cell_type": "code",
   "execution_count": 7,
   "metadata": {},
   "outputs": [
    {
     "data": {
      "image/png": "[encoded data removed]",
      "text/plain": [
       "<Figure size 1800x720 with 1 Axes>"
      ]
     },
     "metadata": {
      "needs_background": "light"
     },
     "output_type": "display_data"
    }
   ],
   "source": [
    "plt.figure(figsize=(25,10))\n",
    "\n",
    "barWidth = 0.25\n",
    "bars1 = df_comp_val[var_red].value_counts().sort_index().index.tolist()\n",
    "\n",
    "br1 = np.arange(len(bars1)) \n",
    "br2 = [x + barWidth for x in br1] \n",
    "br3 = [x + barWidth for x in br2] \n",
    "\n",
    "plt.bar(x = br1,height=df_comp_val[df_comp_val['status_group']=='functional'][var_red].value_counts(normalize=True).sort_index().values.tolist(),width=0.2,color='green',alpha=0.5,label='functional');\n",
    "plt.bar(x = br2,height=df_comp_val[df_comp_val['status_group']=='functional needs repair'][var_red].value_counts(normalize=True).sort_index().values.tolist(),width=0.2,color='orange',alpha=0.5, label='functional needs repair');\n",
    "plt.bar(x = br3,height=df_comp_val[df_comp_val['status_group']=='non functional'][var_red].value_counts(normalize=True).sort_index().values.tolist(),width=0.2,color='red',alpha=0.5, label='non functional');\n",
    "\n",
    "plt.xticks(br2, bars1);\n",
    "plt.legend();"
   ]
  },
  {
   "cell_type": "code",
   "execution_count": 8,
   "metadata": {},
   "outputs": [],
   "source": [
    "df_comp_val = pd.concat([df_comp_val,pd.get_dummies(df_comp_val[var_red],prefix=var)],axis=1)"
   ]
  },
  {
   "cell_type": "code",
   "execution_count": 9,
   "metadata": {},
   "outputs": [],
   "source": [
    "df_comp_val = df_comp_val.drop(labels=[var,var_red],axis=1)"
   ]
  },
  {
   "cell_type": "markdown",
   "metadata": {},
   "source": [
    "### gps_height"
   ]
  },
  {
   "cell_type": "code",
   "execution_count": 10,
   "metadata": {
    "scrolled": true
   },
   "outputs": [
    {
     "data": {
      "text/plain": [
       " 0       25627\n",
       "-16         71\n",
       "-15         69\n",
       "-13         68\n",
       "-19         65\n",
       "         ...  \n",
       " 2353        1\n",
       " 2417        1\n",
       " 2545        1\n",
       " 2416        1\n",
       " 2285        1\n",
       "Name: gps_height, Length: 2456, dtype: int64"
      ]
     },
     "execution_count": 10,
     "metadata": {},
     "output_type": "execute_result"
    }
   ],
   "source": [
    "var = 'gps_height'\n",
    "var_red = var+'_reduced'\n",
    "\n",
    "df_comp_val[var].value_counts()"
   ]
  },
  {
   "cell_type": "code",
   "execution_count": 11,
   "metadata": {},
   "outputs": [
    {
     "data": {
      "image/png": "[encoded data removed]",
      "text/plain": [
       "<Figure size 432x288 with 1 Axes>"
      ]
     },
     "metadata": {
      "needs_background": "light"
     },
     "output_type": "display_data"
    }
   ],
   "source": [
    "plt.figure()\n",
    "\n",
    "plt.hist(df_comp_val[df_comp_val['status_group']=='non functional'][var],alpha=0.5,density=True);\n",
    "plt.hist(df_comp_val[df_comp_val['status_group']=='functional'][var],color='green',alpha=0.5,density=True);\n",
    "plt.hist(df_comp_val[df_comp_val['status_group']=='functional needs repair'][var],color='red',alpha=0.5,density=True);"
   ]
  },
  {
   "cell_type": "code",
   "execution_count": 12,
   "metadata": {},
   "outputs": [],
   "source": [
    "# no difference in distribution between target variables\n",
    "\n",
    "df_comp_val = df_comp_val.drop(labels=[var],axis=1)"
   ]
  },
  {
   "cell_type": "markdown",
   "metadata": {},
   "source": [
    "### installer"
   ]
  },
  {
   "cell_type": "code",
   "execution_count": 13,
   "metadata": {},
   "outputs": [
    {
     "data": {
      "text/plain": [
       "DWE                   21739\n",
       "unknown                5512\n",
       "Government             2275\n",
       "RWE                    1498\n",
       "Commu                  1347\n",
       "DANIDA                 1305\n",
       "other                  1244\n",
       "KKKT                   1120\n",
       "Hesawa                 1070\n",
       "TCRS                    887\n",
       "CES                     765\n",
       "Central government      764\n",
       "Name: installer, dtype: int64"
      ]
     },
     "execution_count": 13,
     "metadata": {},
     "output_type": "execute_result"
    }
   ],
   "source": [
    "var = 'installer'\n",
    "var_red = var+'_reduced'\n",
    "\n",
    "\n",
    "limited_list = df_comp_val[var].value_counts()[df_comp_val[var].value_counts(normalize=True)<=0.01]\n",
    "df_comp_val[var][~df_comp_val[var].isin(limited_list.index.to_list())].value_counts()"
   ]
  },
  {
   "cell_type": "code",
   "execution_count": 14,
   "metadata": {},
   "outputs": [
    {
     "data": {
      "text/plain": [
       "Other                 34702\n",
       "DWE                   21739\n",
       "unknown                5512\n",
       "Government             2275\n",
       "RWE                    1498\n",
       "Commu                  1347\n",
       "DANIDA                 1305\n",
       "other                  1244\n",
       "KKKT                   1120\n",
       "Hesawa                 1070\n",
       "TCRS                    887\n",
       "CES                     765\n",
       "Central government      764\n",
       "Name: installer_reduced, dtype: int64"
      ]
     },
     "execution_count": 14,
     "metadata": {},
     "output_type": "execute_result"
    }
   ],
   "source": [
    "df_comp_val[var_red] = df_comp_val[var]\n",
    "\n",
    "# Reduce number of categorical variables, encoding values with less than 1% prevalence to 'other'\n",
    "for idx in df_comp_val[df_comp_val[var_red].isin(limited_list.index.to_list())].index.tolist():\n",
    "    df_comp_val.loc[idx,var_red] = 'Other'\n",
    "    \n",
    "df_comp_val[var_red].value_counts()"
   ]
  },
  {
   "cell_type": "code",
   "execution_count": 15,
   "metadata": {},
   "outputs": [
    {
     "data": {
      "image/png": "[encoded data removed]",
      "text/plain": [
       "<Figure size 1800x720 with 1 Axes>"
      ]
     },
     "metadata": {
      "needs_background": "light"
     },
     "output_type": "display_data"
    }
   ],
   "source": [
    "plt.figure(figsize=(25,10))\n",
    "\n",
    "barWidth = 0.25\n",
    "bars1 = df_comp_val[var_red].value_counts().sort_index().index.tolist()\n",
    "\n",
    "br1 = np.arange(len(bars1)) \n",
    "br2 = [x + barWidth for x in br1] \n",
    "br3 = [x + barWidth for x in br2] \n",
    "\n",
    "plt.bar(x = br1,height=df_comp_val[df_comp_val['status_group']=='functional'][var_red].value_counts(normalize=True).sort_index().values.tolist(),width=0.2,color='green',alpha=0.5,label='functional');\n",
    "plt.bar(x = br2,height=df_comp_val[df_comp_val['status_group']=='functional needs repair'][var_red].value_counts(normalize=True).sort_index().values.tolist(),width=0.2,color='orange',alpha=0.5, label='functional needs repair');\n",
    "plt.bar(x = br3,height=df_comp_val[df_comp_val['status_group']=='non functional'][var_red].value_counts(normalize=True).sort_index().values.tolist(),width=0.2,color='red',alpha=0.5, label='non functional');\n",
    "\n",
    "plt.xticks(br2, bars1);\n",
    "plt.legend();"
   ]
  },
  {
   "cell_type": "code",
   "execution_count": 16,
   "metadata": {},
   "outputs": [],
   "source": [
    "df_comp_val = pd.concat([df_comp_val,pd.get_dummies(df_comp_val[var_red],prefix=var)],axis=1)"
   ]
  },
  {
   "cell_type": "code",
   "execution_count": 17,
   "metadata": {},
   "outputs": [],
   "source": [
    "df_comp_val = df_comp_val.drop(labels=[var,var_red],axis=1)"
   ]
  },
  {
   "cell_type": "markdown",
   "metadata": {},
   "source": [
    "### wpt_name"
   ]
  },
  {
   "cell_type": "code",
   "execution_count": 18,
   "metadata": {},
   "outputs": [
    {
     "data": {
      "text/plain": [
       "none             4440\n",
       "Shuleni          2183\n",
       "Zahanati         1034\n",
       "Msikitini         646\n",
       "Kanisani          390\n",
       "                 ... \n",
       "Rashid Watson       1\n",
       "Kwa Magembe         1\n",
       "Uwanja Wa Ccm       1\n",
       "Mtamba              1\n",
       "Nababili            1\n",
       "Name: wpt_name, Length: 45672, dtype: int64"
      ]
     },
     "execution_count": 18,
     "metadata": {},
     "output_type": "execute_result"
    }
   ],
   "source": [
    "var = 'wpt_name'\n",
    "var_red = var+'_reduced'\n",
    "\n",
    "limited_list = df_comp_val[var].value_counts()[df_comp_val[var].value_counts(normalize=True)<=0.01]\n",
    "df_comp_val[var][~df_comp_val[var].isin(limited_list.index.to_list())].value_counts()\n",
    "\n",
    "df_comp_val[var].value_counts()"
   ]
  },
  {
   "cell_type": "code",
   "execution_count": 19,
   "metadata": {},
   "outputs": [],
   "source": [
    "# Way too few values to properly encode, will drop this column.\n",
    "df_comp_val = df_comp_val.drop(labels=[var],axis=1)"
   ]
  },
  {
   "cell_type": "markdown",
   "metadata": {},
   "source": [
    "### basin"
   ]
  },
  {
   "cell_type": "code",
   "execution_count": 20,
   "metadata": {},
   "outputs": [
    {
     "name": "stdout",
     "output_type": "stream",
     "text": [
      "9 total labels, and 0 labels under 1.0%\n"
     ]
    },
    {
     "data": {
      "text/plain": [
       "Lake Victoria              12849\n",
       "Pangani                    11143\n",
       "Rufiji                      9987\n",
       "Internal                    9642\n",
       "Lake Tanganyika             8052\n",
       "Wami / Ruvu                 7577\n",
       "Lake Nyasa                  6332\n",
       "Ruvuma / Southern Coast     5587\n",
       "Lake Rukwa                  3059\n",
       "Name: basin, dtype: int64"
      ]
     },
     "execution_count": 20,
     "metadata": {},
     "output_type": "execute_result"
    }
   ],
   "source": [
    "var = 'basin'\n",
    "var_red = var+'_reduced'\n",
    "\n",
    "per = 0.01\n",
    "\n",
    "limited_list = df_comp_val[var].value_counts()[df_comp_val[var].value_counts(normalize=True)<=per]\n",
    "num_unique = len(df_comp_val[var].unique())\n",
    "\n",
    "print(str(num_unique)+' total labels, and '+str(len(limited_list.index))+' labels under '+str(per*100)+'%')\n",
    "\n",
    "df_comp_val[var][~df_comp_val[var].isin(limited_list.index.to_list())].value_counts()"
   ]
  },
  {
   "cell_type": "code",
   "execution_count": 21,
   "metadata": {},
   "outputs": [
    {
     "data": {
      "image/png": "[encoded data removed]",
      "text/plain": [
       "<Figure size 1800x720 with 1 Axes>"
      ]
     },
     "metadata": {
      "needs_background": "light"
     },
     "output_type": "display_data"
    }
   ],
   "source": [
    "plt.figure(figsize=(25,10))\n",
    "\n",
    "barWidth = 0.25\n",
    "bars1 = df_comp_val[var].value_counts().sort_index().index.tolist()\n",
    "\n",
    "br1 = np.arange(len(bars1)) \n",
    "br2 = [x + barWidth for x in br1] \n",
    "br3 = [x + barWidth for x in br2] \n",
    "\n",
    "plt.bar(x = br1,height=df_comp_val[df_comp_val['status_group']=='functional'][var].value_counts(normalize=True).sort_index().values.tolist(),width=0.2,color='green',alpha=0.5,label='functional');\n",
    "plt.bar(x = br2,height=df_comp_val[df_comp_val['status_group']=='functional needs repair'][var].value_counts(normalize=True).sort_index().values.tolist(),width=0.2,color='orange',alpha=0.5, label='functional needs repair');\n",
    "plt.bar(x = br3,height=df_comp_val[df_comp_val['status_group']=='non functional'][var].value_counts(normalize=True).sort_index().values.tolist(),width=0.2,color='red',alpha=0.5, label='non functional');\n",
    "\n",
    "plt.xticks(br2, bars1);\n",
    "plt.legend();"
   ]
  },
  {
   "cell_type": "code",
   "execution_count": 22,
   "metadata": {},
   "outputs": [],
   "source": [
    "df_comp_val = pd.concat([df_comp_val,pd.get_dummies(df_comp_val[var],prefix=var)],axis=1)"
   ]
  },
  {
   "cell_type": "code",
   "execution_count": 23,
   "metadata": {},
   "outputs": [],
   "source": [
    "df_comp_val = df_comp_val.drop(labels=[var],axis=1)"
   ]
  },
  {
   "cell_type": "markdown",
   "metadata": {},
   "source": [
    "### subvillage"
   ]
  },
  {
   "cell_type": "code",
   "execution_count": 24,
   "metadata": {},
   "outputs": [
    {
     "name": "stdout",
     "output_type": "stream",
     "text": [
      "11669 total labels, and 11668 labels under 1.0%\n"
     ]
    },
    {
     "data": {
      "text/plain": [
       "other    9746\n",
       "Name: subvillage, dtype: int64"
      ]
     },
     "execution_count": 24,
     "metadata": {},
     "output_type": "execute_result"
    }
   ],
   "source": [
    "var = 'subvillage'\n",
    "var_red = var+'_reduced'\n",
    "\n",
    "per = 0.01\n",
    "\n",
    "limited_list = df_comp_val[var].value_counts()[df_comp_val[var].value_counts(normalize=True)<=per]\n",
    "num_unique = len(df_comp_val[var].unique())\n",
    "\n",
    "print(str(num_unique)+' total labels, and '+str(len(limited_list.index))+' labels under '+str(per*100)+'%')\n",
    "\n",
    "df_comp_val[var][~df_comp_val[var].isin(limited_list.index.to_list())].value_counts()"
   ]
  },
  {
   "cell_type": "code",
   "execution_count": 25,
   "metadata": {},
   "outputs": [],
   "source": [
    "# Way too many values to feasibly encode, will drop this column.\n",
    "df_comp_val = df_comp_val.drop(labels=[var],axis=1)"
   ]
  },
  {
   "cell_type": "markdown",
   "metadata": {},
   "source": [
    "### region"
   ]
  },
  {
   "cell_type": "code",
   "execution_count": 26,
   "metadata": {},
   "outputs": [
    {
     "data": {
      "text/plain": [
       "Kilimanjaro      5503\n",
       "Morogoro         5073\n",
       "Njombe           4574\n",
       "Arusha           4096\n",
       "Mbeya            4056\n",
       "Kagera           3884\n",
       "Kigoma           3533\n",
       "Simiyu           3405\n",
       "Pwani            3329\n",
       "Ruvuma           3306\n",
       "Tanga            3150\n",
       "Mwanza           2958\n",
       "Dodoma           2780\n",
       "Singida          2534\n",
       "Shinyanga        2525\n",
       "Tabora           2489\n",
       "Mara             2450\n",
       "Mtwara           2144\n",
       "Iringa           2006\n",
       "Manyara          1980\n",
       "Lindi            1920\n",
       "Songwe           1718\n",
       "Geita            1548\n",
       "Rukwa            1390\n",
       "Dar es Salaam    1025\n",
       "Katavi            852\n",
       "Name: region, dtype: int64"
      ]
     },
     "execution_count": 26,
     "metadata": {},
     "output_type": "execute_result"
    }
   ],
   "source": [
    "var = 'region'\n",
    "df_comp_val[var].value_counts()"
   ]
  },
  {
   "cell_type": "code",
   "execution_count": 27,
   "metadata": {},
   "outputs": [
    {
     "data": {
      "image/png": "[encoded data removed]",
      "text/plain": [
       "<Figure size 1800x720 with 1 Axes>"
      ]
     },
     "metadata": {
      "needs_background": "light"
     },
     "output_type": "display_data"
    }
   ],
   "source": [
    "plt.figure(figsize=(25,10))\n",
    "\n",
    "barWidth = 0.25\n",
    "bars1 = df_comp_val[var].value_counts().sort_index().index.tolist()\n",
    "\n",
    "br1 = np.arange(len(bars1)) \n",
    "br2 = [x + barWidth for x in br1] \n",
    "br3 = [x + barWidth for x in br2] \n",
    "\n",
    "plt.bar(x = br1,height=df_comp_val[df_comp_val['status_group']=='functional'][var].value_counts(normalize=True).sort_index().values.tolist(),width=0.2,color='green',alpha=0.5,label='functional');\n",
    "plt.bar(x = br2,height=df_comp_val[df_comp_val['status_group']=='functional needs repair'][var].value_counts(normalize=True).sort_index().values.tolist(),width=0.2,color='orange',alpha=0.5, label='functional needs repair');\n",
    "plt.bar(x = br3,height=df_comp_val[df_comp_val['status_group']=='non functional'][var].value_counts(normalize=True).sort_index().values.tolist(),width=0.2,color='red',alpha=0.5, label='non functional');\n",
    "\n",
    "plt.xticks(br2, bars1);\n",
    "plt.legend();"
   ]
  },
  {
   "cell_type": "code",
   "execution_count": 28,
   "metadata": {},
   "outputs": [],
   "source": [
    "df_comp_val = pd.concat([df_comp_val,pd.get_dummies(df_comp_val[var],prefix=var)],axis=1)"
   ]
  },
  {
   "cell_type": "code",
   "execution_count": 29,
   "metadata": {},
   "outputs": [],
   "source": [
    "df_comp_val = df_comp_val.drop(labels=[var],axis=1)"
   ]
  },
  {
   "cell_type": "markdown",
   "metadata": {},
   "source": [
    "### lga"
   ]
  },
  {
   "cell_type": "code",
   "execution_count": 30,
   "metadata": {},
   "outputs": [
    {
     "data": {
      "text/plain": [
       "Wanging'ombe                  1676\n",
       "Moshi                         1547\n",
       "Arusha                        1458\n",
       "Rungwe                        1386\n",
       "Bagamoyo                      1242\n",
       "                              ... \n",
       "Mafinga Township Authority      32\n",
       "Masasi  Township Authority      13\n",
       "Mbeya Urban                      3\n",
       "Babati Urban                     3\n",
       "Tunduma                          2\n",
       "Name: lga, Length: 158, dtype: int64"
      ]
     },
     "execution_count": 30,
     "metadata": {},
     "output_type": "execute_result"
    }
   ],
   "source": [
    "var = 'lga'\n",
    "df_comp_val[var].value_counts()"
   ]
  },
  {
   "cell_type": "code",
   "execution_count": 31,
   "metadata": {},
   "outputs": [],
   "source": [
    "# too many unique values - diluting feature importance\n",
    "\n",
    "#df_comp_val = pd.concat([df_comp_val,pd.get_dummies(df_comp_val[var],prefix=var)],axis=1)"
   ]
  },
  {
   "cell_type": "code",
   "execution_count": 32,
   "metadata": {},
   "outputs": [],
   "source": [
    "df_comp_val = df_comp_val.drop(labels=[var],axis=1)"
   ]
  },
  {
   "cell_type": "markdown",
   "metadata": {},
   "source": [
    "### ward"
   ]
  },
  {
   "cell_type": "code",
   "execution_count": 33,
   "metadata": {},
   "outputs": [
    {
     "data": {
      "text/plain": [
       "Igosi          386\n",
       "Imalinyi       318\n",
       "Siha Kati      297\n",
       "Mdandu         292\n",
       "Nduruma        261\n",
       "              ... \n",
       "Themi            1\n",
       "Mdabulo          1\n",
       "Chinugulu        1\n",
       "Korongoni        1\n",
       "Mwamashimba      1\n",
       "Name: ward, Length: 2097, dtype: int64"
      ]
     },
     "execution_count": 33,
     "metadata": {},
     "output_type": "execute_result"
    }
   ],
   "source": [
    "var = 'ward'\n",
    "df_comp_val[var].value_counts()"
   ]
  },
  {
   "cell_type": "code",
   "execution_count": 34,
   "metadata": {},
   "outputs": [],
   "source": [
    "# Too many categories and granular.\n",
    "\n",
    "# df_comp_val = pd.concat([df_comp_val,pd.get_dummies(df_comp_val[var],prefix=var)],axis=1)"
   ]
  },
  {
   "cell_type": "code",
   "execution_count": 35,
   "metadata": {},
   "outputs": [],
   "source": [
    "df_comp_val = df_comp_val.drop(labels=[var],axis=1)"
   ]
  },
  {
   "cell_type": "markdown",
   "metadata": {},
   "source": [
    "## population"
   ]
  },
  {
   "cell_type": "code",
   "execution_count": 36,
   "metadata": {},
   "outputs": [
    {
     "data": {
      "text/plain": [
       "<AxesSubplot:>"
      ]
     },
     "execution_count": 36,
     "metadata": {},
     "output_type": "execute_result"
    },
    {
     "data": {
      "image/png": "[encoded data removed]",
      "text/plain": [
       "<Figure size 432x288 with 1 Axes>"
      ]
     },
     "metadata": {
      "needs_background": "light"
     },
     "output_type": "display_data"
    }
   ],
   "source": [
    "var = 'population'\n",
    "\n",
    "df_comp_val[var].hist()"
   ]
  },
  {
   "cell_type": "code",
   "execution_count": 37,
   "metadata": {},
   "outputs": [],
   "source": [
    "df_comp_val[var+'_bin'] = pd.qcut(df_comp_val[var],5,labels=['0-20','20-40','40-60','60-80','80-100']).astype(str)"
   ]
  },
  {
   "cell_type": "code",
   "execution_count": 38,
   "metadata": {},
   "outputs": [
    {
     "data": {
      "image/png": "[encoded data removed]",
      "text/plain": [
       "<Figure size 1008x504 with 1 Axes>"
      ]
     },
     "metadata": {
      "needs_background": "light"
     },
     "output_type": "display_data"
    }
   ],
   "source": [
    "plt.figure(figsize=(14,7))\n",
    "\n",
    "barWidth = 0.25\n",
    "bars1 = df_comp_val[var+'_bin'].value_counts().sort_index().index.tolist()\n",
    "\n",
    "br1 = np.arange(len(bars1)) \n",
    "br2 = [x + barWidth for x in br1] \n",
    "br3 = [x + barWidth for x in br2] \n",
    "\n",
    "plt.bar(x = br1,height=df_comp_val[df_comp_val['status_group']=='functional'][var+'_bin'].value_counts(normalize=True).sort_index().values.tolist(),width=0.2,color='green',alpha=0.5,label='functional');\n",
    "plt.bar(x = br2,height=df_comp_val[df_comp_val['status_group']=='functional needs repair'][var+'_bin'].value_counts(normalize=True).sort_index().values.tolist(),width=0.2,color='orange',alpha=0.5, label='functional needs repair');\n",
    "plt.bar(x = br3,height=df_comp_val[df_comp_val['status_group']=='non functional'][var+'_bin'].value_counts(normalize=True).sort_index().values.tolist(),width=0.2,color='red',alpha=0.5, label='non functional');\n",
    "\n",
    "plt.xticks(br2, bars1);\n",
    "plt.legend();"
   ]
  },
  {
   "cell_type": "code",
   "execution_count": 39,
   "metadata": {},
   "outputs": [],
   "source": [
    "df_comp_val = pd.concat([df_comp_val,pd.get_dummies(df_comp_val[var+'_bin'],prefix=var)],axis=1)"
   ]
  },
  {
   "cell_type": "code",
   "execution_count": 40,
   "metadata": {},
   "outputs": [],
   "source": [
    "df_comp_val = df_comp_val.drop(labels=[var+'_bin'],axis=1)"
   ]
  },
  {
   "cell_type": "markdown",
   "metadata": {},
   "source": [
    "### scheme_management"
   ]
  },
  {
   "cell_type": "code",
   "execution_count": 41,
   "metadata": {},
   "outputs": [
    {
     "name": "stdout",
     "output_type": "stream",
     "text": [
      "12 total labels, and 3 labels under 1.0%\n"
     ]
    },
    {
     "data": {
      "text/plain": [
       "SWC      123\n",
       "Trust     96\n",
       "None       1\n",
       "Name: scheme_management, dtype: int64"
      ]
     },
     "execution_count": 41,
     "metadata": {},
     "output_type": "execute_result"
    }
   ],
   "source": [
    "var = 'scheme_management'\n",
    "var_red = var+'_reduced'\n",
    "\n",
    "per = 0.01\n",
    "\n",
    "limited_list = df_comp_val[var].value_counts()[df_comp_val[var].value_counts(normalize=True)<=per]\n",
    "num_unique = len(df_comp_val[var].unique())\n",
    "\n",
    "print(str(num_unique)+' total labels, and '+str(len(limited_list.index))+' labels under '+str(per*100)+'%')\n",
    "\n",
    "df_comp_val[var][df_comp_val[var].isin(limited_list.index.to_list())].value_counts()"
   ]
  },
  {
   "cell_type": "code",
   "execution_count": 42,
   "metadata": {},
   "outputs": [
    {
     "data": {
      "text/plain": [
       "VWC                 48995\n",
       "WUG                  7322\n",
       "Water authority      4060\n",
       "WUA                  3731\n",
       "Water Board          3575\n",
       "Parastatal           2431\n",
       "Company              1397\n",
       "Private operator     1396\n",
       "Other                1321\n",
       "Name: scheme_management_reduced, dtype: int64"
      ]
     },
     "execution_count": 42,
     "metadata": {},
     "output_type": "execute_result"
    }
   ],
   "source": [
    "df_comp_val[var_red] = df_comp_val[var]\n",
    "\n",
    "# Reduce number of categorical variables, encoding values with less than 1% prevalence to 'other'\n",
    "for idx in df_comp_val[df_comp_val[var_red].isin(limited_list.index.to_list())].index.tolist():\n",
    "    df_comp_val.loc[idx,var_red] = 'Other'\n",
    "    \n",
    "df_comp_val[var_red].value_counts()"
   ]
  },
  {
   "cell_type": "code",
   "execution_count": 43,
   "metadata": {},
   "outputs": [],
   "source": [
    "df_comp_val = pd.concat([df_comp_val,pd.get_dummies(df_comp_val[var_red],prefix=var)],axis=1)"
   ]
  },
  {
   "cell_type": "code",
   "execution_count": 44,
   "metadata": {},
   "outputs": [],
   "source": [
    "df_comp_val = df_comp_val.drop(labels=[var,var_red],axis=1)"
   ]
  },
  {
   "cell_type": "markdown",
   "metadata": {},
   "source": [
    "### extraction_type"
   ]
  },
  {
   "cell_type": "code",
   "execution_count": 45,
   "metadata": {},
   "outputs": [
    {
     "name": "stdout",
     "output_type": "stream",
     "text": [
      "18 total labels, and 9 labels under 1.0%\n"
     ]
    },
    {
     "data": {
      "text/plain": [
       "other - rope pump            572\n",
       "other - swn 81               284\n",
       "windmill                     152\n",
       "india mark iii               135\n",
       "cemo                         108\n",
       "other - play pump            101\n",
       "walimi                        60\n",
       "climax                        41\n",
       "other - mkulima/shinyanga      2\n",
       "Name: extraction_type, dtype: int64"
      ]
     },
     "execution_count": 45,
     "metadata": {},
     "output_type": "execute_result"
    }
   ],
   "source": [
    "var = 'extraction_type'\n",
    "var_red = var+'_reduced'\n",
    "\n",
    "per = 0.01\n",
    "\n",
    "limited_list = df_comp_val[var].value_counts()[df_comp_val[var].value_counts(normalize=True)<=per]\n",
    "num_unique = len(df_comp_val[var].unique())\n",
    "\n",
    "print(str(num_unique)+' total labels, and '+str(len(limited_list.index))+' labels under '+str(per*100)+'%')\n",
    "\n",
    "df_comp_val[var][df_comp_val[var].isin(limited_list.index.to_list())].value_counts()"
   ]
  },
  {
   "cell_type": "code",
   "execution_count": 46,
   "metadata": {},
   "outputs": [
    {
     "data": {
      "text/plain": [
       "gravity          33262\n",
       "nira/tanira      10197\n",
       "other             9552\n",
       "submersible       5982\n",
       "swn 80            4588\n",
       "mono              3621\n",
       "india mark ii     3029\n",
       "afridev           2207\n",
       "ksb               1790\n",
       "Name: extraction_type_reduced, dtype: int64"
      ]
     },
     "execution_count": 46,
     "metadata": {},
     "output_type": "execute_result"
    }
   ],
   "source": [
    "df_comp_val[var_red] = df_comp_val[var]\n",
    "\n",
    "# Reduce number of categorical variables, encoding values with less than 1% prevalence to 'other'\n",
    "for idx in df_comp_val[df_comp_val[var_red].isin(limited_list.index.to_list())].index.tolist():\n",
    "    df_comp_val.loc[idx,var_red] = 'other'\n",
    "    \n",
    "df_comp_val[var_red].value_counts()"
   ]
  },
  {
   "cell_type": "code",
   "execution_count": 47,
   "metadata": {},
   "outputs": [
    {
     "data": {
      "image/png": "[encoded data removed]",
      "text/plain": [
       "<Figure size 1800x720 with 1 Axes>"
      ]
     },
     "metadata": {
      "needs_background": "light"
     },
     "output_type": "display_data"
    }
   ],
   "source": [
    "plt.figure(figsize=(25,10))\n",
    "\n",
    "barWidth = 0.25\n",
    "bars1 = df_comp_val[var_red].value_counts().sort_index().index.tolist()\n",
    "\n",
    "br1 = np.arange(len(bars1)) \n",
    "br2 = [x + barWidth for x in br1] \n",
    "br3 = [x + barWidth for x in br2] \n",
    "\n",
    "plt.bar(x = br1,height=df_comp_val[df_comp_val['status_group']=='functional'][var_red].value_counts(normalize=True).sort_index().values.tolist(),width=0.2,color='green',alpha=0.5,label='functional');\n",
    "plt.bar(x = br2,height=df_comp_val[df_comp_val['status_group']=='functional needs repair'][var_red].value_counts(normalize=True).sort_index().values.tolist(),width=0.2,color='orange',alpha=0.5, label='functional needs repair');\n",
    "plt.bar(x = br3,height=df_comp_val[df_comp_val['status_group']=='non functional'][var_red].value_counts(normalize=True).sort_index().values.tolist(),width=0.2,color='red',alpha=0.5, label='non functional');\n",
    "\n",
    "plt.xticks(br2, bars1);\n",
    "plt.legend();"
   ]
  },
  {
   "cell_type": "code",
   "execution_count": 48,
   "metadata": {},
   "outputs": [],
   "source": [
    "df_comp_val = pd.concat([df_comp_val,pd.get_dummies(df_comp_val[var_red],prefix=var)],axis=1)"
   ]
  },
  {
   "cell_type": "code",
   "execution_count": 49,
   "metadata": {},
   "outputs": [],
   "source": [
    "df_comp_val = df_comp_val.drop(labels=[var,var_red],axis=1)"
   ]
  },
  {
   "cell_type": "markdown",
   "metadata": {},
   "source": [
    "### extraction_type_group"
   ]
  },
  {
   "cell_type": "code",
   "execution_count": 50,
   "metadata": {},
   "outputs": [
    {
     "name": "stdout",
     "output_type": "stream",
     "text": [
      "13 total labels, and 5 labels under 1.0%\n"
     ]
    },
    {
     "data": {
      "text/plain": [
       "rope pump          572\n",
       "other handpump     447\n",
       "wind-powered       152\n",
       "other motorpump    149\n",
       "india mark iii     135\n",
       "Name: extraction_type_group, dtype: int64"
      ]
     },
     "execution_count": 50,
     "metadata": {},
     "output_type": "execute_result"
    }
   ],
   "source": [
    "var = 'extraction_type_group'\n",
    "var_red = var+'_reduced'\n",
    "\n",
    "per = 0.01\n",
    "\n",
    "limited_list = df_comp_val[var].value_counts()[df_comp_val[var].value_counts(normalize=True)<=per]\n",
    "num_unique = len(df_comp_val[var].unique())\n",
    "\n",
    "print(str(num_unique)+' total labels, and '+str(len(limited_list.index))+' labels under '+str(per*100)+'%')\n",
    "\n",
    "df_comp_val[var][df_comp_val[var].isin(limited_list.index.to_list())].value_counts()"
   ]
  },
  {
   "cell_type": "code",
   "execution_count": 51,
   "metadata": {},
   "outputs": [
    {
     "data": {
      "text/plain": [
       "gravity          33262\n",
       "nira/tanira      10197\n",
       "other             9552\n",
       "submersible       7772\n",
       "swn 80            4588\n",
       "mono              3621\n",
       "india mark ii     3029\n",
       "afridev           2207\n",
       "Name: extraction_type_group_reduced, dtype: int64"
      ]
     },
     "execution_count": 51,
     "metadata": {},
     "output_type": "execute_result"
    }
   ],
   "source": [
    "df_comp_val[var_red] = df_comp_val[var]\n",
    "\n",
    "# Reduce number of categorical variables, encoding values with less than 1% prevalence to 'other'\n",
    "for idx in df_comp_val[df_comp_val[var_red].isin(limited_list.index.to_list())].index.tolist():\n",
    "    df_comp_val.loc[idx,var_red] = 'other'\n",
    "    \n",
    "df_comp_val[var_red].value_counts()"
   ]
  },
  {
   "cell_type": "code",
   "execution_count": 52,
   "metadata": {},
   "outputs": [
    {
     "data": {
      "image/png": "[encoded data removed]",
      "text/plain": [
       "<Figure size 1800x720 with 1 Axes>"
      ]
     },
     "metadata": {
      "needs_background": "light"
     },
     "output_type": "display_data"
    }
   ],
   "source": [
    "plt.figure(figsize=(25,10))\n",
    "\n",
    "barWidth = 0.25\n",
    "bars1 = df_comp_val[var_red].value_counts().sort_index().index.tolist()\n",
    "\n",
    "br1 = np.arange(len(bars1)) \n",
    "br2 = [x + barWidth for x in br1] \n",
    "br3 = [x + barWidth for x in br2] \n",
    "\n",
    "plt.bar(x = br1,height=df_comp_val[df_comp_val['status_group']=='functional'][var_red].value_counts(normalize=True).sort_index().values.tolist(),width=0.2,color='green',alpha=0.5,label='functional');\n",
    "plt.bar(x = br2,height=df_comp_val[df_comp_val['status_group']=='functional needs repair'][var_red].value_counts(normalize=True).sort_index().values.tolist(),width=0.2,color='orange',alpha=0.5, label='functional needs repair');\n",
    "plt.bar(x = br3,height=df_comp_val[df_comp_val['status_group']=='non functional'][var_red].value_counts(normalize=True).sort_index().values.tolist(),width=0.2,color='red',alpha=0.5, label='non functional');\n",
    "\n",
    "plt.xticks(br2, bars1);\n",
    "plt.legend();"
   ]
  },
  {
   "cell_type": "code",
   "execution_count": 53,
   "metadata": {},
   "outputs": [],
   "source": [
    "df_comp_val = pd.concat([df_comp_val,pd.get_dummies(df_comp_val[var_red],prefix=var)],axis=1)"
   ]
  },
  {
   "cell_type": "code",
   "execution_count": 54,
   "metadata": {},
   "outputs": [],
   "source": [
    "df_comp_val = df_comp_val.drop(labels=[var,var_red],axis=1)"
   ]
  },
  {
   "cell_type": "markdown",
   "metadata": {},
   "source": [
    "### extraction_type_class"
   ]
  },
  {
   "cell_type": "code",
   "execution_count": 55,
   "metadata": {},
   "outputs": [
    {
     "name": "stdout",
     "output_type": "stream",
     "text": [
      "7 total labels, and 2 labels under 1.0%\n"
     ]
    },
    {
     "data": {
      "text/plain": [
       "rope pump       572\n",
       "wind-powered    152\n",
       "Name: extraction_type_class, dtype: int64"
      ]
     },
     "execution_count": 55,
     "metadata": {},
     "output_type": "execute_result"
    }
   ],
   "source": [
    "var = 'extraction_type_class'\n",
    "var_red = var+'_reduced'\n",
    "\n",
    "per = 0.01\n",
    "\n",
    "limited_list = df_comp_val[var].value_counts()[df_comp_val[var].value_counts(normalize=True)<=per]\n",
    "num_unique = len(df_comp_val[var].unique())\n",
    "\n",
    "print(str(num_unique)+' total labels, and '+str(len(limited_list.index))+' labels under '+str(per*100)+'%')\n",
    "\n",
    "df_comp_val[var][df_comp_val[var].isin(limited_list.index.to_list())].value_counts()"
   ]
  },
  {
   "cell_type": "code",
   "execution_count": 56,
   "metadata": {},
   "outputs": [],
   "source": [
    "# only 7 labels, candidate to reduce but don't need it.\n",
    "\n",
    "df_comp_val = pd.concat([df_comp_val,pd.get_dummies(df_comp_val[var],prefix=var)],axis=1)"
   ]
  },
  {
   "cell_type": "code",
   "execution_count": 57,
   "metadata": {},
   "outputs": [],
   "source": [
    "df_comp_val = df_comp_val.drop(labels=[var],axis=1)"
   ]
  },
  {
   "cell_type": "markdown",
   "metadata": {},
   "source": [
    "### management"
   ]
  },
  {
   "cell_type": "code",
   "execution_count": 58,
   "metadata": {},
   "outputs": [
    {
     "name": "stdout",
     "output_type": "stream",
     "text": [
      "12 total labels, and 3 labels under 1.0%\n"
     ]
    },
    {
     "data": {
      "text/plain": [
       "vwc                 50602\n",
       "wug                  8108\n",
       "water board          3688\n",
       "wua                  3118\n",
       "private operator     2504\n",
       "parastatal           2229\n",
       "water authority      1123\n",
       "other                1083\n",
       "company               859\n",
       "Name: management, dtype: int64"
      ]
     },
     "execution_count": 58,
     "metadata": {},
     "output_type": "execute_result"
    }
   ],
   "source": [
    "var = 'management'\n",
    "var_red = var+'_reduced'\n",
    "\n",
    "per = 0.01\n",
    "\n",
    "limited_list = df_comp_val[var].value_counts()[df_comp_val[var].value_counts(normalize=True)<=per]\n",
    "num_unique = len(df_comp_val[var].unique())\n",
    "\n",
    "print(str(num_unique)+' total labels, and '+str(len(limited_list.index))+' labels under '+str(per*100)+'%')\n",
    "\n",
    "df_comp_val[var][~df_comp_val[var].isin(limited_list.index.to_list())].value_counts()"
   ]
  },
  {
   "cell_type": "code",
   "execution_count": 59,
   "metadata": {},
   "outputs": [
    {
     "data": {
      "text/plain": [
       "vwc                 50602\n",
       "wug                  8108\n",
       "water board          3688\n",
       "wua                  3118\n",
       "private operator     2504\n",
       "parastatal           2229\n",
       "other                1997\n",
       "water authority      1123\n",
       "company               859\n",
       "Name: management_reduced, dtype: int64"
      ]
     },
     "execution_count": 59,
     "metadata": {},
     "output_type": "execute_result"
    }
   ],
   "source": [
    "df_comp_val[var_red] = df_comp_val[var]\n",
    "\n",
    "# Reduce number of categorical variables, encoding values with less than 1% prevalence to 'other'\n",
    "for idx in df_comp_val[df_comp_val[var_red].isin(limited_list.index.to_list())].index.tolist():\n",
    "    df_comp_val.loc[idx,var_red] = 'other'\n",
    "    \n",
    "df_comp_val[var_red].value_counts()"
   ]
  },
  {
   "cell_type": "code",
   "execution_count": 60,
   "metadata": {},
   "outputs": [
    {
     "data": {
      "image/png": "[encoded data removed]",
      "text/plain": [
       "<Figure size 1800x720 with 1 Axes>"
      ]
     },
     "metadata": {
      "needs_background": "light"
     },
     "output_type": "display_data"
    }
   ],
   "source": [
    "plt.figure(figsize=(25,10))\n",
    "\n",
    "barWidth = 0.25\n",
    "bars1 = df_comp_val[var_red].value_counts().sort_index().index.tolist()\n",
    "\n",
    "br1 = np.arange(len(bars1)) \n",
    "br2 = [x + barWidth for x in br1] \n",
    "br3 = [x + barWidth for x in br2] \n",
    "\n",
    "plt.bar(x = br1,height=df_comp_val[df_comp_val['status_group']=='functional'][var_red].value_counts(normalize=True).sort_index().values.tolist(),width=0.2,color='green',alpha=0.5,label='functional');\n",
    "plt.bar(x = br2,height=df_comp_val[df_comp_val['status_group']=='functional needs repair'][var_red].value_counts(normalize=True).sort_index().values.tolist(),width=0.2,color='orange',alpha=0.5, label='functional needs repair');\n",
    "plt.bar(x = br3,height=df_comp_val[df_comp_val['status_group']=='non functional'][var_red].value_counts(normalize=True).sort_index().values.tolist(),width=0.2,color='red',alpha=0.5, label='non functional');\n",
    "\n",
    "plt.xticks(br2, bars1);\n",
    "plt.legend();"
   ]
  },
  {
   "cell_type": "code",
   "execution_count": 61,
   "metadata": {},
   "outputs": [],
   "source": [
    "df_comp_val = pd.concat([df_comp_val,pd.get_dummies(df_comp_val[var_red],prefix=var)],axis=1)"
   ]
  },
  {
   "cell_type": "code",
   "execution_count": 62,
   "metadata": {},
   "outputs": [],
   "source": [
    "df_comp_val = df_comp_val.drop(labels=[var,var_red],axis=1)"
   ]
  },
  {
   "cell_type": "markdown",
   "metadata": {},
   "source": [
    "### management_group"
   ]
  },
  {
   "cell_type": "code",
   "execution_count": 63,
   "metadata": {},
   "outputs": [
    {
     "name": "stdout",
     "output_type": "stream",
     "text": [
      "5 total labels, and 1 labels under 1.0%\n"
     ]
    },
    {
     "data": {
      "text/plain": [
       "unknown    683\n",
       "Name: management_group, dtype: int64"
      ]
     },
     "execution_count": 63,
     "metadata": {},
     "output_type": "execute_result"
    }
   ],
   "source": [
    "var = 'management_group'\n",
    "var_red = var+'_reduced'\n",
    "\n",
    "per = 0.01\n",
    "\n",
    "limited_list = df_comp_val[var].value_counts()[df_comp_val[var].value_counts(normalize=True)<=per]\n",
    "num_unique = len(df_comp_val[var].unique())\n",
    "\n",
    "print(str(num_unique)+' total labels, and '+str(len(limited_list.index))+' labels under '+str(per*100)+'%')\n",
    "\n",
    "df_comp_val[var][df_comp_val[var].isin(limited_list.index.to_list())].value_counts()"
   ]
  },
  {
   "cell_type": "code",
   "execution_count": 64,
   "metadata": {},
   "outputs": [
    {
     "data": {
      "text/plain": [
       "user-group    65516\n",
       "commercial     4591\n",
       "parastatal     2229\n",
       "other          1892\n",
       "Name: management_group_reduced, dtype: int64"
      ]
     },
     "execution_count": 64,
     "metadata": {},
     "output_type": "execute_result"
    }
   ],
   "source": [
    "df_comp_val[var_red] = df_comp_val[var]\n",
    "\n",
    "# Reduce number of categorical variables, encoding values with less than 1% prevalence to 'other'\n",
    "for idx in df_comp_val[df_comp_val[var_red].isin(limited_list.index.to_list())].index.tolist():\n",
    "    df_comp_val.loc[idx,var_red] = 'other'\n",
    "    \n",
    "df_comp_val[var_red].value_counts()"
   ]
  },
  {
   "cell_type": "code",
   "execution_count": 65,
   "metadata": {},
   "outputs": [
    {
     "data": {
      "image/png": "[encoded data removed]",
      "text/plain": [
       "<Figure size 1800x720 with 1 Axes>"
      ]
     },
     "metadata": {
      "needs_background": "light"
     },
     "output_type": "display_data"
    }
   ],
   "source": [
    "plt.figure(figsize=(25,10))\n",
    "\n",
    "barWidth = 0.25\n",
    "bars1 = df_comp_val[var_red].value_counts().sort_index().index.tolist()\n",
    "\n",
    "br1 = np.arange(len(bars1)) \n",
    "br2 = [x + barWidth for x in br1] \n",
    "br3 = [x + barWidth for x in br2] \n",
    "\n",
    "plt.bar(x = br1,height=df_comp_val[df_comp_val['status_group']=='functional'][var_red].value_counts(normalize=True).sort_index().values.tolist(),width=0.2,color='green',alpha=0.5,label='functional');\n",
    "plt.bar(x = br2,height=df_comp_val[df_comp_val['status_group']=='functional needs repair'][var_red].value_counts(normalize=True).sort_index().values.tolist(),width=0.2,color='orange',alpha=0.5, label='functional needs repair');\n",
    "plt.bar(x = br3,height=df_comp_val[df_comp_val['status_group']=='non functional'][var_red].value_counts(normalize=True).sort_index().values.tolist(),width=0.2,color='red',alpha=0.5, label='non functional');\n",
    "\n",
    "plt.xticks(br2, bars1);\n",
    "plt.legend();"
   ]
  },
  {
   "cell_type": "code",
   "execution_count": 66,
   "metadata": {},
   "outputs": [],
   "source": [
    "df_comp_val = pd.concat([df_comp_val,pd.get_dummies(df_comp_val[var_red],prefix=var)],axis=1)"
   ]
  },
  {
   "cell_type": "code",
   "execution_count": 67,
   "metadata": {},
   "outputs": [],
   "source": [
    "df_comp_val = df_comp_val.drop(labels=[var,var_red],axis=1)"
   ]
  },
  {
   "cell_type": "markdown",
   "metadata": {},
   "source": [
    "### payment"
   ]
  },
  {
   "cell_type": "code",
   "execution_count": 68,
   "metadata": {},
   "outputs": [
    {
     "name": "stdout",
     "output_type": "stream",
     "text": [
      "7 total labels, and 0 labels under 1.0%\n"
     ]
    },
    {
     "data": {
      "text/plain": [
       "never pay                31696\n",
       "pay per bucket           11261\n",
       "pay monthly              10396\n",
       "unknown                  10149\n",
       "pay when scheme fails     4842\n",
       "pay annually              4570\n",
       "other                     1314\n",
       "Name: payment, dtype: int64"
      ]
     },
     "execution_count": 68,
     "metadata": {},
     "output_type": "execute_result"
    }
   ],
   "source": [
    "var = 'payment'\n",
    "var_red = var+'_reduced'\n",
    "\n",
    "per = 0.01\n",
    "\n",
    "limited_list = df_comp_val[var].value_counts()[df_comp_val[var].value_counts(normalize=True)<=per]\n",
    "num_unique = len(df_comp_val[var].unique())\n",
    "\n",
    "print(str(num_unique)+' total labels, and '+str(len(limited_list.index))+' labels under '+str(per*100)+'%')\n",
    "\n",
    "df_comp_val[var][~df_comp_val[var].isin(limited_list.index.to_list())].value_counts()"
   ]
  },
  {
   "cell_type": "code",
   "execution_count": 69,
   "metadata": {},
   "outputs": [
    {
     "data": {
      "image/png": "[encoded data removed]",
      "text/plain": [
       "<Figure size 1800x720 with 1 Axes>"
      ]
     },
     "metadata": {
      "needs_background": "light"
     },
     "output_type": "display_data"
    }
   ],
   "source": [
    "plt.figure(figsize=(25,10))\n",
    "\n",
    "barWidth = 0.25\n",
    "bars1 = df_comp_val[var].value_counts().sort_index().index.tolist()\n",
    "\n",
    "br1 = np.arange(len(bars1)) \n",
    "br2 = [x + barWidth for x in br1] \n",
    "br3 = [x + barWidth for x in br2] \n",
    "\n",
    "plt.bar(x = br1,height=df_comp_val[df_comp_val['status_group']=='functional'][var].value_counts(normalize=True).sort_index().values.tolist(),width=0.2,color='green',alpha=0.5,label='functional');\n",
    "plt.bar(x = br2,height=df_comp_val[df_comp_val['status_group']=='functional needs repair'][var].value_counts(normalize=True).sort_index().values.tolist(),width=0.2,color='orange',alpha=0.5, label='functional needs repair');\n",
    "plt.bar(x = br3,height=df_comp_val[df_comp_val['status_group']=='non functional'][var].value_counts(normalize=True).sort_index().values.tolist(),width=0.2,color='red',alpha=0.5, label='non functional');\n",
    "\n",
    "plt.xticks(br2, bars1);\n",
    "plt.legend();"
   ]
  },
  {
   "cell_type": "code",
   "execution_count": 70,
   "metadata": {},
   "outputs": [],
   "source": [
    "df_comp_val = pd.concat([df_comp_val,pd.get_dummies(df_comp_val[var],prefix=var)],axis=1)"
   ]
  },
  {
   "cell_type": "code",
   "execution_count": 71,
   "metadata": {},
   "outputs": [],
   "source": [
    "df_comp_val = df_comp_val.drop(labels=[var],axis=1)"
   ]
  },
  {
   "cell_type": "markdown",
   "metadata": {},
   "source": [
    "### payment_type"
   ]
  },
  {
   "cell_type": "code",
   "execution_count": 131,
   "metadata": {},
   "outputs": [
    {
     "name": "stdout",
     "output_type": "stream",
     "text": [
      "7 total labels, and 0 labels under 1.0%\n"
     ]
    },
    {
     "data": {
      "text/plain": [
       "never pay     31696\n",
       "per bucket    11261\n",
       "monthly       10396\n",
       "unknown       10149\n",
       "on failure     4842\n",
       "annually       4570\n",
       "other          1314\n",
       "Name: payment_type, dtype: int64"
      ]
     },
     "execution_count": 131,
     "metadata": {},
     "output_type": "execute_result"
    }
   ],
   "source": [
    "var = 'payment_type'\n",
    "var_red = var+'_reduced'\n",
    "\n",
    "per = 0.01\n",
    "\n",
    "limited_list = df_comp_val[var].value_counts()[df_comp_val[var].value_counts(normalize=True)<=per]\n",
    "num_unique = len(df_comp_val[var].unique())\n",
    "\n",
    "print(str(num_unique)+' total labels, and '+str(len(limited_list.index))+' labels under '+str(per*100)+'%')\n",
    "\n",
    "df_comp_val[var][~df_comp_val[var].isin(limited_list.index.to_list())].value_counts()"
   ]
  },
  {
   "cell_type": "code",
   "execution_count": 132,
   "metadata": {},
   "outputs": [
    {
     "data": {
      "text/plain": [
       "never pay     31696\n",
       "per bucket    11261\n",
       "monthly       10396\n",
       "unknown       10149\n",
       "on failure     4842\n",
       "annually       4570\n",
       "other          1314\n",
       "Name: payment_type_reduced, dtype: int64"
      ]
     },
     "execution_count": 132,
     "metadata": {},
     "output_type": "execute_result"
    }
   ],
   "source": [
    "df_comp_val[var_red] = df_comp_val[var]\n",
    "\n",
    "# Reduce number of categorical variables, encoding values with less than 1% prevalence to 'other'\n",
    "for idx in df_comp_val[df_comp_val[var_red].isin(limited_list.index.to_list())].index.tolist():\n",
    "    df_comp_val.loc[idx,var_red] = 'other'\n",
    "    \n",
    "df_comp_val[var_red].value_counts()"
   ]
  },
  {
   "cell_type": "code",
   "execution_count": 133,
   "metadata": {},
   "outputs": [
    {
     "data": {
      "image/png": "[encoded data removed]",
      "text/plain": [
       "<Figure size 1800x720 with 1 Axes>"
      ]
     },
     "metadata": {
      "needs_background": "light"
     },
     "output_type": "display_data"
    }
   ],
   "source": [
    "plt.figure(figsize=(25,10))\n",
    "\n",
    "barWidth = 0.25\n",
    "bars1 = df_comp_val[var_red].value_counts().sort_index().index.tolist()\n",
    "\n",
    "br1 = np.arange(len(bars1)) \n",
    "br2 = [x + barWidth for x in br1] \n",
    "br3 = [x + barWidth for x in br2] \n",
    "\n",
    "plt.bar(x = br1,height=df_comp_val[df_comp_val['status_group']=='functional'][var_red].value_counts().sort_index().values.tolist(),width=0.2,color='green',alpha=0.5,label='functional');\n",
    "plt.bar(x = br2,height=df_comp_val[df_comp_val['status_group']=='functional needs repair'][var_red].value_counts().sort_index().values.tolist(),width=0.2,color='orange',alpha=0.5, label='functional needs repair');\n",
    "plt.bar(x = br3,height=df_comp_val[df_comp_val['status_group']=='non functional'][var_red].value_counts().sort_index().values.tolist(),width=0.2,color='red',alpha=0.5, label='non functional');\n",
    "\n",
    "plt.xticks(br2, bars1);\n",
    "plt.legend();"
   ]
  },
  {
   "cell_type": "code",
   "execution_count": 75,
   "metadata": {},
   "outputs": [],
   "source": [
    "df_comp_val = pd.concat([df_comp_val,pd.get_dummies(df_comp_val[var_red],prefix=var)],axis=1)"
   ]
  },
  {
   "cell_type": "code",
   "execution_count": 76,
   "metadata": {},
   "outputs": [],
   "source": [
    "df_comp_val = df_comp_val.drop(labels=[var,var_red],axis=1)"
   ]
  },
  {
   "cell_type": "markdown",
   "metadata": {},
   "source": [
    "### water_quality"
   ]
  },
  {
   "cell_type": "code",
   "execution_count": 127,
   "metadata": {},
   "outputs": [
    {
     "name": "stdout",
     "output_type": "stream",
     "text": [
      "8 total labels, and 4 labels under 1.0%\n"
     ]
    },
    {
     "data": {
      "text/plain": [
       "coloured              623\n",
       "salty abandoned       423\n",
       "fluoride              244\n",
       "fluoride abandoned     23\n",
       "Name: water_quality, dtype: int64"
      ]
     },
     "execution_count": 127,
     "metadata": {},
     "output_type": "execute_result"
    }
   ],
   "source": [
    "var = 'water_quality'\n",
    "var_red = var+'_reduced'\n",
    "\n",
    "per = 0.01\n",
    "\n",
    "limited_list = df_comp_val[var].value_counts()[df_comp_val[var].value_counts(normalize=True)<=per]\n",
    "num_unique = len(df_comp_val[var].unique())\n",
    "\n",
    "print(str(num_unique)+' total labels, and '+str(len(limited_list.index))+' labels under '+str(per*100)+'%')\n",
    "\n",
    "df_comp_val[var][df_comp_val[var].isin(limited_list.index.to_list())].value_counts()"
   ]
  },
  {
   "cell_type": "code",
   "execution_count": 128,
   "metadata": {},
   "outputs": [
    {
     "data": {
      "text/plain": [
       "soft     63484\n",
       "salty     6081\n",
       "other     3658\n",
       "milky     1005\n",
       "Name: water_quality_reduced, dtype: int64"
      ]
     },
     "execution_count": 128,
     "metadata": {},
     "output_type": "execute_result"
    }
   ],
   "source": [
    "df_comp_val[var_red] = df_comp_val[var]\n",
    "\n",
    "# Reduce number of categorical variables, encoding values with less than 1% prevalence to 'other'\n",
    "for idx in df_comp_val[df_comp_val[var_red].isin(limited_list.index.to_list())].index.tolist():\n",
    "    df_comp_val.loc[idx,var_red] = 'other'\n",
    "\n",
    "for idx in df_comp_val[df_comp_val[var_red]=='unknown'].index.tolist():\n",
    "    df_comp_val.loc[idx,var_red] = 'other'\n",
    "    \n",
    "df_comp_val[var_red].value_counts()"
   ]
  },
  {
   "cell_type": "code",
   "execution_count": 129,
   "metadata": {},
   "outputs": [
    {
     "data": {
      "image/png": "[encoded data removed]",
      "text/plain": [
       "<Figure size 1800x720 with 1 Axes>"
      ]
     },
     "metadata": {
      "needs_background": "light"
     },
     "output_type": "display_data"
    }
   ],
   "source": [
    "plt.figure(figsize=(25,10))\n",
    "\n",
    "barWidth = 0.25\n",
    "bars1 = df_comp_val[var_red].value_counts().sort_index().index.tolist()\n",
    "\n",
    "br1 = np.arange(len(bars1)) \n",
    "br2 = [x + barWidth for x in br1] \n",
    "br3 = [x + barWidth for x in br2] \n",
    "\n",
    "plt.bar(x = br1,height=df_comp_val[df_comp_val['status_group']=='functional'][var_red].value_counts().sort_index().values.tolist(),width=0.2,color='green',alpha=0.5,label='functional');\n",
    "plt.bar(x = br2,height=df_comp_val[df_comp_val['status_group']=='functional needs repair'][var_red].value_counts().sort_index().values.tolist(),width=0.2,color='orange',alpha=0.5, label='functional needs repair');\n",
    "plt.bar(x = br3,height=df_comp_val[df_comp_val['status_group']=='non functional'][var_red].value_counts().sort_index().values.tolist(),width=0.2,color='red',alpha=0.5, label='non functional');\n",
    "\n",
    "plt.xticks(br2, bars1);\n",
    "plt.legend();"
   ]
  },
  {
   "cell_type": "code",
   "execution_count": 80,
   "metadata": {},
   "outputs": [],
   "source": [
    "df_comp_val = pd.concat([df_comp_val,pd.get_dummies(df_comp_val[var_red],prefix=var)],axis=1)"
   ]
  },
  {
   "cell_type": "code",
   "execution_count": 81,
   "metadata": {},
   "outputs": [],
   "source": [
    "df_comp_val = df_comp_val.drop(labels=[var,var_red],axis=1)"
   ]
  },
  {
   "cell_type": "markdown",
   "metadata": {},
   "source": [
    "### quality_group"
   ]
  },
  {
   "cell_type": "code",
   "execution_count": 82,
   "metadata": {},
   "outputs": [
    {
     "name": "stdout",
     "output_type": "stream",
     "text": [
      "6 total labels, and 2 labels under 1.0%\n"
     ]
    },
    {
     "data": {
      "text/plain": [
       "colored     623\n",
       "fluoride    267\n",
       "Name: quality_group, dtype: int64"
      ]
     },
     "execution_count": 82,
     "metadata": {},
     "output_type": "execute_result"
    }
   ],
   "source": [
    "var = 'quality_group'\n",
    "var_red = var+'_reduced'\n",
    "\n",
    "per = 0.01\n",
    "\n",
    "limited_list = df_comp_val[var].value_counts()[df_comp_val[var].value_counts(normalize=True)<=per]\n",
    "num_unique = len(df_comp_val[var].unique())\n",
    "\n",
    "print(str(num_unique)+' total labels, and '+str(len(limited_list.index))+' labels under '+str(per*100)+'%')\n",
    "\n",
    "df_comp_val[var][df_comp_val[var].isin(limited_list.index.to_list())].value_counts()"
   ]
  },
  {
   "cell_type": "code",
   "execution_count": 83,
   "metadata": {},
   "outputs": [
    {
     "data": {
      "text/plain": [
       "good       63484\n",
       "salty       6504\n",
       "unknown     2345\n",
       "milky       1005\n",
       "other        890\n",
       "Name: quality_group_reduced, dtype: int64"
      ]
     },
     "execution_count": 83,
     "metadata": {},
     "output_type": "execute_result"
    }
   ],
   "source": [
    "df_comp_val[var_red] = df_comp_val[var]\n",
    "\n",
    "# Reduce number of categorical variables, encoding values with less than 1% prevalence to 'other'\n",
    "for idx in df_comp_val[df_comp_val[var_red].isin(limited_list.index.to_list())].index.tolist():\n",
    "    df_comp_val.loc[idx,var_red] = 'other'\n",
    "    \n",
    "df_comp_val[var_red].value_counts()"
   ]
  },
  {
   "cell_type": "code",
   "execution_count": 84,
   "metadata": {},
   "outputs": [],
   "source": [
    "# Too similar to quality\n",
    "\n",
    "#df_comp_val = pd.concat([df_comp_val,pd.get_dummies(df_comp_val[var_red],prefix=var)],axis=1)"
   ]
  },
  {
   "cell_type": "code",
   "execution_count": 85,
   "metadata": {},
   "outputs": [],
   "source": [
    "df_comp_val = df_comp_val.drop(labels=[var,var_red],axis=1)"
   ]
  },
  {
   "cell_type": "markdown",
   "metadata": {},
   "source": [
    "### quantity"
   ]
  },
  {
   "cell_type": "code",
   "execution_count": 86,
   "metadata": {},
   "outputs": [
    {
     "name": "stdout",
     "output_type": "stream",
     "text": [
      "5 total labels, and 0 labels under 1.0%\n"
     ]
    },
    {
     "data": {
      "text/plain": [
       "enough          41502\n",
       "insufficient    18894\n",
       "dry              7782\n",
       "seasonal         5075\n",
       "unknown           975\n",
       "Name: quantity, dtype: int64"
      ]
     },
     "execution_count": 86,
     "metadata": {},
     "output_type": "execute_result"
    }
   ],
   "source": [
    "var = 'quantity'\n",
    "var_red = var+'_reduced'\n",
    "\n",
    "per = 0.01\n",
    "\n",
    "limited_list = df_comp_val[var].value_counts()[df_comp_val[var].value_counts(normalize=True)<=per]\n",
    "num_unique = len(df_comp_val[var].unique())\n",
    "\n",
    "print(str(num_unique)+' total labels, and '+str(len(limited_list.index))+' labels under '+str(per*100)+'%')\n",
    "\n",
    "df_comp_val[var].value_counts()"
   ]
  },
  {
   "cell_type": "code",
   "execution_count": 87,
   "metadata": {},
   "outputs": [
    {
     "data": {
      "image/png": "[encoded data removed]",
      "text/plain": [
       "<Figure size 1800x720 with 1 Axes>"
      ]
     },
     "metadata": {
      "needs_background": "light"
     },
     "output_type": "display_data"
    }
   ],
   "source": [
    "plt.figure(figsize=(25,10))\n",
    "\n",
    "barWidth = 0.25\n",
    "bars1 = df_comp_val[var].value_counts().sort_index().index.tolist()\n",
    "\n",
    "br1 = np.arange(len(bars1)) \n",
    "br2 = [x + barWidth for x in br1] \n",
    "br3 = [x + barWidth for x in br2] \n",
    "\n",
    "plt.bar(x = br1,height=df_comp_val[df_comp_val['status_group']=='functional'][var].value_counts(normalize=True).sort_index().values.tolist(),width=0.2,color='green',alpha=0.5,label='functional');\n",
    "plt.bar(x = br2,height=df_comp_val[df_comp_val['status_group']=='functional needs repair'][var].value_counts(normalize=True).sort_index().values.tolist(),width=0.2,color='orange',alpha=0.5, label='functional needs repair');\n",
    "plt.bar(x = br3,height=df_comp_val[df_comp_val['status_group']=='non functional'][var].value_counts(normalize=True).sort_index().values.tolist(),width=0.2,color='red',alpha=0.5, label='non functional');\n",
    "\n",
    "plt.xticks(br2, bars1);\n",
    "plt.legend();"
   ]
  },
  {
   "cell_type": "code",
   "execution_count": 88,
   "metadata": {},
   "outputs": [],
   "source": [
    "df_comp_val = pd.concat([df_comp_val,pd.get_dummies(df_comp_val[var],prefix=var)],axis=1)"
   ]
  },
  {
   "cell_type": "code",
   "execution_count": 89,
   "metadata": {},
   "outputs": [],
   "source": [
    "df_comp_val = df_comp_val.drop(labels=[var],axis=1)"
   ]
  },
  {
   "cell_type": "markdown",
   "metadata": {},
   "source": [
    "### source"
   ]
  },
  {
   "cell_type": "code",
   "execution_count": 90,
   "metadata": {},
   "outputs": [
    {
     "name": "stdout",
     "output_type": "stream",
     "text": [
      "10 total labels, and 2 labels under 1.0%\n"
     ]
    },
    {
     "data": {
      "text/plain": [
       "other      261\n",
       "unknown     86\n",
       "Name: source, dtype: int64"
      ]
     },
     "execution_count": 90,
     "metadata": {},
     "output_type": "execute_result"
    }
   ],
   "source": [
    "var = 'source'\n",
    "var_red = var+'_reduced'\n",
    "\n",
    "per = 0.01\n",
    "\n",
    "limited_list = df_comp_val[var].value_counts()[df_comp_val[var].value_counts(normalize=True)<=per]\n",
    "num_unique = len(df_comp_val[var].unique())\n",
    "\n",
    "print(str(num_unique)+' total labels, and '+str(len(limited_list.index))+' labels under '+str(per*100)+'%')\n",
    "\n",
    "df_comp_val[var][df_comp_val[var].isin(limited_list.index.to_list())].value_counts()"
   ]
  },
  {
   "cell_type": "code",
   "execution_count": 91,
   "metadata": {
    "scrolled": true
   },
   "outputs": [
    {
     "data": {
      "text/plain": [
       "spring                  21216\n",
       "shallow well            21127\n",
       "machine dbh             13814\n",
       "river                   11964\n",
       "rainwater harvesting     2862\n",
       "hand dtw                 1108\n",
       "lake                      950\n",
       "dam                       840\n",
       "other                     347\n",
       "Name: source_reduced, dtype: int64"
      ]
     },
     "execution_count": 91,
     "metadata": {},
     "output_type": "execute_result"
    }
   ],
   "source": [
    "df_comp_val[var_red] = df_comp_val[var]\n",
    "\n",
    "# Reduce number of categorical variables, encoding values with less than 1% prevalence to 'other'\n",
    "for idx in df_comp_val[df_comp_val[var_red].isin(limited_list.index.to_list())].index.tolist():\n",
    "    df_comp_val.loc[idx,var_red] = 'other'\n",
    "    \n",
    "df_comp_val[var_red].value_counts()"
   ]
  },
  {
   "cell_type": "code",
   "execution_count": 92,
   "metadata": {},
   "outputs": [],
   "source": [
    "# too similar to source_type\n",
    "\n",
    "#df_comp_val = pd.concat([df_comp_val,pd.get_dummies(df_comp_val[var_red],prefix=var)],axis=1)"
   ]
  },
  {
   "cell_type": "code",
   "execution_count": 93,
   "metadata": {},
   "outputs": [],
   "source": [
    "df_comp_val = df_comp_val.drop(labels=[var,var_red],axis=1)"
   ]
  },
  {
   "cell_type": "markdown",
   "metadata": {},
   "source": [
    "### source_type"
   ]
  },
  {
   "cell_type": "code",
   "execution_count": 94,
   "metadata": {},
   "outputs": [
    {
     "name": "stdout",
     "output_type": "stream",
     "text": [
      "7 total labels, and 1 labels under 1.0%\n"
     ]
    },
    {
     "data": {
      "text/plain": [
       "other    347\n",
       "Name: source_type, dtype: int64"
      ]
     },
     "execution_count": 94,
     "metadata": {},
     "output_type": "execute_result"
    }
   ],
   "source": [
    "var = 'source_type'\n",
    "var_red = var+'_reduced'\n",
    "\n",
    "per = 0.01\n",
    "\n",
    "limited_list = df_comp_val[var].value_counts()[df_comp_val[var].value_counts(normalize=True)<=per]\n",
    "num_unique = len(df_comp_val[var].unique())\n",
    "\n",
    "print(str(num_unique)+' total labels, and '+str(len(limited_list.index))+' labels under '+str(per*100)+'%')\n",
    "\n",
    "df_comp_val[var][df_comp_val[var].isin(limited_list.index.to_list())].value_counts()"
   ]
  },
  {
   "cell_type": "code",
   "execution_count": 95,
   "metadata": {},
   "outputs": [
    {
     "data": {
      "text/plain": [
       "spring                  21216\n",
       "shallow well            21127\n",
       "borehole                14922\n",
       "river/lake              12914\n",
       "rainwater harvesting     2862\n",
       "dam                       840\n",
       "other                     347\n",
       "Name: source_type, dtype: int64"
      ]
     },
     "execution_count": 95,
     "metadata": {},
     "output_type": "execute_result"
    }
   ],
   "source": [
    "df_comp_val[var].value_counts()"
   ]
  },
  {
   "cell_type": "code",
   "execution_count": 96,
   "metadata": {},
   "outputs": [
    {
     "data": {
      "image/png": "[encoded data removed]",
      "text/plain": [
       "<Figure size 1800x720 with 1 Axes>"
      ]
     },
     "metadata": {
      "needs_background": "light"
     },
     "output_type": "display_data"
    }
   ],
   "source": [
    "plt.figure(figsize=(25,10))\n",
    "\n",
    "barWidth = 0.25\n",
    "bars1 = df_comp_val[var].value_counts().sort_index().index.tolist()\n",
    "\n",
    "br1 = np.arange(len(bars1)) \n",
    "br2 = [x + barWidth for x in br1] \n",
    "br3 = [x + barWidth for x in br2] \n",
    "\n",
    "plt.bar(x = br1,height=df_comp_val[df_comp_val['status_group']=='functional'][var].value_counts(normalize=True).sort_index().values.tolist(),width=0.2,color='green',alpha=0.5,label='functional');\n",
    "plt.bar(x = br2,height=df_comp_val[df_comp_val['status_group']=='functional needs repair'][var].value_counts(normalize=True).sort_index().values.tolist(),width=0.2,color='orange',alpha=0.5, label='functional needs repair');\n",
    "plt.bar(x = br3,height=df_comp_val[df_comp_val['status_group']=='non functional'][var].value_counts(normalize=True).sort_index().values.tolist(),width=0.2,color='red',alpha=0.5, label='non functional');\n",
    "\n",
    "plt.xticks(br2, bars1);\n",
    "plt.legend();"
   ]
  },
  {
   "cell_type": "code",
   "execution_count": 97,
   "metadata": {},
   "outputs": [],
   "source": [
    "df_comp_val = pd.concat([df_comp_val,pd.get_dummies(df_comp_val[var],prefix=var)],axis=1)"
   ]
  },
  {
   "cell_type": "code",
   "execution_count": 98,
   "metadata": {},
   "outputs": [],
   "source": [
    "df_comp_val = df_comp_val.drop(labels=[var],axis=1)"
   ]
  },
  {
   "cell_type": "markdown",
   "metadata": {},
   "source": [
    "### source_class"
   ]
  },
  {
   "cell_type": "code",
   "execution_count": 99,
   "metadata": {},
   "outputs": [
    {
     "name": "stdout",
     "output_type": "stream",
     "text": [
      "3 total labels, and 1 labels under 1.0%\n"
     ]
    },
    {
     "data": {
      "text/plain": [
       "unknown    347\n",
       "Name: source_class, dtype: int64"
      ]
     },
     "execution_count": 99,
     "metadata": {},
     "output_type": "execute_result"
    }
   ],
   "source": [
    "var = 'source_class'\n",
    "var_red = var+'_reduced'\n",
    "\n",
    "per = 0.01\n",
    "\n",
    "limited_list = df_comp_val[var].value_counts()[df_comp_val[var].value_counts(normalize=True)<=per]\n",
    "num_unique = len(df_comp_val[var].unique())\n",
    "\n",
    "print(str(num_unique)+' total labels, and '+str(len(limited_list.index))+' labels under '+str(per*100)+'%')\n",
    "\n",
    "df_comp_val[var][df_comp_val[var].isin(limited_list.index.to_list())].value_counts()"
   ]
  },
  {
   "cell_type": "code",
   "execution_count": 100,
   "metadata": {},
   "outputs": [],
   "source": [
    "# too similar to source_type\n",
    "# df_comp_val[var].value_counts()"
   ]
  },
  {
   "cell_type": "code",
   "execution_count": 101,
   "metadata": {},
   "outputs": [],
   "source": [
    "df_comp_val = pd.concat([df_comp_val,pd.get_dummies(df_comp_val[var],prefix=var)],axis=1)"
   ]
  },
  {
   "cell_type": "code",
   "execution_count": 102,
   "metadata": {},
   "outputs": [],
   "source": [
    "df_comp_val = df_comp_val.drop(labels=[var],axis=1)"
   ]
  },
  {
   "cell_type": "markdown",
   "metadata": {},
   "source": [
    "### waterpoint_type"
   ]
  },
  {
   "cell_type": "code",
   "execution_count": 103,
   "metadata": {},
   "outputs": [
    {
     "name": "stdout",
     "output_type": "stream",
     "text": [
      "7 total labels, and 2 labels under 1.0%\n"
     ]
    },
    {
     "data": {
      "text/plain": [
       "cattle trough    150\n",
       "dam                8\n",
       "Name: waterpoint_type, dtype: int64"
      ]
     },
     "execution_count": 103,
     "metadata": {},
     "output_type": "execute_result"
    }
   ],
   "source": [
    "var = 'waterpoint_type'\n",
    "var_red = var+'_reduced'\n",
    "\n",
    "per = 0.01\n",
    "\n",
    "limited_list = df_comp_val[var].value_counts()[df_comp_val[var].value_counts(normalize=True)<=per]\n",
    "num_unique = len(df_comp_val[var].unique())\n",
    "\n",
    "print(str(num_unique)+' total labels, and '+str(len(limited_list.index))+' labels under '+str(per*100)+'%')\n",
    "\n",
    "df_comp_val[var][df_comp_val[var].isin(limited_list.index.to_list())].value_counts()"
   ]
  },
  {
   "cell_type": "code",
   "execution_count": 104,
   "metadata": {},
   "outputs": [
    {
     "data": {
      "text/plain": [
       "communal standpipe             35624\n",
       "hand pump                      21875\n",
       "other                           8162\n",
       "communal standpipe multiple     7608\n",
       "improved spring                  959\n",
       "Name: waterpoint_type_reduced, dtype: int64"
      ]
     },
     "execution_count": 104,
     "metadata": {},
     "output_type": "execute_result"
    }
   ],
   "source": [
    "df_comp_val[var_red] = df_comp_val[var]\n",
    "\n",
    "# Reduce number of categorical variables, encoding values with less than 1% prevalence to 'other'\n",
    "for idx in df_comp_val[df_comp_val[var_red].isin(limited_list.index.to_list())].index.tolist():\n",
    "    df_comp_val.loc[idx,var_red] = 'other'\n",
    "    \n",
    "df_comp_val[var_red].value_counts()"
   ]
  },
  {
   "cell_type": "code",
   "execution_count": 105,
   "metadata": {},
   "outputs": [
    {
     "data": {
      "image/png": "[encoded data removed]",
      "text/plain": [
       "<Figure size 1800x720 with 1 Axes>"
      ]
     },
     "metadata": {
      "needs_background": "light"
     },
     "output_type": "display_data"
    }
   ],
   "source": [
    "plt.figure(figsize=(25,10))\n",
    "\n",
    "barWidth = 0.25\n",
    "bars1 = df_comp_val[var_red].value_counts().sort_index().index.tolist()\n",
    "\n",
    "br1 = np.arange(len(bars1)) \n",
    "br2 = [x + barWidth for x in br1] \n",
    "br3 = [x + barWidth for x in br2] \n",
    "\n",
    "plt.bar(x = br1,height=df_comp_val[df_comp_val['status_group']=='functional'][var_red].value_counts(normalize=True).sort_index().values.tolist(),width=0.2,color='green',alpha=0.5,label='functional');\n",
    "plt.bar(x = br2,height=df_comp_val[df_comp_val['status_group']=='functional needs repair'][var_red].value_counts(normalize=True).sort_index().values.tolist(),width=0.2,color='orange',alpha=0.5, label='functional needs repair');\n",
    "plt.bar(x = br3,height=df_comp_val[df_comp_val['status_group']=='non functional'][var_red].value_counts(normalize=True).sort_index().values.tolist(),width=0.2,color='red',alpha=0.5, label='non functional');\n",
    "\n",
    "plt.xticks(br2, bars1);\n",
    "plt.legend();"
   ]
  },
  {
   "cell_type": "code",
   "execution_count": 106,
   "metadata": {},
   "outputs": [],
   "source": [
    "df_comp_val = pd.concat([df_comp_val,pd.get_dummies(df_comp_val[var_red],prefix=var)],axis=1)"
   ]
  },
  {
   "cell_type": "code",
   "execution_count": 107,
   "metadata": {},
   "outputs": [],
   "source": [
    "df_comp_val = df_comp_val.drop(labels=[var,var_red],axis=1)"
   ]
  },
  {
   "cell_type": "markdown",
   "metadata": {},
   "source": [
    "### waterpoint_type_group"
   ]
  },
  {
   "cell_type": "code",
   "execution_count": 108,
   "metadata": {},
   "outputs": [
    {
     "name": "stdout",
     "output_type": "stream",
     "text": [
      "6 total labels, and 2 labels under 1.0%\n"
     ]
    },
    {
     "data": {
      "text/plain": [
       "cattle trough    150\n",
       "dam                8\n",
       "Name: waterpoint_type_group, dtype: int64"
      ]
     },
     "execution_count": 108,
     "metadata": {},
     "output_type": "execute_result"
    }
   ],
   "source": [
    "var = 'waterpoint_type_group'\n",
    "var_red = var+'_reduced'\n",
    "\n",
    "per = 0.01\n",
    "\n",
    "limited_list = df_comp_val[var].value_counts()[df_comp_val[var].value_counts(normalize=True)<=per]\n",
    "num_unique = len(df_comp_val[var].unique())\n",
    "\n",
    "print(str(num_unique)+' total labels, and '+str(len(limited_list.index))+' labels under '+str(per*100)+'%')\n",
    "\n",
    "df_comp_val[var][df_comp_val[var].isin(limited_list.index.to_list())].value_counts()"
   ]
  },
  {
   "cell_type": "code",
   "execution_count": 109,
   "metadata": {},
   "outputs": [
    {
     "data": {
      "text/plain": [
       "communal standpipe    43232\n",
       "hand pump             21875\n",
       "other                  8162\n",
       "improved spring         959\n",
       "Name: waterpoint_type_group_reduced, dtype: int64"
      ]
     },
     "execution_count": 109,
     "metadata": {},
     "output_type": "execute_result"
    }
   ],
   "source": [
    "df_comp_val[var_red] = df_comp_val[var]\n",
    "\n",
    "# Reduce number of categorical variables, encoding values with less than 1% prevalence to 'other'\n",
    "for idx in df_comp_val[df_comp_val[var_red].isin(limited_list.index.to_list())].index.tolist():\n",
    "    df_comp_val.loc[idx,var_red] = 'other'\n",
    "    \n",
    "df_comp_val[var_red].value_counts()"
   ]
  },
  {
   "cell_type": "code",
   "execution_count": 110,
   "metadata": {},
   "outputs": [],
   "source": [
    "# Too similar to waterpoint_type\n",
    "\n",
    "#df_comp_val = pd.concat([df_comp_val,pd.get_dummies(df_comp_val[var_red],prefix=var)],axis=1)"
   ]
  },
  {
   "cell_type": "code",
   "execution_count": 111,
   "metadata": {},
   "outputs": [],
   "source": [
    "df_comp_val = df_comp_val.drop(labels=[var,var_red],axis=1)"
   ]
  },
  {
   "cell_type": "markdown",
   "metadata": {},
   "source": [
    "### construction_year"
   ]
  },
  {
   "cell_type": "code",
   "execution_count": 112,
   "metadata": {},
   "outputs": [
    {
     "name": "stdout",
     "output_type": "stream",
     "text": [
      "54 total labels, and 20 labels under 1.0%\n"
     ]
    },
    {
     "data": {
      "image/png": "[encoded data removed]",
      "text/plain": [
       "<Figure size 432x288 with 1 Axes>"
      ]
     },
     "metadata": {
      "needs_background": "light"
     },
     "output_type": "display_data"
    }
   ],
   "source": [
    "var = 'construction_year'\n",
    "\n",
    "per = 0.01\n",
    "\n",
    "limited_list = df_comp_val[var].value_counts()[df_comp_val[var].value_counts(normalize=True)<=per]\n",
    "num_unique = len(df_comp_val[var].unique())\n",
    "\n",
    "print(str(num_unique)+' total labels, and '+str(len(limited_list.index))+' labels under '+str(per*100)+'%')\n",
    "\n",
    "plt.figure()\n",
    "\n",
    "plt.hist(df_comp_val[df_comp_val['status_group']=='non functional'][var],alpha=0.5,density=True);\n",
    "plt.hist(df_comp_val[df_comp_val['status_group']=='functional'][var],color='green',alpha=0.5,density=True);\n",
    "plt.hist(df_comp_val[df_comp_val['status_group']=='functional needs repair'][var],color='red',alpha=0.5,density=True);"
   ]
  },
  {
   "cell_type": "code",
   "execution_count": 113,
   "metadata": {},
   "outputs": [],
   "source": [
    "q20 = df_comp_val[var].quantile(0.2)\n",
    "q40 = df_comp_val[var].quantile(0.4)\n",
    "q60 = df_comp_val[var].quantile(0.6)\n",
    "q80 = df_comp_val[var].quantile(0.8)\n",
    "q100 = df_comp_val[var].quantile(1)\n",
    "\n",
    "df_comp_val[var+'_bin'] = pd.cut(df_comp_val[var],bins=[0,q20,q40,q60,q80,q100],labels=['0-20','20-40','40-60','60-80','80-100'])"
   ]
  },
  {
   "cell_type": "code",
   "execution_count": 114,
   "metadata": {},
   "outputs": [],
   "source": [
    "df_comp_val = pd.concat([df_comp_val,pd.get_dummies(df_comp_val[var+'_bin'],prefix=var)],axis=1)"
   ]
  },
  {
   "cell_type": "code",
   "execution_count": 115,
   "metadata": {},
   "outputs": [],
   "source": [
    "df_comp_val = df_comp_val.drop(labels=[var,var+'_bin'],axis=1)"
   ]
  },
  {
   "cell_type": "markdown",
   "metadata": {},
   "source": [
    "### pump_age"
   ]
  },
  {
   "cell_type": "code",
   "execution_count": 116,
   "metadata": {},
   "outputs": [
    {
     "name": "stdout",
     "output_type": "stream",
     "text": [
      "62 total labels, and 27 labels under 1.0%\n"
     ]
    },
    {
     "data": {
      "text/plain": [
       " 3    5132\n",
       " 2    4468\n",
       " 1    4382\n",
       " 5    3619\n",
       " 4    3604\n",
       "      ... \n",
       "-4       4\n",
       "-7       2\n",
       "-6       2\n",
       "-3       2\n",
       "-9       1\n",
       "Name: pump_age, Length: 62, dtype: int64"
      ]
     },
     "execution_count": 116,
     "metadata": {},
     "output_type": "execute_result"
    }
   ],
   "source": [
    "var = 'pump_age'\n",
    "var_red = var+'_reduced'\n",
    "\n",
    "per = 0.01\n",
    "\n",
    "limited_list = df_comp_val[var].value_counts()[df_comp_val[var].value_counts(normalize=True)<=per]\n",
    "num_unique = len(df_comp_val[var].unique())\n",
    "\n",
    "print(str(num_unique)+' total labels, and '+str(len(limited_list.index))+' labels under '+str(per*100)+'%')\n",
    "\n",
    "df_comp_val[var].value_counts()"
   ]
  },
  {
   "cell_type": "code",
   "execution_count": 117,
   "metadata": {},
   "outputs": [
    {
     "data": {
      "image/png": "[encoded data removed]",
      "text/plain": [
       "<Figure size 432x288 with 1 Axes>"
      ]
     },
     "metadata": {
      "needs_background": "light"
     },
     "output_type": "display_data"
    }
   ],
   "source": [
    "for idx in df_comp_val[df_comp_val[var]<0].index.tolist():\n",
    "    df_comp_val.loc[idx,var] = 0\n",
    "    \n",
    "plt.figure()\n",
    "\n",
    "plt.hist(df_comp_val[df_comp_val['status_group']=='non functional'][var],color='red',alpha=0.5,density=True);\n",
    "plt.hist(df_comp_val[df_comp_val['status_group']=='functional'][var],color='green',alpha=0.5,density=True);\n",
    "plt.hist(df_comp_val[df_comp_val['status_group']=='functional needs repair'][var],color='orange',alpha=0.5,density=True);"
   ]
  },
  {
   "cell_type": "code",
   "execution_count": 118,
   "metadata": {},
   "outputs": [],
   "source": [
    "q20 = df_comp_val[var].quantile(0.2)\n",
    "q40 = df_comp_val[var].quantile(0.4)\n",
    "q60 = df_comp_val[var].quantile(0.6)\n",
    "q80 = df_comp_val[var].quantile(0.8)\n",
    "q100 = df_comp_val[var].quantile(1)\n",
    "\n",
    "df_comp_val[var+'_bin'] = pd.cut(df_comp_val[var],bins=[0,q20,q40,q60,q80,q100],labels=['0-20','20-40','40-60','60-80','80-100']).astype(str)"
   ]
  },
  {
   "cell_type": "code",
   "execution_count": 119,
   "metadata": {},
   "outputs": [
    {
     "data": {
      "image/png": "[encoded data removed]",
      "text/plain": [
       "<Figure size 432x288 with 1 Axes>"
      ]
     },
     "metadata": {
      "needs_background": "light"
     },
     "output_type": "display_data"
    }
   ],
   "source": [
    "plt.figure()\n",
    "\n",
    "barWidth = 0.25\n",
    "bars1 = df_comp_val[var+'_bin'].value_counts().sort_index().index.tolist()\n",
    "\n",
    "br1 = np.arange(len(bars1)) \n",
    "br2 = [x + barWidth for x in br1] \n",
    "br3 = [x + barWidth for x in br2] \n",
    "\n",
    "plt.bar(x = br1,height=df_comp_val[df_comp_val['status_group']=='functional'][var+'_bin'].value_counts(normalize=True).sort_index().values.tolist(),width=0.2,color='green',alpha=0.5);\n",
    "plt.bar(x = br2,height=df_comp_val[df_comp_val['status_group']=='functional needs repair'][var+'_bin'].value_counts(normalize=True).sort_index().values.tolist(),width=0.2,color='orange',alpha=0.5);\n",
    "plt.bar(x = br3,height=df_comp_val[df_comp_val['status_group']=='non functional'][var+'_bin'].value_counts(normalize=True).sort_index().values.tolist(),width=0.2,color='red',alpha=0.5);\n",
    "\n",
    "plt.xticks(br2, bars1);"
   ]
  },
  {
   "cell_type": "code",
   "execution_count": 120,
   "metadata": {},
   "outputs": [],
   "source": [
    "df_comp_val = pd.concat([df_comp_val,pd.get_dummies(df_comp_val[var+'_bin'],prefix=var)],axis=1)"
   ]
  },
  {
   "cell_type": "code",
   "execution_count": 121,
   "metadata": {},
   "outputs": [],
   "source": [
    "df_comp_val = df_comp_val.drop(labels=[var,var+'_bin'],axis=1)"
   ]
  },
  {
   "cell_type": "markdown",
   "metadata": {},
   "source": [
    "## Feature Review"
   ]
  },
  {
   "cell_type": "code",
   "execution_count": 122,
   "metadata": {},
   "outputs": [
    {
     "data": {
      "text/html": [
       "<div>\n",
       "<style scoped>\n",
       "    .dataframe tbody tr th:only-of-type {\n",
       "        vertical-align: middle;\n",
       "    }\n",
       "\n",
       "    .dataframe tbody tr th {\n",
       "        vertical-align: top;\n",
       "    }\n",
       "\n",
       "    .dataframe thead th {\n",
       "        text-align: right;\n",
       "    }\n",
       "</style>\n",
       "<table border=\"1\" class=\"dataframe\">\n",
       "  <thead>\n",
       "    <tr style=\"text-align: right;\">\n",
       "      <th></th>\n",
       "      <th>id</th>\n",
       "      <th>date_recorded</th>\n",
       "      <th>longitude</th>\n",
       "      <th>latitude</th>\n",
       "      <th>population</th>\n",
       "      <th>public_meeting</th>\n",
       "      <th>permit</th>\n",
       "      <th>year_recorded</th>\n",
       "      <th>status_group</th>\n",
       "      <th>funder_Danida</th>\n",
       "      <th>...</th>\n",
       "      <th>construction_year_0-20</th>\n",
       "      <th>construction_year_20-40</th>\n",
       "      <th>construction_year_40-60</th>\n",
       "      <th>construction_year_60-80</th>\n",
       "      <th>construction_year_80-100</th>\n",
       "      <th>pump_age_0-20</th>\n",
       "      <th>pump_age_20-40</th>\n",
       "      <th>pump_age_40-60</th>\n",
       "      <th>pump_age_60-80</th>\n",
       "      <th>pump_age_80-100</th>\n",
       "    </tr>\n",
       "  </thead>\n",
       "  <tbody>\n",
       "    <tr>\n",
       "      <th>0</th>\n",
       "      <td>69572</td>\n",
       "      <td>2011-03-14</td>\n",
       "      <td>34.938093</td>\n",
       "      <td>-9.856322</td>\n",
       "      <td>109.0</td>\n",
       "      <td>True</td>\n",
       "      <td>False</td>\n",
       "      <td>2011</td>\n",
       "      <td>functional</td>\n",
       "      <td>0</td>\n",
       "      <td>...</td>\n",
       "      <td>0</td>\n",
       "      <td>0</td>\n",
       "      <td>1</td>\n",
       "      <td>0</td>\n",
       "      <td>0</td>\n",
       "      <td>0</td>\n",
       "      <td>0</td>\n",
       "      <td>1</td>\n",
       "      <td>0</td>\n",
       "      <td>0</td>\n",
       "    </tr>\n",
       "    <tr>\n",
       "      <th>1</th>\n",
       "      <td>8776</td>\n",
       "      <td>2013-03-06</td>\n",
       "      <td>34.698766</td>\n",
       "      <td>-2.147466</td>\n",
       "      <td>280.0</td>\n",
       "      <td>False</td>\n",
       "      <td>True</td>\n",
       "      <td>2013</td>\n",
       "      <td>functional</td>\n",
       "      <td>0</td>\n",
       "      <td>...</td>\n",
       "      <td>0</td>\n",
       "      <td>0</td>\n",
       "      <td>0</td>\n",
       "      <td>0</td>\n",
       "      <td>1</td>\n",
       "      <td>1</td>\n",
       "      <td>0</td>\n",
       "      <td>0</td>\n",
       "      <td>0</td>\n",
       "      <td>0</td>\n",
       "    </tr>\n",
       "    <tr>\n",
       "      <th>2</th>\n",
       "      <td>34310</td>\n",
       "      <td>2013-02-25</td>\n",
       "      <td>37.460664</td>\n",
       "      <td>-3.821329</td>\n",
       "      <td>250.0</td>\n",
       "      <td>True</td>\n",
       "      <td>True</td>\n",
       "      <td>2013</td>\n",
       "      <td>functional</td>\n",
       "      <td>0</td>\n",
       "      <td>...</td>\n",
       "      <td>0</td>\n",
       "      <td>0</td>\n",
       "      <td>0</td>\n",
       "      <td>1</td>\n",
       "      <td>0</td>\n",
       "      <td>0</td>\n",
       "      <td>1</td>\n",
       "      <td>0</td>\n",
       "      <td>0</td>\n",
       "      <td>0</td>\n",
       "    </tr>\n",
       "  </tbody>\n",
       "</table>\n",
       "<p>3 rows × 173 columns</p>\n",
       "</div>"
      ],
      "text/plain": [
       "      id date_recorded  longitude  latitude  population  public_meeting  \\\n",
       "0  69572    2011-03-14  34.938093 -9.856322       109.0            True   \n",
       "1   8776    2013-03-06  34.698766 -2.147466       280.0           False   \n",
       "2  34310    2013-02-25  37.460664 -3.821329       250.0            True   \n",
       "\n",
       "   permit  year_recorded status_group  funder_Danida  ...  \\\n",
       "0   False           2011   functional              0  ...   \n",
       "1    True           2013   functional              0  ...   \n",
       "2    True           2013   functional              0  ...   \n",
       "\n",
       "   construction_year_0-20  construction_year_20-40  construction_year_40-60  \\\n",
       "0                       0                        0                        1   \n",
       "1                       0                        0                        0   \n",
       "2                       0                        0                        0   \n",
       "\n",
       "   construction_year_60-80  construction_year_80-100  pump_age_0-20  \\\n",
       "0                        0                         0              0   \n",
       "1                        0                         1              1   \n",
       "2                        1                         0              0   \n",
       "\n",
       "   pump_age_20-40  pump_age_40-60  pump_age_60-80  pump_age_80-100  \n",
       "0               0               1               0                0  \n",
       "1               0               0               0                0  \n",
       "2               1               0               0                0  \n",
       "\n",
       "[3 rows x 173 columns]"
      ]
     },
     "execution_count": 122,
     "metadata": {},
     "output_type": "execute_result"
    }
   ],
   "source": [
    "df_comp_val.iloc[:3,:]"
   ]
  },
  {
   "cell_type": "code",
   "execution_count": 123,
   "metadata": {},
   "outputs": [],
   "source": [
    "train_index = df_train_val.id.tolist()\n",
    "test_index = df_test_val.id.tolist()\n",
    "\n",
    "df_train_val_new = df_comp_val[df_comp_val.id.isin(train_index)]\n",
    "\n",
    "\n",
    "df_train_val_new.to_csv(data_processed_dir+'training_data_encoded.csv',index=False)\n",
    "\n",
    "df_test_val_new = df_comp_val[df_comp_val.id.isin(test_index)]\n",
    "df_test_val_new.to_csv(data_processed_dir+'test_data_encoded.csv',index=False)"
   ]
  }
 ],
 "metadata": {
  "kernelspec": {
   "display_name": "Python 3",
   "language": "python",
   "name": "python3"
  },
  "language_info": {
   "codemirror_mode": {
    "name": "ipython",
    "version": 3
   },
   "file_extension": ".py",
   "mimetype": "text/x-python",
   "name": "python",
   "nbconvert_exporter": "python",
   "pygments_lexer": "ipython3",
   "version": "3.9.1"
  }
 },
 "nbformat": 4,
 "nbformat_minor": 4
}
