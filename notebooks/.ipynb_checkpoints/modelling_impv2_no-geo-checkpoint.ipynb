{
 "cells": [
  {
   "cell_type": "code",
   "execution_count": 88,
   "metadata": {},
   "outputs": [],
   "source": [
    "# import modules\n",
    "\n",
    "import pandas as pd\n",
    "import matplotlib.pyplot as plt\n",
    "import numpy as np\n",
    "import datetime as dt\n",
    "\n",
    "import seaborn as sns\n",
    "\n",
    "from sklearn.preprocessing import MinMaxScaler, StandardScaler\n",
    "from sklearn.model_selection import train_test_split, cross_validate, GridSearchCV\n",
    "from sklearn.feature_selection import SelectKBest, f_classif\n",
    "from sklearn.ensemble import RandomForestClassifier\n",
    "from sklearn.cluster import KMeans\n",
    "from sklearn.pipeline import make_pipeline, Pipeline\n",
    "from sklearn.dummy import DummyClassifier\n",
    "from sklearn import tree\n",
    "from sklearn.metrics import (accuracy_score, balanced_accuracy_score, precision_score, recall_score, confusion_matrix,\n",
    "    plot_confusion_matrix, make_scorer,multilabel_confusion_matrix,ConfusionMatrixDisplay)\n",
    "\n",
    "from sklearn.preprocessing import LabelEncoder, OneHotEncoder\n",
    "\n",
    "from imblearn.over_sampling import SMOTE\n",
    "from imblearn.pipeline import Pipeline as imbPipeline\n",
    "\n",
    "from xgboost import XGBClassifier\n",
    "\n",
    "from CF_5_Modelling import (add_model_score, feat_imp, scorer_pos_neg_class,\n",
    "                            scorer_confusion_matrix)\n",
    "\n",
    "rng = 847666577 #int(np.random.default_rng().random()*(2**32))\n",
    "\n",
    "%qtconsole"
   ]
  },
  {
   "cell_type": "code",
   "execution_count": 137,
   "metadata": {},
   "outputs": [],
   "source": [
    "data_raw_dir = 'C:\\\\Users\\\\Bryan\\\\OneDrive\\\\02 GitHub\\\\water-pump-tanzania\\\\data\\\\raw\\\\'\n",
    "data_interim_dir = 'C:\\\\Users\\\\Bryan\\\\OneDrive\\\\02 GitHub\\\\water-pump-tanzania\\\\data\\\\interim\\\\'\n",
    "data_processed_dir = 'C:\\\\Users\\\\Bryan\\\\OneDrive\\\\02 GitHub\\\\water-pump-tanzania\\\\data\\\\processed\\\\'\n",
    "docs_img_dir = 'C:\\\\Users\\\\bryan\\\\OneDrive\\\\02 GitHub\\\\water-pump-tanzania\\\\docs\\\\img\\\\'"
   ]
  },
  {
   "cell_type": "code",
   "execution_count": 138,
   "metadata": {},
   "outputs": [
    {
     "name": "stdout",
     "output_type": "stream",
     "text": [
      "(59384, 173)\n"
     ]
    },
    {
     "data": {
      "text/html": [
       "<div>\n",
       "<style scoped>\n",
       "    .dataframe tbody tr th:only-of-type {\n",
       "        vertical-align: middle;\n",
       "    }\n",
       "\n",
       "    .dataframe tbody tr th {\n",
       "        vertical-align: top;\n",
       "    }\n",
       "\n",
       "    .dataframe thead th {\n",
       "        text-align: right;\n",
       "    }\n",
       "</style>\n",
       "<table border=\"1\" class=\"dataframe\">\n",
       "  <thead>\n",
       "    <tr style=\"text-align: right;\">\n",
       "      <th></th>\n",
       "      <th>id</th>\n",
       "      <th>date_recorded</th>\n",
       "      <th>longitude</th>\n",
       "      <th>latitude</th>\n",
       "      <th>population</th>\n",
       "      <th>public_meeting</th>\n",
       "      <th>permit</th>\n",
       "      <th>year_recorded</th>\n",
       "      <th>status_group</th>\n",
       "      <th>funder_Danida</th>\n",
       "      <th>...</th>\n",
       "      <th>construction_year_0-20</th>\n",
       "      <th>construction_year_20-40</th>\n",
       "      <th>construction_year_40-60</th>\n",
       "      <th>construction_year_60-80</th>\n",
       "      <th>construction_year_80-100</th>\n",
       "      <th>pump_age_0-20</th>\n",
       "      <th>pump_age_20-40</th>\n",
       "      <th>pump_age_40-60</th>\n",
       "      <th>pump_age_60-80</th>\n",
       "      <th>pump_age_80-100</th>\n",
       "    </tr>\n",
       "  </thead>\n",
       "  <tbody>\n",
       "    <tr>\n",
       "      <th>0</th>\n",
       "      <td>69572</td>\n",
       "      <td>2011-03-14</td>\n",
       "      <td>34.938093</td>\n",
       "      <td>-9.856322</td>\n",
       "      <td>109.0</td>\n",
       "      <td>True</td>\n",
       "      <td>False</td>\n",
       "      <td>2011</td>\n",
       "      <td>functional</td>\n",
       "      <td>0</td>\n",
       "      <td>...</td>\n",
       "      <td>0</td>\n",
       "      <td>0</td>\n",
       "      <td>1</td>\n",
       "      <td>0</td>\n",
       "      <td>0</td>\n",
       "      <td>0</td>\n",
       "      <td>0</td>\n",
       "      <td>1</td>\n",
       "      <td>0</td>\n",
       "      <td>0</td>\n",
       "    </tr>\n",
       "    <tr>\n",
       "      <th>1</th>\n",
       "      <td>8776</td>\n",
       "      <td>2013-03-06</td>\n",
       "      <td>34.698766</td>\n",
       "      <td>-2.147466</td>\n",
       "      <td>280.0</td>\n",
       "      <td>False</td>\n",
       "      <td>True</td>\n",
       "      <td>2013</td>\n",
       "      <td>functional</td>\n",
       "      <td>0</td>\n",
       "      <td>...</td>\n",
       "      <td>0</td>\n",
       "      <td>0</td>\n",
       "      <td>0</td>\n",
       "      <td>0</td>\n",
       "      <td>1</td>\n",
       "      <td>1</td>\n",
       "      <td>0</td>\n",
       "      <td>0</td>\n",
       "      <td>0</td>\n",
       "      <td>0</td>\n",
       "    </tr>\n",
       "  </tbody>\n",
       "</table>\n",
       "<p>2 rows × 173 columns</p>\n",
       "</div>"
      ],
      "text/plain": [
       "      id date_recorded  longitude  latitude  population  public_meeting  \\\n",
       "0  69572    2011-03-14  34.938093 -9.856322       109.0            True   \n",
       "1   8776    2013-03-06  34.698766 -2.147466       280.0           False   \n",
       "\n",
       "   permit  year_recorded status_group  funder_Danida  ...  \\\n",
       "0   False           2011   functional              0  ...   \n",
       "1    True           2013   functional              0  ...   \n",
       "\n",
       "   construction_year_0-20  construction_year_20-40  construction_year_40-60  \\\n",
       "0                       0                        0                        1   \n",
       "1                       0                        0                        0   \n",
       "\n",
       "   construction_year_60-80  construction_year_80-100  pump_age_0-20  \\\n",
       "0                        0                         0              0   \n",
       "1                        0                         1              1   \n",
       "\n",
       "   pump_age_20-40  pump_age_40-60  pump_age_60-80  pump_age_80-100  \n",
       "0               0               1               0                0  \n",
       "1               0               0               0                0  \n",
       "\n",
       "[2 rows x 173 columns]"
      ]
     },
     "execution_count": 138,
     "metadata": {},
     "output_type": "execute_result"
    }
   ],
   "source": [
    "df_train = pd.read_csv(data_processed_dir+'training_data_encoded.csv')\n",
    "print(df_train.shape)\n",
    "df_train.head(2)"
   ]
  },
  {
   "cell_type": "code",
   "execution_count": 139,
   "metadata": {},
   "outputs": [
    {
     "name": "stdout",
     "output_type": "stream",
     "text": [
      "<class 'pandas.core.frame.DataFrame'>\n",
      "RangeIndex: 59384 entries, 0 to 59383\n",
      "Data columns (total 20 columns):\n",
      " #   Column                              Non-Null Count  Dtype\n",
      "---  ------                              --------------  -----\n",
      " 0   extraction_type_group_mono          59384 non-null  int64\n",
      " 1   extraction_type_group_nira/tanira   59384 non-null  int64\n",
      " 2   extraction_type_group_other         59384 non-null  int64\n",
      " 3   extraction_type_group_submersible   59384 non-null  int64\n",
      " 4   extraction_type_group_swn 80        59384 non-null  int64\n",
      " 5   extraction_type_class_gravity       59384 non-null  int64\n",
      " 6   extraction_type_class_handpump      59384 non-null  int64\n",
      " 7   extraction_type_class_motorpump     59384 non-null  int64\n",
      " 8   extraction_type_class_other         59384 non-null  int64\n",
      " 9   extraction_type_class_rope pump     59384 non-null  int64\n",
      " 10  extraction_type_class_submersible   59384 non-null  int64\n",
      " 11  extraction_type_class_wind-powered  59384 non-null  int64\n",
      " 12  management_company                  59384 non-null  int64\n",
      " 13  management_other                    59384 non-null  int64\n",
      " 14  management_parastatal               59384 non-null  int64\n",
      " 15  management_private operator         59384 non-null  int64\n",
      " 16  management_vwc                      59384 non-null  int64\n",
      " 17  management_water authority          59384 non-null  int64\n",
      " 18  management_water board              59384 non-null  int64\n",
      " 19  management_wua                      59384 non-null  int64\n",
      "dtypes: int64(20)\n",
      "memory usage: 9.1 MB\n"
     ]
    }
   ],
   "source": [
    "n = 100\n",
    "df_train.iloc[:,n:n+20].info()"
   ]
  },
  {
   "cell_type": "code",
   "execution_count": 140,
   "metadata": {},
   "outputs": [
    {
     "name": "stdout",
     "output_type": "stream",
     "text": [
      "functional                 0.543025\n",
      "non functional             0.384279\n",
      "functional needs repair    0.072696\n",
      "Name: status_group, dtype: float64\n"
     ]
    }
   ],
   "source": [
    "print(df_train['status_group'].value_counts(normalize=True))"
   ]
  },
  {
   "cell_type": "code",
   "execution_count": 141,
   "metadata": {},
   "outputs": [
    {
     "data": {
      "text/html": [
       "<div>\n",
       "<style scoped>\n",
       "    .dataframe tbody tr th:only-of-type {\n",
       "        vertical-align: middle;\n",
       "    }\n",
       "\n",
       "    .dataframe tbody tr th {\n",
       "        vertical-align: top;\n",
       "    }\n",
       "\n",
       "    .dataframe thead th {\n",
       "        text-align: right;\n",
       "    }\n",
       "</style>\n",
       "<table border=\"1\" class=\"dataframe\">\n",
       "  <thead>\n",
       "    <tr style=\"text-align: right;\">\n",
       "      <th></th>\n",
       "      <th>longitude</th>\n",
       "      <th>latitude</th>\n",
       "      <th>public_meeting</th>\n",
       "      <th>permit</th>\n",
       "      <th>funder_Danida</th>\n",
       "      <th>funder_Dhv</th>\n",
       "      <th>funder_District Council</th>\n",
       "      <th>funder_Dwsp</th>\n",
       "      <th>funder_Germany Republi</th>\n",
       "      <th>funder_Government Of Tanzania</th>\n",
       "      <th>...</th>\n",
       "      <th>construction_year_0-20</th>\n",
       "      <th>construction_year_20-40</th>\n",
       "      <th>construction_year_40-60</th>\n",
       "      <th>construction_year_60-80</th>\n",
       "      <th>construction_year_80-100</th>\n",
       "      <th>pump_age_0-20</th>\n",
       "      <th>pump_age_20-40</th>\n",
       "      <th>pump_age_40-60</th>\n",
       "      <th>pump_age_60-80</th>\n",
       "      <th>pump_age_80-100</th>\n",
       "    </tr>\n",
       "  </thead>\n",
       "  <tbody>\n",
       "    <tr>\n",
       "      <th>0</th>\n",
       "      <td>34.938093</td>\n",
       "      <td>-9.856322</td>\n",
       "      <td>True</td>\n",
       "      <td>False</td>\n",
       "      <td>0</td>\n",
       "      <td>0</td>\n",
       "      <td>0</td>\n",
       "      <td>0</td>\n",
       "      <td>0</td>\n",
       "      <td>0</td>\n",
       "      <td>...</td>\n",
       "      <td>0</td>\n",
       "      <td>0</td>\n",
       "      <td>1</td>\n",
       "      <td>0</td>\n",
       "      <td>0</td>\n",
       "      <td>0</td>\n",
       "      <td>0</td>\n",
       "      <td>1</td>\n",
       "      <td>0</td>\n",
       "      <td>0</td>\n",
       "    </tr>\n",
       "    <tr>\n",
       "      <th>1</th>\n",
       "      <td>34.698766</td>\n",
       "      <td>-2.147466</td>\n",
       "      <td>False</td>\n",
       "      <td>True</td>\n",
       "      <td>0</td>\n",
       "      <td>0</td>\n",
       "      <td>0</td>\n",
       "      <td>0</td>\n",
       "      <td>0</td>\n",
       "      <td>0</td>\n",
       "      <td>...</td>\n",
       "      <td>0</td>\n",
       "      <td>0</td>\n",
       "      <td>0</td>\n",
       "      <td>0</td>\n",
       "      <td>1</td>\n",
       "      <td>1</td>\n",
       "      <td>0</td>\n",
       "      <td>0</td>\n",
       "      <td>0</td>\n",
       "      <td>0</td>\n",
       "    </tr>\n",
       "    <tr>\n",
       "      <th>2</th>\n",
       "      <td>37.460664</td>\n",
       "      <td>-3.821329</td>\n",
       "      <td>True</td>\n",
       "      <td>True</td>\n",
       "      <td>0</td>\n",
       "      <td>0</td>\n",
       "      <td>0</td>\n",
       "      <td>0</td>\n",
       "      <td>0</td>\n",
       "      <td>0</td>\n",
       "      <td>...</td>\n",
       "      <td>0</td>\n",
       "      <td>0</td>\n",
       "      <td>0</td>\n",
       "      <td>1</td>\n",
       "      <td>0</td>\n",
       "      <td>0</td>\n",
       "      <td>1</td>\n",
       "      <td>0</td>\n",
       "      <td>0</td>\n",
       "      <td>0</td>\n",
       "    </tr>\n",
       "    <tr>\n",
       "      <th>3</th>\n",
       "      <td>38.486161</td>\n",
       "      <td>-11.155298</td>\n",
       "      <td>True</td>\n",
       "      <td>True</td>\n",
       "      <td>0</td>\n",
       "      <td>0</td>\n",
       "      <td>0</td>\n",
       "      <td>0</td>\n",
       "      <td>0</td>\n",
       "      <td>0</td>\n",
       "      <td>...</td>\n",
       "      <td>0</td>\n",
       "      <td>1</td>\n",
       "      <td>0</td>\n",
       "      <td>0</td>\n",
       "      <td>0</td>\n",
       "      <td>0</td>\n",
       "      <td>0</td>\n",
       "      <td>0</td>\n",
       "      <td>1</td>\n",
       "      <td>0</td>\n",
       "    </tr>\n",
       "    <tr>\n",
       "      <th>4</th>\n",
       "      <td>31.130847</td>\n",
       "      <td>-1.825359</td>\n",
       "      <td>True</td>\n",
       "      <td>True</td>\n",
       "      <td>0</td>\n",
       "      <td>0</td>\n",
       "      <td>0</td>\n",
       "      <td>0</td>\n",
       "      <td>0</td>\n",
       "      <td>0</td>\n",
       "      <td>...</td>\n",
       "      <td>0</td>\n",
       "      <td>0</td>\n",
       "      <td>1</td>\n",
       "      <td>0</td>\n",
       "      <td>0</td>\n",
       "      <td>0</td>\n",
       "      <td>1</td>\n",
       "      <td>0</td>\n",
       "      <td>0</td>\n",
       "      <td>0</td>\n",
       "    </tr>\n",
       "  </tbody>\n",
       "</table>\n",
       "<p>5 rows × 168 columns</p>\n",
       "</div>"
      ],
      "text/plain": [
       "   longitude   latitude  public_meeting  permit  funder_Danida  funder_Dhv  \\\n",
       "0  34.938093  -9.856322            True   False              0           0   \n",
       "1  34.698766  -2.147466           False    True              0           0   \n",
       "2  37.460664  -3.821329            True    True              0           0   \n",
       "3  38.486161 -11.155298            True    True              0           0   \n",
       "4  31.130847  -1.825359            True    True              0           0   \n",
       "\n",
       "   funder_District Council  funder_Dwsp  funder_Germany Republi  \\\n",
       "0                        0            0                       0   \n",
       "1                        0            0                       0   \n",
       "2                        0            0                       0   \n",
       "3                        0            0                       0   \n",
       "4                        0            0                       0   \n",
       "\n",
       "   funder_Government Of Tanzania  ...  construction_year_0-20  \\\n",
       "0                              0  ...                       0   \n",
       "1                              0  ...                       0   \n",
       "2                              0  ...                       0   \n",
       "3                              0  ...                       0   \n",
       "4                              0  ...                       0   \n",
       "\n",
       "   construction_year_20-40  construction_year_40-60  construction_year_60-80  \\\n",
       "0                        0                        1                        0   \n",
       "1                        0                        0                        0   \n",
       "2                        0                        0                        1   \n",
       "3                        1                        0                        0   \n",
       "4                        0                        1                        0   \n",
       "\n",
       "   construction_year_80-100  pump_age_0-20  pump_age_20-40  pump_age_40-60  \\\n",
       "0                         0              0               0               1   \n",
       "1                         1              1               0               0   \n",
       "2                         0              0               1               0   \n",
       "3                         0              0               0               0   \n",
       "4                         0              0               1               0   \n",
       "\n",
       "   pump_age_60-80  pump_age_80-100  \n",
       "0               0                0  \n",
       "1               0                0  \n",
       "2               0                0  \n",
       "3               1                0  \n",
       "4               0                0  \n",
       "\n",
       "[5 rows x 168 columns]"
      ]
     },
     "execution_count": 141,
     "metadata": {},
     "output_type": "execute_result"
    }
   ],
   "source": [
    "df_col = df_train.columns.to_list()\n",
    "\n",
    "X = df_train.iloc[:,df_col.index('longitude'):].drop(['year_recorded','status_group','population'],axis=1)\n",
    "\n",
    "label_enc = LabelEncoder()\n",
    "\n",
    "y = label_enc.fit_transform(df_train['status_group'])\n",
    "\n",
    "label_dict = dict(zip(list(set(y)),label_enc.inverse_transform(list(set(y))).tolist()))\n",
    "\n",
    "X.head()"
   ]
  },
  {
   "cell_type": "code",
   "execution_count": 142,
   "metadata": {},
   "outputs": [],
   "source": [
    "X_train, X_test, y_train, y_test = train_test_split(X,y,test_size=0.25,random_state=rng)"
   ]
  },
  {
   "cell_type": "code",
   "execution_count": null,
   "metadata": {},
   "outputs": [],
   "source": []
  },
  {
   "cell_type": "markdown",
   "metadata": {},
   "source": [
    "## RFC Base"
   ]
  },
  {
   "cell_type": "code",
   "execution_count": 143,
   "metadata": {},
   "outputs": [],
   "source": [
    "model = RandomForestClassifier(class_weight='balanced')\n",
    "scaler = StandardScaler()\n",
    "feat_sel = SelectKBest(score_func=f_classif)\n",
    "over = SMOTE()\n",
    "\n",
    "grid_params = {\n",
    "    'scaler' : [StandardScaler()], #,MinMaxScaler(),None]\n",
    "    'model__n_estimators': [100], #np.arange(10,1000,step=50)\n",
    "    'model__random_state': [42],\n",
    "    'model__max_depth': [18], #np.arange(1,19,step=1),\n",
    "    'model__criterion': ['gini'], #['gini','entropy'],\n",
    "    'model__max_features': [86], #np.arange(1,X.shape[1]+1,step=5),\n",
    "}\n",
    "\n",
    "RFC_base_pipe = GridSearchCV(imbPipeline([('scaler',scaler),('model',model)]),scoring='recall_weighted',cv=5,param_grid=grid_params,return_train_score=True,n_jobs=-1)\n",
    "\n",
    "RFC_base_pipe.fit(X_train,y_train)\n",
    "\n",
    "y_pred = RFC_base_pipe.predict(X_test)"
   ]
  },
  {
   "cell_type": "code",
   "execution_count": 144,
   "metadata": {},
   "outputs": [
    {
     "name": "stdout",
     "output_type": "stream",
     "text": [
      "recall weighted : 0.4663208945170416\n",
      "accuracy : 0.4663208945170416\n"
     ]
    },
    {
     "data": {
      "text/plain": [
       "<sklearn.metrics._plot.confusion_matrix.ConfusionMatrixDisplay at 0x285168f5ac0>"
      ]
     },
     "execution_count": 144,
     "metadata": {},
     "output_type": "execute_result"
    },
    {
     "data": {
      "image/png": "[encoded data removed]",
      "text/plain": [
       "<Figure size 432x288 with 2 Axes>"
      ]
     },
     "metadata": {
      "needs_background": "light"
     },
     "output_type": "display_data"
    }
   ],
   "source": [
    "print('recall weighted : %s' % recall_score(y_test,y_pred,average='weighted'))\n",
    "print('accuracy : %s' % accuracy_score(y_test,y_pred))\n",
    "plot_confusion_matrix(RFC_base_pipe,X_test,y_test)"
   ]
  },
  {
   "cell_type": "code",
   "execution_count": 70,
   "metadata": {},
   "outputs": [
    {
     "data": {
      "text/plain": [
       "quantity_enough              0.024199\n",
       "quantity_insufficient        0.022804\n",
       "permit                       0.019734\n",
       "population_(154.0, 300.0]    0.019511\n",
       "funder_other                 0.018587\n",
       "                               ...   \n",
       "installer_KKKT               0.000767\n",
       "management_company           0.000701\n",
       "source_type_other            0.000685\n",
       "installer_CES                0.000190\n",
       "funder_Germany Republi       0.000145\n",
       "Length: 166, dtype: float64"
      ]
     },
     "execution_count": 70,
     "metadata": {},
     "output_type": "execute_result"
    }
   ],
   "source": [
    "pd.Series(RFC_base_pipe.best_estimator_.named_steps.model.feature_importances_, index=X.columns).sort_values(ascending=False)"
   ]
  },
  {
   "cell_type": "markdown",
   "metadata": {},
   "source": [
    "## XGBoost"
   ]
  },
  {
   "cell_type": "code",
   "execution_count": 134,
   "metadata": {},
   "outputs": [
    {
     "name": "stdout",
     "output_type": "stream",
     "text": [
      "[10:47:59] WARNING: C:/Users/Administrator/workspace/xgboost-win64_release_1.3.0/src/learner.cc:1061: Starting in XGBoost 1.3.0, the default evaluation metric used with the objective 'multi:softprob' was changed from 'merror' to 'mlogloss'. Explicitly set eval_metric if you'd like to restore the old behavior.\n"
     ]
    }
   ],
   "source": [
    "model = XGBClassifier(objective='multi:softmax',booster='gbtree',use_label_encoder=False)\n",
    "\n",
    "grid_params = {\n",
    "    'model__learning_rate': [1], #np.arange(0.1,1,step=0.1),\n",
    "    #'model__n_estimators': [35], #np.arange(30,50,step=1),\n",
    "    #'model__max_depth' : np.arange(1,10,step=1),\n",
    "    'model__gamma' : [0.6], #np.arange(0,1,step=0.1),\n",
    "    'model__lambda' : np.arange(0,1.1,step=0.1),\n",
    "    #'model__alpha' : [0], #np.arange(0,1.1,step=0.1),\n",
    "    'scaler': [StandardScaler()] #, MinMaxScaler(),None]    \n",
    "}\n",
    "\n",
    "XGB_base_pipe = GridSearchCV(Pipeline([('scaler',scaler),('model',model)]),scoring='recall_weighted',cv=5,param_grid=grid_params,n_jobs=-1)\n",
    "\n",
    "XGB_base_pipe.fit(X_train,y_train)\n",
    "\n",
    "y_pred = XGB_base_pipe.predict(X_test)"
   ]
  },
  {
   "cell_type": "code",
   "execution_count": 135,
   "metadata": {},
   "outputs": [
    {
     "name": "stdout",
     "output_type": "stream",
     "text": [
      "recall weighted : 0.500875656742557\n",
      "accuracy : 0.500875656742557\n"
     ]
    },
    {
     "data": {
      "text/plain": [
       "array([[6129,   57, 1795],\n",
       "       [ 793,    7,  249],\n",
       "       [4480,   36, 1300]], dtype=int64)"
      ]
     },
     "execution_count": 135,
     "metadata": {},
     "output_type": "execute_result"
    }
   ],
   "source": [
    "print('recall weighted : %s' % recall_score(y_test,y_pred,average='weighted'))\n",
    "print('accuracy : %s' % accuracy_score(y_test,y_pred))\n",
    "confusion_matrix(y_test,y_pred)"
   ]
  }
 ],
 "metadata": {
  "kernelspec": {
   "display_name": "Python 3",
   "language": "python",
   "name": "python3"
  },
  "language_info": {
   "codemirror_mode": {
    "name": "ipython",
    "version": 3
   },
   "file_extension": ".py",
   "mimetype": "text/x-python",
   "name": "python",
   "nbconvert_exporter": "python",
   "pygments_lexer": "ipython3",
   "version": "3.9.1"
  }
 },
 "nbformat": 4,
 "nbformat_minor": 4
}
