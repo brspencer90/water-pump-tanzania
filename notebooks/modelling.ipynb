{
 "cells": [
  {
   "cell_type": "code",
   "execution_count": 172,
   "metadata": {},
   "outputs": [],
   "source": [
    "# import modules\n",
    "\n",
    "import pandas as pd\n",
    "import matplotlib.pyplot as plt\n",
    "import numpy as np\n",
    "import datetime as dt\n",
    "\n",
    "import seaborn as sns\n",
    "\n",
    "from sklearn.preprocessing import MinMaxScaler, StandardScaler\n",
    "from sklearn.model_selection import train_test_split, cross_validate, GridSearchCV\n",
    "from sklearn.feature_selection import SelectKBest, f_classif\n",
    "from sklearn.ensemble import RandomForestClassifier\n",
    "from sklearn.cluster import KMeans\n",
    "from sklearn.pipeline import make_pipeline, Pipeline\n",
    "from sklearn.dummy import DummyClassifier\n",
    "from sklearn import tree\n",
    "from sklearn.metrics import (accuracy_score, balanced_accuracy_score, precision_score, recall_score, confusion_matrix,\n",
    "    plot_confusion_matrix, make_scorer,multilabel_confusion_matrix,ConfusionMatrixDisplay, classification_report)\n",
    "\n",
    "from sklearn.preprocessing import LabelEncoder, OneHotEncoder\n",
    "\n",
    "from imblearn.over_sampling import SMOTE\n",
    "from imblearn.pipeline import Pipeline as imbPipeline\n",
    "\n",
    "from xgboost import XGBClassifier\n",
    "\n",
    "from CF_5_Modelling import (add_model_score, feat_imp, scorer_pos_neg_class,\n",
    "                            scorer_confusion_matrix)\n",
    "\n",
    "rng = 847666577 #int(np.random.default_rng().random()*(2**32))\n",
    "\n",
    "%qtconsole"
   ]
  },
  {
   "cell_type": "code",
   "execution_count": 173,
   "metadata": {},
   "outputs": [],
   "source": [
    "data_raw_dir = 'C:\\\\Users\\\\Bryan\\\\OneDrive\\\\02 GitHub\\\\water-pump-tanzania\\\\data\\\\raw\\\\'\n",
    "data_interim_dir = 'C:\\\\Users\\\\Bryan\\\\OneDrive\\\\02 GitHub\\\\water-pump-tanzania\\\\data\\\\interim\\\\'\n",
    "data_processed_dir = 'C:\\\\Users\\\\Bryan\\\\OneDrive\\\\02 GitHub\\\\water-pump-tanzania\\\\data\\\\processed\\\\'\n",
    "data_final_dir = 'C:\\\\Users\\\\Bryan\\\\OneDrive\\\\02 GitHub\\\\water-pump-tanzania\\\\data\\\\final\\\\'\n",
    "docs_img_dir = 'C:\\\\Users\\\\bryan\\\\OneDrive\\\\02 GitHub\\\\water-pump-tanzania\\\\docs\\\\img\\\\'"
   ]
  },
  {
   "cell_type": "code",
   "execution_count": 174,
   "metadata": {},
   "outputs": [],
   "source": [
    "def plot_train_test_scoring(model, param, param_range,smote=False):\n",
    "    train_score = pd.DataFrame(columns=['param','recall_functional','recall_needs_repair','recall_non-functional',\n",
    "                                       'prec_functional','prec_needs_repair','prec_non-functional'])\n",
    "    test_score = pd.DataFrame(columns=['param','recall_functional','recall_needs_repair','recall_non-functional',\n",
    "                                       'prec_functional','prec_needs_repair','prec_non-functional'])\n",
    "    \n",
    "    if smote : \n",
    "        X_train_func = X_train_smote\n",
    "        y_train_func = y_train_smote\n",
    "    else:\n",
    "        X_train_func = X_train\n",
    "        y_train_func = y_train\n",
    "    \n",
    "    for i in param_range:\n",
    "        \n",
    "        grid_params = {\n",
    "            'scaler' : [StandardScaler()],\n",
    "            param : [i]\n",
    "        }\n",
    "        \n",
    "        pipe = GridSearchCV(Pipeline([('scaler',scaler),('feat_sel',feat_sel),('model',model)]),scoring='recall',cv=5,param_grid=grid_params,n_jobs=-1)\n",
    "        \n",
    "        pipe.fit(X_train_func,y_train_func)\n",
    "        \n",
    "        y_train_pred = pipe.predict(X_train_func)\n",
    "        y_test_pred = pipe.predict(X_test)\n",
    "        \n",
    "        recall_train = recall_score(y_train_func,y_train_pred,labels=[0,1,2],average=None)\n",
    "        precision_train = precision_score(y_train_func,y_train_pred,labels=[0,1,2],average=None)\n",
    "        \n",
    "        recall_test = recall_score(y_test,y_test_pred,labels=[0,1,2],average=None)\n",
    "        precision_test = precision_score(y_test,y_test_pred,labels=[0,1,2],average=None)\n",
    "        \n",
    "        train_score_iter = pd.DataFrame([[i,recall_train[0],recall_train[1],recall_train[2],\n",
    "                                         precision_train[0],precision_train[1],precision_train[2]]],\n",
    "                                        columns=['param','recall_functional','recall_needs_repair','recall_non-functional',\n",
    "                                                 'prec_functional','prec_needs_repair','prec_non-functional'])\n",
    "        \n",
    "        test_score_iter = pd.DataFrame([[i,recall_test[0],recall_test[1],recall_test[2],\n",
    "                                         precision_test[0],precision_test[1],precision_test[2]]],\n",
    "                                        columns=['param','recall_functional','recall_needs_repair','recall_non-functional',\n",
    "                                                 'prec_functional','prec_needs_repair','prec_non-functional'])\n",
    "        \n",
    "        \n",
    "        train_score = pd.concat([train_score,train_score_iter])\n",
    "        test_score = pd.concat([test_score,test_score_iter])\n",
    "    \n",
    "    return train_score, test_score\n",
    "    \n",
    "# fit model with given number of nodes, returns test set accuracy\n",
    "def evaluate_model(n_nodes,n_layers,trainX, trainy, testX, testy):\n",
    "    \n",
    "    #configure the model based on the data\n",
    "    n_input, n_classes = trainX.shape[1], len(set(testy))\n",
    "    \n",
    "    # define model\n",
    "    model = Sequential()\n",
    "    model.add(Dense(n_nodes, input_dim=100, activation='relu'))\n",
    "    \n",
    "    for layer in range(0,n_layers-1):\n",
    "        model.add(Dense(n_nodes,input_dim=100,activation='relu'))\n",
    "        \n",
    "    model.add(Dense(3, activation='softmax'))# compile model\n",
    "    model.compile(loss='categorical_crossentropy', optimizer='adam', metrics=['accuracy'])\n",
    "    \n",
    "    # fit model on train set\n",
    "    history = model.fit(trainX, to_categorical(trainy), epochs=100, verbose=0)\n",
    "    \n",
    "    # evaluate model on test set\n",
    "    _, test_acc = model.evaluate(testX, to_categorical(testy), verbose=0)\n",
    "    \n",
    "    return history, test_acc\n",
    "\n",
    "def optimize_nn(num_nodes,num_layers,X,y,cv_splits=5):\n",
    "\n",
    "    plt.figure(figsize=(15,7))\n",
    "\n",
    "    num_nodes = num_nodes\n",
    "    num_layers= num_layers\n",
    "\n",
    "    smote = SMOTE(random_state=42)\n",
    "\n",
    "    kfold = KFold(n_splits=cv_splits, shuffle=True,random_state=42)\n",
    "\n",
    "    y_k = pd.Series(y)\n",
    "\n",
    "    for nodes in num_nodes:\n",
    "\n",
    "        res_avg = np.array([])\n",
    "\n",
    "        for layer in num_layers:\n",
    "\n",
    "            for train, test in kfold.split(X,y_k):\n",
    "\n",
    "                X_train_smote, y_train_smote = smote.fit_sample(X.loc[train,:],y_k[train])\n",
    "\n",
    "                history, results = evaluate_model(nodes,layer,X_train_smote,y_train_smote,X.loc[test,:],y_k[test])\n",
    "\n",
    "                plt.plot(history.history['loss'],label=str(nodes))\n",
    "\n",
    "                res_avg = np.append(res_avg,results)\n",
    "\n",
    "            res_avg = res_avg.mean()\n",
    "\n",
    "            print('nodes=%d, layers=%d : %.3f' % (nodes,layer,res_avg))    \n",
    "\n",
    "    plt.axis(ymax=10,ymin=0)\n",
    "    plt.legend()\n",
    "    return plt.show()    \n",
    "\n",
    "recall_repair_scorer = make_scorer(recall_score,average=None,labels=[1],greater_is_better=True)\n"
   ]
  },
  {
   "cell_type": "code",
   "execution_count": 175,
   "metadata": {},
   "outputs": [
    {
     "name": "stdout",
     "output_type": "stream",
     "text": [
      "(59400, 102)\n",
      "Index(['id', 'amount_tsh', 'gps_height', 'longitude', 'latitude',\n",
      "       'district_code', 'population', 'public_meeting', 'permit', 'pump_age',\n",
      "       ...\n",
      "       'source_shallow well', 'source_spring', 'source_unknown',\n",
      "       'source_class_groundwater', 'source_class_surface',\n",
      "       'source_class_unknown', 'waterpoint_type_communal standpipe',\n",
      "       'waterpoint_type_communal standpipe multiple',\n",
      "       'waterpoint_type_hand pump', 'waterpoint_type_other'],\n",
      "      dtype='object', length=102)\n"
     ]
    },
    {
     "data": {
      "text/html": [
       "<div>\n",
       "<style scoped>\n",
       "    .dataframe tbody tr th:only-of-type {\n",
       "        vertical-align: middle;\n",
       "    }\n",
       "\n",
       "    .dataframe tbody tr th {\n",
       "        vertical-align: top;\n",
       "    }\n",
       "\n",
       "    .dataframe thead th {\n",
       "        text-align: right;\n",
       "    }\n",
       "</style>\n",
       "<table border=\"1\" class=\"dataframe\">\n",
       "  <thead>\n",
       "    <tr style=\"text-align: right;\">\n",
       "      <th></th>\n",
       "      <th>id</th>\n",
       "      <th>amount_tsh</th>\n",
       "      <th>gps_height</th>\n",
       "      <th>longitude</th>\n",
       "      <th>latitude</th>\n",
       "      <th>district_code</th>\n",
       "      <th>population</th>\n",
       "      <th>public_meeting</th>\n",
       "      <th>permit</th>\n",
       "      <th>pump_age</th>\n",
       "      <th>...</th>\n",
       "      <th>source_shallow well</th>\n",
       "      <th>source_spring</th>\n",
       "      <th>source_unknown</th>\n",
       "      <th>source_class_groundwater</th>\n",
       "      <th>source_class_surface</th>\n",
       "      <th>source_class_unknown</th>\n",
       "      <th>waterpoint_type_communal standpipe</th>\n",
       "      <th>waterpoint_type_communal standpipe multiple</th>\n",
       "      <th>waterpoint_type_hand pump</th>\n",
       "      <th>waterpoint_type_other</th>\n",
       "    </tr>\n",
       "  </thead>\n",
       "  <tbody>\n",
       "    <tr>\n",
       "      <th>0</th>\n",
       "      <td>69572</td>\n",
       "      <td>6000.0</td>\n",
       "      <td>1390</td>\n",
       "      <td>34.938093</td>\n",
       "      <td>-9.856322</td>\n",
       "      <td>5</td>\n",
       "      <td>109</td>\n",
       "      <td>1</td>\n",
       "      <td>1</td>\n",
       "      <td>12.0</td>\n",
       "      <td>...</td>\n",
       "      <td>0</td>\n",
       "      <td>1</td>\n",
       "      <td>0</td>\n",
       "      <td>1</td>\n",
       "      <td>0</td>\n",
       "      <td>0</td>\n",
       "      <td>1</td>\n",
       "      <td>0</td>\n",
       "      <td>0</td>\n",
       "      <td>0</td>\n",
       "    </tr>\n",
       "    <tr>\n",
       "      <th>1</th>\n",
       "      <td>8776</td>\n",
       "      <td>0.0</td>\n",
       "      <td>1399</td>\n",
       "      <td>34.698766</td>\n",
       "      <td>-2.147466</td>\n",
       "      <td>2</td>\n",
       "      <td>280</td>\n",
       "      <td>1</td>\n",
       "      <td>1</td>\n",
       "      <td>3.0</td>\n",
       "      <td>...</td>\n",
       "      <td>0</td>\n",
       "      <td>0</td>\n",
       "      <td>0</td>\n",
       "      <td>0</td>\n",
       "      <td>1</td>\n",
       "      <td>0</td>\n",
       "      <td>1</td>\n",
       "      <td>0</td>\n",
       "      <td>0</td>\n",
       "      <td>0</td>\n",
       "    </tr>\n",
       "  </tbody>\n",
       "</table>\n",
       "<p>2 rows × 102 columns</p>\n",
       "</div>"
      ],
      "text/plain": [
       "      id  amount_tsh  gps_height  longitude  latitude  district_code  \\\n",
       "0  69572      6000.0        1390  34.938093 -9.856322              5   \n",
       "1   8776         0.0        1399  34.698766 -2.147466              2   \n",
       "\n",
       "   population  public_meeting  permit  pump_age  ... source_shallow well  \\\n",
       "0         109               1       1      12.0  ...                   0   \n",
       "1         280               1       1       3.0  ...                   0   \n",
       "\n",
       "   source_spring  source_unknown  source_class_groundwater  \\\n",
       "0              1               0                         1   \n",
       "1              0               0                         0   \n",
       "\n",
       "   source_class_surface  source_class_unknown  \\\n",
       "0                     0                     0   \n",
       "1                     1                     0   \n",
       "\n",
       "   waterpoint_type_communal standpipe  \\\n",
       "0                                   1   \n",
       "1                                   1   \n",
       "\n",
       "   waterpoint_type_communal standpipe multiple  waterpoint_type_hand pump  \\\n",
       "0                                            0                          0   \n",
       "1                                            0                          0   \n",
       "\n",
       "   waterpoint_type_other  \n",
       "0                      0  \n",
       "1                      0  \n",
       "\n",
       "[2 rows x 102 columns]"
      ]
     },
     "execution_count": 175,
     "metadata": {},
     "output_type": "execute_result"
    }
   ],
   "source": [
    "df_train = pd.read_csv(data_processed_dir+'training_data_encoded_impv2_geo-corr.csv')\n",
    "print(df_train.shape)\n",
    "print(df_train.columns)\n",
    "df_train.head(2)\n"
   ]
  },
  {
   "cell_type": "code",
   "execution_count": 176,
   "metadata": {},
   "outputs": [
    {
     "name": "stdout",
     "output_type": "stream",
     "text": [
      "functional                 0.543081\n",
      "non functional             0.384242\n",
      "functional needs repair    0.072677\n",
      "Name: status_group, dtype: float64\n"
     ]
    }
   ],
   "source": [
    "print(df_train['status_group'].value_counts(normalize=True))"
   ]
  },
  {
   "cell_type": "code",
   "execution_count": 177,
   "metadata": {},
   "outputs": [
    {
     "data": {
      "text/html": [
       "<div>\n",
       "<style scoped>\n",
       "    .dataframe tbody tr th:only-of-type {\n",
       "        vertical-align: middle;\n",
       "    }\n",
       "\n",
       "    .dataframe tbody tr th {\n",
       "        vertical-align: top;\n",
       "    }\n",
       "\n",
       "    .dataframe thead th {\n",
       "        text-align: right;\n",
       "    }\n",
       "</style>\n",
       "<table border=\"1\" class=\"dataframe\">\n",
       "  <thead>\n",
       "    <tr style=\"text-align: right;\">\n",
       "      <th></th>\n",
       "      <th>gps_height</th>\n",
       "      <th>longitude</th>\n",
       "      <th>latitude</th>\n",
       "      <th>district_code</th>\n",
       "      <th>population</th>\n",
       "      <th>public_meeting</th>\n",
       "      <th>permit</th>\n",
       "      <th>pump_age</th>\n",
       "      <th>installer_Commu</th>\n",
       "      <th>installer_DANIDA</th>\n",
       "      <th>...</th>\n",
       "      <th>source_shallow well</th>\n",
       "      <th>source_spring</th>\n",
       "      <th>source_unknown</th>\n",
       "      <th>source_class_groundwater</th>\n",
       "      <th>source_class_surface</th>\n",
       "      <th>source_class_unknown</th>\n",
       "      <th>waterpoint_type_communal standpipe</th>\n",
       "      <th>waterpoint_type_communal standpipe multiple</th>\n",
       "      <th>waterpoint_type_hand pump</th>\n",
       "      <th>waterpoint_type_other</th>\n",
       "    </tr>\n",
       "  </thead>\n",
       "  <tbody>\n",
       "    <tr>\n",
       "      <th>0</th>\n",
       "      <td>1390</td>\n",
       "      <td>34.938093</td>\n",
       "      <td>-9.856322</td>\n",
       "      <td>5</td>\n",
       "      <td>109</td>\n",
       "      <td>1</td>\n",
       "      <td>1</td>\n",
       "      <td>12.0</td>\n",
       "      <td>0</td>\n",
       "      <td>0</td>\n",
       "      <td>...</td>\n",
       "      <td>0</td>\n",
       "      <td>1</td>\n",
       "      <td>0</td>\n",
       "      <td>1</td>\n",
       "      <td>0</td>\n",
       "      <td>0</td>\n",
       "      <td>1</td>\n",
       "      <td>0</td>\n",
       "      <td>0</td>\n",
       "      <td>0</td>\n",
       "    </tr>\n",
       "    <tr>\n",
       "      <th>1</th>\n",
       "      <td>1399</td>\n",
       "      <td>34.698766</td>\n",
       "      <td>-2.147466</td>\n",
       "      <td>2</td>\n",
       "      <td>280</td>\n",
       "      <td>1</td>\n",
       "      <td>1</td>\n",
       "      <td>3.0</td>\n",
       "      <td>0</td>\n",
       "      <td>0</td>\n",
       "      <td>...</td>\n",
       "      <td>0</td>\n",
       "      <td>0</td>\n",
       "      <td>0</td>\n",
       "      <td>0</td>\n",
       "      <td>1</td>\n",
       "      <td>0</td>\n",
       "      <td>1</td>\n",
       "      <td>0</td>\n",
       "      <td>0</td>\n",
       "      <td>0</td>\n",
       "    </tr>\n",
       "    <tr>\n",
       "      <th>2</th>\n",
       "      <td>686</td>\n",
       "      <td>37.460664</td>\n",
       "      <td>-3.821329</td>\n",
       "      <td>4</td>\n",
       "      <td>250</td>\n",
       "      <td>1</td>\n",
       "      <td>1</td>\n",
       "      <td>4.0</td>\n",
       "      <td>0</td>\n",
       "      <td>0</td>\n",
       "      <td>...</td>\n",
       "      <td>0</td>\n",
       "      <td>0</td>\n",
       "      <td>0</td>\n",
       "      <td>0</td>\n",
       "      <td>1</td>\n",
       "      <td>0</td>\n",
       "      <td>0</td>\n",
       "      <td>1</td>\n",
       "      <td>0</td>\n",
       "      <td>0</td>\n",
       "    </tr>\n",
       "    <tr>\n",
       "      <th>3</th>\n",
       "      <td>263</td>\n",
       "      <td>38.486161</td>\n",
       "      <td>-11.155298</td>\n",
       "      <td>63</td>\n",
       "      <td>58</td>\n",
       "      <td>1</td>\n",
       "      <td>1</td>\n",
       "      <td>27.0</td>\n",
       "      <td>0</td>\n",
       "      <td>0</td>\n",
       "      <td>...</td>\n",
       "      <td>0</td>\n",
       "      <td>0</td>\n",
       "      <td>0</td>\n",
       "      <td>1</td>\n",
       "      <td>0</td>\n",
       "      <td>0</td>\n",
       "      <td>0</td>\n",
       "      <td>1</td>\n",
       "      <td>0</td>\n",
       "      <td>0</td>\n",
       "    </tr>\n",
       "    <tr>\n",
       "      <th>4</th>\n",
       "      <td>0</td>\n",
       "      <td>31.130847</td>\n",
       "      <td>-1.825359</td>\n",
       "      <td>1</td>\n",
       "      <td>0</td>\n",
       "      <td>1</td>\n",
       "      <td>1</td>\n",
       "      <td>25.0</td>\n",
       "      <td>0</td>\n",
       "      <td>0</td>\n",
       "      <td>...</td>\n",
       "      <td>0</td>\n",
       "      <td>0</td>\n",
       "      <td>0</td>\n",
       "      <td>0</td>\n",
       "      <td>1</td>\n",
       "      <td>0</td>\n",
       "      <td>1</td>\n",
       "      <td>0</td>\n",
       "      <td>0</td>\n",
       "      <td>0</td>\n",
       "    </tr>\n",
       "  </tbody>\n",
       "</table>\n",
       "<p>5 rows × 99 columns</p>\n",
       "</div>"
      ],
      "text/plain": [
       "   gps_height  longitude   latitude  district_code  population  \\\n",
       "0        1390  34.938093  -9.856322              5         109   \n",
       "1        1399  34.698766  -2.147466              2         280   \n",
       "2         686  37.460664  -3.821329              4         250   \n",
       "3         263  38.486161 -11.155298             63          58   \n",
       "4           0  31.130847  -1.825359              1           0   \n",
       "\n",
       "   public_meeting  permit  pump_age  installer_Commu  installer_DANIDA  ...  \\\n",
       "0               1       1      12.0                0                 0  ...   \n",
       "1               1       1       3.0                0                 0  ...   \n",
       "2               1       1       4.0                0                 0  ...   \n",
       "3               1       1      27.0                0                 0  ...   \n",
       "4               1       1      25.0                0                 0  ...   \n",
       "\n",
       "   source_shallow well  source_spring  source_unknown  \\\n",
       "0                    0              1               0   \n",
       "1                    0              0               0   \n",
       "2                    0              0               0   \n",
       "3                    0              0               0   \n",
       "4                    0              0               0   \n",
       "\n",
       "   source_class_groundwater  source_class_surface  source_class_unknown  \\\n",
       "0                         1                     0                     0   \n",
       "1                         0                     1                     0   \n",
       "2                         0                     1                     0   \n",
       "3                         1                     0                     0   \n",
       "4                         0                     1                     0   \n",
       "\n",
       "   waterpoint_type_communal standpipe  \\\n",
       "0                                   1   \n",
       "1                                   1   \n",
       "2                                   0   \n",
       "3                                   0   \n",
       "4                                   1   \n",
       "\n",
       "   waterpoint_type_communal standpipe multiple  waterpoint_type_hand pump  \\\n",
       "0                                            0                          0   \n",
       "1                                            0                          0   \n",
       "2                                            1                          0   \n",
       "3                                            1                          0   \n",
       "4                                            0                          0   \n",
       "\n",
       "   waterpoint_type_other  \n",
       "0                      0  \n",
       "1                      0  \n",
       "2                      0  \n",
       "3                      0  \n",
       "4                      0  \n",
       "\n",
       "[5 rows x 99 columns]"
      ]
     },
     "execution_count": 177,
     "metadata": {},
     "output_type": "execute_result"
    }
   ],
   "source": [
    "df_col = df_train.columns.to_list()\n",
    "\n",
    "X = df_train.drop(['id','amount_tsh','status_group'],axis=1)\n",
    "\n",
    "label_enc = LabelEncoder()\n",
    "\n",
    "y = label_enc.fit_transform(df_train['status_group'])\n",
    "\n",
    "label_dict = dict(zip(list(set(y)),label_enc.inverse_transform(list(set(y))).tolist()))\n",
    "\n",
    "X.head()"
   ]
  },
  {
   "cell_type": "code",
   "execution_count": 178,
   "metadata": {},
   "outputs": [
    {
     "name": "stdout",
     "output_type": "stream",
     "text": [
      "0    24161\n",
      "1     3243\n",
      "2    17146\n",
      "dtype: int64\n"
     ]
    }
   ],
   "source": [
    "X_train, X_test, y_train, y_test = train_test_split(X,y,test_size=0.25,random_state=42)\n",
    "\n",
    "print(pd.Series(y_train).value_counts().sort_index())"
   ]
  },
  {
   "cell_type": "code",
   "execution_count": 179,
   "metadata": {},
   "outputs": [
    {
     "name": "stdout",
     "output_type": "stream",
     "text": [
      "2    24161\n",
      "1    24161\n",
      "0    24161\n",
      "dtype: int64\n"
     ]
    }
   ],
   "source": [
    "# SMOTE training editing\n",
    "smote = SMOTE(random_state=42)\n",
    "\n",
    "X_train_smote, y_train_smote = smote.fit_sample(X_train,y_train)\n",
    "\n",
    "print(pd.Series(y_train_smote).value_counts())"
   ]
  },
  {
   "cell_type": "markdown",
   "metadata": {},
   "source": [
    "## RFC Base"
   ]
  },
  {
   "cell_type": "code",
   "execution_count": 180,
   "metadata": {},
   "outputs": [],
   "source": [
    "model = RandomForestClassifier()\n",
    "scaler = StandardScaler()\n",
    "feat_sel = SelectKBest(score_func=f_classif)"
   ]
  },
  {
   "cell_type": "code",
   "execution_count": 181,
   "metadata": {},
   "outputs": [
    {
     "name": "stdout",
     "output_type": "stream",
     "text": [
      "Features dropped : ['public_meeting', 'permit', 'installer_DANIDA', 'region_Morogoro', 'extraction_type_class_wind-powered', 'water_quality_other', 'source_unknown']\n"
     ]
    }
   ],
   "source": [
    "grid_params = {\n",
    "    'model__random_state': [123], #np.arange(start=1, stop = 10000),\n",
    "    'scaler' : [StandardScaler()], #MinMaxScaler(),None],\n",
    "    'feat_sel__k': [92], #np.arange(1,X.shape[1]+1,step=1),\n",
    "    'model__n_estimators': [50], #np.arange(35,65,step=1),\n",
    "    'model__criterion': ['gini'], #['gini','entropy']\n",
    "}\n",
    "\n",
    "RFC_base_pipe = GridSearchCV(Pipeline([('scaler',scaler),('feat_sel',feat_sel),('model',model)]),scoring=recall_repair_scorer,cv=5,param_grid=grid_params,n_jobs=-1)\n",
    "\n",
    "RFC_base_pipe.fit(X_train,y_train)\n",
    "\n",
    "y_pred = RFC_base_pipe.predict(X_test)\n",
    "\n",
    "RFC_feat_drop = X.columns[~RFC_base_pipe.best_estimator_.named_steps.feat_sel.get_support()].tolist()\n",
    "\n",
    "print('Features dropped : ' + str(RFC_feat_drop))"
   ]
  },
  {
   "cell_type": "code",
   "execution_count": 182,
   "metadata": {
    "scrolled": false
   },
   "outputs": [
    {
     "name": "stdout",
     "output_type": "stream",
     "text": [
      "                         precision    recall  f1-score   support\n",
      "\n",
      "             functional       0.80      0.87      0.84      8098\n",
      "functional needs repair       0.49      0.34      0.40      1074\n",
      "         non functional       0.83      0.77      0.80      5678\n",
      "\n",
      "               accuracy                           0.80     14850\n",
      "              macro avg       0.71      0.66      0.68     14850\n",
      "           weighted avg       0.79      0.80      0.79     14850\n",
      "\n"
     ]
    },
    {
     "data": {
      "text/plain": [
       "<sklearn.metrics._plot.confusion_matrix.ConfusionMatrixDisplay at 0x1d4ea8b91d0>"
      ]
     },
     "execution_count": 182,
     "metadata": {},
     "output_type": "execute_result"
    },
    {
     "data": {
      "image/png": "[encoded data removed]",
      "text/plain": [
       "<Figure size 432x288 with 2 Axes>"
      ]
     },
     "metadata": {
      "needs_background": "light"
     },
     "output_type": "display_data"
    }
   ],
   "source": [
    "print(classification_report(y_test,y_pred,target_names=list(label_dict.values())))\n",
    "plot_confusion_matrix(RFC_base_pipe,X_test,y_test,display_labels=list(label_dict.values()),xticks_rotation=45)"
   ]
  },
  {
   "cell_type": "code",
   "execution_count": 183,
   "metadata": {
    "scrolled": true
   },
   "outputs": [
    {
     "data": {
      "text/plain": [
       "longitude               0.153182\n",
       "latitude                0.152168\n",
       "quantity_dry            0.083846\n",
       "gps_height              0.073722\n",
       "pump_age                0.064714\n",
       "                          ...   \n",
       "installer_Hesawa        0.000907\n",
       "installer_KKKT          0.000820\n",
       "region_Dar es Salaam    0.000650\n",
       "source_class_unknown    0.000533\n",
       "source_other            0.000332\n",
       "Length: 92, dtype: float64"
      ]
     },
     "execution_count": 183,
     "metadata": {},
     "output_type": "execute_result"
    }
   ],
   "source": [
    "feat_imp = pd.Series(RFC_base_pipe.best_estimator_.named_steps.model.feature_importances_, index=X.columns[RFC_base_pipe.best_estimator_.named_steps.feat_sel.get_support()]).sort_values(ascending=False)\n",
    "feat_imp"
   ]
  },
  {
   "cell_type": "markdown",
   "metadata": {},
   "source": [
    "## RFC Base w/SMOTE"
   ]
  },
  {
   "cell_type": "code",
   "execution_count": 184,
   "metadata": {},
   "outputs": [],
   "source": [
    "grid_params = {\n",
    "    'model__random_state': [123], #np.arange(start=1, stop = 10000),\n",
    "    'scaler' : [MinMaxScaler()], #[StandardScaler(), MinMaxScaler(),None],\n",
    "    'feat_sel__k': [99], #np.arange(10,X.shape[1]+1,step=1),\n",
    "    'model__n_estimators': [219], #np.arange(200,230,step=1),\n",
    "    'model__criterion': ['gini'] #['gini','entropy']\n",
    "}\n",
    "\n",
    "RFC_smote_pipe = GridSearchCV(Pipeline([('scaler',scaler),('feat_sel',feat_sel),('model',model)]),scoring=recall_repair_scorer,cv=5,param_grid=grid_params,n_jobs=-1)\n",
    "\n",
    "RFC_smote_pipe.fit(X_train_smote,y_train_smote)\n",
    "\n",
    "y_pred = RFC_smote_pipe.predict(X_test)"
   ]
  },
  {
   "cell_type": "code",
   "execution_count": 185,
   "metadata": {},
   "outputs": [
    {
     "name": "stdout",
     "output_type": "stream",
     "text": [
      "                         precision    recall  f1-score   support\n",
      "\n",
      "             functional       0.82      0.84      0.83      8098\n",
      "functional needs repair       0.43      0.43      0.43      1074\n",
      "         non functional       0.81      0.78      0.79      5678\n",
      "\n",
      "               accuracy                           0.79     14850\n",
      "              macro avg       0.68      0.68      0.68     14850\n",
      "           weighted avg       0.79      0.79      0.79     14850\n",
      "\n"
     ]
    },
    {
     "data": {
      "text/plain": [
       "<sklearn.metrics._plot.confusion_matrix.ConfusionMatrixDisplay at 0x1d4f137f358>"
      ]
     },
     "execution_count": 185,
     "metadata": {},
     "output_type": "execute_result"
    },
    {
     "data": {
      "image/png": "[encoded data removed]",
      "text/plain": [
       "<Figure size 432x288 with 2 Axes>"
      ]
     },
     "metadata": {
      "needs_background": "light"
     },
     "output_type": "display_data"
    }
   ],
   "source": [
    "print(classification_report(y_test,y_pred,target_names=list(label_dict.values())))\n",
    "plot_confusion_matrix(RFC_smote_pipe,X_test,y_test,display_labels=list(label_dict.values()),xticks_rotation=45)"
   ]
  },
  {
   "cell_type": "code",
   "execution_count": 186,
   "metadata": {
    "scrolled": true
   },
   "outputs": [
    {
     "data": {
      "text/plain": [
       "longitude                             0.133321\n",
       "latitude                              0.127938\n",
       "gps_height                            0.061144\n",
       "pump_age                              0.059585\n",
       "quantity_dry                          0.051483\n",
       "                                        ...   \n",
       "source_class_unknown                  0.000497\n",
       "region_Dar es Salaam                  0.000491\n",
       "source_other                          0.000367\n",
       "extraction_type_class_wind-powered    0.000191\n",
       "source_unknown                        0.000102\n",
       "Length: 99, dtype: float64"
      ]
     },
     "execution_count": 186,
     "metadata": {},
     "output_type": "execute_result"
    }
   ],
   "source": [
    "feat_imp = pd.Series(RFC_smote_pipe.best_estimator_.named_steps.model.feature_importances_, index=X.columns).sort_values(ascending=False)\n",
    "feat_imp"
   ]
  },
  {
   "cell_type": "markdown",
   "metadata": {},
   "source": [
    "## XGBoost"
   ]
  },
  {
   "cell_type": "code",
   "execution_count": 187,
   "metadata": {},
   "outputs": [],
   "source": [
    "model = XGBClassifier(objective='multi:softmax',booster='gbtree',use_label_encoder=False)\n",
    "scaler = StandardScaler()\n",
    "feat_sel = SelectKBest(score_func=f_classif)"
   ]
  },
  {
   "cell_type": "code",
   "execution_count": 188,
   "metadata": {},
   "outputs": [
    {
     "name": "stdout",
     "output_type": "stream",
     "text": [
      "[14:31:27] WARNING: C:/Users/Administrator/workspace/xgboost-win64_release_1.3.0/src/learner.cc:1061: Starting in XGBoost 1.3.0, the default evaluation metric used with the objective 'multi:softprob' was changed from 'merror' to 'mlogloss'. Explicitly set eval_metric if you'd like to restore the old behavior.\n",
      "Features dropped : ['population', 'public_meeting', 'permit', 'installer_DANIDA', 'installer_Hesawa', 'installer_KKKT', 'region_Geita', 'region_Kagera', 'region_Manyara', 'region_Morogoro', 'region_Mwanza', 'region_Ruvuma', 'extraction_type_class_rope pump', 'extraction_type_class_wind-powered', 'water_quality_other', 'source_hand dtw', 'source_other', 'source_unknown', 'source_class_unknown']\n"
     ]
    }
   ],
   "source": [
    "grid_params = {\n",
    "    'scaler': [StandardScaler()], #MinMaxScaler(),None]\n",
    "    'feat_sel__k': [80], #np.arange(10,X.shape[1]+1,step=1),\n",
    "    'model__learning_rate': [0.9], #np.arange(0,1.1,step=0.1),\n",
    "    'model__gamma' : [0], #np.arange(0,1.1,step=0.1),\n",
    "    'model__lambda' : [0.2], #np.arange(0,1.1,step=0.1),\n",
    "    'model__alpha' : [0.6], #np.arange(0,1.1,step=0.1),\n",
    "    'model__n_estimators': [268], #np.arange(260,270,step=1),\n",
    "    'model__max_depth' : [18], #np.arange(1,20,step=1),  \n",
    "}\n",
    "\n",
    "XGB_base_pipe = GridSearchCV(Pipeline([('scaler',scaler),('feat_sel',feat_sel),('model',model)]),scoring=recall_repair_scorer,cv=5,param_grid=grid_params,n_jobs=-1)\n",
    "\n",
    "XGB_base_pipe.fit(X_train,y_train)\n",
    "\n",
    "y_pred = XGB_base_pipe.predict(X_test)\n",
    "\n",
    "XGB_base_feat_drop = X.columns[~XGB_base_pipe.best_estimator_.named_steps.feat_sel.get_support()].tolist()\n",
    "\n",
    "print('Features dropped : ' + str(XGB_base_feat_drop))"
   ]
  },
  {
   "cell_type": "code",
   "execution_count": 189,
   "metadata": {
    "scrolled": true
   },
   "outputs": [
    {
     "name": "stdout",
     "output_type": "stream",
     "text": [
      "                         precision    recall  f1-score   support\n",
      "\n",
      "             functional       0.81      0.85      0.83      8098\n",
      "functional needs repair       0.47      0.37      0.41      1074\n",
      "         non functional       0.81      0.78      0.79      5678\n",
      "\n",
      "               accuracy                           0.79     14850\n",
      "              macro avg       0.69      0.67      0.68     14850\n",
      "           weighted avg       0.78      0.79      0.78     14850\n",
      "\n"
     ]
    },
    {
     "data": {
      "text/plain": [
       "<sklearn.metrics._plot.confusion_matrix.ConfusionMatrixDisplay at 0x1d4f1442978>"
      ]
     },
     "execution_count": 189,
     "metadata": {},
     "output_type": "execute_result"
    },
    {
     "data": {
      "image/png": "[encoded data removed]",
      "text/plain": [
       "<Figure size 432x288 with 2 Axes>"
      ]
     },
     "metadata": {
      "needs_background": "light"
     },
     "output_type": "display_data"
    }
   ],
   "source": [
    "print(classification_report(y_test,y_pred,target_names=list(label_dict.values())))\n",
    "plot_confusion_matrix(XGB_base_pipe,X_test,y_test,display_labels=list(label_dict.values()),xticks_rotation=45)"
   ]
  },
  {
   "cell_type": "markdown",
   "metadata": {},
   "source": [
    "## XGBoost SMOTE"
   ]
  },
  {
   "cell_type": "code",
   "execution_count": null,
   "metadata": {},
   "outputs": [],
   "source": [
    "grid_params = {\n",
    "    'scaler': [StandardScaler(), MinMaxScaler(),None],\n",
    "    'feat_sel__k': np.arange(10,X.shape[1]+1,step=1),\n",
    "    #'model__learning_rate': [0.9], #np.arange(0,1.1,step=0.1),\n",
    "    #'model__gamma' : [0], #np.arange(0,1.1,step=0.1),\n",
    "    #'model__lambda' : [0.2], #np.arange(0,1.1,step=0.1),\n",
    "    #'model__alpha' : [0.6], #np.arange(0,1.1,step=0.1),\n",
    "    #'model__n_estimators': [268], #np.arange(260,270,step=1),\n",
    "    #'model__max_depth' : [18], #np.arange(1,20,step=1),  \n",
    "}\n",
    "\n",
    "XGB_smote_pipe = GridSearchCV(Pipeline([('scaler',scaler),('feat_sel',feat_sel),('model',model)]),scoring=recall_repair_scorer,cv=5,param_grid=grid_params,n_jobs=-1)\n",
    "\n",
    "XGB_smote_pipe.fit(X_train_smote,y_train_smote)\n",
    "\n",
    "y_pred = XGB_smote_pipe.predict(X_test)\n",
    "\n",
    "print(classification_report(y_test,y_pred,target_names=list(label_dict.values())))\n",
    "plot_confusion_matrix(XGB_smote_pipe,X_test,y_test,display_labels=list(label_dict.values()),xticks_rotation=45)"
   ]
  },
  {
   "cell_type": "code",
   "execution_count": null,
   "metadata": {},
   "outputs": [],
   "source": [
    "print(classification_report(y_test,y_pred,target_names=list(label_dict.values())))\n",
    "plot_confusion_matrix(XGB_smote_pipe,X_test,y_test,display_labels=list(label_dict.values()),xticks_rotation=45)"
   ]
  },
  {
   "cell_type": "markdown",
   "metadata": {},
   "source": [
    "## Neural Network"
   ]
  },
  {
   "cell_type": "code",
   "execution_count": 42,
   "metadata": {},
   "outputs": [],
   "source": [
    "from keras.models import Sequential\n",
    "from keras.layers import Dense\n",
    "\n",
    "import tensorflow as tf\n",
    "from tensorflow.keras.wrappers.scikit_learn import KerasClassifier\n",
    "\n",
    "from sklearn.model_selection import KFold, cross_val_score\n",
    "\n",
    "n_feat = X_train_smote.shape[1]\n",
    "n_out = len(set(y_train_smote))\n",
    "\n",
    "def baseline_model(optimizer='adam'):\n",
    "    model = Sequential()\n",
    "    \n",
    "    model.add(Dense(51,activation='relu',input_dim=n_feat))\n",
    "    model.add(Dense(26,activation='relu'))\n",
    "    model.add(Dense(13,activation='relu'))\n",
    "    model.add(Dense(7,activation='relu'))\n",
    "    model.add(Dense(4,activation='relu'))\n",
    "    model.add(Dense(2,activation='relu'))\n",
    "    model.add(Dense(n_out,activation='softmax'))\n",
    "\n",
    "    model.compile(loss='categorical_crossentropy',optimizer=optimizer,metrics=['accuracy'])\n",
    "    \n",
    "    return model"
   ]
  },
  {
   "cell_type": "code",
   "execution_count": 43,
   "metadata": {},
   "outputs": [
    {
     "data": {
      "text/plain": [
       "GridSearchCV(cv=5,\n",
       "             estimator=Pipeline(steps=[('scaler', StandardScaler()),\n",
       "                                       ('nn',\n",
       "                                        <tensorflow.python.keras.wrappers.scikit_learn.KerasClassifier object at 0x000001D54A800400>)]),\n",
       "             n_jobs=-1,\n",
       "             param_grid={'nn__batch_size': [7], 'nn__epochs': [400],\n",
       "                         'nn__optimizer': ['Nadam']},\n",
       "             return_train_score=True)"
      ]
     },
     "execution_count": 43,
     "metadata": {},
     "output_type": "execute_result"
    }
   ],
   "source": [
    "scaler = StandardScaler()\n",
    "estimator = KerasClassifier(build_fn=baseline_model,verbose=0)\n",
    "\n",
    "grid_params={\n",
    "    'nn__epochs' : [400],\n",
    "    'nn__batch_size' : [7],\n",
    "    'nn__optimizer' : ['Nadam']\n",
    "}\n",
    "\n",
    "NN_pipe = GridSearchCV(Pipeline([('scaler',scaler),('nn',estimator)]),cv=5,param_grid=grid_params,\n",
    "                       n_jobs=-1,return_train_score=True)\n",
    "\n",
    "NN_pipe.fit(X_train_smote,y_train_smote)"
   ]
  },
  {
   "cell_type": "code",
   "execution_count": 44,
   "metadata": {},
   "outputs": [
    {
     "name": "stdout",
     "output_type": "stream",
     "text": [
      "                         precision    recall  f1-score   support\n",
      "\n",
      "             functional       0.80      0.80      0.80      8098\n",
      "functional needs repair       0.37      0.38      0.38      1074\n",
      "         non functional       0.76      0.75      0.76      5678\n",
      "\n",
      "               accuracy                           0.75     14850\n",
      "              macro avg       0.64      0.64      0.64     14850\n",
      "           weighted avg       0.75      0.75      0.75     14850\n",
      "\n"
     ]
    }
   ],
   "source": [
    "y_pred = NN_pipe.predict(X_test)\n",
    "\n",
    "\n",
    "print(classification_report(y_test,y_pred,target_names=list(label_dict.values())))"
   ]
  },
  {
   "cell_type": "code",
   "execution_count": 39,
   "metadata": {},
   "outputs": [
    {
     "name": "stdout",
     "output_type": "stream",
     "text": [
      "                         precision    recall  f1-score   support\n",
      "\n",
      "             functional       0.77      0.83      0.80      8098\n",
      "functional needs repair       0.33      0.42      0.37      1074\n",
      "         non functional       0.82      0.69      0.75      5678\n",
      "\n",
      "               accuracy                           0.75     14850\n",
      "              macro avg       0.64      0.65      0.64     14850\n",
      "           weighted avg       0.76      0.75      0.75     14850\n",
      "\n"
     ]
    }
   ],
   "source": [
    "y_pred = NN_pipe.predict(X_test)\n",
    "\n",
    "\n",
    "print(classification_report(y_test,y_pred,target_names=list(label_dict.values())))"
   ]
  },
  {
   "cell_type": "markdown",
   "metadata": {},
   "source": [
    "## Output Data Submission :"
   ]
  },
  {
   "cell_type": "code",
   "execution_count": 109,
   "metadata": {},
   "outputs": [
    {
     "data": {
      "text/html": [
       "<div>\n",
       "<style scoped>\n",
       "    .dataframe tbody tr th:only-of-type {\n",
       "        vertical-align: middle;\n",
       "    }\n",
       "\n",
       "    .dataframe tbody tr th {\n",
       "        vertical-align: top;\n",
       "    }\n",
       "\n",
       "    .dataframe thead th {\n",
       "        text-align: right;\n",
       "    }\n",
       "</style>\n",
       "<table border=\"1\" class=\"dataframe\">\n",
       "  <thead>\n",
       "    <tr style=\"text-align: right;\">\n",
       "      <th></th>\n",
       "      <th>gps_height</th>\n",
       "      <th>longitude</th>\n",
       "      <th>latitude</th>\n",
       "      <th>district_code</th>\n",
       "      <th>population</th>\n",
       "      <th>public_meeting</th>\n",
       "      <th>permit</th>\n",
       "      <th>pump_age</th>\n",
       "      <th>installer_Commu</th>\n",
       "      <th>installer_DANIDA</th>\n",
       "      <th>...</th>\n",
       "      <th>source_shallow well</th>\n",
       "      <th>source_spring</th>\n",
       "      <th>source_unknown</th>\n",
       "      <th>source_class_groundwater</th>\n",
       "      <th>source_class_surface</th>\n",
       "      <th>source_class_unknown</th>\n",
       "      <th>waterpoint_type_communal standpipe</th>\n",
       "      <th>waterpoint_type_communal standpipe multiple</th>\n",
       "      <th>waterpoint_type_hand pump</th>\n",
       "      <th>waterpoint_type_other</th>\n",
       "    </tr>\n",
       "  </thead>\n",
       "  <tbody>\n",
       "    <tr>\n",
       "      <th>0</th>\n",
       "      <td>1996</td>\n",
       "      <td>35.290799</td>\n",
       "      <td>-4.059696</td>\n",
       "      <td>3</td>\n",
       "      <td>321</td>\n",
       "      <td>1</td>\n",
       "      <td>1</td>\n",
       "      <td>1.0</td>\n",
       "      <td>0</td>\n",
       "      <td>0</td>\n",
       "      <td>...</td>\n",
       "      <td>0</td>\n",
       "      <td>0</td>\n",
       "      <td>0</td>\n",
       "      <td>0</td>\n",
       "      <td>1</td>\n",
       "      <td>0</td>\n",
       "      <td>0</td>\n",
       "      <td>0</td>\n",
       "      <td>0</td>\n",
       "      <td>1</td>\n",
       "    </tr>\n",
       "    <tr>\n",
       "      <th>1</th>\n",
       "      <td>1569</td>\n",
       "      <td>36.656709</td>\n",
       "      <td>-3.309214</td>\n",
       "      <td>2</td>\n",
       "      <td>300</td>\n",
       "      <td>1</td>\n",
       "      <td>1</td>\n",
       "      <td>13.0</td>\n",
       "      <td>0</td>\n",
       "      <td>0</td>\n",
       "      <td>...</td>\n",
       "      <td>0</td>\n",
       "      <td>1</td>\n",
       "      <td>0</td>\n",
       "      <td>1</td>\n",
       "      <td>0</td>\n",
       "      <td>0</td>\n",
       "      <td>1</td>\n",
       "      <td>0</td>\n",
       "      <td>0</td>\n",
       "      <td>0</td>\n",
       "    </tr>\n",
       "    <tr>\n",
       "      <th>2</th>\n",
       "      <td>1567</td>\n",
       "      <td>34.767863</td>\n",
       "      <td>-5.004344</td>\n",
       "      <td>2</td>\n",
       "      <td>500</td>\n",
       "      <td>1</td>\n",
       "      <td>0</td>\n",
       "      <td>3.0</td>\n",
       "      <td>0</td>\n",
       "      <td>0</td>\n",
       "      <td>...</td>\n",
       "      <td>0</td>\n",
       "      <td>0</td>\n",
       "      <td>0</td>\n",
       "      <td>0</td>\n",
       "      <td>1</td>\n",
       "      <td>0</td>\n",
       "      <td>0</td>\n",
       "      <td>0</td>\n",
       "      <td>0</td>\n",
       "      <td>1</td>\n",
       "    </tr>\n",
       "    <tr>\n",
       "      <th>3</th>\n",
       "      <td>267</td>\n",
       "      <td>38.058046</td>\n",
       "      <td>-9.418672</td>\n",
       "      <td>43</td>\n",
       "      <td>250</td>\n",
       "      <td>1</td>\n",
       "      <td>1</td>\n",
       "      <td>26.0</td>\n",
       "      <td>0</td>\n",
       "      <td>0</td>\n",
       "      <td>...</td>\n",
       "      <td>1</td>\n",
       "      <td>0</td>\n",
       "      <td>0</td>\n",
       "      <td>1</td>\n",
       "      <td>0</td>\n",
       "      <td>0</td>\n",
       "      <td>0</td>\n",
       "      <td>0</td>\n",
       "      <td>0</td>\n",
       "      <td>1</td>\n",
       "    </tr>\n",
       "    <tr>\n",
       "      <th>4</th>\n",
       "      <td>1260</td>\n",
       "      <td>35.006123</td>\n",
       "      <td>-10.950412</td>\n",
       "      <td>3</td>\n",
       "      <td>60</td>\n",
       "      <td>1</td>\n",
       "      <td>1</td>\n",
       "      <td>13.0</td>\n",
       "      <td>0</td>\n",
       "      <td>0</td>\n",
       "      <td>...</td>\n",
       "      <td>0</td>\n",
       "      <td>1</td>\n",
       "      <td>0</td>\n",
       "      <td>1</td>\n",
       "      <td>0</td>\n",
       "      <td>0</td>\n",
       "      <td>1</td>\n",
       "      <td>0</td>\n",
       "      <td>0</td>\n",
       "      <td>0</td>\n",
       "    </tr>\n",
       "  </tbody>\n",
       "</table>\n",
       "<p>5 rows × 99 columns</p>\n",
       "</div>"
      ],
      "text/plain": [
       "   gps_height  longitude   latitude  district_code  population  \\\n",
       "0        1996  35.290799  -4.059696              3         321   \n",
       "1        1569  36.656709  -3.309214              2         300   \n",
       "2        1567  34.767863  -5.004344              2         500   \n",
       "3         267  38.058046  -9.418672             43         250   \n",
       "4        1260  35.006123 -10.950412              3          60   \n",
       "\n",
       "   public_meeting  permit  pump_age  installer_Commu  installer_DANIDA  ...  \\\n",
       "0               1       1       1.0                0                 0  ...   \n",
       "1               1       1      13.0                0                 0  ...   \n",
       "2               1       0       3.0                0                 0  ...   \n",
       "3               1       1      26.0                0                 0  ...   \n",
       "4               1       1      13.0                0                 0  ...   \n",
       "\n",
       "   source_shallow well  source_spring  source_unknown  \\\n",
       "0                    0              0               0   \n",
       "1                    0              1               0   \n",
       "2                    0              0               0   \n",
       "3                    1              0               0   \n",
       "4                    0              1               0   \n",
       "\n",
       "   source_class_groundwater  source_class_surface  source_class_unknown  \\\n",
       "0                         0                     1                     0   \n",
       "1                         1                     0                     0   \n",
       "2                         0                     1                     0   \n",
       "3                         1                     0                     0   \n",
       "4                         1                     0                     0   \n",
       "\n",
       "   waterpoint_type_communal standpipe  \\\n",
       "0                                   0   \n",
       "1                                   1   \n",
       "2                                   0   \n",
       "3                                   0   \n",
       "4                                   1   \n",
       "\n",
       "   waterpoint_type_communal standpipe multiple  waterpoint_type_hand pump  \\\n",
       "0                                            0                          0   \n",
       "1                                            0                          0   \n",
       "2                                            0                          0   \n",
       "3                                            0                          0   \n",
       "4                                            0                          0   \n",
       "\n",
       "   waterpoint_type_other  \n",
       "0                      1  \n",
       "1                      0  \n",
       "2                      1  \n",
       "3                      1  \n",
       "4                      0  \n",
       "\n",
       "[5 rows x 99 columns]"
      ]
     },
     "execution_count": 109,
     "metadata": {},
     "output_type": "execute_result"
    }
   ],
   "source": [
    "df_test = pd.read_csv(data_processed_dir+'test_data_encoded_impv2_geo-corr.csv')\n",
    "X_submission = df_test.drop(['id','amount_tsh','status_group'],axis=1)\n",
    "\n",
    "X_submission.head()"
   ]
  },
  {
   "cell_type": "code",
   "execution_count": 110,
   "metadata": {},
   "outputs": [],
   "source": [
    "sub_results = RFC_base_pipe.predict(X_submission)\n",
    "\n",
    "df_sub = pd.concat([df_test['id'],pd.Series(label_enc.inverse_transform(sub_results),name='status_group')],axis=1).set_index('id')\n",
    "\n",
    "df_sub.to_csv(data_final_dir+'submission.csv')"
   ]
  }
 ],
 "metadata": {
  "kernelspec": {
   "display_name": "Python 3",
   "language": "python",
   "name": "python3"
  },
  "language_info": {
   "codemirror_mode": {
    "name": "ipython",
    "version": 3
   },
   "file_extension": ".py",
   "mimetype": "text/x-python",
   "name": "python",
   "nbconvert_exporter": "python",
   "pygments_lexer": "ipython3",
   "version": "3.6.12"
  }
 },
 "nbformat": 4,
 "nbformat_minor": 4
}
