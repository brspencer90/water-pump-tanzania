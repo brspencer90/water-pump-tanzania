{
 "cells": [
  {
   "cell_type": "code",
   "execution_count": 15,
   "metadata": {},
   "outputs": [],
   "source": [
    "# import modules\n",
    "\n",
    "import pandas as pd\n",
    "import matplotlib.pyplot as plt\n",
    "import numpy as np\n",
    "import datetime as dt\n",
    "\n",
    "import seaborn as sns\n",
    "\n",
    "from sklearn.preprocessing import MinMaxScaler, StandardScaler\n",
    "from sklearn.model_selection import train_test_split, cross_validate, GridSearchCV\n",
    "from sklearn.feature_selection import SelectKBest, f_classif\n",
    "from sklearn.ensemble import RandomForestClassifier\n",
    "from sklearn.cluster import KMeans\n",
    "from sklearn.pipeline import make_pipeline, Pipeline\n",
    "from sklearn.dummy import DummyClassifier\n",
    "from sklearn import tree\n",
    "from sklearn.metrics import (accuracy_score, balanced_accuracy_score, precision_score, recall_score, confusion_matrix,\n",
    "    plot_confusion_matrix, make_scorer,multilabel_confusion_matrix,ConfusionMatrixDisplay)\n",
    "\n",
    "from sklearn.preprocessing import LabelEncoder, OneHotEncoder\n",
    "\n",
    "from imblearn.over_sampling import SMOTE\n",
    "from imblearn.pipeline import Pipeline as imbPipeline\n",
    "\n",
    "from xgboost import XGBClassifier\n",
    "\n",
    "from CF_5_Modelling import (add_model_score, feat_imp, scorer_pos_neg_class,\n",
    "                            scorer_confusion_matrix)\n",
    "\n",
    "rng = 847666577 #int(np.random.default_rng().random()*(2**32))\n",
    "\n",
    "%qtconsole"
   ]
  },
  {
   "cell_type": "code",
   "execution_count": 16,
   "metadata": {},
   "outputs": [],
   "source": [
    "data_raw_dir = 'C:\\\\Users\\\\Bryan\\\\OneDrive\\\\02 GitHub\\\\water-pump-tanzania\\\\data\\\\raw\\\\'\n",
    "data_interim_dir = 'C:\\\\Users\\\\Bryan\\\\OneDrive\\\\02 GitHub\\\\water-pump-tanzania\\\\data\\\\interim\\\\'\n",
    "data_processed_dir = 'C:\\\\Users\\\\Bryan\\\\OneDrive\\\\02 GitHub\\\\water-pump-tanzania\\\\data\\\\processed\\\\'\n",
    "docs_img_dir = 'C:\\\\Users\\\\bryan\\\\OneDrive\\\\02 GitHub\\\\water-pump-tanzania\\\\docs\\\\img\\\\'"
   ]
  },
  {
   "cell_type": "code",
   "execution_count": 26,
   "metadata": {},
   "outputs": [
    {
     "name": "stdout",
     "output_type": "stream",
     "text": [
      "(57588, 70)\n",
      "Index(['id', 'amount_tsh', 'longitude', 'latitude', 'district_code',\n",
      "       'population', 'public_meeting', 'permit', 'pump_age', 'status_group',\n",
      "       'installer_Commu', 'installer_DWE', 'installer_Government',\n",
      "       'installer_RWE', 'installer_other', 'installer_unknown',\n",
      "       'basin_Internal', 'basin_Lake Tanganyika', 'basin_Lake Victoria',\n",
      "       'basin_Pangani', 'basin_Rufiji', 'basin_other', 'region_Iringa',\n",
      "       'region_Kilimanjaro', 'region_Mbeya', 'region_Morogoro',\n",
      "       'region_Shinyanga', 'region_other', 'extraction_type_class_gravity',\n",
      "       'extraction_type_class_handpump', 'extraction_type_class_motorpump',\n",
      "       'extraction_type_class_other', 'extraction_type_class_rope pump',\n",
      "       'extraction_type_class_submersible',\n",
      "       'extraction_type_class_wind-powered', 'management_other',\n",
      "       'management_parastatal', 'management_private operator',\n",
      "       'management_vwc', 'management_water board', 'management_wua',\n",
      "       'management_wug', 'payment_type_annually', 'payment_type_monthly',\n",
      "       'payment_type_never pay', 'payment_type_on failure',\n",
      "       'payment_type_other', 'payment_type_per bucket', 'payment_type_unknown',\n",
      "       'water_quality_other', 'water_quality_salty', 'water_quality_soft',\n",
      "       'water_quality_unknown', 'quantity_dry', 'quantity_enough',\n",
      "       'quantity_insufficient', 'quantity_other', 'quantity_seasonal',\n",
      "       'source_class_groundwater', 'source_class_other',\n",
      "       'source_class_surface', 'waterpoint_type_communal standpipe',\n",
      "       'waterpoint_type_communal standpipe multiple',\n",
      "       'waterpoint_type_hand pump', 'waterpoint_type_other', 'pump_age_0-20',\n",
      "       'pump_age_20-40', 'pump_age_40-60', 'pump_age_60-80',\n",
      "       'pump_age_80-100'],\n",
      "      dtype='object')\n"
     ]
    },
    {
     "data": {
      "text/html": [
       "<div>\n",
       "<style scoped>\n",
       "    .dataframe tbody tr th:only-of-type {\n",
       "        vertical-align: middle;\n",
       "    }\n",
       "\n",
       "    .dataframe tbody tr th {\n",
       "        vertical-align: top;\n",
       "    }\n",
       "\n",
       "    .dataframe thead th {\n",
       "        text-align: right;\n",
       "    }\n",
       "</style>\n",
       "<table border=\"1\" class=\"dataframe\">\n",
       "  <thead>\n",
       "    <tr style=\"text-align: right;\">\n",
       "      <th></th>\n",
       "      <th>id</th>\n",
       "      <th>amount_tsh</th>\n",
       "      <th>longitude</th>\n",
       "      <th>latitude</th>\n",
       "      <th>district_code</th>\n",
       "      <th>population</th>\n",
       "      <th>public_meeting</th>\n",
       "      <th>permit</th>\n",
       "      <th>pump_age</th>\n",
       "      <th>status_group</th>\n",
       "      <th>...</th>\n",
       "      <th>source_class_surface</th>\n",
       "      <th>waterpoint_type_communal standpipe</th>\n",
       "      <th>waterpoint_type_communal standpipe multiple</th>\n",
       "      <th>waterpoint_type_hand pump</th>\n",
       "      <th>waterpoint_type_other</th>\n",
       "      <th>pump_age_0-20</th>\n",
       "      <th>pump_age_20-40</th>\n",
       "      <th>pump_age_40-60</th>\n",
       "      <th>pump_age_60-80</th>\n",
       "      <th>pump_age_80-100</th>\n",
       "    </tr>\n",
       "  </thead>\n",
       "  <tbody>\n",
       "    <tr>\n",
       "      <th>0</th>\n",
       "      <td>69572</td>\n",
       "      <td>6000.0</td>\n",
       "      <td>34.938093</td>\n",
       "      <td>-9.856322</td>\n",
       "      <td>5</td>\n",
       "      <td>109</td>\n",
       "      <td>1</td>\n",
       "      <td>0</td>\n",
       "      <td>12.0</td>\n",
       "      <td>functional</td>\n",
       "      <td>...</td>\n",
       "      <td>0</td>\n",
       "      <td>1</td>\n",
       "      <td>0</td>\n",
       "      <td>0</td>\n",
       "      <td>0</td>\n",
       "      <td>0</td>\n",
       "      <td>1</td>\n",
       "      <td>0</td>\n",
       "      <td>0</td>\n",
       "      <td>0</td>\n",
       "    </tr>\n",
       "    <tr>\n",
       "      <th>1</th>\n",
       "      <td>8776</td>\n",
       "      <td>0.0</td>\n",
       "      <td>34.698766</td>\n",
       "      <td>-2.147466</td>\n",
       "      <td>2</td>\n",
       "      <td>280</td>\n",
       "      <td>1</td>\n",
       "      <td>0</td>\n",
       "      <td>3.0</td>\n",
       "      <td>functional</td>\n",
       "      <td>...</td>\n",
       "      <td>1</td>\n",
       "      <td>1</td>\n",
       "      <td>0</td>\n",
       "      <td>0</td>\n",
       "      <td>0</td>\n",
       "      <td>1</td>\n",
       "      <td>0</td>\n",
       "      <td>0</td>\n",
       "      <td>0</td>\n",
       "      <td>0</td>\n",
       "    </tr>\n",
       "  </tbody>\n",
       "</table>\n",
       "<p>2 rows × 70 columns</p>\n",
       "</div>"
      ],
      "text/plain": [
       "      id  amount_tsh  longitude  latitude  district_code  population  \\\n",
       "0  69572      6000.0  34.938093 -9.856322              5         109   \n",
       "1   8776         0.0  34.698766 -2.147466              2         280   \n",
       "\n",
       "   public_meeting  permit  pump_age status_group  ...  source_class_surface  \\\n",
       "0               1       0      12.0   functional  ...                     0   \n",
       "1               1       0       3.0   functional  ...                     1   \n",
       "\n",
       "   waterpoint_type_communal standpipe  \\\n",
       "0                                   1   \n",
       "1                                   1   \n",
       "\n",
       "   waterpoint_type_communal standpipe multiple  waterpoint_type_hand pump  \\\n",
       "0                                            0                          0   \n",
       "1                                            0                          0   \n",
       "\n",
       "   waterpoint_type_other  pump_age_0-20  pump_age_20-40  pump_age_40-60  \\\n",
       "0                      0              0               1               0   \n",
       "1                      0              1               0               0   \n",
       "\n",
       "   pump_age_60-80  pump_age_80-100  \n",
       "0               0                0  \n",
       "1               0                0  \n",
       "\n",
       "[2 rows x 70 columns]"
      ]
     },
     "execution_count": 26,
     "metadata": {},
     "output_type": "execute_result"
    }
   ],
   "source": [
    "df_train = pd.read_csv(data_processed_dir+'training_data_encoded_no-geo.csv')\n",
    "print(df_train.shape)\n",
    "print(df_train.columns)\n",
    "df_train.head(2)"
   ]
  },
  {
   "cell_type": "code",
   "execution_count": 18,
   "metadata": {},
   "outputs": [
    {
     "name": "stdout",
     "output_type": "stream",
     "text": [
      "functional                 0.545061\n",
      "non functional             0.386678\n",
      "functional needs repair    0.068261\n",
      "Name: status_group, dtype: float64\n"
     ]
    }
   ],
   "source": [
    "print(df_train['status_group'].value_counts(normalize=True))"
   ]
  },
  {
   "cell_type": "code",
   "execution_count": 20,
   "metadata": {},
   "outputs": [
    {
     "data": {
      "text/html": [
       "<div>\n",
       "<style scoped>\n",
       "    .dataframe tbody tr th:only-of-type {\n",
       "        vertical-align: middle;\n",
       "    }\n",
       "\n",
       "    .dataframe tbody tr th {\n",
       "        vertical-align: top;\n",
       "    }\n",
       "\n",
       "    .dataframe thead th {\n",
       "        text-align: right;\n",
       "    }\n",
       "</style>\n",
       "<table border=\"1\" class=\"dataframe\">\n",
       "  <thead>\n",
       "    <tr style=\"text-align: right;\">\n",
       "      <th></th>\n",
       "      <th>amount_tsh</th>\n",
       "      <th>longitude</th>\n",
       "      <th>latitude</th>\n",
       "      <th>district_code</th>\n",
       "      <th>population</th>\n",
       "      <th>public_meeting</th>\n",
       "      <th>permit</th>\n",
       "      <th>pump_age</th>\n",
       "      <th>installer_Commu</th>\n",
       "      <th>installer_DWE</th>\n",
       "      <th>...</th>\n",
       "      <th>source_class_surface</th>\n",
       "      <th>waterpoint_type_communal standpipe</th>\n",
       "      <th>waterpoint_type_communal standpipe multiple</th>\n",
       "      <th>waterpoint_type_hand pump</th>\n",
       "      <th>waterpoint_type_other</th>\n",
       "      <th>pump_age_0-20</th>\n",
       "      <th>pump_age_20-40</th>\n",
       "      <th>pump_age_40-60</th>\n",
       "      <th>pump_age_60-80</th>\n",
       "      <th>pump_age_80-100</th>\n",
       "    </tr>\n",
       "  </thead>\n",
       "  <tbody>\n",
       "    <tr>\n",
       "      <th>0</th>\n",
       "      <td>6000.0</td>\n",
       "      <td>34.938093</td>\n",
       "      <td>-9.856322</td>\n",
       "      <td>5</td>\n",
       "      <td>109</td>\n",
       "      <td>1</td>\n",
       "      <td>0</td>\n",
       "      <td>12.0</td>\n",
       "      <td>0</td>\n",
       "      <td>0</td>\n",
       "      <td>...</td>\n",
       "      <td>0</td>\n",
       "      <td>1</td>\n",
       "      <td>0</td>\n",
       "      <td>0</td>\n",
       "      <td>0</td>\n",
       "      <td>0</td>\n",
       "      <td>1</td>\n",
       "      <td>0</td>\n",
       "      <td>0</td>\n",
       "      <td>0</td>\n",
       "    </tr>\n",
       "    <tr>\n",
       "      <th>1</th>\n",
       "      <td>0.0</td>\n",
       "      <td>34.698766</td>\n",
       "      <td>-2.147466</td>\n",
       "      <td>2</td>\n",
       "      <td>280</td>\n",
       "      <td>1</td>\n",
       "      <td>0</td>\n",
       "      <td>3.0</td>\n",
       "      <td>0</td>\n",
       "      <td>0</td>\n",
       "      <td>...</td>\n",
       "      <td>1</td>\n",
       "      <td>1</td>\n",
       "      <td>0</td>\n",
       "      <td>0</td>\n",
       "      <td>0</td>\n",
       "      <td>1</td>\n",
       "      <td>0</td>\n",
       "      <td>0</td>\n",
       "      <td>0</td>\n",
       "      <td>0</td>\n",
       "    </tr>\n",
       "    <tr>\n",
       "      <th>2</th>\n",
       "      <td>25.0</td>\n",
       "      <td>37.460664</td>\n",
       "      <td>-3.821329</td>\n",
       "      <td>4</td>\n",
       "      <td>250</td>\n",
       "      <td>1</td>\n",
       "      <td>1</td>\n",
       "      <td>4.0</td>\n",
       "      <td>0</td>\n",
       "      <td>0</td>\n",
       "      <td>...</td>\n",
       "      <td>1</td>\n",
       "      <td>0</td>\n",
       "      <td>1</td>\n",
       "      <td>0</td>\n",
       "      <td>0</td>\n",
       "      <td>1</td>\n",
       "      <td>0</td>\n",
       "      <td>0</td>\n",
       "      <td>0</td>\n",
       "      <td>0</td>\n",
       "    </tr>\n",
       "    <tr>\n",
       "      <th>3</th>\n",
       "      <td>0.0</td>\n",
       "      <td>38.486161</td>\n",
       "      <td>-11.155298</td>\n",
       "      <td>63</td>\n",
       "      <td>58</td>\n",
       "      <td>1</td>\n",
       "      <td>0</td>\n",
       "      <td>27.0</td>\n",
       "      <td>0</td>\n",
       "      <td>0</td>\n",
       "      <td>...</td>\n",
       "      <td>0</td>\n",
       "      <td>0</td>\n",
       "      <td>1</td>\n",
       "      <td>0</td>\n",
       "      <td>0</td>\n",
       "      <td>0</td>\n",
       "      <td>0</td>\n",
       "      <td>0</td>\n",
       "      <td>0</td>\n",
       "      <td>1</td>\n",
       "    </tr>\n",
       "    <tr>\n",
       "      <th>4</th>\n",
       "      <td>0.0</td>\n",
       "      <td>31.130847</td>\n",
       "      <td>-1.825359</td>\n",
       "      <td>1</td>\n",
       "      <td>0</td>\n",
       "      <td>1</td>\n",
       "      <td>0</td>\n",
       "      <td>23.0</td>\n",
       "      <td>0</td>\n",
       "      <td>0</td>\n",
       "      <td>...</td>\n",
       "      <td>1</td>\n",
       "      <td>1</td>\n",
       "      <td>0</td>\n",
       "      <td>0</td>\n",
       "      <td>0</td>\n",
       "      <td>0</td>\n",
       "      <td>0</td>\n",
       "      <td>1</td>\n",
       "      <td>0</td>\n",
       "      <td>0</td>\n",
       "    </tr>\n",
       "  </tbody>\n",
       "</table>\n",
       "<p>5 rows × 68 columns</p>\n",
       "</div>"
      ],
      "text/plain": [
       "   amount_tsh  longitude   latitude  district_code  population  \\\n",
       "0      6000.0  34.938093  -9.856322              5         109   \n",
       "1         0.0  34.698766  -2.147466              2         280   \n",
       "2        25.0  37.460664  -3.821329              4         250   \n",
       "3         0.0  38.486161 -11.155298             63          58   \n",
       "4         0.0  31.130847  -1.825359              1           0   \n",
       "\n",
       "   public_meeting  permit  pump_age  installer_Commu  installer_DWE  ...  \\\n",
       "0               1       0      12.0                0              0  ...   \n",
       "1               1       0       3.0                0              0  ...   \n",
       "2               1       1       4.0                0              0  ...   \n",
       "3               1       0      27.0                0              0  ...   \n",
       "4               1       0      23.0                0              0  ...   \n",
       "\n",
       "   source_class_surface  waterpoint_type_communal standpipe  \\\n",
       "0                     0                                   1   \n",
       "1                     1                                   1   \n",
       "2                     1                                   0   \n",
       "3                     0                                   0   \n",
       "4                     1                                   1   \n",
       "\n",
       "   waterpoint_type_communal standpipe multiple  waterpoint_type_hand pump  \\\n",
       "0                                            0                          0   \n",
       "1                                            0                          0   \n",
       "2                                            1                          0   \n",
       "3                                            1                          0   \n",
       "4                                            0                          0   \n",
       "\n",
       "   waterpoint_type_other  pump_age_0-20  pump_age_20-40  pump_age_40-60  \\\n",
       "0                      0              0               1               0   \n",
       "1                      0              1               0               0   \n",
       "2                      0              1               0               0   \n",
       "3                      0              0               0               0   \n",
       "4                      0              0               0               1   \n",
       "\n",
       "   pump_age_60-80  pump_age_80-100  \n",
       "0               0                0  \n",
       "1               0                0  \n",
       "2               0                0  \n",
       "3               0                1  \n",
       "4               0                0  \n",
       "\n",
       "[5 rows x 68 columns]"
      ]
     },
     "execution_count": 20,
     "metadata": {},
     "output_type": "execute_result"
    }
   ],
   "source": [
    "df_col = df_train.columns.to_list()\n",
    "\n",
    "X = df_train.drop(['id','status_group'],axis=1)\n",
    "\n",
    "label_enc = LabelEncoder()\n",
    "\n",
    "y = label_enc.fit_transform(df_train['status_group'])\n",
    "\n",
    "label_dict = dict(zip(list(set(y)),label_enc.inverse_transform(list(set(y))).tolist()))\n",
    "\n",
    "X.head()"
   ]
  },
  {
   "cell_type": "code",
   "execution_count": 21,
   "metadata": {},
   "outputs": [
    {
     "name": "stdout",
     "output_type": "stream",
     "text": [
      "0    23519\n",
      "1     2922\n",
      "2    16750\n",
      "dtype: int64\n"
     ]
    }
   ],
   "source": [
    "X_train, X_test, y_train, y_test = train_test_split(X,y,test_size=0.25,random_state=42)\n",
    "\n",
    "print(pd.Series(y_train).value_counts().sort_index())"
   ]
  },
  {
   "cell_type": "code",
   "execution_count": 22,
   "metadata": {},
   "outputs": [
    {
     "name": "stdout",
     "output_type": "stream",
     "text": [
      "0    23519\n",
      "1    23519\n",
      "2    23519\n",
      "dtype: int64\n"
     ]
    }
   ],
   "source": [
    "# SMOTE training editing\n",
    "smote = SMOTE(random_state=42)\n",
    "\n",
    "X_train_smote, y_train_smote = smote.fit_sample(X_train,y_train)\n",
    "\n",
    "print(pd.Series(y_train_smote).value_counts())"
   ]
  },
  {
   "cell_type": "markdown",
   "metadata": {},
   "source": [
    "## RFC Base"
   ]
  },
  {
   "cell_type": "code",
   "execution_count": 23,
   "metadata": {},
   "outputs": [],
   "source": [
    "model = RandomForestClassifier(random_state=123,n_estimators=200)\n",
    "scaler = StandardScaler()\n",
    "\n",
    "grid_params = {\n",
    "    'scaler' : [StandardScaler()], #,MinMaxScaler(),None\n",
    "}\n",
    "\n",
    "RFC_base_pipe = Pipeline([('scaler',scaler),('model',model)])\n",
    "\n",
    "RFC_base_pipe.fit(X_train,y_train)\n",
    "\n",
    "y_pred = RFC_base_pipe.predict(X_test)"
   ]
  },
  {
   "cell_type": "code",
   "execution_count": 24,
   "metadata": {},
   "outputs": [
    {
     "name": "stdout",
     "output_type": "stream",
     "text": [
      "recall weighted : 0.7960686254080711\n",
      "accuracy : 0.7960686254080711\n"
     ]
    },
    {
     "data": {
      "text/plain": [
       "<sklearn.metrics._plot.confusion_matrix.ConfusionMatrixDisplay at 0x1a7672d9070>"
      ]
     },
     "execution_count": 24,
     "metadata": {},
     "output_type": "execute_result"
    },
    {
     "data": {
      "image/png": "[encoded data removed]",
      "text/plain": [
       "<Figure size 432x288 with 2 Axes>"
      ]
     },
     "metadata": {
      "needs_background": "light"
     },
     "output_type": "display_data"
    }
   ],
   "source": [
    "print('recall weighted : %s' % recall_score(y_test,y_pred,average='weighted'))\n",
    "print('accuracy : %s' % accuracy_score(y_test,y_pred))\n",
    "plot_confusion_matrix(RFC_base_pipe,X_test,y_test)"
   ]
  },
  {
   "cell_type": "code",
   "execution_count": 25,
   "metadata": {},
   "outputs": [
    {
     "data": {
      "text/plain": [
       "longitude                             0.164087\n",
       "latitude                              0.163641\n",
       "quantity_dry                          0.078106\n",
       "population                            0.059483\n",
       "pump_age                              0.056970\n",
       "                                        ...   \n",
       "installer_Commu                       0.001138\n",
       "payment_type_other                    0.001132\n",
       "extraction_type_class_rope pump       0.000809\n",
       "source_class_other                    0.000637\n",
       "extraction_type_class_wind-powered    0.000321\n",
       "Length: 68, dtype: float64"
      ]
     },
     "execution_count": 25,
     "metadata": {},
     "output_type": "execute_result"
    }
   ],
   "source": [
    "pd.Series(RFC_base_pipe.named_steps.model.feature_importances_, index=X.columns).sort_values(ascending=False)"
   ]
  },
  {
   "cell_type": "markdown",
   "metadata": {},
   "source": [
    "## XGBoost"
   ]
  },
  {
   "cell_type": "code",
   "execution_count": 134,
   "metadata": {},
   "outputs": [
    {
     "name": "stdout",
     "output_type": "stream",
     "text": [
      "[10:47:59] WARNING: C:/Users/Administrator/workspace/xgboost-win64_release_1.3.0/src/learner.cc:1061: Starting in XGBoost 1.3.0, the default evaluation metric used with the objective 'multi:softprob' was changed from 'merror' to 'mlogloss'. Explicitly set eval_metric if you'd like to restore the old behavior.\n"
     ]
    }
   ],
   "source": [
    "model = XGBClassifier(objective='multi:softmax',booster='gbtree',use_label_encoder=False)\n",
    "\n",
    "grid_params = {\n",
    "    'model__learning_rate': [1], #np.arange(0.1,1,step=0.1),\n",
    "    #'model__n_estimators': [35], #np.arange(30,50,step=1),\n",
    "    #'model__max_depth' : np.arange(1,10,step=1),\n",
    "    'model__gamma' : [0.6], #np.arange(0,1,step=0.1),\n",
    "    'model__lambda' : np.arange(0,1.1,step=0.1),\n",
    "    #'model__alpha' : [0], #np.arange(0,1.1,step=0.1),\n",
    "    'scaler': [StandardScaler()] #, MinMaxScaler(),None]    \n",
    "}\n",
    "\n",
    "XGB_base_pipe = GridSearchCV(Pipeline([('scaler',scaler),('model',model)]),scoring='recall_weighted',cv=5,param_grid=grid_params,n_jobs=-1)\n",
    "\n",
    "XGB_base_pipe.fit(X_train,y_train)\n",
    "\n",
    "y_pred = XGB_base_pipe.predict(X_test)"
   ]
  },
  {
   "cell_type": "code",
   "execution_count": 135,
   "metadata": {},
   "outputs": [
    {
     "name": "stdout",
     "output_type": "stream",
     "text": [
      "recall weighted : 0.500875656742557\n",
      "accuracy : 0.500875656742557\n"
     ]
    },
    {
     "data": {
      "text/plain": [
       "array([[6129,   57, 1795],\n",
       "       [ 793,    7,  249],\n",
       "       [4480,   36, 1300]], dtype=int64)"
      ]
     },
     "execution_count": 135,
     "metadata": {},
     "output_type": "execute_result"
    }
   ],
   "source": [
    "print('recall weighted : %s' % recall_score(y_test,y_pred,average='weighted'))\n",
    "print('accuracy : %s' % accuracy_score(y_test,y_pred))\n",
    "confusion_matrix(y_test,y_pred)"
   ]
  }
 ],
 "metadata": {
  "kernelspec": {
   "display_name": "Python 3",
   "language": "python",
   "name": "python3"
  },
  "language_info": {
   "codemirror_mode": {
    "name": "ipython",
    "version": 3
   },
   "file_extension": ".py",
   "mimetype": "text/x-python",
   "name": "python",
   "nbconvert_exporter": "python",
   "pygments_lexer": "ipython3",
   "version": "3.9.1"
  }
 },
 "nbformat": 4,
 "nbformat_minor": 4
}
