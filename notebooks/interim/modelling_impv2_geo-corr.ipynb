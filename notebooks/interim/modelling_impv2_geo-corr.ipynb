{
 "cells": [
  {
   "cell_type": "code",
   "execution_count": 1,
   "metadata": {},
   "outputs": [],
   "source": [
    "# import modules\n",
    "\n",
    "import pandas as pd\n",
    "import matplotlib.pyplot as plt\n",
    "import numpy as np\n",
    "import datetime as dt\n",
    "\n",
    "import seaborn as sns\n",
    "\n",
    "from sklearn.preprocessing import MinMaxScaler, StandardScaler\n",
    "from sklearn.model_selection import train_test_split, cross_validate, GridSearchCV\n",
    "from sklearn.feature_selection import SelectKBest, f_classif\n",
    "from sklearn.ensemble import RandomForestClassifier\n",
    "from sklearn.cluster import KMeans\n",
    "from sklearn.pipeline import make_pipeline, Pipeline\n",
    "from sklearn.dummy import DummyClassifier\n",
    "from sklearn import tree\n",
    "from sklearn.metrics import (accuracy_score, balanced_accuracy_score, precision_score, recall_score, confusion_matrix,\n",
    "    plot_confusion_matrix, make_scorer,multilabel_confusion_matrix,ConfusionMatrixDisplay, classification_report)\n",
    "\n",
    "from sklearn.preprocessing import LabelEncoder, OneHotEncoder\n",
    "\n",
    "from imblearn.over_sampling import SMOTE\n",
    "from imblearn.pipeline import Pipeline as imbPipeline\n",
    "\n",
    "from xgboost import XGBClassifier\n",
    "\n",
    "from CF_5_Modelling import (add_model_score, feat_imp, scorer_pos_neg_class,\n",
    "                            scorer_confusion_matrix)\n",
    "\n",
    "rng = 847666577 #int(np.random.default_rng().random()*(2**32))\n",
    "\n",
    "%qtconsole"
   ]
  },
  {
   "cell_type": "code",
   "execution_count": 2,
   "metadata": {},
   "outputs": [],
   "source": [
    "data_raw_dir = 'C:\\\\Users\\\\Bryan\\\\OneDrive\\\\02 GitHub\\\\water-pump-tanzania\\\\data\\\\raw\\\\'\n",
    "data_interim_dir = 'C:\\\\Users\\\\Bryan\\\\OneDrive\\\\02 GitHub\\\\water-pump-tanzania\\\\data\\\\interim\\\\'\n",
    "data_processed_dir = 'C:\\\\Users\\\\Bryan\\\\OneDrive\\\\02 GitHub\\\\water-pump-tanzania\\\\data\\\\processed\\\\'\n",
    "data_final_dir = 'C:\\\\Users\\\\Bryan\\\\OneDrive\\\\02 GitHub\\\\water-pump-tanzania\\\\data\\\\final\\\\'\n",
    "docs_img_dir = 'C:\\\\Users\\\\bryan\\\\OneDrive\\\\02 GitHub\\\\water-pump-tanzania\\\\docs\\\\img\\\\'"
   ]
  },
  {
   "cell_type": "code",
   "execution_count": 3,
   "metadata": {},
   "outputs": [],
   "source": [
    "def plot_train_test_scoring(model, param, param_range,smote=False):\n",
    "    train_score = pd.DataFrame(columns=['param','recall_functional','recall_needs_repair','recall_non-functional',\n",
    "                                       'prec_functional','prec_needs_repair','prec_non-functional'])\n",
    "    test_score = pd.DataFrame(columns=['param','recall_functional','recall_needs_repair','recall_non-functional',\n",
    "                                       'prec_functional','prec_needs_repair','prec_non-functional'])\n",
    "    \n",
    "    if smote : \n",
    "        X_train_func = X_train_smote\n",
    "        y_train_func = y_train_smote\n",
    "    else:\n",
    "        X_train_func = X_train\n",
    "        y_train_func = y_train\n",
    "    \n",
    "    for i in param_range:\n",
    "        \n",
    "        grid_params = {\n",
    "            'scaler' : [StandardScaler()],\n",
    "            param : [i]\n",
    "        }\n",
    "        \n",
    "        pipe = GridSearchCV(Pipeline([('scaler',scaler),('feat_sel',feat_sel),('model',model)]),scoring='recall',cv=5,param_grid=grid_params,n_jobs=-1)\n",
    "        \n",
    "        pipe.fit(X_train_func,y_train_func)\n",
    "        \n",
    "        y_train_pred = pipe.predict(X_train_func)\n",
    "        y_test_pred = pipe.predict(X_test)\n",
    "        \n",
    "        recall_train = recall_score(y_train_func,y_train_pred,labels=[0,1,2],average=None)\n",
    "        precision_train = precision_score(y_train_func,y_train_pred,labels=[0,1,2],average=None)\n",
    "        \n",
    "        recall_test = recall_score(y_test,y_test_pred,labels=[0,1,2],average=None)\n",
    "        precision_test = precision_score(y_test,y_test_pred,labels=[0,1,2],average=None)\n",
    "        \n",
    "        train_score_iter = pd.DataFrame([[i,recall_train[0],recall_train[1],recall_train[2],\n",
    "                                         precision_train[0],precision_train[1],precision_train[2]]],\n",
    "                                        columns=['param','recall_functional','recall_needs_repair','recall_non-functional',\n",
    "                                                 'prec_functional','prec_needs_repair','prec_non-functional'])\n",
    "        \n",
    "        test_score_iter = pd.DataFrame([[i,recall_test[0],recall_test[1],recall_test[2],\n",
    "                                         precision_test[0],precision_test[1],precision_test[2]]],\n",
    "                                        columns=['param','recall_functional','recall_needs_repair','recall_non-functional',\n",
    "                                                 'prec_functional','prec_needs_repair','prec_non-functional'])\n",
    "        \n",
    "        \n",
    "        train_score = pd.concat([train_score,train_score_iter])\n",
    "        test_score = pd.concat([test_score,test_score_iter])\n",
    "    \n",
    "    return train_score, test_score\n",
    "    \n",
    "# fit model with given number of nodes, returns test set accuracy\n",
    "def evaluate_model(n_nodes,n_layers,trainX, trainy, testX, testy):\n",
    "    \n",
    "    #configure the model based on the data\n",
    "    n_input, n_classes = trainX.shape[1], len(set(testy))\n",
    "    \n",
    "    # define model\n",
    "    model = Sequential()\n",
    "    model.add(Dense(n_nodes, input_dim=100, activation='relu'))\n",
    "    \n",
    "    for layer in range(0,n_layers-1):\n",
    "        model.add(Dense(n_nodes,input_dim=100,activation='relu'))\n",
    "        \n",
    "    model.add(Dense(3, activation='softmax'))# compile model\n",
    "    model.compile(loss='categorical_crossentropy', optimizer='adam', metrics=['accuracy'])\n",
    "    \n",
    "    # fit model on train set\n",
    "    history = model.fit(trainX, to_categorical(trainy), epochs=100, verbose=0)\n",
    "    \n",
    "    # evaluate model on test set\n",
    "    _, test_acc = model.evaluate(testX, to_categorical(testy), verbose=0)\n",
    "    \n",
    "    return history, test_acc\n",
    "\n",
    "def optimize_nn(num_nodes,num_layers,X,y,cv_splits=5):\n",
    "\n",
    "    plt.figure(figsize=(15,7))\n",
    "\n",
    "    num_nodes = num_nodes\n",
    "    num_layers= num_layers\n",
    "\n",
    "    smote = SMOTE(random_state=42)\n",
    "\n",
    "    kfold = KFold(n_splits=cv_splits, shuffle=True,random_state=42)\n",
    "\n",
    "    y_k = pd.Series(y)\n",
    "\n",
    "    for nodes in num_nodes:\n",
    "\n",
    "        res_avg = np.array([])\n",
    "\n",
    "        for layer in num_layers:\n",
    "\n",
    "            for train, test in kfold.split(X,y_k):\n",
    "\n",
    "                X_train_smote, y_train_smote = smote.fit_sample(X.loc[train,:],y_k[train])\n",
    "\n",
    "                history, results = evaluate_model(nodes,layer,X_train_smote,y_train_smote,X.loc[test,:],y_k[test])\n",
    "\n",
    "                plt.plot(history.history['loss'],label=str(nodes))\n",
    "\n",
    "                res_avg = np.append(res_avg,results)\n",
    "\n",
    "            res_avg = res_avg.mean()\n",
    "\n",
    "            print('nodes=%d, layers=%d : %.3f' % (nodes,layer,res_avg))    \n",
    "\n",
    "    plt.axis(ymax=10,ymin=0)\n",
    "    plt.legend()\n",
    "    return plt.show()    \n"
   ]
  },
  {
   "cell_type": "code",
   "execution_count": 4,
   "metadata": {},
   "outputs": [
    {
     "name": "stdout",
     "output_type": "stream",
     "text": [
      "(59400, 102)\n",
      "Index(['id', 'amount_tsh', 'gps_height', 'longitude', 'latitude',\n",
      "       'district_code', 'population', 'public_meeting', 'permit', 'pump_age',\n",
      "       ...\n",
      "       'source_shallow well', 'source_spring', 'source_unknown',\n",
      "       'source_class_groundwater', 'source_class_surface',\n",
      "       'source_class_unknown', 'waterpoint_type_communal standpipe',\n",
      "       'waterpoint_type_communal standpipe multiple',\n",
      "       'waterpoint_type_hand pump', 'waterpoint_type_other'],\n",
      "      dtype='object', length=102)\n"
     ]
    },
    {
     "data": {
      "text/html": [
       "<div>\n",
       "<style scoped>\n",
       "    .dataframe tbody tr th:only-of-type {\n",
       "        vertical-align: middle;\n",
       "    }\n",
       "\n",
       "    .dataframe tbody tr th {\n",
       "        vertical-align: top;\n",
       "    }\n",
       "\n",
       "    .dataframe thead th {\n",
       "        text-align: right;\n",
       "    }\n",
       "</style>\n",
       "<table border=\"1\" class=\"dataframe\">\n",
       "  <thead>\n",
       "    <tr style=\"text-align: right;\">\n",
       "      <th></th>\n",
       "      <th>id</th>\n",
       "      <th>amount_tsh</th>\n",
       "      <th>gps_height</th>\n",
       "      <th>longitude</th>\n",
       "      <th>latitude</th>\n",
       "      <th>district_code</th>\n",
       "      <th>population</th>\n",
       "      <th>public_meeting</th>\n",
       "      <th>permit</th>\n",
       "      <th>pump_age</th>\n",
       "      <th>...</th>\n",
       "      <th>source_shallow well</th>\n",
       "      <th>source_spring</th>\n",
       "      <th>source_unknown</th>\n",
       "      <th>source_class_groundwater</th>\n",
       "      <th>source_class_surface</th>\n",
       "      <th>source_class_unknown</th>\n",
       "      <th>waterpoint_type_communal standpipe</th>\n",
       "      <th>waterpoint_type_communal standpipe multiple</th>\n",
       "      <th>waterpoint_type_hand pump</th>\n",
       "      <th>waterpoint_type_other</th>\n",
       "    </tr>\n",
       "  </thead>\n",
       "  <tbody>\n",
       "    <tr>\n",
       "      <th>0</th>\n",
       "      <td>69572</td>\n",
       "      <td>6000.0</td>\n",
       "      <td>1390</td>\n",
       "      <td>34.938093</td>\n",
       "      <td>-9.856322</td>\n",
       "      <td>5</td>\n",
       "      <td>109</td>\n",
       "      <td>1</td>\n",
       "      <td>1</td>\n",
       "      <td>12.0</td>\n",
       "      <td>...</td>\n",
       "      <td>0</td>\n",
       "      <td>1</td>\n",
       "      <td>0</td>\n",
       "      <td>1</td>\n",
       "      <td>0</td>\n",
       "      <td>0</td>\n",
       "      <td>1</td>\n",
       "      <td>0</td>\n",
       "      <td>0</td>\n",
       "      <td>0</td>\n",
       "    </tr>\n",
       "    <tr>\n",
       "      <th>1</th>\n",
       "      <td>8776</td>\n",
       "      <td>0.0</td>\n",
       "      <td>1399</td>\n",
       "      <td>34.698766</td>\n",
       "      <td>-2.147466</td>\n",
       "      <td>2</td>\n",
       "      <td>280</td>\n",
       "      <td>1</td>\n",
       "      <td>1</td>\n",
       "      <td>3.0</td>\n",
       "      <td>...</td>\n",
       "      <td>0</td>\n",
       "      <td>0</td>\n",
       "      <td>0</td>\n",
       "      <td>0</td>\n",
       "      <td>1</td>\n",
       "      <td>0</td>\n",
       "      <td>1</td>\n",
       "      <td>0</td>\n",
       "      <td>0</td>\n",
       "      <td>0</td>\n",
       "    </tr>\n",
       "  </tbody>\n",
       "</table>\n",
       "<p>2 rows × 102 columns</p>\n",
       "</div>"
      ],
      "text/plain": [
       "      id  amount_tsh  gps_height  longitude  latitude  district_code  \\\n",
       "0  69572      6000.0        1390  34.938093 -9.856322              5   \n",
       "1   8776         0.0        1399  34.698766 -2.147466              2   \n",
       "\n",
       "   population  public_meeting  permit  pump_age  ... source_shallow well  \\\n",
       "0         109               1       1      12.0  ...                   0   \n",
       "1         280               1       1       3.0  ...                   0   \n",
       "\n",
       "   source_spring  source_unknown  source_class_groundwater  \\\n",
       "0              1               0                         1   \n",
       "1              0               0                         0   \n",
       "\n",
       "   source_class_surface  source_class_unknown  \\\n",
       "0                     0                     0   \n",
       "1                     1                     0   \n",
       "\n",
       "   waterpoint_type_communal standpipe  \\\n",
       "0                                   1   \n",
       "1                                   1   \n",
       "\n",
       "   waterpoint_type_communal standpipe multiple  waterpoint_type_hand pump  \\\n",
       "0                                            0                          0   \n",
       "1                                            0                          0   \n",
       "\n",
       "   waterpoint_type_other  \n",
       "0                      0  \n",
       "1                      0  \n",
       "\n",
       "[2 rows x 102 columns]"
      ]
     },
     "execution_count": 4,
     "metadata": {},
     "output_type": "execute_result"
    }
   ],
   "source": [
    "df_train = pd.read_csv(data_processed_dir+'training_data_encoded_impv2_geo-corr.csv')\n",
    "print(df_train.shape)\n",
    "print(df_train.columns)\n",
    "df_train.head(2)\n"
   ]
  },
  {
   "cell_type": "code",
   "execution_count": 5,
   "metadata": {},
   "outputs": [
    {
     "name": "stdout",
     "output_type": "stream",
     "text": [
      "functional                 0.543081\n",
      "non functional             0.384242\n",
      "functional needs repair    0.072677\n",
      "Name: status_group, dtype: float64\n"
     ]
    }
   ],
   "source": [
    "print(df_train['status_group'].value_counts(normalize=True))"
   ]
  },
  {
   "cell_type": "code",
   "execution_count": 6,
   "metadata": {},
   "outputs": [
    {
     "data": {
      "text/html": [
       "<div>\n",
       "<style scoped>\n",
       "    .dataframe tbody tr th:only-of-type {\n",
       "        vertical-align: middle;\n",
       "    }\n",
       "\n",
       "    .dataframe tbody tr th {\n",
       "        vertical-align: top;\n",
       "    }\n",
       "\n",
       "    .dataframe thead th {\n",
       "        text-align: right;\n",
       "    }\n",
       "</style>\n",
       "<table border=\"1\" class=\"dataframe\">\n",
       "  <thead>\n",
       "    <tr style=\"text-align: right;\">\n",
       "      <th></th>\n",
       "      <th>amount_tsh</th>\n",
       "      <th>gps_height</th>\n",
       "      <th>longitude</th>\n",
       "      <th>latitude</th>\n",
       "      <th>district_code</th>\n",
       "      <th>population</th>\n",
       "      <th>public_meeting</th>\n",
       "      <th>permit</th>\n",
       "      <th>pump_age</th>\n",
       "      <th>installer_Commu</th>\n",
       "      <th>...</th>\n",
       "      <th>source_shallow well</th>\n",
       "      <th>source_spring</th>\n",
       "      <th>source_unknown</th>\n",
       "      <th>source_class_groundwater</th>\n",
       "      <th>source_class_surface</th>\n",
       "      <th>source_class_unknown</th>\n",
       "      <th>waterpoint_type_communal standpipe</th>\n",
       "      <th>waterpoint_type_communal standpipe multiple</th>\n",
       "      <th>waterpoint_type_hand pump</th>\n",
       "      <th>waterpoint_type_other</th>\n",
       "    </tr>\n",
       "  </thead>\n",
       "  <tbody>\n",
       "    <tr>\n",
       "      <th>0</th>\n",
       "      <td>6000.0</td>\n",
       "      <td>1390</td>\n",
       "      <td>34.938093</td>\n",
       "      <td>-9.856322</td>\n",
       "      <td>5</td>\n",
       "      <td>109</td>\n",
       "      <td>1</td>\n",
       "      <td>1</td>\n",
       "      <td>12.0</td>\n",
       "      <td>0</td>\n",
       "      <td>...</td>\n",
       "      <td>0</td>\n",
       "      <td>1</td>\n",
       "      <td>0</td>\n",
       "      <td>1</td>\n",
       "      <td>0</td>\n",
       "      <td>0</td>\n",
       "      <td>1</td>\n",
       "      <td>0</td>\n",
       "      <td>0</td>\n",
       "      <td>0</td>\n",
       "    </tr>\n",
       "    <tr>\n",
       "      <th>1</th>\n",
       "      <td>0.0</td>\n",
       "      <td>1399</td>\n",
       "      <td>34.698766</td>\n",
       "      <td>-2.147466</td>\n",
       "      <td>2</td>\n",
       "      <td>280</td>\n",
       "      <td>1</td>\n",
       "      <td>1</td>\n",
       "      <td>3.0</td>\n",
       "      <td>0</td>\n",
       "      <td>...</td>\n",
       "      <td>0</td>\n",
       "      <td>0</td>\n",
       "      <td>0</td>\n",
       "      <td>0</td>\n",
       "      <td>1</td>\n",
       "      <td>0</td>\n",
       "      <td>1</td>\n",
       "      <td>0</td>\n",
       "      <td>0</td>\n",
       "      <td>0</td>\n",
       "    </tr>\n",
       "    <tr>\n",
       "      <th>2</th>\n",
       "      <td>25.0</td>\n",
       "      <td>686</td>\n",
       "      <td>37.460664</td>\n",
       "      <td>-3.821329</td>\n",
       "      <td>4</td>\n",
       "      <td>250</td>\n",
       "      <td>1</td>\n",
       "      <td>1</td>\n",
       "      <td>4.0</td>\n",
       "      <td>0</td>\n",
       "      <td>...</td>\n",
       "      <td>0</td>\n",
       "      <td>0</td>\n",
       "      <td>0</td>\n",
       "      <td>0</td>\n",
       "      <td>1</td>\n",
       "      <td>0</td>\n",
       "      <td>0</td>\n",
       "      <td>1</td>\n",
       "      <td>0</td>\n",
       "      <td>0</td>\n",
       "    </tr>\n",
       "    <tr>\n",
       "      <th>3</th>\n",
       "      <td>0.0</td>\n",
       "      <td>263</td>\n",
       "      <td>38.486161</td>\n",
       "      <td>-11.155298</td>\n",
       "      <td>63</td>\n",
       "      <td>58</td>\n",
       "      <td>1</td>\n",
       "      <td>1</td>\n",
       "      <td>27.0</td>\n",
       "      <td>0</td>\n",
       "      <td>...</td>\n",
       "      <td>0</td>\n",
       "      <td>0</td>\n",
       "      <td>0</td>\n",
       "      <td>1</td>\n",
       "      <td>0</td>\n",
       "      <td>0</td>\n",
       "      <td>0</td>\n",
       "      <td>1</td>\n",
       "      <td>0</td>\n",
       "      <td>0</td>\n",
       "    </tr>\n",
       "    <tr>\n",
       "      <th>4</th>\n",
       "      <td>0.0</td>\n",
       "      <td>0</td>\n",
       "      <td>31.130847</td>\n",
       "      <td>-1.825359</td>\n",
       "      <td>1</td>\n",
       "      <td>0</td>\n",
       "      <td>1</td>\n",
       "      <td>1</td>\n",
       "      <td>25.0</td>\n",
       "      <td>0</td>\n",
       "      <td>...</td>\n",
       "      <td>0</td>\n",
       "      <td>0</td>\n",
       "      <td>0</td>\n",
       "      <td>0</td>\n",
       "      <td>1</td>\n",
       "      <td>0</td>\n",
       "      <td>1</td>\n",
       "      <td>0</td>\n",
       "      <td>0</td>\n",
       "      <td>0</td>\n",
       "    </tr>\n",
       "  </tbody>\n",
       "</table>\n",
       "<p>5 rows × 100 columns</p>\n",
       "</div>"
      ],
      "text/plain": [
       "   amount_tsh  gps_height  longitude   latitude  district_code  population  \\\n",
       "0      6000.0        1390  34.938093  -9.856322              5         109   \n",
       "1         0.0        1399  34.698766  -2.147466              2         280   \n",
       "2        25.0         686  37.460664  -3.821329              4         250   \n",
       "3         0.0         263  38.486161 -11.155298             63          58   \n",
       "4         0.0           0  31.130847  -1.825359              1           0   \n",
       "\n",
       "   public_meeting  permit  pump_age  installer_Commu  ...  \\\n",
       "0               1       1      12.0                0  ...   \n",
       "1               1       1       3.0                0  ...   \n",
       "2               1       1       4.0                0  ...   \n",
       "3               1       1      27.0                0  ...   \n",
       "4               1       1      25.0                0  ...   \n",
       "\n",
       "   source_shallow well  source_spring  source_unknown  \\\n",
       "0                    0              1               0   \n",
       "1                    0              0               0   \n",
       "2                    0              0               0   \n",
       "3                    0              0               0   \n",
       "4                    0              0               0   \n",
       "\n",
       "   source_class_groundwater  source_class_surface  source_class_unknown  \\\n",
       "0                         1                     0                     0   \n",
       "1                         0                     1                     0   \n",
       "2                         0                     1                     0   \n",
       "3                         1                     0                     0   \n",
       "4                         0                     1                     0   \n",
       "\n",
       "   waterpoint_type_communal standpipe  \\\n",
       "0                                   1   \n",
       "1                                   1   \n",
       "2                                   0   \n",
       "3                                   0   \n",
       "4                                   1   \n",
       "\n",
       "   waterpoint_type_communal standpipe multiple  waterpoint_type_hand pump  \\\n",
       "0                                            0                          0   \n",
       "1                                            0                          0   \n",
       "2                                            1                          0   \n",
       "3                                            1                          0   \n",
       "4                                            0                          0   \n",
       "\n",
       "   waterpoint_type_other  \n",
       "0                      0  \n",
       "1                      0  \n",
       "2                      0  \n",
       "3                      0  \n",
       "4                      0  \n",
       "\n",
       "[5 rows x 100 columns]"
      ]
     },
     "execution_count": 6,
     "metadata": {},
     "output_type": "execute_result"
    }
   ],
   "source": [
    "df_col = df_train.columns.to_list()\n",
    "\n",
    "X = df_train.drop(['id','status_group'],axis=1)\n",
    "\n",
    "label_enc = LabelEncoder()\n",
    "\n",
    "y = label_enc.fit_transform(df_train['status_group'])\n",
    "\n",
    "label_dict = dict(zip(list(set(y)),label_enc.inverse_transform(list(set(y))).tolist()))\n",
    "\n",
    "X.head()"
   ]
  },
  {
   "cell_type": "code",
   "execution_count": 7,
   "metadata": {},
   "outputs": [
    {
     "name": "stdout",
     "output_type": "stream",
     "text": [
      "0    24161\n",
      "1     3243\n",
      "2    17146\n",
      "dtype: int64\n"
     ]
    }
   ],
   "source": [
    "X_train, X_test, y_train, y_test = train_test_split(X,y,test_size=0.25,random_state=42)\n",
    "\n",
    "print(pd.Series(y_train).value_counts().sort_index())"
   ]
  },
  {
   "cell_type": "code",
   "execution_count": 8,
   "metadata": {},
   "outputs": [
    {
     "name": "stdout",
     "output_type": "stream",
     "text": [
      "2    24161\n",
      "1    24161\n",
      "0    24161\n",
      "dtype: int64\n"
     ]
    }
   ],
   "source": [
    "# SMOTE training editing\n",
    "smote = SMOTE(random_state=42)\n",
    "\n",
    "X_train_smote, y_train_smote = smote.fit_sample(X_train,y_train)\n",
    "\n",
    "print(pd.Series(y_train_smote).value_counts())"
   ]
  },
  {
   "cell_type": "markdown",
   "metadata": {},
   "source": [
    "## RFC Base"
   ]
  },
  {
   "cell_type": "code",
   "execution_count": 9,
   "metadata": {},
   "outputs": [],
   "source": [
    "model = RandomForestClassifier(random_state=123)\n",
    "scaler = StandardScaler()\n",
    "feat_sel = SelectKBest(score_func=f_classif)"
   ]
  },
  {
   "cell_type": "code",
   "execution_count": 10,
   "metadata": {},
   "outputs": [],
   "source": [
    "grid_params = {\n",
    "    'scaler' : [StandardScaler()], #, MinMaxScaler(),None],\n",
    "    'feat_sel__k': [100], #np.arange(1,X.shape[1]+1,step=1),\n",
    "    'model__random_state': [123], #np.arange(start=1, stop = 10000),\n",
    "    'model__n_estimators': [148], #np.arange(130,180,step=1),\n",
    "    'model__max_depth': [14], #np.arange(1,15,step=1),\n",
    "    'model__criterion': ['entropy'], #['gini','entropy']\n",
    "}\n",
    "\n",
    "RFC_base_pipe = GridSearchCV(Pipeline([('scaler',scaler),('feat_sel',feat_sel),('model',model)]),scoring='recall_weighted',cv=5,param_grid=grid_params,n_jobs=-1)\n",
    "\n",
    "RFC_base_pipe.fit(X_train,y_train)\n",
    "\n",
    "y_pred = RFC_base_pipe.predict(X_test)"
   ]
  },
  {
   "cell_type": "code",
   "execution_count": 11,
   "metadata": {
    "scrolled": false
   },
   "outputs": [
    {
     "name": "stdout",
     "output_type": "stream",
     "text": [
      "                         precision    recall  f1-score   support\n",
      "\n",
      "             functional       0.74      0.95      0.83      8098\n",
      "functional needs repair       0.72      0.18      0.29      1074\n",
      "         non functional       0.89      0.66      0.76      5678\n",
      "\n",
      "               accuracy                           0.78     14850\n",
      "              macro avg       0.78      0.60      0.63     14850\n",
      "           weighted avg       0.80      0.78      0.77     14850\n",
      "\n"
     ]
    },
    {
     "data": {
      "text/plain": [
       "<sklearn.metrics._plot.confusion_matrix.ConfusionMatrixDisplay at 0x1db30efafd0>"
      ]
     },
     "execution_count": 11,
     "metadata": {},
     "output_type": "execute_result"
    },
    {
     "data": {
      "image/png": "[encoded data removed]",
      "text/plain": [
       "<Figure size 432x288 with 2 Axes>"
      ]
     },
     "metadata": {
      "needs_background": "light"
     },
     "output_type": "display_data"
    }
   ],
   "source": [
    "print(classification_report(y_test,y_pred,target_names=list(label_dict.values())))\n",
    "plot_confusion_matrix(RFC_base_pipe,X_test,y_test,display_labels=list(label_dict.values()),xticks_rotation=45)"
   ]
  },
  {
   "cell_type": "code",
   "execution_count": 12,
   "metadata": {
    "scrolled": true
   },
   "outputs": [
    {
     "data": {
      "text/plain": [
       "quantity_dry                          0.135222\n",
       "longitude                             0.073651\n",
       "latitude                              0.070701\n",
       "pump_age                              0.058996\n",
       "extraction_type_class_other           0.044458\n",
       "                                        ...   \n",
       "installer_KKKT                        0.000534\n",
       "source_class_unknown                  0.000434\n",
       "source_other                          0.000423\n",
       "extraction_type_class_wind-powered    0.000262\n",
       "source_unknown                        0.000171\n",
       "Length: 100, dtype: float64"
      ]
     },
     "execution_count": 12,
     "metadata": {},
     "output_type": "execute_result"
    }
   ],
   "source": [
    "feat_imp = pd.Series(RFC_base_pipe.best_estimator_.named_steps.model.feature_importances_, index=X.columns).sort_values(ascending=False)\n",
    "feat_imp"
   ]
  },
  {
   "cell_type": "markdown",
   "metadata": {},
   "source": [
    "## RFC Base w/SMOTE"
   ]
  },
  {
   "cell_type": "code",
   "execution_count": 13,
   "metadata": {},
   "outputs": [
    {
     "name": "stdout",
     "output_type": "stream",
     "text": [
      "                         precision    recall  f1-score   support\n",
      "\n",
      "             functional       0.82      0.84      0.83      8098\n",
      "functional needs repair       0.42      0.43      0.43      1074\n",
      "         non functional       0.81      0.78      0.80      5678\n",
      "\n",
      "               accuracy                           0.79     14850\n",
      "              macro avg       0.68      0.68      0.68     14850\n",
      "           weighted avg       0.79      0.79      0.79     14850\n",
      "\n"
     ]
    },
    {
     "data": {
      "text/plain": [
       "<sklearn.metrics._plot.confusion_matrix.ConfusionMatrixDisplay at 0x1db31080e10>"
      ]
     },
     "execution_count": 13,
     "metadata": {},
     "output_type": "execute_result"
    },
    {
     "data": {
      "image/png": "[encoded data removed]",
      "text/plain": [
       "<Figure size 432x288 with 2 Axes>"
      ]
     },
     "metadata": {
      "needs_background": "light"
     },
     "output_type": "display_data"
    }
   ],
   "source": [
    "grid_params = {\n",
    "    'scaler' : [StandardScaler()], #, MinMaxScaler(),None],\n",
    "    'feat_sel__k': [100], #np.arange(10,X.shape[1]+1,step=10),\n",
    "    'model__n_estimators': [386], #np.arange(370,390,step=1),\n",
    "    #'model__min_samples_split' : np.arange(6,40,step=2),\n",
    "    'model__criterion': ['entropy'], #['gini','entropy']\n",
    "}\n",
    "\n",
    "RFC_base_pipe = GridSearchCV(Pipeline([('scaler',scaler),('feat_sel',feat_sel),('model',model)]),scoring='accuracy',cv=5,param_grid=grid_params,n_jobs=-1)\n",
    "\n",
    "RFC_base_pipe.fit(X_train_smote,y_train_smote)\n",
    "\n",
    "y_pred = RFC_base_pipe.predict(X_test)\n",
    "\n",
    "print(classification_report(y_test,y_pred,target_names=list(label_dict.values())))\n",
    "plot_confusion_matrix(RFC_base_pipe,X_test,y_test,display_labels=list(label_dict.values()),xticks_rotation=45)"
   ]
  },
  {
   "cell_type": "code",
   "execution_count": 14,
   "metadata": {
    "scrolled": true
   },
   "outputs": [
    {
     "data": {
      "text/plain": [
       "longitude                             0.130954\n",
       "latitude                              0.126768\n",
       "gps_height                            0.059891\n",
       "pump_age                              0.057365\n",
       "quantity_dry                          0.049908\n",
       "                                        ...   \n",
       "installer_KKKT                        0.000534\n",
       "source_class_unknown                  0.000525\n",
       "source_other                          0.000307\n",
       "extraction_type_class_wind-powered    0.000177\n",
       "source_unknown                        0.000132\n",
       "Length: 100, dtype: float64"
      ]
     },
     "execution_count": 14,
     "metadata": {},
     "output_type": "execute_result"
    }
   ],
   "source": [
    "feat_imp = pd.Series(RFC_base_pipe.best_estimator_.named_steps.model.feature_importances_, index=X.columns).sort_values(ascending=False)\n",
    "feat_imp"
   ]
  },
  {
   "cell_type": "markdown",
   "metadata": {},
   "source": [
    "## XGBoost"
   ]
  },
  {
   "cell_type": "code",
   "execution_count": 15,
   "metadata": {},
   "outputs": [],
   "source": [
    "model = XGBClassifier(objective='multi:softmax',booster='gbtree',use_label_encoder=False)\n",
    "scaler = StandardScaler()\n",
    "feat_sel = SelectKBest(score_func=f_classif)"
   ]
  },
  {
   "cell_type": "code",
   "execution_count": 16,
   "metadata": {},
   "outputs": [
    {
     "name": "stderr",
     "output_type": "stream",
     "text": [
      "C:\\Users\\bryan\\Anaconda3\\envs\\kerascpu\\lib\\site-packages\\sklearn\\model_selection\\_search.py:921: UserWarning: One or more of the test scores are non-finite: [nan nan nan nan nan nan nan nan nan nan nan nan nan nan nan nan nan nan\n",
      " nan nan nan nan nan nan nan nan nan nan nan nan nan nan nan nan nan nan\n",
      " nan nan nan nan]\n",
      "  category=UserWarning\n"
     ]
    },
    {
     "name": "stdout",
     "output_type": "stream",
     "text": [
      "[11:53:00] WARNING: C:/Users/Administrator/workspace/xgboost-win64_release_1.3.0/src/learner.cc:1061: Starting in XGBoost 1.3.0, the default evaluation metric used with the objective 'multi:softprob' was changed from 'merror' to 'mlogloss'. Explicitly set eval_metric if you'd like to restore the old behavior.\n",
      "                         precision    recall  f1-score   support\n",
      "\n",
      "             functional       0.71      0.94      0.81      8098\n",
      "functional needs repair       0.67      0.17      0.27      1074\n",
      "         non functional       0.86      0.58      0.69      5678\n",
      "\n",
      "               accuracy                           0.75     14850\n",
      "              macro avg       0.75      0.57      0.59     14850\n",
      "           weighted avg       0.77      0.75      0.73     14850\n",
      "\n"
     ]
    },
    {
     "data": {
      "text/plain": [
       "<sklearn.metrics._plot.confusion_matrix.ConfusionMatrixDisplay at 0x1db3985f080>"
      ]
     },
     "execution_count": 16,
     "metadata": {},
     "output_type": "execute_result"
    },
    {
     "data": {
      "image/png": "[encoded data removed]",
      "text/plain": [
       "<Figure size 432x288 with 2 Axes>"
      ]
     },
     "metadata": {
      "needs_background": "light"
     },
     "output_type": "display_data"
    }
   ],
   "source": [
    "model = XGBClassifier(objective='multi:softmax',booster='gbtree',use_label_encoder=False)\n",
    "\n",
    "grid_params = {\n",
    "    'model__learning_rate': [0.3], #np.arange(0.1,1.1,step=0.1),\n",
    "    'model__n_estimators': np.arange(10,50),\n",
    "    #'model__max_depth' : np.arange(1,10,step=1),\n",
    "    #'model__gamma' : [0.6], #np.arange(0,1,step=0.1),\n",
    "    #'model__lambda' : np.arange(0,1.1,step=0.1),\n",
    "    #'model__alpha' : [0], #np.arange(0,1.1,step=0.1),\n",
    "    'scaler': [StandardScaler()] #, MinMaxScaler(),None]    \n",
    "}\n",
    "\n",
    "XGB_base_pipe = GridSearchCV(Pipeline([('scaler',scaler),('model',model)]),scoring='recall',cv=5,param_grid=grid_params,n_jobs=-1)\n",
    "\n",
    "XGB_base_pipe.fit(X_train,y_train)\n",
    "\n",
    "y_pred = XGB_base_pipe.predict(X_test)\n",
    "\n",
    "print(classification_report(y_test,y_pred,target_names=list(label_dict.values())))\n",
    "plot_confusion_matrix(XGB_base_pipe,X_test,y_test,display_labels=list(label_dict.values()),xticks_rotation=45)"
   ]
  },
  {
   "cell_type": "markdown",
   "metadata": {},
   "source": [
    "## XGBoost SMOTE"
   ]
  },
  {
   "cell_type": "code",
   "execution_count": 17,
   "metadata": {},
   "outputs": [
    {
     "name": "stdout",
     "output_type": "stream",
     "text": [
      "[11:54:32] WARNING: C:/Users/Administrator/workspace/xgboost-win64_release_1.3.0/src/learner.cc:1061: Starting in XGBoost 1.3.0, the default evaluation metric used with the objective 'multi:softprob' was changed from 'merror' to 'mlogloss'. Explicitly set eval_metric if you'd like to restore the old behavior.\n",
      "                         precision    recall  f1-score   support\n",
      "\n",
      "             functional       0.82      0.84      0.83      8098\n",
      "functional needs repair       0.43      0.43      0.43      1074\n",
      "         non functional       0.82      0.78      0.80      5678\n",
      "\n",
      "               accuracy                           0.79     14850\n",
      "              macro avg       0.69      0.68      0.69     14850\n",
      "           weighted avg       0.79      0.79      0.79     14850\n",
      "\n"
     ]
    },
    {
     "data": {
      "text/plain": [
       "<sklearn.metrics._plot.confusion_matrix.ConfusionMatrixDisplay at 0x1db3986ac88>"
      ]
     },
     "execution_count": 17,
     "metadata": {},
     "output_type": "execute_result"
    },
    {
     "data": {
      "image/png": "[encoded data removed]",
      "text/plain": [
       "<Figure size 432x288 with 2 Axes>"
      ]
     },
     "metadata": {
      "needs_background": "light"
     },
     "output_type": "display_data"
    }
   ],
   "source": [
    "grid_params = {\n",
    "    'model__learning_rate': [0.4], #np.arange(0.1,1,step=0.1),\n",
    "    'model__n_estimators': [100], #[10,50,100,200,500],\n",
    "    'model__max_depth' : [16], #np.arange(5,20,step=1),\n",
    "    'model__gamma' : [0], #np.arange(0,1.1,step=0.1),\n",
    "    'model__lambda' : [0.8], #np.arange(0,1.1,step=0.1),\n",
    "    'model__alpha' : [0.7], #np.arange(0,1.1,step=0.1),\n",
    "    'scaler': [StandardScaler()], #, MinMaxScaler(),None]\n",
    "    'feat_sel__k': [100] #np.arange(50,X.shape[1]+1,step=1),\n",
    "}\n",
    "\n",
    "XGB_base_pipe = GridSearchCV(Pipeline([('scaler',scaler),('feat_sel',feat_sel),('model',model)]),scoring='accuracy',cv=5,param_grid=grid_params,n_jobs=-1)\n",
    "\n",
    "XGB_base_pipe.fit(X_train_smote,y_train_smote)\n",
    "\n",
    "y_pred = XGB_base_pipe.predict(X_test)\n",
    "\n",
    "print(classification_report(y_test,y_pred,target_names=list(label_dict.values())))\n",
    "plot_confusion_matrix(XGB_base_pipe,X_test,y_test,display_labels=list(label_dict.values()),xticks_rotation=45)"
   ]
  },
  {
   "cell_type": "markdown",
   "metadata": {},
   "source": [
    "## Neural Network"
   ]
  },
  {
   "cell_type": "code",
   "execution_count": 18,
   "metadata": {},
   "outputs": [
    {
     "name": "stderr",
     "output_type": "stream",
     "text": [
      "Using TensorFlow backend.\n",
      "C:\\Users\\bryan\\Anaconda3\\envs\\kerascpu\\lib\\site-packages\\tensorflow\\python\\framework\\dtypes.py:516: FutureWarning: Passing (type, 1) or '1type' as a synonym of type is deprecated; in a future version of numpy, it will be understood as (type, (1,)) / '(1,)type'.\n",
      "  _np_qint8 = np.dtype([(\"qint8\", np.int8, 1)])\n",
      "C:\\Users\\bryan\\Anaconda3\\envs\\kerascpu\\lib\\site-packages\\tensorflow\\python\\framework\\dtypes.py:517: FutureWarning: Passing (type, 1) or '1type' as a synonym of type is deprecated; in a future version of numpy, it will be understood as (type, (1,)) / '(1,)type'.\n",
      "  _np_quint8 = np.dtype([(\"quint8\", np.uint8, 1)])\n",
      "C:\\Users\\bryan\\Anaconda3\\envs\\kerascpu\\lib\\site-packages\\tensorflow\\python\\framework\\dtypes.py:518: FutureWarning: Passing (type, 1) or '1type' as a synonym of type is deprecated; in a future version of numpy, it will be understood as (type, (1,)) / '(1,)type'.\n",
      "  _np_qint16 = np.dtype([(\"qint16\", np.int16, 1)])\n",
      "C:\\Users\\bryan\\Anaconda3\\envs\\kerascpu\\lib\\site-packages\\tensorflow\\python\\framework\\dtypes.py:519: FutureWarning: Passing (type, 1) or '1type' as a synonym of type is deprecated; in a future version of numpy, it will be understood as (type, (1,)) / '(1,)type'.\n",
      "  _np_quint16 = np.dtype([(\"quint16\", np.uint16, 1)])\n",
      "C:\\Users\\bryan\\Anaconda3\\envs\\kerascpu\\lib\\site-packages\\tensorflow\\python\\framework\\dtypes.py:520: FutureWarning: Passing (type, 1) or '1type' as a synonym of type is deprecated; in a future version of numpy, it will be understood as (type, (1,)) / '(1,)type'.\n",
      "  _np_qint32 = np.dtype([(\"qint32\", np.int32, 1)])\n",
      "C:\\Users\\bryan\\Anaconda3\\envs\\kerascpu\\lib\\site-packages\\tensorflow\\python\\framework\\dtypes.py:525: FutureWarning: Passing (type, 1) or '1type' as a synonym of type is deprecated; in a future version of numpy, it will be understood as (type, (1,)) / '(1,)type'.\n",
      "  np_resource = np.dtype([(\"resource\", np.ubyte, 1)])\n",
      "C:\\Users\\bryan\\Anaconda3\\envs\\kerascpu\\lib\\site-packages\\tensorboard\\compat\\tensorflow_stub\\dtypes.py:541: FutureWarning: Passing (type, 1) or '1type' as a synonym of type is deprecated; in a future version of numpy, it will be understood as (type, (1,)) / '(1,)type'.\n",
      "  _np_qint8 = np.dtype([(\"qint8\", np.int8, 1)])\n",
      "C:\\Users\\bryan\\Anaconda3\\envs\\kerascpu\\lib\\site-packages\\tensorboard\\compat\\tensorflow_stub\\dtypes.py:542: FutureWarning: Passing (type, 1) or '1type' as a synonym of type is deprecated; in a future version of numpy, it will be understood as (type, (1,)) / '(1,)type'.\n",
      "  _np_quint8 = np.dtype([(\"quint8\", np.uint8, 1)])\n",
      "C:\\Users\\bryan\\Anaconda3\\envs\\kerascpu\\lib\\site-packages\\tensorboard\\compat\\tensorflow_stub\\dtypes.py:543: FutureWarning: Passing (type, 1) or '1type' as a synonym of type is deprecated; in a future version of numpy, it will be understood as (type, (1,)) / '(1,)type'.\n",
      "  _np_qint16 = np.dtype([(\"qint16\", np.int16, 1)])\n",
      "C:\\Users\\bryan\\Anaconda3\\envs\\kerascpu\\lib\\site-packages\\tensorboard\\compat\\tensorflow_stub\\dtypes.py:544: FutureWarning: Passing (type, 1) or '1type' as a synonym of type is deprecated; in a future version of numpy, it will be understood as (type, (1,)) / '(1,)type'.\n",
      "  _np_quint16 = np.dtype([(\"quint16\", np.uint16, 1)])\n",
      "C:\\Users\\bryan\\Anaconda3\\envs\\kerascpu\\lib\\site-packages\\tensorboard\\compat\\tensorflow_stub\\dtypes.py:545: FutureWarning: Passing (type, 1) or '1type' as a synonym of type is deprecated; in a future version of numpy, it will be understood as (type, (1,)) / '(1,)type'.\n",
      "  _np_qint32 = np.dtype([(\"qint32\", np.int32, 1)])\n",
      "C:\\Users\\bryan\\Anaconda3\\envs\\kerascpu\\lib\\site-packages\\tensorboard\\compat\\tensorflow_stub\\dtypes.py:550: FutureWarning: Passing (type, 1) or '1type' as a synonym of type is deprecated; in a future version of numpy, it will be understood as (type, (1,)) / '(1,)type'.\n",
      "  np_resource = np.dtype([(\"resource\", np.ubyte, 1)])\n"
     ]
    }
   ],
   "source": [
    "from keras.models import Sequential\n",
    "from keras.layers import Dense\n",
    "\n",
    "import tensorflow as tf\n",
    "from tensorflow.keras.wrappers.scikit_learn import KerasClassifier\n",
    "\n",
    "from sklearn.model_selection import KFold, cross_val_score\n",
    "\n",
    "n_feat = X_train_smote.shape[1]\n",
    "n_out = len(set(y_train_smote))\n",
    "\n",
    "def baseline_model(optimizer='adam'):\n",
    "    model = Sequential()\n",
    "    \n",
    "    model.add(Dense(51,activation='relu',input_dim=n_feat))\n",
    "    model.add(Dense(51,activation='relu'))\n",
    "    model.add(Dense(51,activation='relu'))\n",
    "    model.add(Dense(n_out,activation='softmax'))\n",
    "\n",
    "    model.compile(loss='categorical_crossentropy',optimizer=optimizer,metrics=['accuracy'])\n",
    "    \n",
    "    return model"
   ]
  },
  {
   "cell_type": "code",
   "execution_count": 19,
   "metadata": {},
   "outputs": [
    {
     "name": "stderr",
     "output_type": "stream",
     "text": [
      "C:\\Users\\bryan\\Anaconda3\\envs\\kerascpu\\lib\\site-packages\\sklearn\\model_selection\\_search.py:921: UserWarning: One or more of the test scores are non-finite: [nan]\n",
      "  category=UserWarning\n"
     ]
    },
    {
     "name": "stdout",
     "output_type": "stream",
     "text": [
      "WARNING:tensorflow:From C:\\Users\\bryan\\Anaconda3\\envs\\kerascpu\\lib\\site-packages\\keras\\backend\\tensorflow_backend.py:422: The name tf.global_variables is deprecated. Please use tf.compat.v1.global_variables instead.\n",
      "\n"
     ]
    },
    {
     "data": {
      "text/plain": [
       "GridSearchCV(cv=10,\n",
       "             estimator=Pipeline(steps=[('scaler', StandardScaler()),\n",
       "                                       ('nn',\n",
       "                                        <tensorflow.python.keras.wrappers.scikit_learn.KerasClassifier object at 0x000001DB4A46B4E0>)]),\n",
       "             n_jobs=-1,\n",
       "             param_grid={'nn__batch_size': [54], 'nn__epochs': [200],\n",
       "                         'nn__optimizer': ['Nadam']},\n",
       "             return_train_score=True)"
      ]
     },
     "execution_count": 19,
     "metadata": {},
     "output_type": "execute_result"
    }
   ],
   "source": [
    "scaler = StandardScaler()\n",
    "estimator = KerasClassifier(build_fn=baseline_model,verbose=0)\n",
    "\n",
    "grid_params={\n",
    "    'nn__epochs' : [200],\n",
    "    'nn__batch_size' : [54],\n",
    "    'nn__optimizer' : ['Nadam']\n",
    "}\n",
    "\n",
    "NN_pipe = GridSearchCV(Pipeline([('scaler',scaler),('nn',estimator)]),cv=10,param_grid=grid_params,\n",
    "                       n_jobs=-1,return_train_score=True)\n",
    "\n",
    "NN_pipe.fit(X_train_smote,y_train_smote)"
   ]
  },
  {
   "cell_type": "code",
   "execution_count": 20,
   "metadata": {},
   "outputs": [
    {
     "name": "stdout",
     "output_type": "stream",
     "text": [
      "                         precision    recall  f1-score   support\n",
      "\n",
      "             functional       0.79      0.77      0.78      8098\n",
      "functional needs repair       0.30      0.47      0.36      1074\n",
      "         non functional       0.78      0.71      0.75      5678\n",
      "\n",
      "               accuracy                           0.73     14850\n",
      "              macro avg       0.62      0.65      0.63     14850\n",
      "           weighted avg       0.75      0.73      0.74     14850\n",
      "\n"
     ]
    }
   ],
   "source": [
    "y_pred = NN_pipe.predict(X_test)\n",
    "\n",
    "\n",
    "print(classification_report(y_test,y_pred,target_names=list(label_dict.values())))"
   ]
  },
  {
   "cell_type": "markdown",
   "metadata": {},
   "source": [
    "## Output Data Submission :"
   ]
  },
  {
   "cell_type": "code",
   "execution_count": 21,
   "metadata": {},
   "outputs": [
    {
     "data": {
      "text/html": [
       "<div>\n",
       "<style scoped>\n",
       "    .dataframe tbody tr th:only-of-type {\n",
       "        vertical-align: middle;\n",
       "    }\n",
       "\n",
       "    .dataframe tbody tr th {\n",
       "        vertical-align: top;\n",
       "    }\n",
       "\n",
       "    .dataframe thead th {\n",
       "        text-align: right;\n",
       "    }\n",
       "</style>\n",
       "<table border=\"1\" class=\"dataframe\">\n",
       "  <thead>\n",
       "    <tr style=\"text-align: right;\">\n",
       "      <th></th>\n",
       "      <th>amount_tsh</th>\n",
       "      <th>gps_height</th>\n",
       "      <th>longitude</th>\n",
       "      <th>latitude</th>\n",
       "      <th>district_code</th>\n",
       "      <th>population</th>\n",
       "      <th>public_meeting</th>\n",
       "      <th>permit</th>\n",
       "      <th>pump_age</th>\n",
       "      <th>installer_Commu</th>\n",
       "      <th>...</th>\n",
       "      <th>source_shallow well</th>\n",
       "      <th>source_spring</th>\n",
       "      <th>source_unknown</th>\n",
       "      <th>source_class_groundwater</th>\n",
       "      <th>source_class_surface</th>\n",
       "      <th>source_class_unknown</th>\n",
       "      <th>waterpoint_type_communal standpipe</th>\n",
       "      <th>waterpoint_type_communal standpipe multiple</th>\n",
       "      <th>waterpoint_type_hand pump</th>\n",
       "      <th>waterpoint_type_other</th>\n",
       "    </tr>\n",
       "  </thead>\n",
       "  <tbody>\n",
       "    <tr>\n",
       "      <th>0</th>\n",
       "      <td>0.0</td>\n",
       "      <td>1996</td>\n",
       "      <td>35.290799</td>\n",
       "      <td>-4.059696</td>\n",
       "      <td>3</td>\n",
       "      <td>321</td>\n",
       "      <td>1</td>\n",
       "      <td>1</td>\n",
       "      <td>1.0</td>\n",
       "      <td>0</td>\n",
       "      <td>...</td>\n",
       "      <td>0</td>\n",
       "      <td>0</td>\n",
       "      <td>0</td>\n",
       "      <td>0</td>\n",
       "      <td>1</td>\n",
       "      <td>0</td>\n",
       "      <td>0</td>\n",
       "      <td>0</td>\n",
       "      <td>0</td>\n",
       "      <td>1</td>\n",
       "    </tr>\n",
       "    <tr>\n",
       "      <th>1</th>\n",
       "      <td>0.0</td>\n",
       "      <td>1569</td>\n",
       "      <td>36.656709</td>\n",
       "      <td>-3.309214</td>\n",
       "      <td>2</td>\n",
       "      <td>300</td>\n",
       "      <td>1</td>\n",
       "      <td>1</td>\n",
       "      <td>13.0</td>\n",
       "      <td>0</td>\n",
       "      <td>...</td>\n",
       "      <td>0</td>\n",
       "      <td>1</td>\n",
       "      <td>0</td>\n",
       "      <td>1</td>\n",
       "      <td>0</td>\n",
       "      <td>0</td>\n",
       "      <td>1</td>\n",
       "      <td>0</td>\n",
       "      <td>0</td>\n",
       "      <td>0</td>\n",
       "    </tr>\n",
       "    <tr>\n",
       "      <th>2</th>\n",
       "      <td>0.0</td>\n",
       "      <td>1567</td>\n",
       "      <td>34.767863</td>\n",
       "      <td>-5.004344</td>\n",
       "      <td>2</td>\n",
       "      <td>500</td>\n",
       "      <td>1</td>\n",
       "      <td>0</td>\n",
       "      <td>3.0</td>\n",
       "      <td>0</td>\n",
       "      <td>...</td>\n",
       "      <td>0</td>\n",
       "      <td>0</td>\n",
       "      <td>0</td>\n",
       "      <td>0</td>\n",
       "      <td>1</td>\n",
       "      <td>0</td>\n",
       "      <td>0</td>\n",
       "      <td>0</td>\n",
       "      <td>0</td>\n",
       "      <td>1</td>\n",
       "    </tr>\n",
       "    <tr>\n",
       "      <th>3</th>\n",
       "      <td>0.0</td>\n",
       "      <td>267</td>\n",
       "      <td>38.058046</td>\n",
       "      <td>-9.418672</td>\n",
       "      <td>43</td>\n",
       "      <td>250</td>\n",
       "      <td>1</td>\n",
       "      <td>1</td>\n",
       "      <td>26.0</td>\n",
       "      <td>0</td>\n",
       "      <td>...</td>\n",
       "      <td>1</td>\n",
       "      <td>0</td>\n",
       "      <td>0</td>\n",
       "      <td>1</td>\n",
       "      <td>0</td>\n",
       "      <td>0</td>\n",
       "      <td>0</td>\n",
       "      <td>0</td>\n",
       "      <td>0</td>\n",
       "      <td>1</td>\n",
       "    </tr>\n",
       "    <tr>\n",
       "      <th>4</th>\n",
       "      <td>500.0</td>\n",
       "      <td>1260</td>\n",
       "      <td>35.006123</td>\n",
       "      <td>-10.950412</td>\n",
       "      <td>3</td>\n",
       "      <td>60</td>\n",
       "      <td>1</td>\n",
       "      <td>1</td>\n",
       "      <td>13.0</td>\n",
       "      <td>0</td>\n",
       "      <td>...</td>\n",
       "      <td>0</td>\n",
       "      <td>1</td>\n",
       "      <td>0</td>\n",
       "      <td>1</td>\n",
       "      <td>0</td>\n",
       "      <td>0</td>\n",
       "      <td>1</td>\n",
       "      <td>0</td>\n",
       "      <td>0</td>\n",
       "      <td>0</td>\n",
       "    </tr>\n",
       "  </tbody>\n",
       "</table>\n",
       "<p>5 rows × 100 columns</p>\n",
       "</div>"
      ],
      "text/plain": [
       "   amount_tsh  gps_height  longitude   latitude  district_code  population  \\\n",
       "0         0.0        1996  35.290799  -4.059696              3         321   \n",
       "1         0.0        1569  36.656709  -3.309214              2         300   \n",
       "2         0.0        1567  34.767863  -5.004344              2         500   \n",
       "3         0.0         267  38.058046  -9.418672             43         250   \n",
       "4       500.0        1260  35.006123 -10.950412              3          60   \n",
       "\n",
       "   public_meeting  permit  pump_age  installer_Commu  ...  \\\n",
       "0               1       1       1.0                0  ...   \n",
       "1               1       1      13.0                0  ...   \n",
       "2               1       0       3.0                0  ...   \n",
       "3               1       1      26.0                0  ...   \n",
       "4               1       1      13.0                0  ...   \n",
       "\n",
       "   source_shallow well  source_spring  source_unknown  \\\n",
       "0                    0              0               0   \n",
       "1                    0              1               0   \n",
       "2                    0              0               0   \n",
       "3                    1              0               0   \n",
       "4                    0              1               0   \n",
       "\n",
       "   source_class_groundwater  source_class_surface  source_class_unknown  \\\n",
       "0                         0                     1                     0   \n",
       "1                         1                     0                     0   \n",
       "2                         0                     1                     0   \n",
       "3                         1                     0                     0   \n",
       "4                         1                     0                     0   \n",
       "\n",
       "   waterpoint_type_communal standpipe  \\\n",
       "0                                   0   \n",
       "1                                   1   \n",
       "2                                   0   \n",
       "3                                   0   \n",
       "4                                   1   \n",
       "\n",
       "   waterpoint_type_communal standpipe multiple  waterpoint_type_hand pump  \\\n",
       "0                                            0                          0   \n",
       "1                                            0                          0   \n",
       "2                                            0                          0   \n",
       "3                                            0                          0   \n",
       "4                                            0                          0   \n",
       "\n",
       "   waterpoint_type_other  \n",
       "0                      1  \n",
       "1                      0  \n",
       "2                      1  \n",
       "3                      1  \n",
       "4                      0  \n",
       "\n",
       "[5 rows x 100 columns]"
      ]
     },
     "execution_count": 21,
     "metadata": {},
     "output_type": "execute_result"
    }
   ],
   "source": [
    "df_test = pd.read_csv(data_processed_dir+'test_data_encoded_impv2_geo-corr.csv')\n",
    "X_submission = df_test.drop(['id','status_group'],axis=1)\n",
    "\n",
    "X_submission.head()"
   ]
  },
  {
   "cell_type": "code",
   "execution_count": 22,
   "metadata": {},
   "outputs": [],
   "source": [
    "sub_results = NN_pipe.predict(X_submission)\n",
    "\n",
    "df_sub = pd.concat([df_test['id'],pd.Series(label_enc.inverse_transform(sub_results),name='status_group')],axis=1).set_index('id')\n",
    "\n",
    "df_sub.to_csv(data_final_dir+'submission.csv')"
   ]
  }
 ],
 "metadata": {
  "kernelspec": {
   "display_name": "Python 3",
   "language": "python",
   "name": "python3"
  },
  "language_info": {
   "codemirror_mode": {
    "name": "ipython",
    "version": 3
   },
   "file_extension": ".py",
   "mimetype": "text/x-python",
   "name": "python",
   "nbconvert_exporter": "python",
   "pygments_lexer": "ipython3",
   "version": "3.6.12"
  }
 },
 "nbformat": 4,
 "nbformat_minor": 4
}
