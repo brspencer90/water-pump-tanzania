{
 "cells": [
  {
   "cell_type": "code",
   "execution_count": 3,
   "metadata": {
    "id": "OoWedoLaDQfO"
   },
   "outputs": [],
   "source": [
    "import pandas as pd\n",
    "import numpy as np\n",
    "\n",
    "import datetime as dt\n",
    "\n",
    "import matplotlib.pyplot as plt\n",
    "import seaborn as sns\n",
    "\n",
    "import geopandas as gpd\n",
    "from shapely.geometry import Point \n",
    "\n",
    "from random import *\n",
    "\n",
    "%qtconsole"
   ]
  },
  {
   "cell_type": "code",
   "execution_count": 4,
   "metadata": {
    "id": "D_NPD5GqDQfT"
   },
   "outputs": [],
   "source": [
    "data_raw_dir = 'C:\\\\Users\\\\Bryan\\\\OneDrive\\\\02 GitHub\\\\water-pump-tanzania\\\\data\\\\raw\\\\'\n",
    "data_interim_dir = 'C:\\\\Users\\\\Bryan\\\\OneDrive\\\\02 GitHub\\\\water-pump-tanzania\\\\data\\\\interim\\\\'\n",
    "data_processed_dir = 'C:\\\\Users\\\\Bryan\\\\OneDrive\\\\02 GitHub\\\\water-pump-tanzania\\\\data\\\\processed\\\\'\n",
    "docs_img_dir = 'C:\\\\Users\\\\bryan\\\\OneDrive\\\\02 GitHub\\\\water-pump-tanzania\\\\docs\\\\img\\\\'"
   ]
  },
  {
   "cell_type": "markdown",
   "metadata": {
    "id": "i9KK6d3ZDQfU"
   },
   "source": [
    "## Initial Data Exploration"
   ]
  },
  {
   "cell_type": "code",
   "execution_count": 55,
   "metadata": {
    "colab": {
     "base_uri": "https://localhost:8080/",
     "height": 231
    },
    "id": "AZe1B9UWDQfU",
    "outputId": "6a1e25aa-4b5d-41b5-a914-fd8b2dba2115",
    "scrolled": false
   },
   "outputs": [
    {
     "name": "stdout",
     "output_type": "stream",
     "text": [
      "(74228, 40)\n",
      "Index(['id', 'amount_tsh', 'date_recorded', 'funder', 'gps_height',\n",
      "       'installer', 'longitude', 'latitude', 'wpt_name', 'num_private',\n",
      "       'basin', 'subvillage', 'region', 'region_code', 'district_code', 'lga',\n",
      "       'ward', 'population', 'public_meeting', 'recorded_by',\n",
      "       'scheme_management', 'scheme_name', 'permit', 'construction_year',\n",
      "       'extraction_type', 'extraction_type_group', 'extraction_type_class',\n",
      "       'management', 'management_group', 'payment', 'payment_type',\n",
      "       'water_quality', 'quality_group', 'quantity', 'quantity_group',\n",
      "       'source', 'source_type', 'source_class', 'waterpoint_type',\n",
      "       'waterpoint_type_group'],\n",
      "      dtype='object')\n"
     ]
    },
    {
     "data": {
      "text/html": [
       "<div>\n",
       "<style scoped>\n",
       "    .dataframe tbody tr th:only-of-type {\n",
       "        vertical-align: middle;\n",
       "    }\n",
       "\n",
       "    .dataframe tbody tr th {\n",
       "        vertical-align: top;\n",
       "    }\n",
       "\n",
       "    .dataframe thead th {\n",
       "        text-align: right;\n",
       "    }\n",
       "</style>\n",
       "<table border=\"1\" class=\"dataframe\">\n",
       "  <thead>\n",
       "    <tr style=\"text-align: right;\">\n",
       "      <th></th>\n",
       "      <th>id</th>\n",
       "      <th>amount_tsh</th>\n",
       "      <th>date_recorded</th>\n",
       "      <th>funder</th>\n",
       "      <th>gps_height</th>\n",
       "      <th>installer</th>\n",
       "      <th>longitude</th>\n",
       "      <th>latitude</th>\n",
       "      <th>wpt_name</th>\n",
       "      <th>num_private</th>\n",
       "      <th>...</th>\n",
       "      <th>payment_type</th>\n",
       "      <th>water_quality</th>\n",
       "      <th>quality_group</th>\n",
       "      <th>quantity</th>\n",
       "      <th>quantity_group</th>\n",
       "      <th>source</th>\n",
       "      <th>source_type</th>\n",
       "      <th>source_class</th>\n",
       "      <th>waterpoint_type</th>\n",
       "      <th>waterpoint_type_group</th>\n",
       "    </tr>\n",
       "  </thead>\n",
       "  <tbody>\n",
       "    <tr>\n",
       "      <th>0</th>\n",
       "      <td>69572</td>\n",
       "      <td>6000.0</td>\n",
       "      <td>2011-03-14</td>\n",
       "      <td>Roman</td>\n",
       "      <td>1390</td>\n",
       "      <td>Roman</td>\n",
       "      <td>34.938093</td>\n",
       "      <td>-9.856322</td>\n",
       "      <td>none</td>\n",
       "      <td>0</td>\n",
       "      <td>...</td>\n",
       "      <td>annually</td>\n",
       "      <td>soft</td>\n",
       "      <td>good</td>\n",
       "      <td>enough</td>\n",
       "      <td>enough</td>\n",
       "      <td>spring</td>\n",
       "      <td>spring</td>\n",
       "      <td>groundwater</td>\n",
       "      <td>communal standpipe</td>\n",
       "      <td>communal standpipe</td>\n",
       "    </tr>\n",
       "    <tr>\n",
       "      <th>1</th>\n",
       "      <td>8776</td>\n",
       "      <td>0.0</td>\n",
       "      <td>2013-03-06</td>\n",
       "      <td>Grumeti</td>\n",
       "      <td>1399</td>\n",
       "      <td>GRUMETI</td>\n",
       "      <td>34.698766</td>\n",
       "      <td>-2.147466</td>\n",
       "      <td>Zahanati</td>\n",
       "      <td>0</td>\n",
       "      <td>...</td>\n",
       "      <td>never pay</td>\n",
       "      <td>soft</td>\n",
       "      <td>good</td>\n",
       "      <td>insufficient</td>\n",
       "      <td>insufficient</td>\n",
       "      <td>rainwater harvesting</td>\n",
       "      <td>rainwater harvesting</td>\n",
       "      <td>surface</td>\n",
       "      <td>communal standpipe</td>\n",
       "      <td>communal standpipe</td>\n",
       "    </tr>\n",
       "  </tbody>\n",
       "</table>\n",
       "<p>2 rows × 40 columns</p>\n",
       "</div>"
      ],
      "text/plain": [
       "      id  amount_tsh date_recorded   funder  gps_height installer  longitude  \\\n",
       "0  69572      6000.0    2011-03-14    Roman        1390     Roman  34.938093   \n",
       "1   8776         0.0    2013-03-06  Grumeti        1399   GRUMETI  34.698766   \n",
       "\n",
       "   latitude  wpt_name  num_private  ... payment_type water_quality  \\\n",
       "0 -9.856322      none            0  ...     annually          soft   \n",
       "1 -2.147466  Zahanati            0  ...    never pay          soft   \n",
       "\n",
       "  quality_group      quantity  quantity_group                source  \\\n",
       "0          good        enough          enough                spring   \n",
       "1          good  insufficient    insufficient  rainwater harvesting   \n",
       "\n",
       "            source_type  source_class     waterpoint_type  \\\n",
       "0                spring   groundwater  communal standpipe   \n",
       "1  rainwater harvesting       surface  communal standpipe   \n",
       "\n",
       "  waterpoint_type_group  \n",
       "0    communal standpipe  \n",
       "1    communal standpipe  \n",
       "\n",
       "[2 rows x 40 columns]"
      ]
     },
     "execution_count": 55,
     "metadata": {},
     "output_type": "execute_result"
    }
   ],
   "source": [
    "df_train_val = pd.read_csv(data_raw_dir + 'training_values.csv')\n",
    "df_test_val = pd.read_csv(data_raw_dir + 'test_values.csv')\n",
    "df_train_lab = pd.read_csv(data_raw_dir + 'training_labels.csv')\n",
    "\n",
    "df_comp_val = pd.read_csv(data_interim_dir+'comp_val_gps_corrected.csv',index_col=0).reset_index(drop=True)\n",
    "\n",
    "print(df_comp_val.shape)\n",
    "print(df_comp_val.columns)\n",
    "\n",
    "df_comp_val.head(2)"
   ]
  },
  {
   "cell_type": "markdown",
   "metadata": {
    "id": "MrAzKNbhDQfW"
   },
   "source": [
    "#### Create Label Definition Dictionary"
   ]
  },
  {
   "cell_type": "code",
   "execution_count": 6,
   "metadata": {
    "id": "666PERX3DQfW"
   },
   "outputs": [],
   "source": [
    "label_list = ['amount_tsh - Total static head (amount water available to waterpoint)',\n",
    "'date_recorded - The date the row was entered',\n",
    "'funder - Who funded the well',\n",
    "'gps_height - Altitude of the well',\n",
    "'installer - Organization that installed the well',\n",
    "'longitude - GPS coordinate',\n",
    "'latitude - GPS coordinate',\n",
    "'wpt_name - Name of the waterpoint if there is one',\n",
    "'num_private - ',\n",
    "'basin - Geographic water basin',\n",
    "'subvillage - Geographic location',\n",
    "'region - Geographic location',\n",
    "'region_code - Geographic location (coded)',\n",
    "'district_code - Geographic location (coded)',\n",
    "'lga - Geographic location',\n",
    "'ward - Geographic location',\n",
    "'population - Population around the well',\n",
    "'public_meeting - True/False',\n",
    "'recorded_by - Group entering this row of data',\n",
    "'scheme_management - Who operates the waterpoint',\n",
    "'scheme_name - Who operates the waterpoint',\n",
    "'permit - If the waterpoint is permitted',\n",
    "'construction_year - Year the waterpoint was constructed',\n",
    "'extraction_type - The kind of extraction the waterpoint uses',\n",
    "'extraction_type_group - The kind of extraction the waterpoint uses',\n",
    "'extraction_type_class - The kind of extraction the waterpoint uses',\n",
    "'management - How the waterpoint is managed',\n",
    "'management_group - How the waterpoint is managed',\n",
    "'payment - What the water costs',\n",
    "'payment_type - What the water costs',\n",
    "'water_quality - The quality of the water',\n",
    "'quality_group - The quality of the water',\n",
    "'quantity - The quantity of water',\n",
    "'quantity_group - The quantity of water',\n",
    "'source - The source of the water',\n",
    "'source_type - The source of the water',\n",
    "'source_class - The source of the water',\n",
    "'waterpoint_type - The kind of waterpoint',\n",
    "'waterpoint_type_group - The kind of waterpoint']\n",
    "\n",
    "label_list = [x.split(' - ') for x in label_list]\n",
    "label_desc = [y for (x,y) in label_list]\n",
    "label_list = [x for (x,y) in label_list]\n",
    "\n",
    "label_dict = {}\n",
    "label_dict = dict(zip(label_list,label_desc))"
   ]
  },
  {
   "cell_type": "code",
   "execution_count": 7,
   "metadata": {
    "colab": {
     "base_uri": "https://localhost:8080/",
     "height": 231
    },
    "id": "4FQMmh6yDQfW",
    "outputId": "c5e65cce-db02-47f7-9133-c290c0aa6f45"
   },
   "outputs": [],
   "source": [
    "var = 'id'\n",
    "def explore_data(var,slice=-len(df_comp_val[var].unique())):\n",
    "    print(label_dict[var])\n",
    "    print(df_comp_val[var].dtype)\n",
    "    print(df_comp_val[var].unique()[slice:])\n",
    "    print(str(len(df_comp_val[var].unique())) + ' unique values')\n",
    "    print(str(df_comp_val[var].isna().sum())+' missing or null values')"
   ]
  },
  {
   "cell_type": "markdown",
   "metadata": {
    "id": "DblJU0_iDQjR"
   },
   "source": [
    "### Missing Data"
   ]
  },
  {
   "cell_type": "code",
   "execution_count": 8,
   "metadata": {
    "id": "nWZsDydQDQjR",
    "scrolled": false
   },
   "outputs": [
    {
     "name": "stdout",
     "output_type": "stream",
     "text": [
      "<class 'pandas.core.frame.DataFrame'>\n",
      "Int64Index: 74228 entries, 0 to 74227\n",
      "Data columns (total 40 columns):\n",
      " #   Column                 Non-Null Count  Dtype  \n",
      "---  ------                 --------------  -----  \n",
      " 0   id                     74228 non-null  int64  \n",
      " 1   amount_tsh             74228 non-null  float64\n",
      " 2   date_recorded          74228 non-null  object \n",
      " 3   funder                 69724 non-null  object \n",
      " 4   gps_height             74228 non-null  int64  \n",
      " 5   installer              69696 non-null  object \n",
      " 6   longitude              74228 non-null  float64\n",
      " 7   latitude               74228 non-null  float64\n",
      " 8   wpt_name               74228 non-null  object \n",
      " 9   num_private            74228 non-null  int64  \n",
      " 10  basin                  74228 non-null  object \n",
      " 11  subvillage             73758 non-null  object \n",
      " 12  region                 74228 non-null  object \n",
      " 13  region_code            74228 non-null  int64  \n",
      " 14  district_code          74228 non-null  int64  \n",
      " 15  lga                    74228 non-null  object \n",
      " 16  ward                   74228 non-null  object \n",
      " 17  population             74228 non-null  int64  \n",
      " 18  public_meeting         70073 non-null  object \n",
      " 19  recorded_by            74228 non-null  object \n",
      " 20  scheme_management      69382 non-null  object \n",
      " 21  scheme_name            38987 non-null  object \n",
      " 22  permit                 70435 non-null  object \n",
      " 23  construction_year      74228 non-null  int64  \n",
      " 24  extraction_type        74228 non-null  object \n",
      " 25  extraction_type_group  74228 non-null  object \n",
      " 26  extraction_type_class  74228 non-null  object \n",
      " 27  management             74228 non-null  object \n",
      " 28  management_group       74228 non-null  object \n",
      " 29  payment                74228 non-null  object \n",
      " 30  payment_type           74228 non-null  object \n",
      " 31  water_quality          74228 non-null  object \n",
      " 32  quality_group          74228 non-null  object \n",
      " 33  quantity               74228 non-null  object \n",
      " 34  quantity_group         74228 non-null  object \n",
      " 35  source                 74228 non-null  object \n",
      " 36  source_type            74228 non-null  object \n",
      " 37  source_class           74228 non-null  object \n",
      " 38  waterpoint_type        74228 non-null  object \n",
      " 39  waterpoint_type_group  74228 non-null  object \n",
      "dtypes: float64(3), int64(7), object(30)\n",
      "memory usage: 23.2+ MB\n"
     ]
    }
   ],
   "source": [
    "df_comp_val.info()"
   ]
  },
  {
   "cell_type": "markdown",
   "metadata": {
    "id": "zFcvo8kZDQjR"
   },
   "source": [
    "#### id"
   ]
  },
  {
   "cell_type": "code",
   "execution_count": 9,
   "metadata": {
    "colab": {
     "base_uri": "https://localhost:8080/",
     "height": 197
    },
    "id": "nyaiAtJxDQfX",
    "outputId": "d85b38c4-ce1e-45a9-8639-e7818e154a9f"
   },
   "outputs": [
    {
     "name": "stdout",
     "output_type": "stream",
     "text": [
      "[69572  8776 34310 ... 28749 33492 68707]\n"
     ]
    },
    {
     "data": {
      "text/plain": [
       "0        1\n",
       "42238    1\n",
       "Name: id, dtype: int64"
      ]
     },
     "execution_count": 9,
     "metadata": {},
     "output_type": "execute_result"
    }
   ],
   "source": [
    "var='id'\n",
    "\n",
    "print(df_comp_val[var].unique())\n",
    "\n",
    "# type int - index / id value - Good\n",
    "\n",
    "df_comp_val[var].value_counts(sort=True)[:2]\n",
    "\n",
    "# no duplicates - no error values"
   ]
  },
  {
   "cell_type": "markdown",
   "metadata": {},
   "source": [
    "#### amount_tsh"
   ]
  },
  {
   "cell_type": "code",
   "execution_count": 10,
   "metadata": {
    "id": "ZO7_bii8DQfX",
    "outputId": "218cb29f-344b-4fb7-d9a2-a8054faef845"
   },
   "outputs": [
    {
     "name": "stdout",
     "output_type": "stream",
     "text": [
      "Total static head (amount water available to waterpoint)\n",
      "float64\n",
      "[5.90e+01 3.50e+04 3.00e+00 2.55e+03 5.00e-01]\n",
      "102 unique values\n",
      "0 missing or null values\n"
     ]
    },
    {
     "data": {
      "text/plain": [
       "0.0         52027\n",
       "500.0        3874\n",
       "50.0         3103\n",
       "1000.0       1858\n",
       "20.0         1812\n",
       "            ...  \n",
       "70000.0         2\n",
       "53.0            1\n",
       "250000.0        1\n",
       "900.0           1\n",
       "3.0             1\n",
       "Name: amount_tsh, Length: 84, dtype: int64"
      ]
     },
     "execution_count": 10,
     "metadata": {},
     "output_type": "execute_result"
    }
   ],
   "source": [
    "var = 'amount_tsh'\n",
    "explore_data(var,-5)\n",
    "\n",
    "# type float - some decimal values it looks like - Good\n",
    "\n",
    "df_comp_val[var].value_counts(sort=True)[:3]"
   ]
  },
  {
   "cell_type": "markdown",
   "metadata": {},
   "source": [
    "70% of data read zero, could be an bad column but will keep for now."
   ]
  },
  {
   "cell_type": "markdown",
   "metadata": {},
   "source": [
    "#### date_recorded"
   ]
  },
  {
   "cell_type": "code",
   "execution_count": 11,
   "metadata": {
    "id": "MsdyuHG-DQfX",
    "outputId": "5f27bae7-4305-40e5-b9e7-8356ab081e95",
    "scrolled": true
   },
   "outputs": [
    {
     "name": "stdout",
     "output_type": "stream",
     "text": [
      "The date the row was entered\n",
      "object\n",
      "['2004-01-12' '2011-09-07' '2004-12-03' '2011-09-22' '2004-01-09']\n",
      "369 unique values\n",
      "0 missing or null values\n"
     ]
    },
    {
     "data": {
      "text/plain": [
       "2011-03-17    695\n",
       "2011-03-15    694\n",
       "2013-02-03    684\n",
       "2011-03-16    650\n",
       "2011-03-14    649\n",
       "Name: date_recorded, dtype: int64"
      ]
     },
     "execution_count": 11,
     "metadata": {},
     "output_type": "execute_result"
    }
   ],
   "source": [
    "var = 'date_recorded'\n",
    "explore_data(var,-5)\n",
    "\n",
    "# type object - change to datetime\n",
    "\n",
    "df_comp_val[var].value_counts(sort=True)[:5]\n"
   ]
  },
  {
   "cell_type": "code",
   "execution_count": 12,
   "metadata": {},
   "outputs": [],
   "source": [
    "df_comp_val[var] = pd.to_datetime(df_comp_val[var],format='%Y-%m-%d')\n",
    "\n",
    "# type datetime - Good"
   ]
  },
  {
   "cell_type": "markdown",
   "metadata": {},
   "source": [
    "#### funder"
   ]
  },
  {
   "cell_type": "code",
   "execution_count": 13,
   "metadata": {
    "id": "bO_lN3BfDQfX",
    "outputId": "55e0cdb3-3679-40ba-a7d6-b10400bcff7e",
    "scrolled": false
   },
   "outputs": [
    {
     "name": "stdout",
     "output_type": "stream",
     "text": [
      "Who funded the well\n",
      "object\n",
      "['Canaco' 'Banane' 'Nyamigogo' 'Village Fou' 'Velem']\n",
      "2141 unique values\n",
      "4504 missing or null values\n",
      "Government Of Tanzania    11292\n",
      "Danida                     3907\n",
      "Hesawa                     2771\n",
      "Rwssp                      1703\n",
      "World Bank                 1701\n",
      "Kkkt                       1623\n",
      "World Vision               1562\n",
      "Unicef                     1322\n",
      "Tasaf                      1136\n",
      "Dhv                        1065\n",
      "District Council           1037\n",
      "Private Individual         1034\n",
      "Dwsp                       1012\n",
      "0                           980\n",
      "Norad                       949\n",
      "Germany Republi             765\n",
      "Water                       739\n",
      "Tcrs                        735\n",
      "Ministry Of Water           728\n",
      "Dwe                         605\n",
      "Name: funder, dtype: int64\n",
      "1129 values have 1 instance\n"
     ]
    }
   ],
   "source": [
    "var = 'funder'\n",
    "explore_data(var,-5)\n",
    "\n",
    "# type string / object - lots of values - Good\n",
    "\n",
    "print(df_comp_val[var].value_counts(sort=True)[:20])\n",
    "\n",
    "# 0 values - unknown?\n",
    "\n",
    "print(str(((df_comp_val[var].value_counts()==1).sum()))+' values have 1 instance')\n",
    "\n",
    "# lots of potential error in input (romam catholic church vs. Roman Catholic Church, etc.)"
   ]
  },
  {
   "cell_type": "code",
   "execution_count": 14,
   "metadata": {},
   "outputs": [],
   "source": [
    "list_one = df_comp_val[var].value_counts()[df_comp_val[var].value_counts()==1].index.to_list()\n",
    "\n",
    "for idx in df_comp_val[df_comp_val[var].isin(list_one)].index.to_list():\n",
    "    df_comp_val.loc[idx,var] = 'other'\n",
    "\n",
    "for idx in df_comp_val[(df_comp_val[var]=='0') | (df_comp_val[var].isnull())].index.to_list():\n",
    "    df_comp_val.loc[idx,var] = 'other'"
   ]
  },
  {
   "cell_type": "code",
   "execution_count": 15,
   "metadata": {},
   "outputs": [],
   "source": [
    "# type object - to category\n",
    "\n",
    "df_comp_val[var] = df_comp_val[var].astype('category')"
   ]
  },
  {
   "cell_type": "markdown",
   "metadata": {},
   "source": [
    "#### installer"
   ]
  },
  {
   "cell_type": "code",
   "execution_count": 16,
   "metadata": {
    "id": "TX2319AADQfX",
    "outputId": "eb50fa1e-bcd7-4151-b38c-fd1d72378079"
   },
   "outputs": [
    {
     "name": "stdout",
     "output_type": "stream",
     "text": [
      "Organization that installed the well\n",
      "object\n",
      "['Mombia' 'CANACO' 'Banane' 'MAJIJA CHARLES' 'Central government/TLC']\n",
      "2410 unique values\n",
      "4532 missing or null values\n",
      "DWE                   21739\n",
      "Government             2275\n",
      "RWE                    1498\n",
      "Commu                  1347\n",
      "DANIDA                 1305\n",
      "KKKT                   1120\n",
      "Hesawa                 1070\n",
      "0                       980\n",
      "TCRS                    887\n",
      "CES                     765\n",
      "Central government      764\n",
      "DANID                   690\n",
      "Community               687\n",
      "HESAWA                  679\n",
      "District Council        663\n",
      "World vision            517\n",
      "TASAF                   504\n",
      "LGA                     501\n",
      "WEDECO                  496\n",
      "District council        490\n",
      "Name: installer, dtype: int64\n",
      "1244 values have 1 instance\n"
     ]
    }
   ],
   "source": [
    "var = 'installer'\n",
    "explore_data(var,-5)\n",
    "\n",
    "# type string / object - lots of values - Good\n",
    "\n",
    "print(df_comp_val[var].value_counts(sort=True)[:20])\n",
    "\n",
    "# 0 values - unknown?\n",
    "\n",
    "print(str(((df_comp_val[var].value_counts()==1).sum()))+' values have 1 instance')"
   ]
  },
  {
   "cell_type": "code",
   "execution_count": 17,
   "metadata": {
    "scrolled": true
   },
   "outputs": [],
   "source": [
    "list_one = df_comp_val[var].value_counts()[df_comp_val[var].value_counts()==1].index.to_list()\n",
    "\n",
    "for idx in df_comp_val[df_comp_val[var].isin(list_one)].index.to_list():\n",
    "    df_comp_val.loc[idx,var] = 'other'\n",
    "\n",
    "for idx in df_comp_val[(df_comp_val[var]=='0') | (df_comp_val[var].isnull())].index.to_list():\n",
    "    df_comp_val.loc[idx,var] = 'other'"
   ]
  },
  {
   "cell_type": "code",
   "execution_count": 18,
   "metadata": {},
   "outputs": [],
   "source": [
    "# type object - to category\n",
    "\n",
    "df_comp_val[var] = df_comp_val[var].astype('category')"
   ]
  },
  {
   "cell_type": "markdown",
   "metadata": {},
   "source": [
    "#### longitude"
   ]
  },
  {
   "cell_type": "code",
   "execution_count": 19,
   "metadata": {
    "id": "NhvftQ72DQfY",
    "outputId": "81b8d2a5-0ac9-4de7-e9d0-237dbb08e871"
   },
   "outputs": [
    {
     "name": "stdout",
     "output_type": "stream",
     "text": [
      "GPS coordinate\n",
      "float64\n",
      "[38.85266884 37.45163346 34.7398045  35.43273168 34.76505448]\n",
      "71937 unique values\n",
      "0 missing or null values\n"
     ]
    },
    {
     "data": {
      "text/plain": [
       "34.211478    135\n",
       "34.149346    100\n",
       "34.167443     94\n",
       "32.278174     86\n",
       "33.995811     85\n",
       "            ... \n",
       "36.681688      1\n",
       "33.319196      1\n",
       "38.348075      1\n",
       "37.806786      1\n",
       "35.164770      1\n",
       "Name: longitude, Length: 71937, dtype: int64"
      ]
     },
     "execution_count": 19,
     "metadata": {},
     "output_type": "execute_result"
    }
   ],
   "source": [
    "var = 'longitude'\n",
    "explore_data(var,-5)\n",
    "\n",
    "# type float - Good\n",
    "\n",
    "df_comp_val[var].value_counts(sort=True)"
   ]
  },
  {
   "cell_type": "markdown",
   "metadata": {},
   "source": [
    "#### latitude"
   ]
  },
  {
   "cell_type": "code",
   "execution_count": 20,
   "metadata": {
    "id": "WWap8ffCDQfY",
    "outputId": "b34cb30f-f13d-44f6-acd8-a5a56323ffa2"
   },
   "outputs": [
    {
     "name": "stdout",
     "output_type": "stream",
     "text": [
      "GPS coordinate\n",
      "float64\n",
      "[ -6.58284095  -5.35042799  -4.58558667 -10.58415869 -11.22601197]\n",
      "71936 unique values\n",
      "0 missing or null values\n"
     ]
    },
    {
     "data": {
      "text/plain": [
       "-2.863661     135\n",
       "-2.754004     100\n",
       "-2.656559      94\n",
       "-2.877503      86\n",
       "-2.748329      85\n",
       "             ... \n",
       "-4.790095       1\n",
       "-3.669355       1\n",
       "-3.167823       1\n",
       "-1.844915       1\n",
       "-10.772897      1\n",
       "Name: latitude, Length: 71936, dtype: int64"
      ]
     },
     "execution_count": 20,
     "metadata": {},
     "output_type": "execute_result"
    }
   ],
   "source": [
    "var = 'latitude'\n",
    "explore_data(var,-5)\n",
    "\n",
    "# type float - Good\n",
    "\n",
    "df_comp_val[var].value_counts(sort=True)"
   ]
  },
  {
   "cell_type": "markdown",
   "metadata": {},
   "source": [
    "#### wpt_name"
   ]
  },
  {
   "cell_type": "code",
   "execution_count": 21,
   "metadata": {
    "id": "KqsopGhFDQfZ",
    "outputId": "0ef3be89-213b-48e5-b05f-b87a52574380"
   },
   "outputs": [
    {
     "name": "stdout",
     "output_type": "stream",
     "text": [
      "Name of the waterpoint if there is one\n",
      "object\n",
      "['Mwandami' 'Ikanayugu' 'Kwambwezi' 'Bonde La Mkondoa' 'Kwa Mzee Chagala']\n",
      "45672 unique values\n",
      "0 missing or null values\n"
     ]
    },
    {
     "data": {
      "text/plain": [
       "none             4440\n",
       "Shuleni          2183\n",
       "Zahanati         1034\n",
       "Msikitini         646\n",
       "Kanisani          390\n",
       "                 ... \n",
       "Mafuleta            1\n",
       "Kwa Mzee Tani       1\n",
       "Saki Simwanza       1\n",
       "Mzrmbe              1\n",
       "Mzeengoma           1\n",
       "Name: wpt_name, Length: 45672, dtype: int64"
      ]
     },
     "execution_count": 21,
     "metadata": {},
     "output_type": "execute_result"
    }
   ],
   "source": [
    "var = 'wpt_name'\n",
    "explore_data(var,-5)\n",
    "\n",
    "df_comp_val[var].value_counts(sort=True)"
   ]
  },
  {
   "cell_type": "code",
   "execution_count": 22,
   "metadata": {},
   "outputs": [],
   "source": [
    "# too many values to be a useful feature\n",
    "df_comp_val = df_comp_val.drop(labels=[var],axis=1)"
   ]
  },
  {
   "cell_type": "markdown",
   "metadata": {},
   "source": [
    "#### num_private"
   ]
  },
  {
   "cell_type": "code",
   "execution_count": 23,
   "metadata": {
    "id": "YW_1_a27DQfZ",
    "outputId": "ee9b42e3-93bf-4a52-83a4-5b4a2866a7ba"
   },
   "outputs": [
    {
     "name": "stdout",
     "output_type": "stream",
     "text": [
      "\n",
      "int64\n",
      "[  55 1402  669   13  420]\n",
      "68 unique values\n",
      "0 missing or null values\n"
     ]
    },
    {
     "data": {
      "text/plain": [
       "0    0.987188\n",
       "1    0.001266\n",
       "6    0.001239\n",
       "Name: num_private, dtype: float64"
      ]
     },
     "execution_count": 23,
     "metadata": {},
     "output_type": "execute_result"
    }
   ],
   "source": [
    "var = 'num_private'\n",
    "explore_data(var,-5)\n",
    "\n",
    "# type int - very few unique values - not sure what it means so hard to interpret\n",
    "\n",
    "df_comp_val[var].value_counts(sort=True,normalize=True)[:3]"
   ]
  },
  {
   "cell_type": "code",
   "execution_count": 24,
   "metadata": {},
   "outputs": [],
   "source": [
    "# 98% of data with value 0 - drop\n",
    "df_comp_val = df_comp_val.drop(labels=[var],axis=1)"
   ]
  },
  {
   "cell_type": "markdown",
   "metadata": {},
   "source": [
    "#### basin"
   ]
  },
  {
   "cell_type": "code",
   "execution_count": 25,
   "metadata": {
    "id": "kJBLGS2oDQfZ",
    "outputId": "1850a868-841d-42af-e53e-fa76606275c1"
   },
   "outputs": [
    {
     "name": "stdout",
     "output_type": "stream",
     "text": [
      "Geographic water basin\n",
      "object\n",
      "['Internal' 'Lake Tanganyika' 'Wami / Ruvu' 'Rufiji' 'Lake Rukwa']\n",
      "9 unique values\n",
      "0 missing or null values\n"
     ]
    },
    {
     "data": {
      "text/plain": [
       "Lake Victoria              0.173102\n",
       "Pangani                    0.150119\n",
       "Rufiji                     0.134545\n",
       "Internal                   0.129897\n",
       "Lake Tanganyika            0.108477\n",
       "Wami / Ruvu                0.102077\n",
       "Lake Nyasa                 0.085305\n",
       "Ruvuma / Southern Coast    0.075268\n",
       "Lake Rukwa                 0.041211\n",
       "Name: basin, dtype: float64"
      ]
     },
     "execution_count": 25,
     "metadata": {},
     "output_type": "execute_result"
    }
   ],
   "source": [
    "var = 'basin'\n",
    "explore_data(var,-5)\n",
    "\n",
    "df_comp_val[var].value_counts(sort=True,normalize=True)"
   ]
  },
  {
   "cell_type": "code",
   "execution_count": 26,
   "metadata": {},
   "outputs": [],
   "source": [
    "# type object - to category\n",
    "\n",
    "df_comp_val[var] = df_comp_val[var].astype('category')"
   ]
  },
  {
   "cell_type": "markdown",
   "metadata": {},
   "source": [
    "#### subvillage"
   ]
  },
  {
   "cell_type": "code",
   "execution_count": 27,
   "metadata": {
    "id": "dLHxUFCxDQfZ",
    "outputId": "71995567-c2e7-435c-af79-74500af4f955"
   },
   "outputs": [
    {
     "name": "stdout",
     "output_type": "stream",
     "text": [
      "Geographic location\n",
      "object\n",
      "['Ilege' 'Mbwenga' 'Kabita' 'Nyamalonda' 'Kosoro']\n",
      "21414 unique values\n",
      "470 missing or null values\n"
     ]
    },
    {
     "data": {
      "text/plain": [
       "Shuleni       646\n",
       "Majengo       631\n",
       "Madukani      629\n",
       "Kati          467\n",
       "Mtakuja       322\n",
       "             ... \n",
       "Esmiti          1\n",
       "Mlengasemo      1\n",
       "Kijenge         1\n",
       "Mitondo A       1\n",
       "Angalia         1\n",
       "Name: subvillage, Length: 21413, dtype: int64"
      ]
     },
     "execution_count": 27,
     "metadata": {},
     "output_type": "execute_result"
    }
   ],
   "source": [
    "var = 'subvillage'\n",
    "explore_data(var,-5)\n",
    "\n",
    "df_comp_val[var].value_counts(sort=True)\n",
    "\n",
    "# many unique values"
   ]
  },
  {
   "cell_type": "code",
   "execution_count": 28,
   "metadata": {},
   "outputs": [],
   "source": [
    "list_one_subvillage = df_comp_val[var].value_counts()[df_comp_val[var].value_counts()==1].index.to_list()\n",
    "\n",
    "for idx in df_comp_val[df_comp_val[var].isin(list_one_subvillage)].index.to_list():\n",
    "    df_comp_val.loc[idx,var] = 'other'\n",
    "    \n",
    "for idx in df_comp_val[df_comp_val[var].isnull()].index.to_list():\n",
    "    df_comp_val.loc[idx,var] = 'other'"
   ]
  },
  {
   "cell_type": "code",
   "execution_count": 29,
   "metadata": {},
   "outputs": [],
   "source": [
    "# many unique values - already have many location features\n",
    "df_comp_val = df_comp_val.drop(labels=[var],axis=1)"
   ]
  },
  {
   "cell_type": "markdown",
   "metadata": {},
   "source": [
    "### Region"
   ]
  },
  {
   "cell_type": "markdown",
   "metadata": {},
   "source": [
    "#### region"
   ]
  },
  {
   "cell_type": "code",
   "execution_count": 30,
   "metadata": {
    "id": "QKwhsWO_DQfZ",
    "outputId": "289fe056-e04c-40a9-d5fd-39a928c3c608"
   },
   "outputs": [
    {
     "name": "stdout",
     "output_type": "stream",
     "text": [
      "Geographic location\n",
      "object\n",
      "['Geita' 'Morogoro' 'Songwe' 'Dar es Salaam' 'Katavi']\n",
      "26 unique values\n",
      "0 missing or null values\n"
     ]
    }
   ],
   "source": [
    "var = 'region'\n",
    "explore_data(var,-5)"
   ]
  },
  {
   "cell_type": "code",
   "execution_count": 31,
   "metadata": {},
   "outputs": [],
   "source": [
    "# type object - few unique values - to categorical, corrected by GPS.\n",
    "\n",
    "df_comp_val[var] = df_comp_val[var].astype('category')"
   ]
  },
  {
   "cell_type": "markdown",
   "metadata": {},
   "source": [
    "#### region_code"
   ]
  },
  {
   "cell_type": "code",
   "execution_count": 32,
   "metadata": {
    "id": "WLdSD3LUDQfa",
    "outputId": "8ee22d62-0500-42c4-f8c1-76be23b6fa73"
   },
   "outputs": [
    {
     "name": "stdout",
     "output_type": "stream",
     "text": [
      "Geographic location (coded)\n",
      "int64\n",
      "[99 24  9  8 40]\n",
      "27 unique values\n",
      "0 missing or null values\n",
      "          region  region_code\n",
      "0         Njombe           11\n",
      "38        Iringa           11\n",
      "4883       Mbeya           11\n",
      "15904     Simiyu           11\n",
      "19767  Shinyanga           11\n",
      "22004   Morogoro           11\n",
      "       region  region_code\n",
      "1        Mara           20\n",
      "71712  Simiyu           20\n"
     ]
    }
   ],
   "source": [
    "var = 'region_code'\n",
    "explore_data(var,-5)\n",
    "\n",
    "for rc in df_comp_val['region_code'].unique()[:2]:\n",
    "    print(df_comp_val[['region','region_code']][df_comp_val.region_code == rc].drop_duplicates())\n"
   ]
  },
  {
   "cell_type": "markdown",
   "metadata": {},
   "source": [
    "Values are inconsistent between regions, and region already corrected with GPS coordinates. Drop region_code."
   ]
  },
  {
   "cell_type": "code",
   "execution_count": 33,
   "metadata": {},
   "outputs": [],
   "source": [
    "df_comp_val = df_comp_val.drop(labels=['region_code'],axis=1)"
   ]
  },
  {
   "cell_type": "markdown",
   "metadata": {},
   "source": [
    "#### district_code"
   ]
  },
  {
   "cell_type": "code",
   "execution_count": 34,
   "metadata": {
    "id": "a8TGbPscDQfa",
    "outputId": "4858e0d2-dddd-4e07-e636-68d025fa9fb8"
   },
   "outputs": [
    {
     "name": "stdout",
     "output_type": "stream",
     "text": [
      "Geographic location (coded)\n",
      "int64\n",
      "[30 13  0 80 67]\n",
      "20 unique values\n",
      "0 missing or null values\n",
      "            region             lga  district_code\n",
      "0           Njombe          Ludewa              5\n",
      "11          Ruvuma        Namtumbo              5\n",
      "79           Geita          Mbogwe              5\n",
      "85          Mwanza       Sengerema              5\n",
      "89          Dodoma    Dodoma Urban              5\n",
      "104    Kilimanjaro             Hai              5\n",
      "119        Manyara          Kiteto              5\n",
      "142         Tabora         Sikonge              5\n",
      "213         Songwe           Ileje              5\n",
      "290       Morogoro         Mvomero              5\n",
      "320         Mtwara    Mtwara Urban              5\n",
      "361          Tanga         Kilindi              5\n",
      "465         Arusha      Ngorongoro              5\n",
      "515          Tanga         Pangani              5\n",
      "693          Geita         Bukombe              5\n",
      "2621      Morogoro        Morogoro              5\n",
      "3609        Dodoma          Kongwa              5\n",
      "3788        Mtwara          Mtwara              5\n",
      "4524      Morogoro  Morogoro Urban              5\n",
      "10011        Mbeya           Mbeya              5\n",
      "17074       Ruvuma          Songea              5\n",
      "26965    Shinyanga          Kahama              5\n",
      "35177       Songwe           Mbozi              5\n",
      "41162        Geita           Geita              5\n"
     ]
    }
   ],
   "source": [
    "var = 'district_code'\n",
    "explore_data(var,-5)\n",
    "\n",
    "df_comp_val[var].value_counts(sort=True)[:3]\n",
    "\n",
    "for rc in df_comp_val[var].unique()[:1]:\n",
    "    print(df_comp_val[['region','lga',var]][df_comp_val[var] == rc].drop_duplicates())\n"
   ]
  },
  {
   "cell_type": "markdown",
   "metadata": {},
   "source": [
    "Values are inconsistent between region / lga, and region already corrected with GPS coordinates - candidate to drop the feature if no modelling value."
   ]
  },
  {
   "cell_type": "markdown",
   "metadata": {},
   "source": [
    "#### lga"
   ]
  },
  {
   "cell_type": "code",
   "execution_count": 35,
   "metadata": {
    "id": "HjR5QphFDQfa",
    "outputId": "b67533ae-0c22-43be-8169-7402fbf79276"
   },
   "outputs": [
    {
     "name": "stdout",
     "output_type": "stream",
     "text": [
      "Geographic location\n",
      "object\n",
      "['Masasi  Township Authority' 'Mbeya Urban' 'Tunduma' 'Bukoba Rural'\n",
      " 'Babati Urban']\n",
      "159 unique values\n",
      "0 missing or null values\n"
     ]
    }
   ],
   "source": [
    "var = 'lga'\n",
    "explore_data(var,-5)\n"
   ]
  },
  {
   "cell_type": "code",
   "execution_count": 36,
   "metadata": {},
   "outputs": [],
   "source": [
    "# type string / object - few unique values - to categorical\n",
    "\n",
    "df_comp_val.lga = df_comp_val.lga.replace('Kigoma  Urban','Kigoma Urban')\n",
    "df_comp_val.lga = df_comp_val.lga.replace('Bukoba Rural','Bukoba')\n",
    "\n",
    "df_comp_val[var] = df_comp_val[var].astype('category')"
   ]
  },
  {
   "cell_type": "markdown",
   "metadata": {},
   "source": [
    "#### ward"
   ]
  },
  {
   "cell_type": "code",
   "execution_count": 37,
   "metadata": {
    "id": "gDTmx4EaDQfa",
    "outputId": "6388c11b-c6eb-4539-b4c5-bd42cd1cbeec"
   },
   "outputs": [
    {
     "name": "stdout",
     "output_type": "stream",
     "text": [
      "Geographic location\n",
      "object\n",
      "['Sange' \"Kang'ata\" \"Gorong'a\" 'Mdabulo' 'Mwalugulu']\n",
      "2097 unique values\n",
      "0 missing or null values\n"
     ]
    }
   ],
   "source": [
    "var = 'ward'\n",
    "explore_data(var,-5)"
   ]
  },
  {
   "cell_type": "code",
   "execution_count": 38,
   "metadata": {},
   "outputs": [],
   "source": [
    "# type string / object - unique categorical values - to categorical\n",
    "\n",
    "df_comp_val[var] = df_comp_val[var].astype('category')"
   ]
  },
  {
   "cell_type": "markdown",
   "metadata": {},
   "source": [
    "#### population"
   ]
  },
  {
   "cell_type": "code",
   "execution_count": 39,
   "metadata": {
    "id": "9_JViMH-DQfb",
    "outputId": "caec0c27-1817-4699-f88d-bd0c6fa823a9",
    "scrolled": false
   },
   "outputs": [
    {
     "name": "stdout",
     "output_type": "stream",
     "text": [
      "Population around the well\n",
      "int64\n",
      "[2554 7600 1869 1542 2960]\n",
      "1128 unique values\n",
      "0 missing or null values\n",
      "0    26812\n",
      "1     8782\n",
      "2        9\n",
      "Name: population, dtype: int64\n"
     ]
    }
   ],
   "source": [
    "var = 'population'\n",
    "explore_data(var,-5)\n",
    "\n",
    "print(df_comp_val[var].value_counts().sort_index()[:3])"
   ]
  },
  {
   "cell_type": "markdown",
   "metadata": {},
   "source": [
    "Zero values could have significance or insignificance. Potential to revisit if no value in modelling."
   ]
  },
  {
   "cell_type": "markdown",
   "metadata": {},
   "source": [
    "#### public_meeting"
   ]
  },
  {
   "cell_type": "code",
   "execution_count": 40,
   "metadata": {
    "id": "wR9FAgXZDQfb",
    "outputId": "cf81500c-d599-40d7-db65-9d33b78efad7"
   },
   "outputs": [
    {
     "name": "stdout",
     "output_type": "stream",
     "text": [
      "True/False\n",
      "object\n",
      "[True nan False]\n",
      "3 unique values\n",
      "4155 missing or null values\n"
     ]
    }
   ],
   "source": [
    "var = 'public_meeting'\n",
    "explore_data(var,-5)\n",
    "\n",
    "# type object - to Boolean\n",
    "# change NaN to False\n",
    "\n",
    "for idx in df_comp_val[df_comp_val[var].isna()].index.tolist():\n",
    "    df_comp_val.loc[idx,var] = False\n",
    "\n",
    "df_comp_val[var] = df_comp_val[var].astype(int)"
   ]
  },
  {
   "cell_type": "code",
   "execution_count": 41,
   "metadata": {},
   "outputs": [
    {
     "data": {
      "text/plain": [
       "1    0.85853\n",
       "0    0.14147\n",
       "Name: public_meeting, dtype: float64"
      ]
     },
     "execution_count": 41,
     "metadata": {},
     "output_type": "execute_result"
    }
   ],
   "source": [
    "df_comp_val[var].value_counts(normalize=True)"
   ]
  },
  {
   "cell_type": "markdown",
   "metadata": {},
   "source": [
    "#### recorded_by"
   ]
  },
  {
   "cell_type": "code",
   "execution_count": 42,
   "metadata": {
    "id": "U4Kx9YCIDQfb",
    "outputId": "35edc097-a598-419f-dcd2-8b665fb82cc0"
   },
   "outputs": [
    {
     "name": "stdout",
     "output_type": "stream",
     "text": [
      "Group entering this row of data\n",
      "object\n",
      "['GeoData Consultants Ltd']\n",
      "1 unique values\n",
      "0 missing or null values\n"
     ]
    }
   ],
   "source": [
    "var = 'recorded_by'\n",
    "explore_data(var,-5)"
   ]
  },
  {
   "cell_type": "code",
   "execution_count": 43,
   "metadata": {},
   "outputs": [],
   "source": [
    "# one value - can delete this column.\n",
    "df_comp_val = df_comp_val.drop(labels=[var],axis=1)"
   ]
  },
  {
   "cell_type": "markdown",
   "metadata": {},
   "source": [
    "#### scheme_management"
   ]
  },
  {
   "cell_type": "code",
   "execution_count": 44,
   "metadata": {
    "id": "fqHsDj7GDQfb",
    "outputId": "766088a4-1369-4fab-a134-433e6c103235"
   },
   "outputs": [
    {
     "name": "stdout",
     "output_type": "stream",
     "text": [
      "Who operates the waterpoint\n",
      "object\n",
      "['Company' 'Parastatal' 'Trust' 'SWC' 'None']\n",
      "13 unique values\n",
      "4846 missing or null values\n"
     ]
    },
    {
     "data": {
      "text/plain": [
       "VWC                 45895\n",
       "WUG                  6496\n",
       "Water authority      3975\n",
       "WUA                  3551\n",
       "Water Board          3462\n",
       "Parastatal           2124\n",
       "Company              1341\n",
       "Private operator     1326\n",
       "Other                 996\n",
       "SWC                   123\n",
       "Trust                  92\n",
       "None                    1\n",
       "Name: scheme_management, dtype: int64"
      ]
     },
     "execution_count": 44,
     "metadata": {},
     "output_type": "execute_result"
    }
   ],
   "source": [
    "var = 'scheme_management'\n",
    "explore_data(var,-5)\n",
    "\n",
    "df_comp_val[var].value_counts()"
   ]
  },
  {
   "cell_type": "code",
   "execution_count": 46,
   "metadata": {
    "scrolled": true
   },
   "outputs": [
    {
     "data": {
      "text/plain": [
       "VWC                 45895\n",
       "WUG                  6496\n",
       "unknown              4846\n",
       "Water authority      3975\n",
       "WUA                  3551\n",
       "Water Board          3462\n",
       "Parastatal           2124\n",
       "Company              1341\n",
       "Private operator     1326\n",
       "Other                 996\n",
       "SWC                   123\n",
       "Trust                  92\n",
       "None                    1\n",
       "Name: scheme_management, dtype: int64"
      ]
     },
     "execution_count": 46,
     "metadata": {},
     "output_type": "execute_result"
    }
   ],
   "source": [
    "df_comp_val[var] = df_comp_val[var].fillna('unknown')"
   ]
  },
  {
   "cell_type": "code",
   "execution_count": 48,
   "metadata": {},
   "outputs": [],
   "source": []
  },
  {
   "cell_type": "markdown",
   "metadata": {},
   "source": [
    "#### scheme_name"
   ]
  },
  {
   "cell_type": "code",
   "execution_count": 49,
   "metadata": {
    "id": "tiWZ0dUDDQfc",
    "outputId": "88562efc-547f-45af-9581-51df3ec16b66"
   },
   "outputs": [
    {
     "name": "stdout",
     "output_type": "stream",
     "text": [
      "Who operates the waterpoint\n",
      "object\n",
      "['Mradi wa maji wa Buhanda' 'LumeyaKalebezo Nyehunge Water project'\n",
      " 'Grumeti' 'BL Vetenary' 'MIGA']\n",
      "2866 unique values\n",
      "35241 missing or null values\n"
     ]
    },
    {
     "data": {
      "text/plain": [
       "K                858\n",
       "None             794\n",
       "Borehole         704\n",
       "Chalinze wate    501\n",
       "M                490\n",
       "                ... \n",
       "Nguj               1\n",
       "BL Nsherehehe      1\n",
       "Tina               1\n",
       "Mafi Mountain      1\n",
       "Jaduwaso           1\n",
       "Name: scheme_name, Length: 2865, dtype: int64"
      ]
     },
     "execution_count": 49,
     "metadata": {},
     "output_type": "execute_result"
    }
   ],
   "source": [
    "var = 'scheme_name'\n",
    "explore_data(var,-5)\n",
    "\n",
    "df_comp_val[var].value_counts()"
   ]
  },
  {
   "cell_type": "code",
   "execution_count": 50,
   "metadata": {},
   "outputs": [],
   "source": [
    "df_comp_val = df_comp_val.drop(labels=[var],axis=1)"
   ]
  },
  {
   "cell_type": "markdown",
   "metadata": {},
   "source": [
    "Significant number of unique values - LOTS of missing values. Best thing to do is to drop column."
   ]
  },
  {
   "cell_type": "markdown",
   "metadata": {},
   "source": [
    "#### permit"
   ]
  },
  {
   "cell_type": "code",
   "execution_count": 51,
   "metadata": {
    "id": "0MmkG3hxDQfc",
    "outputId": "714366a9-ca36-43e2-af78-ba6c299b9658"
   },
   "outputs": [
    {
     "name": "stdout",
     "output_type": "stream",
     "text": [
      "If the waterpoint is permitted\n",
      "object\n",
      "[False True nan]\n",
      "3 unique values\n",
      "3793 missing or null values\n"
     ]
    },
    {
     "data": {
      "text/plain": [
       "True     48584\n",
       "False    21851\n",
       "Name: permit, dtype: int64"
      ]
     },
     "execution_count": 51,
     "metadata": {},
     "output_type": "execute_result"
    }
   ],
   "source": [
    "var = 'permit'\n",
    "explore_data(var,-5)\n",
    "\n",
    "df_comp_val[var].value_counts()"
   ]
  },
  {
   "cell_type": "code",
   "execution_count": 52,
   "metadata": {},
   "outputs": [],
   "source": [
    "for idx in df_comp_val[df_comp_val[var].isna()].index.tolist():\n",
    "    df_comp_val.loc[idx,var] = False\n",
    "\n",
    "df_comp_val[var] = df_comp_val[var].astype(int)"
   ]
  },
  {
   "cell_type": "markdown",
   "metadata": {},
   "source": [
    "#### construction_year"
   ]
  },
  {
   "cell_type": "code",
   "execution_count": 49,
   "metadata": {
    "id": "M3VMXCS0DQfc",
    "outputId": "e3c0dcfb-387b-4802-fa24-37d1a6d6e1e6",
    "scrolled": false
   },
   "outputs": [
    {
     "name": "stdout",
     "output_type": "stream",
     "text": [
      "Year the waterpoint was constructed\n",
      "int64\n",
      "[1969 1981 1964 1966 1965]\n",
      "55 unique values\n",
      "0 missing or null values\n",
      "0       25947\n",
      "2010     3314\n",
      "2008     3243\n",
      "Name: construction_year, dtype: int64\n"
     ]
    },
    {
     "data": {
      "image/png": "[encoded data removed]",
      "text/plain": [
       "<Figure size 432x288 with 1 Axes>"
      ]
     },
     "metadata": {
      "needs_background": "light"
     },
     "output_type": "display_data"
    }
   ],
   "source": [
    "var = 'construction_year'\n",
    "explore_data(var,-5)\n",
    "\n",
    "# type int - to datetime\n",
    "\n",
    "print(df_comp_val[var].value_counts()[:3])\n",
    "\n",
    "# nearly 1/3 of values are zero (N/A), most likely not a useful column without more data\n",
    "\n",
    "df_comp_val[df_comp_val[var]!=0].construction_year.hist();"
   ]
  },
  {
   "cell_type": "code",
   "execution_count": 52,
   "metadata": {},
   "outputs": [
    {
     "data": {
      "text/plain": [
       "[4,\n",
       " 6,\n",
       " 7,\n",
       " 8,\n",
       " 9,\n",
       " 12,\n",
       " 14,\n",
       " 21,\n",
       " 27,\n",
       " 30,\n",
       " 34,\n",
       " 36,\n",
       " 37,\n",
       " 45,\n",
       " 47,\n",
       " 52,\n",
       " 53,\n",
       " 54,\n",
       " 59,\n",
       " 67,\n",
       " 71,\n",
       " 72,\n",
       " 75,\n",
       " 79,\n",
       " 83,\n",
       " 85,\n",
       " 87,\n",
       " 89,\n",
       " 94,\n",
       " 97,\n",
       " 99,\n",
       " 106,\n",
       " 107,\n",
       " 109,\n",
       " 112,\n",
       " 113,\n",
       " 114,\n",
       " 115,\n",
       " 121,\n",
       " 122,\n",
       " 124,\n",
       " 125,\n",
       " 128,\n",
       " 129,\n",
       " 130,\n",
       " 131,\n",
       " 132,\n",
       " 133,\n",
       " 136,\n",
       " 138,\n",
       " 139,\n",
       " 140,\n",
       " 142,\n",
       " 145,\n",
       " 146,\n",
       " 149,\n",
       " 151,\n",
       " 156,\n",
       " 157,\n",
       " 158,\n",
       " 164,\n",
       " 166,\n",
       " 168,\n",
       " 177,\n",
       " 178,\n",
       " 181,\n",
       " 184,\n",
       " 186,\n",
       " 187,\n",
       " 188,\n",
       " 189,\n",
       " 192,\n",
       " 199,\n",
       " 200,\n",
       " 204,\n",
       " 205,\n",
       " 206,\n",
       " 211,\n",
       " 213,\n",
       " 215,\n",
       " 217,\n",
       " 219,\n",
       " 228,\n",
       " 229,\n",
       " 235,\n",
       " 236,\n",
       " 238,\n",
       " 239,\n",
       " 241,\n",
       " 242,\n",
       " 245,\n",
       " 253,\n",
       " 255,\n",
       " 256,\n",
       " 260,\n",
       " 262,\n",
       " 263,\n",
       " 264,\n",
       " 268,\n",
       " 270,\n",
       " 271,\n",
       " 272,\n",
       " 273,\n",
       " 282,\n",
       " 285,\n",
       " 287,\n",
       " 295,\n",
       " 298,\n",
       " 300,\n",
       " 301,\n",
       " 302,\n",
       " 303,\n",
       " 304,\n",
       " 305,\n",
       " 306,\n",
       " 307,\n",
       " 309,\n",
       " 311,\n",
       " 312,\n",
       " 313,\n",
       " 319,\n",
       " 320,\n",
       " 321,\n",
       " 322,\n",
       " 323,\n",
       " 324,\n",
       " 326,\n",
       " 329,\n",
       " 332,\n",
       " 333,\n",
       " 334,\n",
       " 336,\n",
       " 340,\n",
       " 342,\n",
       " 346,\n",
       " 352,\n",
       " 355,\n",
       " 357,\n",
       " 358,\n",
       " 360,\n",
       " 363,\n",
       " 368,\n",
       " 370,\n",
       " 377,\n",
       " 379,\n",
       " 386,\n",
       " 387,\n",
       " 390,\n",
       " 394,\n",
       " 397,\n",
       " 400,\n",
       " 403,\n",
       " 404,\n",
       " 405,\n",
       " 406,\n",
       " 411,\n",
       " 413,\n",
       " 416,\n",
       " 423,\n",
       " 427,\n",
       " 429,\n",
       " 431,\n",
       " 433,\n",
       " 434,\n",
       " 437,\n",
       " 439,\n",
       " 443,\n",
       " 445,\n",
       " 446,\n",
       " 447,\n",
       " 449,\n",
       " 451,\n",
       " 454,\n",
       " 459,\n",
       " 462,\n",
       " 472,\n",
       " 474,\n",
       " 481,\n",
       " 484,\n",
       " 490,\n",
       " 491,\n",
       " 492,\n",
       " 494,\n",
       " 502,\n",
       " 512,\n",
       " 514,\n",
       " 518,\n",
       " 521,\n",
       " 524,\n",
       " 525,\n",
       " 530,\n",
       " 533,\n",
       " 535,\n",
       " 538,\n",
       " 541,\n",
       " 542,\n",
       " 555,\n",
       " 556,\n",
       " 558,\n",
       " 560,\n",
       " 565,\n",
       " 568,\n",
       " 571,\n",
       " 572,\n",
       " 580,\n",
       " 583,\n",
       " 584,\n",
       " 588,\n",
       " 595,\n",
       " 600,\n",
       " 602,\n",
       " 603,\n",
       " 604,\n",
       " 609,\n",
       " 610,\n",
       " 612,\n",
       " 613,\n",
       " 614,\n",
       " 619,\n",
       " 623,\n",
       " 627,\n",
       " 630,\n",
       " 631,\n",
       " 633,\n",
       " 637,\n",
       " 647,\n",
       " 648,\n",
       " 652,\n",
       " 656,\n",
       " 659,\n",
       " 666,\n",
       " 667,\n",
       " 668,\n",
       " 671,\n",
       " 678,\n",
       " 679,\n",
       " 680,\n",
       " 683,\n",
       " 686,\n",
       " 687,\n",
       " 690,\n",
       " 691,\n",
       " 692,\n",
       " 693,\n",
       " 694,\n",
       " 697,\n",
       " 700,\n",
       " 705,\n",
       " 707,\n",
       " 708,\n",
       " 714,\n",
       " 717,\n",
       " 720,\n",
       " 723,\n",
       " 724,\n",
       " 725,\n",
       " 732,\n",
       " 733,\n",
       " 736,\n",
       " 737,\n",
       " 739,\n",
       " 740,\n",
       " 741,\n",
       " 744,\n",
       " 751,\n",
       " 753,\n",
       " 755,\n",
       " 759,\n",
       " 760,\n",
       " 771,\n",
       " 775,\n",
       " 776,\n",
       " 778,\n",
       " 780,\n",
       " 781,\n",
       " 782,\n",
       " 785,\n",
       " 787,\n",
       " 791,\n",
       " 796,\n",
       " 797,\n",
       " 798,\n",
       " 799,\n",
       " 802,\n",
       " 810,\n",
       " 813,\n",
       " 816,\n",
       " 824,\n",
       " 827,\n",
       " 828,\n",
       " 832,\n",
       " 838,\n",
       " 839,\n",
       " 842,\n",
       " 845,\n",
       " 846,\n",
       " 847,\n",
       " 848,\n",
       " 852,\n",
       " 854,\n",
       " 855,\n",
       " 859,\n",
       " 861,\n",
       " 864,\n",
       " 872,\n",
       " 874,\n",
       " 875,\n",
       " 877,\n",
       " 879,\n",
       " 885,\n",
       " 887,\n",
       " 892,\n",
       " 893,\n",
       " 895,\n",
       " 902,\n",
       " 908,\n",
       " 909,\n",
       " 911,\n",
       " 915,\n",
       " 918,\n",
       " 921,\n",
       " 923,\n",
       " 925,\n",
       " 926,\n",
       " 928,\n",
       " 929,\n",
       " 933,\n",
       " 935,\n",
       " 939,\n",
       " 941,\n",
       " 946,\n",
       " 953,\n",
       " 954,\n",
       " 955,\n",
       " 956,\n",
       " 960,\n",
       " 961,\n",
       " 964,\n",
       " 965,\n",
       " 966,\n",
       " 970,\n",
       " 971,\n",
       " 973,\n",
       " 974,\n",
       " 980,\n",
       " 984,\n",
       " 985,\n",
       " 989,\n",
       " 992,\n",
       " 994,\n",
       " 995,\n",
       " 997,\n",
       " 1001,\n",
       " 1003,\n",
       " 1005,\n",
       " 1008,\n",
       " 1010,\n",
       " 1012,\n",
       " 1013,\n",
       " 1019,\n",
       " 1021,\n",
       " 1024,\n",
       " 1025,\n",
       " 1028,\n",
       " 1029,\n",
       " 1032,\n",
       " 1036,\n",
       " 1038,\n",
       " 1039,\n",
       " 1050,\n",
       " 1052,\n",
       " 1053,\n",
       " 1054,\n",
       " 1055,\n",
       " 1067,\n",
       " 1071,\n",
       " 1078,\n",
       " 1079,\n",
       " 1082,\n",
       " 1084,\n",
       " 1086,\n",
       " 1094,\n",
       " 1095,\n",
       " 1097,\n",
       " 1102,\n",
       " 1104,\n",
       " 1105,\n",
       " 1106,\n",
       " 1108,\n",
       " 1109,\n",
       " 1110,\n",
       " 1113,\n",
       " 1117,\n",
       " 1118,\n",
       " 1119,\n",
       " 1120,\n",
       " 1121,\n",
       " 1122,\n",
       " 1124,\n",
       " 1126,\n",
       " 1127,\n",
       " 1128,\n",
       " 1133,\n",
       " 1136,\n",
       " 1140,\n",
       " 1141,\n",
       " 1142,\n",
       " 1145,\n",
       " 1149,\n",
       " 1151,\n",
       " 1152,\n",
       " 1153,\n",
       " 1157,\n",
       " 1158,\n",
       " 1159,\n",
       " 1162,\n",
       " 1163,\n",
       " 1165,\n",
       " 1167,\n",
       " 1168,\n",
       " 1169,\n",
       " 1171,\n",
       " 1173,\n",
       " 1181,\n",
       " 1183,\n",
       " 1186,\n",
       " 1187,\n",
       " 1188,\n",
       " 1190,\n",
       " 1191,\n",
       " 1201,\n",
       " 1206,\n",
       " 1208,\n",
       " 1212,\n",
       " 1217,\n",
       " 1218,\n",
       " 1219,\n",
       " 1223,\n",
       " 1227,\n",
       " 1228,\n",
       " 1232,\n",
       " 1236,\n",
       " 1240,\n",
       " 1243,\n",
       " 1244,\n",
       " 1247,\n",
       " 1248,\n",
       " 1250,\n",
       " 1251,\n",
       " 1252,\n",
       " 1253,\n",
       " 1255,\n",
       " 1256,\n",
       " 1263,\n",
       " 1264,\n",
       " 1265,\n",
       " 1268,\n",
       " 1270,\n",
       " 1279,\n",
       " 1292,\n",
       " 1296,\n",
       " 1303,\n",
       " 1315,\n",
       " 1319,\n",
       " 1320,\n",
       " 1321,\n",
       " 1322,\n",
       " 1323,\n",
       " 1326,\n",
       " 1328,\n",
       " 1333,\n",
       " 1334,\n",
       " 1335,\n",
       " 1341,\n",
       " 1346,\n",
       " 1348,\n",
       " 1349,\n",
       " 1351,\n",
       " 1354,\n",
       " 1357,\n",
       " 1361,\n",
       " 1362,\n",
       " 1364,\n",
       " 1369,\n",
       " 1370,\n",
       " 1375,\n",
       " 1377,\n",
       " 1378,\n",
       " 1387,\n",
       " 1392,\n",
       " 1394,\n",
       " 1396,\n",
       " 1398,\n",
       " 1402,\n",
       " 1405,\n",
       " 1409,\n",
       " 1413,\n",
       " 1417,\n",
       " 1420,\n",
       " 1423,\n",
       " 1424,\n",
       " 1428,\n",
       " 1433,\n",
       " 1436,\n",
       " 1441,\n",
       " 1443,\n",
       " 1444,\n",
       " 1445,\n",
       " 1446,\n",
       " 1449,\n",
       " 1450,\n",
       " 1451,\n",
       " 1452,\n",
       " 1454,\n",
       " 1458,\n",
       " 1459,\n",
       " 1462,\n",
       " 1463,\n",
       " 1467,\n",
       " 1469,\n",
       " 1473,\n",
       " 1478,\n",
       " 1480,\n",
       " 1481,\n",
       " 1483,\n",
       " 1487,\n",
       " 1492,\n",
       " 1499,\n",
       " 1500,\n",
       " 1502,\n",
       " 1503,\n",
       " 1506,\n",
       " 1508,\n",
       " 1511,\n",
       " 1516,\n",
       " 1521,\n",
       " 1523,\n",
       " 1525,\n",
       " 1530,\n",
       " 1531,\n",
       " 1535,\n",
       " 1538,\n",
       " 1544,\n",
       " 1545,\n",
       " 1549,\n",
       " 1554,\n",
       " 1561,\n",
       " 1564,\n",
       " 1565,\n",
       " 1569,\n",
       " 1571,\n",
       " 1572,\n",
       " 1574,\n",
       " 1578,\n",
       " 1582,\n",
       " 1583,\n",
       " 1584,\n",
       " 1587,\n",
       " 1588,\n",
       " 1589,\n",
       " 1593,\n",
       " 1598,\n",
       " 1600,\n",
       " 1601,\n",
       " 1602,\n",
       " 1606,\n",
       " 1611,\n",
       " 1619,\n",
       " 1622,\n",
       " 1623,\n",
       " 1624,\n",
       " 1626,\n",
       " 1632,\n",
       " 1634,\n",
       " 1642,\n",
       " 1644,\n",
       " 1645,\n",
       " 1646,\n",
       " 1653,\n",
       " 1654,\n",
       " 1659,\n",
       " 1661,\n",
       " 1663,\n",
       " 1664,\n",
       " 1669,\n",
       " 1672,\n",
       " 1679,\n",
       " 1680,\n",
       " 1683,\n",
       " 1685,\n",
       " 1686,\n",
       " 1689,\n",
       " 1698,\n",
       " 1699,\n",
       " 1708,\n",
       " 1709,\n",
       " 1717,\n",
       " 1721,\n",
       " 1723,\n",
       " 1725,\n",
       " 1727,\n",
       " 1728,\n",
       " 1734,\n",
       " 1735,\n",
       " 1736,\n",
       " 1737,\n",
       " 1738,\n",
       " 1739,\n",
       " 1741,\n",
       " 1747,\n",
       " 1748,\n",
       " 1753,\n",
       " 1754,\n",
       " 1755,\n",
       " 1760,\n",
       " 1766,\n",
       " 1770,\n",
       " 1773,\n",
       " 1774,\n",
       " 1775,\n",
       " 1778,\n",
       " 1781,\n",
       " 1782,\n",
       " 1783,\n",
       " 1784,\n",
       " 1785,\n",
       " 1788,\n",
       " 1790,\n",
       " 1797,\n",
       " 1798,\n",
       " 1801,\n",
       " 1802,\n",
       " 1810,\n",
       " 1813,\n",
       " 1816,\n",
       " 1817,\n",
       " 1820,\n",
       " 1821,\n",
       " 1822,\n",
       " 1829,\n",
       " 1830,\n",
       " 1831,\n",
       " 1837,\n",
       " 1839,\n",
       " 1841,\n",
       " 1845,\n",
       " 1847,\n",
       " 1848,\n",
       " 1850,\n",
       " 1854,\n",
       " 1856,\n",
       " 1857,\n",
       " 1858,\n",
       " 1864,\n",
       " 1865,\n",
       " 1869,\n",
       " 1871,\n",
       " 1872,\n",
       " 1873,\n",
       " 1878,\n",
       " 1882,\n",
       " 1884,\n",
       " 1885,\n",
       " 1898,\n",
       " 1899,\n",
       " 1900,\n",
       " 1907,\n",
       " 1914,\n",
       " 1918,\n",
       " 1930,\n",
       " 1935,\n",
       " 1936,\n",
       " 1937,\n",
       " 1938,\n",
       " 1939,\n",
       " 1944,\n",
       " 1946,\n",
       " 1950,\n",
       " 1953,\n",
       " 1954,\n",
       " 1955,\n",
       " 1959,\n",
       " 1961,\n",
       " 1963,\n",
       " 1964,\n",
       " 1965,\n",
       " 1966,\n",
       " 1969,\n",
       " 1979,\n",
       " 1983,\n",
       " 1985,\n",
       " 1989,\n",
       " 1990,\n",
       " 1991,\n",
       " 1992,\n",
       " 1993,\n",
       " 1997,\n",
       " 1998,\n",
       " 2001,\n",
       " 2004,\n",
       " 2005,\n",
       " 2007,\n",
       " 2017,\n",
       " 2018,\n",
       " 2020,\n",
       " 2021,\n",
       " 2027,\n",
       " 2029,\n",
       " 2033,\n",
       " 2039,\n",
       " 2040,\n",
       " 2042,\n",
       " 2044,\n",
       " 2045,\n",
       " 2046,\n",
       " 2057,\n",
       " 2059,\n",
       " 2067,\n",
       " 2070,\n",
       " 2074,\n",
       " 2077,\n",
       " 2078,\n",
       " 2079,\n",
       " 2080,\n",
       " 2081,\n",
       " 2084,\n",
       " 2087,\n",
       " 2088,\n",
       " 2092,\n",
       " 2095,\n",
       " 2101,\n",
       " 2102,\n",
       " 2106,\n",
       " 2108,\n",
       " 2109,\n",
       " 2112,\n",
       " 2113,\n",
       " 2114,\n",
       " 2116,\n",
       " 2117,\n",
       " 2122,\n",
       " 2125,\n",
       " 2126,\n",
       " 2134,\n",
       " 2149,\n",
       " 2156,\n",
       " 2157,\n",
       " 2158,\n",
       " 2160,\n",
       " 2164,\n",
       " 2165,\n",
       " 2169,\n",
       " 2170,\n",
       " 2179,\n",
       " 2180,\n",
       " 2181,\n",
       " 2188,\n",
       " 2196,\n",
       " 2198,\n",
       " 2199,\n",
       " 2202,\n",
       " 2203,\n",
       " 2205,\n",
       " 2211,\n",
       " 2212,\n",
       " 2217,\n",
       " 2222,\n",
       " 2223,\n",
       " 2224,\n",
       " 2227,\n",
       " 2228,\n",
       " 2229,\n",
       " 2231,\n",
       " 2233,\n",
       " 2239,\n",
       " 2241,\n",
       " 2244,\n",
       " 2248,\n",
       " 2251,\n",
       " 2259,\n",
       " 2260,\n",
       " 2261,\n",
       " 2263,\n",
       " 2268,\n",
       " 2270,\n",
       " 2273,\n",
       " 2274,\n",
       " 2275,\n",
       " 2276,\n",
       " 2278,\n",
       " 2280,\n",
       " 2281,\n",
       " 2284,\n",
       " 2287,\n",
       " 2288,\n",
       " 2290,\n",
       " 2291,\n",
       " 2292,\n",
       " 2293,\n",
       " 2294,\n",
       " 2296,\n",
       " 2298,\n",
       " 2301,\n",
       " 2302,\n",
       " 2304,\n",
       " 2307,\n",
       " 2310,\n",
       " 2321,\n",
       " 2322,\n",
       " 2323,\n",
       " 2324,\n",
       " 2325,\n",
       " 2326,\n",
       " 2329,\n",
       " 2331,\n",
       " 2334,\n",
       " 2338,\n",
       " 2340,\n",
       " 2341,\n",
       " 2342,\n",
       " 2347,\n",
       " 2350,\n",
       " 2351,\n",
       " 2352,\n",
       " 2355,\n",
       " 2357,\n",
       " 2358,\n",
       " 2361,\n",
       " 2363,\n",
       " 2365,\n",
       " 2367,\n",
       " 2368,\n",
       " 2377,\n",
       " 2379,\n",
       " 2380,\n",
       " 2381,\n",
       " 2382,\n",
       " 2386,\n",
       " 2389,\n",
       " 2391,\n",
       " 2392,\n",
       " 2397,\n",
       " 2399,\n",
       " 2400,\n",
       " 2401,\n",
       " 2405,\n",
       " 2408,\n",
       " 2411,\n",
       " 2415,\n",
       " 2419,\n",
       " 2420,\n",
       " 2421,\n",
       " 2423,\n",
       " 2427,\n",
       " 2428,\n",
       " 2430,\n",
       " 2439,\n",
       " 2442,\n",
       " 2445,\n",
       " 2447,\n",
       " 2453,\n",
       " 2455,\n",
       " 2457,\n",
       " 2466,\n",
       " 2469,\n",
       " 2475,\n",
       " 2476,\n",
       " 2483,\n",
       " 2488,\n",
       " 2489,\n",
       " 2490,\n",
       " 2492,\n",
       " 2496,\n",
       " 2498,\n",
       " 2501,\n",
       " 2504,\n",
       " 2508,\n",
       " 2509,\n",
       " 2510,\n",
       " 2511,\n",
       " 2516,\n",
       " 2520,\n",
       " 2528,\n",
       " 2535,\n",
       " 2536,\n",
       " 2538,\n",
       " 2539,\n",
       " 2542,\n",
       " 2544,\n",
       " 2553,\n",
       " 2555,\n",
       " 2557,\n",
       " 2560,\n",
       " 2563,\n",
       " 2565,\n",
       " 2569,\n",
       " 2571,\n",
       " 2572,\n",
       " 2573,\n",
       " 2576,\n",
       " 2578,\n",
       " 2579,\n",
       " 2581,\n",
       " 2583,\n",
       " 2584,\n",
       " 2593,\n",
       " 2594,\n",
       " 2595,\n",
       " 2597,\n",
       " 2600,\n",
       " 2603,\n",
       " 2605,\n",
       " 2609,\n",
       " 2613,\n",
       " 2614,\n",
       " 2615,\n",
       " 2616,\n",
       " 2618,\n",
       " 2620,\n",
       " 2623,\n",
       " 2624,\n",
       " 2630,\n",
       " 2633,\n",
       " 2639,\n",
       " 2641,\n",
       " 2649,\n",
       " 2651,\n",
       " 2652,\n",
       " 2654,\n",
       " 2666,\n",
       " 2667,\n",
       " 2668,\n",
       " 2674,\n",
       " 2679,\n",
       " 2681,\n",
       " 2682,\n",
       " 2685,\n",
       " 2692,\n",
       " 2693,\n",
       " 2699,\n",
       " 2701,\n",
       " 2702,\n",
       " 2711,\n",
       " 2713,\n",
       " 2714,\n",
       " 2720,\n",
       " 2727,\n",
       " 2728,\n",
       " 2729,\n",
       " 2733,\n",
       " 2735,\n",
       " 2737,\n",
       " 2741,\n",
       " 2745,\n",
       " 2749,\n",
       " 2755,\n",
       " 2761,\n",
       " 2763,\n",
       " 2764,\n",
       " 2766,\n",
       " 2768,\n",
       " 2769,\n",
       " 2771,\n",
       " 2773,\n",
       " 2779,\n",
       " 2780,\n",
       " 2783,\n",
       " 2786,\n",
       " 2789,\n",
       " 2793,\n",
       " 2794,\n",
       " 2796,\n",
       " 2801,\n",
       " 2803,\n",
       " 2805,\n",
       " 2806,\n",
       " 2808,\n",
       " 2809,\n",
       " 2813,\n",
       " 2814,\n",
       " 2815,\n",
       " 2816,\n",
       " 2823,\n",
       " 2825,\n",
       " 2832,\n",
       " 2836,\n",
       " 2837,\n",
       " 2838,\n",
       " 2841,\n",
       " 2842,\n",
       " 2850,\n",
       " 2851,\n",
       " 2862,\n",
       " 2866,\n",
       " 2868,\n",
       " 2870,\n",
       " 2871,\n",
       " 2876,\n",
       " 2879,\n",
       " 2883,\n",
       " ...]"
      ]
     },
     "execution_count": 52,
     "metadata": {},
     "output_type": "execute_result"
    }
   ],
   "source": [
    "for id in df_comp_val[df_comp_val[var]==0].id .tolist()"
   ]
  },
  {
   "cell_type": "code",
   "execution_count": 55,
   "metadata": {},
   "outputs": [],
   "source": [
    "# impute construction year for missing_perc year based on overall distribution for regions with high percentage of missing points.\n",
    "overall_prob_dist = create_prob_func_all(df_comp_val[df_comp_val[var]!=0],var)\n",
    "\n",
    "for region in df_cons_compare[df_cons_compare.missing_perc>0.8].index.tolist():\n",
    "    for idx in df_comp_val[(df_comp_val[var]==0) & (df_comp_val.region==region)].index.tolist():\n",
    "        df_comp_val.loc[idx,var] = return_name(overall_prob_dist,var)"
   ]
  },
  {
   "cell_type": "code",
   "execution_count": 56,
   "metadata": {},
   "outputs": [
    {
     "data": {
      "text/html": [
       "<div>\n",
       "<style scoped>\n",
       "    .dataframe tbody tr th:only-of-type {\n",
       "        vertical-align: middle;\n",
       "    }\n",
       "\n",
       "    .dataframe tbody tr th {\n",
       "        vertical-align: top;\n",
       "    }\n",
       "\n",
       "    .dataframe thead th {\n",
       "        text-align: right;\n",
       "    }\n",
       "</style>\n",
       "<table border=\"1\" class=\"dataframe\">\n",
       "  <thead>\n",
       "    <tr style=\"text-align: right;\">\n",
       "      <th></th>\n",
       "      <th>construction_year_invalid</th>\n",
       "      <th>construction_year_count_tot</th>\n",
       "      <th>missing_perc</th>\n",
       "    </tr>\n",
       "    <tr>\n",
       "      <th>lga</th>\n",
       "      <th></th>\n",
       "      <th></th>\n",
       "      <th></th>\n",
       "    </tr>\n",
       "  </thead>\n",
       "  <tbody>\n",
       "    <tr>\n",
       "      <th>Mafia</th>\n",
       "      <td>170</td>\n",
       "      <td>170</td>\n",
       "      <td>1.000000</td>\n",
       "    </tr>\n",
       "    <tr>\n",
       "      <th>Mufindi</th>\n",
       "      <td>440</td>\n",
       "      <td>629</td>\n",
       "      <td>0.699523</td>\n",
       "    </tr>\n",
       "    <tr>\n",
       "      <th>Mafinga Township Authority</th>\n",
       "      <td>15</td>\n",
       "      <td>32</td>\n",
       "      <td>0.468750</td>\n",
       "    </tr>\n",
       "    <tr>\n",
       "      <th>Mtwara Urban</th>\n",
       "      <td>41</td>\n",
       "      <td>140</td>\n",
       "      <td>0.292857</td>\n",
       "    </tr>\n",
       "    <tr>\n",
       "      <th>Nachingwea</th>\n",
       "      <td>108</td>\n",
       "      <td>375</td>\n",
       "      <td>0.288000</td>\n",
       "    </tr>\n",
       "    <tr>\n",
       "      <th>...</th>\n",
       "      <td>...</td>\n",
       "      <td>...</td>\n",
       "      <td>...</td>\n",
       "    </tr>\n",
       "    <tr>\n",
       "      <th>Ikungi</th>\n",
       "      <td>1</td>\n",
       "      <td>639</td>\n",
       "      <td>0.001565</td>\n",
       "    </tr>\n",
       "    <tr>\n",
       "      <th>Babati</th>\n",
       "      <td>1</td>\n",
       "      <td>663</td>\n",
       "      <td>0.001508</td>\n",
       "    </tr>\n",
       "    <tr>\n",
       "      <th>Morogoro</th>\n",
       "      <td>1</td>\n",
       "      <td>668</td>\n",
       "      <td>0.001497</td>\n",
       "    </tr>\n",
       "    <tr>\n",
       "      <th>Hai</th>\n",
       "      <td>1</td>\n",
       "      <td>785</td>\n",
       "      <td>0.001274</td>\n",
       "    </tr>\n",
       "    <tr>\n",
       "      <th>Iringa</th>\n",
       "      <td>1</td>\n",
       "      <td>915</td>\n",
       "      <td>0.001093</td>\n",
       "    </tr>\n",
       "  </tbody>\n",
       "</table>\n",
       "<p>72 rows × 3 columns</p>\n",
       "</div>"
      ],
      "text/plain": [
       "                            construction_year_invalid  \\\n",
       "lga                                                     \n",
       "Mafia                                             170   \n",
       "Mufindi                                           440   \n",
       "Mafinga Township Authority                         15   \n",
       "Mtwara Urban                                       41   \n",
       "Nachingwea                                        108   \n",
       "...                                               ...   \n",
       "Ikungi                                              1   \n",
       "Babati                                              1   \n",
       "Morogoro                                            1   \n",
       "Hai                                                 1   \n",
       "Iringa                                              1   \n",
       "\n",
       "                            construction_year_count_tot  missing_perc  \n",
       "lga                                                                    \n",
       "Mafia                                               170      1.000000  \n",
       "Mufindi                                             629      0.699523  \n",
       "Mafinga Township Authority                           32      0.468750  \n",
       "Mtwara Urban                                        140      0.292857  \n",
       "Nachingwea                                          375      0.288000  \n",
       "...                                                 ...           ...  \n",
       "Ikungi                                              639      0.001565  \n",
       "Babati                                              663      0.001508  \n",
       "Morogoro                                            668      0.001497  \n",
       "Hai                                                 785      0.001274  \n",
       "Iringa                                              915      0.001093  \n",
       "\n",
       "[72 rows x 3 columns]"
      ]
     },
     "execution_count": 56,
     "metadata": {},
     "output_type": "execute_result"
    }
   ],
   "source": [
    "division = 'lga'\n",
    "\n",
    "df_cons_compare = pd.DataFrame((df_comp_val[var]==0).groupby(by=df_comp_val[division]).sum()).merge(right=pd.DataFrame(df_comp_val[['id']].groupby(by=df_comp_val[division]).count()).rename(columns={'id':var}),on=division,suffixes=['_invalid','_count_tot'])\n",
    "\n",
    "for index in df_cons_compare.index.tolist():\n",
    "    df_cons_compare.loc[index,'missing_perc'] = df_cons_compare.loc[index,var+'_invalid'] / df_cons_compare.loc[index,var+'_count_tot']\n",
    "\n",
    "df_cons_compare = df_cons_compare.sort_values(by='missing_perc',ascending=False)\n",
    "\n",
    "df_cons_compare[df_cons_compare.missing_perc>0]"
   ]
  },
  {
   "cell_type": "code",
   "execution_count": 57,
   "metadata": {},
   "outputs": [],
   "source": [
    "# for missing_perc > 40%, use region to impute\n",
    "for lga in df_cons_compare[df_cons_compare.missing_perc>0.4].index.tolist():\n",
    "    \n",
    "    region = df_comp_val[df_comp_val.lga==lga].region.values[0]\n",
    "    \n",
    "    region_prob_dist = create_prob_func_region(df_comp_val[df_comp_val[var]!=0],var,region)\n",
    "    \n",
    "    for idx in df_comp_val[(df_comp_val[var]==0) & (df_comp_val.region==region)].index.tolist():\n",
    "        df_comp_val.loc[idx,var] = return_name(region_prob_dist,var)\n",
    "        \n",
    "# for missing_perc < 40%, use lga\n",
    "for lga in df_cons_compare[df_cons_compare.missing_perc<0.4].index.tolist():\n",
    "    \n",
    "    lga_prob_dist = create_prob_func_lga(df_comp_val[df_comp_val[var]!=0],var,lga)\n",
    "    \n",
    "    for idx in df_comp_val[(df_comp_val[var]==0) & (df_comp_val.lga==lga)].index.tolist():\n",
    "        df_comp_val.loc[idx,var] = return_name(lga_prob_dist,var)"
   ]
  },
  {
   "cell_type": "markdown",
   "metadata": {},
   "source": [
    "#### extraction_type"
   ]
  },
  {
   "cell_type": "code",
   "execution_count": 58,
   "metadata": {
    "id": "URHKci85DQfd",
    "outputId": "8b0c535f-9e48-4926-9d12-20b932c62cf7",
    "scrolled": false
   },
   "outputs": [
    {
     "name": "stdout",
     "output_type": "stream",
     "text": [
      "The kind of extraction the waterpoint uses\n",
      "object\n",
      "['gravity' 'submersible' 'swn 80' 'nira/tanira' 'india mark ii' 'other'\n",
      " 'ksb' 'mono' 'windmill' 'afridev' 'other - rope pump' 'india mark iii'\n",
      " 'other - swn 81' 'other - play pump' 'cemo' 'climax' 'walimi'\n",
      " 'other - mkulima/shinyanga']\n",
      "18 unique values\n",
      "0 missing or null values\n"
     ]
    },
    {
     "data": {
      "text/plain": [
       "gravity                      33262\n",
       "nira/tanira                  10197\n",
       "other                         8097\n",
       "submersible                   5982\n",
       "swn 80                        4588\n",
       "mono                          3621\n",
       "india mark ii                 3029\n",
       "afridev                       2207\n",
       "ksb                           1790\n",
       "other - rope pump              572\n",
       "other - swn 81                 284\n",
       "windmill                       152\n",
       "india mark iii                 135\n",
       "cemo                           108\n",
       "other - play pump              101\n",
       "walimi                          60\n",
       "climax                          41\n",
       "other - mkulima/shinyanga        2\n",
       "Name: extraction_type, dtype: int64"
      ]
     },
     "execution_count": 58,
     "metadata": {},
     "output_type": "execute_result"
    }
   ],
   "source": [
    "var = 'extraction_type'\n",
    "explore_data(var)\n",
    "\n",
    "df_comp_val[var].value_counts()"
   ]
  },
  {
   "cell_type": "markdown",
   "metadata": {},
   "source": [
    "#### extraction_type_group"
   ]
  },
  {
   "cell_type": "code",
   "execution_count": 59,
   "metadata": {
    "id": "F8PLWhuoDQfd",
    "outputId": "863fba8b-601e-4e55-b861-af37b823bf02"
   },
   "outputs": [
    {
     "name": "stdout",
     "output_type": "stream",
     "text": [
      "The kind of extraction the waterpoint uses\n",
      "object\n",
      "['gravity' 'submersible' 'swn 80' 'nira/tanira' 'india mark ii' 'other'\n",
      " 'mono' 'wind-powered' 'afridev' 'rope pump' 'india mark iii'\n",
      " 'other handpump' 'other motorpump']\n",
      "13 unique values\n",
      "0 missing or null values\n"
     ]
    },
    {
     "data": {
      "text/plain": [
       "gravity            33262\n",
       "nira/tanira        10197\n",
       "other               8097\n",
       "submersible         7772\n",
       "swn 80              4588\n",
       "mono                3621\n",
       "india mark ii       3029\n",
       "afridev             2207\n",
       "rope pump            572\n",
       "other handpump       447\n",
       "wind-powered         152\n",
       "other motorpump      149\n",
       "india mark iii       135\n",
       "Name: extraction_type_group, dtype: int64"
      ]
     },
     "execution_count": 59,
     "metadata": {},
     "output_type": "execute_result"
    }
   ],
   "source": [
    "var = 'extraction_type_group'\n",
    "explore_data(var)\n",
    "\n",
    "df_comp_val[var].value_counts()"
   ]
  },
  {
   "cell_type": "markdown",
   "metadata": {},
   "source": [
    "#### extraction_type_class"
   ]
  },
  {
   "cell_type": "code",
   "execution_count": 60,
   "metadata": {
    "id": "4zY8v2flDQfd",
    "outputId": "7f6936c7-6d86-4435-e552-274c9f9caf84"
   },
   "outputs": [
    {
     "name": "stdout",
     "output_type": "stream",
     "text": [
      "The kind of extraction the waterpoint uses\n",
      "object\n",
      "['gravity' 'submersible' 'handpump' 'other' 'motorpump' 'wind-powered'\n",
      " 'rope pump']\n",
      "7 unique values\n",
      "0 missing or null values\n"
     ]
    },
    {
     "data": {
      "text/plain": [
       "gravity         33262\n",
       "handpump        20603\n",
       "other            8097\n",
       "submersible      7772\n",
       "motorpump        3770\n",
       "rope pump         572\n",
       "wind-powered      152\n",
       "Name: extraction_type_class, dtype: int64"
      ]
     },
     "execution_count": 60,
     "metadata": {},
     "output_type": "execute_result"
    }
   ],
   "source": [
    "var = 'extraction_type_class'\n",
    "explore_data(var)\n",
    "\n",
    "df_comp_val[var].value_counts()"
   ]
  },
  {
   "cell_type": "markdown",
   "metadata": {},
   "source": [
    "Features are more interpretable in extraction_type_class - use this in place of the other extraction features."
   ]
  },
  {
   "cell_type": "code",
   "execution_count": 61,
   "metadata": {},
   "outputs": [],
   "source": [
    "df_comp_val = df_comp_val.drop(labels=['extraction_type','extraction_type_group'],axis=1)"
   ]
  },
  {
   "cell_type": "markdown",
   "metadata": {},
   "source": [
    "#### management"
   ]
  },
  {
   "cell_type": "code",
   "execution_count": 62,
   "metadata": {
    "id": "nKJw_6OkDQfd",
    "outputId": "c0e68c1d-61bc-4edc-e7ba-9c4c10d870c5",
    "scrolled": true
   },
   "outputs": [
    {
     "name": "stdout",
     "output_type": "stream",
     "text": [
      "How the waterpoint is managed\n",
      "object\n",
      "['vwc' 'wug' 'other' 'private operator' 'water board' 'wua' 'company'\n",
      " 'water authority' 'parastatal' 'unknown' 'other - school' 'trust']\n",
      "12 unique values\n",
      "0 missing or null values\n"
     ]
    },
    {
     "data": {
      "text/plain": [
       "vwc                 50602\n",
       "wug                  8108\n",
       "water board          3688\n",
       "wua                  3118\n",
       "private operator     2504\n",
       "parastatal           2229\n",
       "water authority      1123\n",
       "other                1083\n",
       "company               859\n",
       "unknown               683\n",
       "other - school        126\n",
       "trust                 105\n",
       "Name: management, dtype: int64"
      ]
     },
     "execution_count": 62,
     "metadata": {},
     "output_type": "execute_result"
    }
   ],
   "source": [
    "var = 'management'\n",
    "explore_data(var)\n",
    "\n",
    "df_comp_val[var].value_counts()[:]"
   ]
  },
  {
   "cell_type": "code",
   "execution_count": 63,
   "metadata": {},
   "outputs": [],
   "source": [
    "df_comp_val[var] = df_comp_val[var].astype('category')"
   ]
  },
  {
   "cell_type": "markdown",
   "metadata": {},
   "source": [
    "#### management_group"
   ]
  },
  {
   "cell_type": "code",
   "execution_count": 64,
   "metadata": {
    "id": "V7u5ODXTDQfe",
    "outputId": "6ce6725a-3631-4fd5-f6ff-dd8d1c6f8226"
   },
   "outputs": [
    {
     "name": "stdout",
     "output_type": "stream",
     "text": [
      "How the waterpoint is managed\n",
      "object\n",
      "['user-group' 'other' 'commercial' 'parastatal' 'unknown']\n",
      "5 unique values\n",
      "0 missing or null values\n"
     ]
    },
    {
     "data": {
      "text/plain": [
       "user-group    65516\n",
       "commercial     4591\n",
       "parastatal     2229\n",
       "other          1209\n",
       "unknown         683\n",
       "Name: management_group, dtype: int64"
      ]
     },
     "execution_count": 64,
     "metadata": {},
     "output_type": "execute_result"
    }
   ],
   "source": [
    "var = 'management_group'\n",
    "explore_data(var)\n",
    "\n",
    "df_comp_val[var].value_counts()"
   ]
  },
  {
   "cell_type": "markdown",
   "metadata": {},
   "source": [
    "Features more interpretable with management, will drop management_group."
   ]
  },
  {
   "cell_type": "code",
   "execution_count": 65,
   "metadata": {},
   "outputs": [],
   "source": [
    "df_comp_val = df_comp_val.drop(labels=['management_group'],axis=1)"
   ]
  },
  {
   "cell_type": "markdown",
   "metadata": {},
   "source": [
    "### payment"
   ]
  },
  {
   "cell_type": "markdown",
   "metadata": {},
   "source": [
    "#### payment"
   ]
  },
  {
   "cell_type": "code",
   "execution_count": 66,
   "metadata": {
    "id": "7XRZQTCHDQfe",
    "outputId": "ab819655-3a6a-4aeb-c833-7cbc530b1345"
   },
   "outputs": [
    {
     "name": "stdout",
     "output_type": "stream",
     "text": [
      "What the water costs\n",
      "object\n",
      "['pay annually' 'never pay' 'pay per bucket' 'unknown'\n",
      " 'pay when scheme fails' 'other' 'pay monthly']\n",
      "7 unique values\n",
      "0 missing or null values\n"
     ]
    },
    {
     "data": {
      "text/plain": [
       "never pay                31696\n",
       "pay per bucket           11261\n",
       "pay monthly              10396\n",
       "unknown                  10149\n",
       "pay when scheme fails     4842\n",
       "pay annually              4570\n",
       "other                     1314\n",
       "Name: payment, dtype: int64"
      ]
     },
     "execution_count": 66,
     "metadata": {},
     "output_type": "execute_result"
    }
   ],
   "source": [
    "var = 'payment'\n",
    "explore_data(var)\n",
    "\n",
    "df_comp_val[var].value_counts()"
   ]
  },
  {
   "cell_type": "markdown",
   "metadata": {},
   "source": [
    "#### payment_type"
   ]
  },
  {
   "cell_type": "code",
   "execution_count": 67,
   "metadata": {
    "id": "iBe0dqWGDQfe",
    "outputId": "ef4d2f05-fc8c-4398-8317-5245e34816a5"
   },
   "outputs": [
    {
     "name": "stdout",
     "output_type": "stream",
     "text": [
      "What the water costs\n",
      "object\n",
      "['annually' 'never pay' 'per bucket' 'unknown' 'on failure' 'other'\n",
      " 'monthly']\n",
      "7 unique values\n",
      "0 missing or null values\n"
     ]
    },
    {
     "data": {
      "text/plain": [
       "never pay     31696\n",
       "per bucket    11261\n",
       "monthly       10396\n",
       "unknown       10149\n",
       "on failure     4842\n",
       "annually       4570\n",
       "other          1314\n",
       "Name: payment_type, dtype: int64"
      ]
     },
     "execution_count": 67,
     "metadata": {},
     "output_type": "execute_result"
    }
   ],
   "source": [
    "var = 'payment_type'\n",
    "explore_data(var)\n",
    "\n",
    "df_comp_val[var].value_counts()"
   ]
  },
  {
   "cell_type": "markdown",
   "metadata": {},
   "source": [
    "Payment_type is the same as payment, drop payment_type."
   ]
  },
  {
   "cell_type": "code",
   "execution_count": 68,
   "metadata": {},
   "outputs": [],
   "source": [
    "df_comp_val = df_comp_val.drop(labels=['payment_type'],axis=1)"
   ]
  },
  {
   "cell_type": "markdown",
   "metadata": {},
   "source": [
    "### quality"
   ]
  },
  {
   "cell_type": "markdown",
   "metadata": {},
   "source": [
    "#### water_quality"
   ]
  },
  {
   "cell_type": "code",
   "execution_count": 69,
   "metadata": {
    "id": "MtPaOvaoDQfe",
    "outputId": "76f69f2f-e5b0-4646-d57b-aa0503564901"
   },
   "outputs": [
    {
     "name": "stdout",
     "output_type": "stream",
     "text": [
      "The quality of the water\n",
      "object\n",
      "['soft' 'salty' 'milky' 'unknown' 'fluoride' 'coloured' 'salty abandoned'\n",
      " 'fluoride abandoned']\n",
      "8 unique values\n",
      "0 missing or null values\n"
     ]
    },
    {
     "data": {
      "text/plain": [
       "soft                  63484\n",
       "salty                  6081\n",
       "unknown                2345\n",
       "milky                  1005\n",
       "coloured                623\n",
       "salty abandoned         423\n",
       "fluoride                244\n",
       "fluoride abandoned       23\n",
       "Name: water_quality, dtype: int64"
      ]
     },
     "execution_count": 69,
     "metadata": {},
     "output_type": "execute_result"
    }
   ],
   "source": [
    "var = 'water_quality'\n",
    "explore_data(var)\n",
    "\n",
    "df_comp_val[var].value_counts()"
   ]
  },
  {
   "cell_type": "markdown",
   "metadata": {},
   "source": [
    "#### quality_group"
   ]
  },
  {
   "cell_type": "code",
   "execution_count": 70,
   "metadata": {
    "id": "MKZxY5mMDQfe",
    "outputId": "106f9398-7ba3-43c8-b3c1-0b6d9fa4e333"
   },
   "outputs": [
    {
     "name": "stdout",
     "output_type": "stream",
     "text": [
      "The quality of the water\n",
      "object\n",
      "['good' 'salty' 'milky' 'unknown' 'fluoride' 'colored']\n",
      "6 unique values\n",
      "0 missing or null values\n"
     ]
    },
    {
     "data": {
      "text/plain": [
       "good        63484\n",
       "salty        6504\n",
       "unknown      2345\n",
       "milky        1005\n",
       "colored       623\n",
       "fluoride      267\n",
       "Name: quality_group, dtype: int64"
      ]
     },
     "execution_count": 70,
     "metadata": {},
     "output_type": "execute_result"
    }
   ],
   "source": [
    "var = 'quality_group'\n",
    "explore_data(var)\n",
    "\n",
    "df_comp_val[var].value_counts()"
   ]
  },
  {
   "cell_type": "markdown",
   "metadata": {},
   "source": [
    "water_quality is more interpretable than quality_group (soft > good), drop quality_group"
   ]
  },
  {
   "cell_type": "code",
   "execution_count": 71,
   "metadata": {},
   "outputs": [],
   "source": [
    "df_comp_val = df_comp_val.drop(labels=['quality_group'],axis=1)"
   ]
  },
  {
   "cell_type": "markdown",
   "metadata": {},
   "source": [
    "### Quantity"
   ]
  },
  {
   "cell_type": "markdown",
   "metadata": {},
   "source": [
    "#### quantity"
   ]
  },
  {
   "cell_type": "code",
   "execution_count": 72,
   "metadata": {
    "id": "HkpJzdZlDQff",
    "outputId": "d2856ee2-e7c8-4021-95a6-4396230ad0e0"
   },
   "outputs": [
    {
     "name": "stdout",
     "output_type": "stream",
     "text": [
      "The quantity of water\n",
      "object\n",
      "['enough' 'insufficient' 'dry' 'seasonal' 'unknown']\n",
      "5 unique values\n",
      "0 missing or null values\n"
     ]
    },
    {
     "data": {
      "text/plain": [
       "enough          41502\n",
       "insufficient    18894\n",
       "dry              7782\n",
       "seasonal         5075\n",
       "unknown           975\n",
       "Name: quantity, dtype: int64"
      ]
     },
     "execution_count": 72,
     "metadata": {},
     "output_type": "execute_result"
    }
   ],
   "source": [
    "var = 'quantity'\n",
    "explore_data(var)\n",
    "\n",
    "df_comp_val[var].value_counts()"
   ]
  },
  {
   "cell_type": "markdown",
   "metadata": {},
   "source": [
    "#### quantity_group"
   ]
  },
  {
   "cell_type": "code",
   "execution_count": 73,
   "metadata": {
    "id": "GG9LJtrHDQff",
    "outputId": "9ce6ecc7-4702-4343-c194-14c06fd82461"
   },
   "outputs": [
    {
     "name": "stdout",
     "output_type": "stream",
     "text": [
      "The quantity of water\n",
      "object\n",
      "['enough' 'insufficient' 'dry' 'seasonal' 'unknown']\n",
      "5 unique values\n",
      "0 missing or null values\n"
     ]
    },
    {
     "data": {
      "text/plain": [
       "enough          41502\n",
       "insufficient    18894\n",
       "dry              7782\n",
       "seasonal         5075\n",
       "unknown           975\n",
       "Name: quantity_group, dtype: int64"
      ]
     },
     "execution_count": 73,
     "metadata": {},
     "output_type": "execute_result"
    }
   ],
   "source": [
    "var = 'quantity_group'\n",
    "explore_data(var)\n",
    "\n",
    "df_comp_val[var].value_counts()"
   ]
  },
  {
   "cell_type": "code",
   "execution_count": 74,
   "metadata": {},
   "outputs": [
    {
     "data": {
      "text/html": [
       "<div>\n",
       "<style scoped>\n",
       "    .dataframe tbody tr th:only-of-type {\n",
       "        vertical-align: middle;\n",
       "    }\n",
       "\n",
       "    .dataframe tbody tr th {\n",
       "        vertical-align: top;\n",
       "    }\n",
       "\n",
       "    .dataframe thead th {\n",
       "        text-align: right;\n",
       "    }\n",
       "</style>\n",
       "<table border=\"1\" class=\"dataframe\">\n",
       "  <thead>\n",
       "    <tr style=\"text-align: right;\">\n",
       "      <th></th>\n",
       "      <th>id</th>\n",
       "      <th>amount_tsh</th>\n",
       "      <th>date_recorded</th>\n",
       "      <th>funder</th>\n",
       "      <th>gps_height</th>\n",
       "      <th>installer</th>\n",
       "      <th>longitude</th>\n",
       "      <th>latitude</th>\n",
       "      <th>basin</th>\n",
       "      <th>region</th>\n",
       "      <th>...</th>\n",
       "      <th>management</th>\n",
       "      <th>payment</th>\n",
       "      <th>water_quality</th>\n",
       "      <th>quantity</th>\n",
       "      <th>quantity_group</th>\n",
       "      <th>source</th>\n",
       "      <th>source_type</th>\n",
       "      <th>source_class</th>\n",
       "      <th>waterpoint_type</th>\n",
       "      <th>waterpoint_type_group</th>\n",
       "    </tr>\n",
       "  </thead>\n",
       "  <tbody>\n",
       "  </tbody>\n",
       "</table>\n",
       "<p>0 rows × 29 columns</p>\n",
       "</div>"
      ],
      "text/plain": [
       "Empty DataFrame\n",
       "Columns: [id, amount_tsh, date_recorded, funder, gps_height, installer, longitude, latitude, basin, region, district_code, lga, ward, population, public_meeting, scheme_management, permit, construction_year, extraction_type_class, management, payment, water_quality, quantity, quantity_group, source, source_type, source_class, waterpoint_type, waterpoint_type_group]\n",
       "Index: []\n",
       "\n",
       "[0 rows x 29 columns]"
      ]
     },
     "execution_count": 74,
     "metadata": {},
     "output_type": "execute_result"
    }
   ],
   "source": [
    "df_comp_val[df_comp_val['quantity'] != df_comp_val[var]]"
   ]
  },
  {
   "cell_type": "markdown",
   "metadata": {},
   "source": [
    "quantity is the same as quantity_group, drop quantity_group"
   ]
  },
  {
   "cell_type": "code",
   "execution_count": 75,
   "metadata": {},
   "outputs": [],
   "source": [
    "df_comp_val = df_comp_val.drop(labels=['quantity_group'],axis=1)"
   ]
  },
  {
   "cell_type": "markdown",
   "metadata": {},
   "source": [
    "### Source"
   ]
  },
  {
   "cell_type": "markdown",
   "metadata": {},
   "source": [
    "#### source"
   ]
  },
  {
   "cell_type": "code",
   "execution_count": 76,
   "metadata": {
    "id": "KM3Riy7sDQff",
    "outputId": "003d158f-1cd7-4625-b55e-30bdeb4b61a1"
   },
   "outputs": [
    {
     "name": "stdout",
     "output_type": "stream",
     "text": [
      "The source of the water\n",
      "object\n",
      "['spring' 'rainwater harvesting' 'dam' 'machine dbh' 'other'\n",
      " 'shallow well' 'river' 'hand dtw' 'lake' 'unknown']\n",
      "10 unique values\n",
      "0 missing or null values\n"
     ]
    },
    {
     "data": {
      "text/plain": [
       "spring                  21216\n",
       "shallow well            21127\n",
       "machine dbh             13814\n",
       "river                   11964\n",
       "rainwater harvesting     2862\n",
       "hand dtw                 1108\n",
       "lake                      950\n",
       "dam                       840\n",
       "other                     261\n",
       "unknown                    86\n",
       "Name: source, dtype: int64"
      ]
     },
     "execution_count": 76,
     "metadata": {},
     "output_type": "execute_result"
    }
   ],
   "source": [
    "var = 'source'\n",
    "explore_data(var)\n",
    "\n",
    "df_comp_val[var].value_counts()"
   ]
  },
  {
   "cell_type": "markdown",
   "metadata": {},
   "source": [
    "#### source_type"
   ]
  },
  {
   "cell_type": "code",
   "execution_count": 77,
   "metadata": {
    "id": "9EnWB2zuDQfg",
    "outputId": "65a557e3-3e81-4def-c15c-af8ee7d3777a"
   },
   "outputs": [
    {
     "name": "stdout",
     "output_type": "stream",
     "text": [
      "The source of the water\n",
      "object\n",
      "['spring' 'rainwater harvesting' 'dam' 'borehole' 'other' 'shallow well'\n",
      " 'river/lake']\n",
      "7 unique values\n",
      "0 missing or null values\n"
     ]
    },
    {
     "data": {
      "text/plain": [
       "spring                  21216\n",
       "shallow well            21127\n",
       "borehole                14922\n",
       "river/lake              12914\n",
       "rainwater harvesting     2862\n",
       "dam                       840\n",
       "other                     347\n",
       "Name: source_type, dtype: int64"
      ]
     },
     "execution_count": 77,
     "metadata": {},
     "output_type": "execute_result"
    }
   ],
   "source": [
    "var = 'source_type'\n",
    "explore_data(var)\n",
    "\n",
    "df_comp_val[var].value_counts()"
   ]
  },
  {
   "cell_type": "markdown",
   "metadata": {},
   "source": [
    "#### source_class"
   ]
  },
  {
   "cell_type": "code",
   "execution_count": 78,
   "metadata": {
    "id": "iObjT-uQDQfg",
    "outputId": "112e64d9-b74c-44e4-c3d2-d43de9edb6d4"
   },
   "outputs": [
    {
     "name": "stdout",
     "output_type": "stream",
     "text": [
      "The source of the water\n",
      "object\n",
      "['groundwater' 'surface' 'unknown']\n",
      "3 unique values\n",
      "0 missing or null values\n"
     ]
    },
    {
     "data": {
      "text/plain": [
       "groundwater    57265\n",
       "surface        16616\n",
       "unknown          347\n",
       "Name: source_class, dtype: int64"
      ]
     },
     "execution_count": 78,
     "metadata": {},
     "output_type": "execute_result"
    }
   ],
   "source": [
    "var = 'source_class'\n",
    "explore_data(var)\n",
    "\n",
    "df_comp_val[var].value_counts()"
   ]
  },
  {
   "cell_type": "markdown",
   "metadata": {},
   "source": [
    "source_type seems to be balance between specificity and interpretability"
   ]
  },
  {
   "cell_type": "code",
   "execution_count": 79,
   "metadata": {},
   "outputs": [],
   "source": [
    "df_comp_val = df_comp_val.drop(labels=['source','source_type'],axis=1)"
   ]
  },
  {
   "cell_type": "markdown",
   "metadata": {},
   "source": [
    "### waterpoint"
   ]
  },
  {
   "cell_type": "markdown",
   "metadata": {},
   "source": [
    "#### waterpoint_type"
   ]
  },
  {
   "cell_type": "code",
   "execution_count": 80,
   "metadata": {
    "id": "MOPKohReDQfg",
    "outputId": "7a325597-43c1-4e2e-e80c-c22452573bc4"
   },
   "outputs": [
    {
     "name": "stdout",
     "output_type": "stream",
     "text": [
      "The kind of waterpoint\n",
      "object\n",
      "['communal standpipe' 'communal standpipe multiple' 'hand pump' 'other'\n",
      " 'improved spring' 'cattle trough' 'dam']\n",
      "7 unique values\n",
      "0 missing or null values\n"
     ]
    },
    {
     "data": {
      "text/plain": [
       "communal standpipe             35624\n",
       "hand pump                      21875\n",
       "other                           8004\n",
       "communal standpipe multiple     7608\n",
       "improved spring                  959\n",
       "cattle trough                    150\n",
       "dam                                8\n",
       "Name: waterpoint_type, dtype: int64"
      ]
     },
     "execution_count": 80,
     "metadata": {},
     "output_type": "execute_result"
    }
   ],
   "source": [
    "var = 'waterpoint_type'\n",
    "explore_data(var)\n",
    "\n",
    "df_comp_val[var].value_counts()"
   ]
  },
  {
   "cell_type": "markdown",
   "metadata": {},
   "source": [
    "#### waterpoint_type_group"
   ]
  },
  {
   "cell_type": "code",
   "execution_count": 81,
   "metadata": {
    "id": "8OALziiXDQfg",
    "outputId": "5d7885a0-2926-4a40-db41-376dcebfce29"
   },
   "outputs": [
    {
     "name": "stdout",
     "output_type": "stream",
     "text": [
      "The kind of waterpoint\n",
      "object\n",
      "['communal standpipe' 'hand pump' 'other' 'improved spring'\n",
      " 'cattle trough' 'dam']\n",
      "6 unique values\n",
      "0 missing or null values\n"
     ]
    },
    {
     "data": {
      "text/plain": [
       "communal standpipe    43232\n",
       "hand pump             21875\n",
       "other                  8004\n",
       "improved spring         959\n",
       "cattle trough           150\n",
       "dam                       8\n",
       "Name: waterpoint_type_group, dtype: int64"
      ]
     },
     "execution_count": 81,
     "metadata": {},
     "output_type": "execute_result"
    }
   ],
   "source": [
    "var = 'waterpoint_type_group'\n",
    "explore_data(var)\n",
    "\n",
    "df_comp_val[var].value_counts()"
   ]
  },
  {
   "cell_type": "markdown",
   "metadata": {},
   "source": [
    "Dropping waterpoint_type_group"
   ]
  },
  {
   "cell_type": "code",
   "execution_count": 82,
   "metadata": {},
   "outputs": [],
   "source": [
    "df_comp_val = df_comp_val.drop(labels=['waterpoint_type_group'],axis=1)"
   ]
  },
  {
   "cell_type": "markdown",
   "metadata": {},
   "source": [
    "## Create features"
   ]
  },
  {
   "cell_type": "markdown",
   "metadata": {},
   "source": [
    "#### year_recorded"
   ]
  },
  {
   "cell_type": "code",
   "execution_count": 83,
   "metadata": {},
   "outputs": [],
   "source": [
    "var = 'year_recorded'\n",
    "\n",
    "df_comp_val[var] = df_comp_val['date_recorded'].dt.year"
   ]
  },
  {
   "cell_type": "markdown",
   "metadata": {},
   "source": [
    "#### pump_age"
   ]
  },
  {
   "cell_type": "code",
   "execution_count": 84,
   "metadata": {},
   "outputs": [],
   "source": [
    "var = 'pump_age'\n",
    "\n",
    "df_comp_val[var] = df_comp_val['year_recorded'] - df_comp_val['construction_year']\n",
    "\n",
    "df_comp_val = df_comp_val.drop(labels=['year_recorded','date_recorded'],axis=1)"
   ]
  },
  {
   "cell_type": "markdown",
   "metadata": {},
   "source": [
    "## Review missing data"
   ]
  },
  {
   "cell_type": "code",
   "execution_count": 85,
   "metadata": {
    "id": "JHLAbv5tDQjR"
   },
   "outputs": [
    {
     "name": "stdout",
     "output_type": "stream",
     "text": [
      "<class 'pandas.core.frame.DataFrame'>\n",
      "Int64Index: 74228 entries, 0 to 74227\n",
      "Data columns (total 25 columns):\n",
      " #   Column                 Non-Null Count  Dtype   \n",
      "---  ------                 --------------  -----   \n",
      " 0   id                     74228 non-null  int64   \n",
      " 1   amount_tsh             74228 non-null  float64 \n",
      " 2   funder                 74228 non-null  category\n",
      " 3   gps_height             74228 non-null  int64   \n",
      " 4   installer              74228 non-null  category\n",
      " 5   longitude              74228 non-null  float64 \n",
      " 6   latitude               74228 non-null  float64 \n",
      " 7   basin                  74228 non-null  category\n",
      " 8   region                 74228 non-null  category\n",
      " 9   district_code          74228 non-null  int64   \n",
      " 10  lga                    74228 non-null  category\n",
      " 11  ward                   74228 non-null  category\n",
      " 12  population             74228 non-null  int64   \n",
      " 13  public_meeting         74228 non-null  int32   \n",
      " 14  scheme_management      74228 non-null  category\n",
      " 15  permit                 74228 non-null  int32   \n",
      " 16  construction_year      74228 non-null  int64   \n",
      " 17  extraction_type_class  74228 non-null  object  \n",
      " 18  management             74228 non-null  category\n",
      " 19  payment                74228 non-null  object  \n",
      " 20  water_quality          74228 non-null  object  \n",
      " 21  quantity               74228 non-null  object  \n",
      " 22  source_class           74228 non-null  object  \n",
      " 23  waterpoint_type        74228 non-null  object  \n",
      " 24  pump_age               74228 non-null  int64   \n",
      "dtypes: category(8), float64(3), int32(2), int64(6), object(6)\n",
      "memory usage: 12.7+ MB\n"
     ]
    }
   ],
   "source": [
    "df_comp_val.info()"
   ]
  },
  {
   "cell_type": "markdown",
   "metadata": {},
   "source": [
    "## Save final file "
   ]
  },
  {
   "cell_type": "code",
   "execution_count": 86,
   "metadata": {},
   "outputs": [
    {
     "name": "stderr",
     "output_type": "stream",
     "text": [
      "<ipython-input-86-f305c2a85613>:5: SettingWithCopyWarning: \n",
      "A value is trying to be set on a copy of a slice from a DataFrame.\n",
      "Try using .loc[row_indexer,col_indexer] = value instead\n",
      "\n",
      "See the caveats in the documentation: https://pandas.pydata.org/pandas-docs/stable/user_guide/indexing.html#returning-a-view-versus-a-copy\n",
      "  df_train_val_new['status_group'] = df_train_lab['status_group']\n"
     ]
    }
   ],
   "source": [
    "train_index = df_train_val.id.tolist()\n",
    "test_index = df_test_val.id.tolist()\n",
    "\n",
    "df_train_val_new = df_comp_val[df_comp_val.id.isin(train_index)]\n",
    "df_train_val_new['status_group'] = df_train_lab['status_group']\n",
    "\n",
    "df_train_val_new.to_csv(data_interim_dir+'training_data_clean_impv1.csv',index=False)\n",
    "\n",
    "df_test_val_new = df_comp_val[df_comp_val.id.isin(test_index)]\n",
    "df_test_val_new.to_csv(data_interim_dir+'test_data_clean_impv1.csv',index=False)"
   ]
  }
 ],
 "metadata": {
  "colab": {
   "name": "Data Cleaning.ipynb",
   "provenance": []
  },
  "kernelspec": {
   "display_name": "Python 3",
   "language": "python",
   "name": "python3"
  },
  "language_info": {
   "codemirror_mode": {
    "name": "ipython",
    "version": 3
   },
   "file_extension": ".py",
   "mimetype": "text/x-python",
   "name": "python",
   "nbconvert_exporter": "python",
   "pygments_lexer": "ipython3",
   "version": "3.9.1"
  }
 },
 "nbformat": 4,
 "nbformat_minor": 1
}
