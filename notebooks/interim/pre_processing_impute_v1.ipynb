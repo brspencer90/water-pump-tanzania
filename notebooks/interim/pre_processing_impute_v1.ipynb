{
 "cells": [
  {
   "cell_type": "code",
   "execution_count": 1,
   "metadata": {},
   "outputs": [],
   "source": [
    "# import modules\n",
    "\n",
    "import pandas as pd\n",
    "import matplotlib.pyplot as plt\n",
    "import numpy as np\n",
    "\n",
    "import seaborn as sns\n",
    "\n",
    "from sklearn.preprocessing import LabelEncoder, OneHotEncoder\n",
    "\n",
    "%qtconsole"
   ]
  },
  {
   "cell_type": "code",
   "execution_count": 2,
   "metadata": {},
   "outputs": [],
   "source": [
    "data_raw_dir = 'C:\\\\Users\\\\Bryan\\\\OneDrive\\\\02 GitHub\\\\water-pump-tanzania\\\\data\\\\raw\\\\'\n",
    "data_interim_dir = 'C:\\\\Users\\\\Bryan\\\\OneDrive\\\\02 GitHub\\\\water-pump-tanzania\\\\data\\\\interim\\\\'\n",
    "data_processed_dir = 'C:\\\\Users\\\\Bryan\\\\OneDrive\\\\02 GitHub\\\\water-pump-tanzania\\\\data\\\\processed\\\\'\n",
    "docs_img_dir = 'C:\\\\Users\\\\bryan\\\\OneDrive\\\\02 GitHub\\\\water-pump-tanzania\\\\docs\\\\img\\\\'"
   ]
  },
  {
   "cell_type": "code",
   "execution_count": 3,
   "metadata": {},
   "outputs": [],
   "source": [
    "df_train_val = pd.read_csv(data_interim_dir + 'training_data_clean_impv1.csv')\n",
    "\n",
    "status_group = df_train_val['status_group']\n",
    "\n",
    "df_test_val = pd.read_csv(data_interim_dir+'test_data_clean_impv1.csv')\n",
    "\n",
    "df_comp_val = pd.concat([df_train_val,df_test_val]).reset_index(drop=True)"
   ]
  },
  {
   "cell_type": "code",
   "execution_count": 4,
   "metadata": {},
   "outputs": [
    {
     "name": "stdout",
     "output_type": "stream",
     "text": [
      "<class 'pandas.core.frame.DataFrame'>\n",
      "RangeIndex: 74228 entries, 0 to 74227\n",
      "Data columns (total 22 columns):\n",
      " #   Column                 Non-Null Count  Dtype  \n",
      "---  ------                 --------------  -----  \n",
      " 0   id                     74228 non-null  int64  \n",
      " 1   amount_tsh             74228 non-null  float64\n",
      " 2   gps_height             74228 non-null  int64  \n",
      " 3   longitude              74228 non-null  float64\n",
      " 4   latitude               74228 non-null  float64\n",
      " 5   basin                  74228 non-null  object \n",
      " 6   region                 74228 non-null  object \n",
      " 7   district_code          74228 non-null  int64  \n",
      " 8   lga                    74228 non-null  object \n",
      " 9   population             74228 non-null  int64  \n",
      " 10  public_meeting         74228 non-null  int64  \n",
      " 11  permit                 74228 non-null  int64  \n",
      " 12  extraction_type_class  74228 non-null  object \n",
      " 13  management             74228 non-null  object \n",
      " 14  payment                74228 non-null  object \n",
      " 15  water_quality          74228 non-null  object \n",
      " 16  quantity               74228 non-null  object \n",
      " 17  source                 74228 non-null  object \n",
      " 18  source_class           74228 non-null  object \n",
      " 19  waterpoint_type        74228 non-null  object \n",
      " 20  pump_age               74228 non-null  int64  \n",
      " 21  status_group           59384 non-null  object \n",
      "dtypes: float64(3), int64(7), object(12)\n",
      "memory usage: 12.5+ MB\n"
     ]
    }
   ],
   "source": [
    "df_comp_val.info()"
   ]
  },
  {
   "cell_type": "markdown",
   "metadata": {},
   "source": [
    "Need to encode all object and categorical values."
   ]
  },
  {
   "cell_type": "markdown",
   "metadata": {},
   "source": [
    "### gps_height"
   ]
  },
  {
   "cell_type": "code",
   "execution_count": 5,
   "metadata": {
    "scrolled": true
   },
   "outputs": [
    {
     "data": {
      "text/plain": [
       " 0       25627\n",
       "-16         71\n",
       "-15         69\n",
       "-13         68\n",
       "-19         65\n",
       "         ...  \n",
       " 2353        1\n",
       " 2417        1\n",
       " 2545        1\n",
       " 2416        1\n",
       " 2285        1\n",
       "Name: gps_height, Length: 2456, dtype: int64"
      ]
     },
     "execution_count": 5,
     "metadata": {},
     "output_type": "execute_result"
    }
   ],
   "source": [
    "var = 'gps_height'\n",
    "var_red = var+'_reduced'\n",
    "\n",
    "df_comp_val[var].value_counts()"
   ]
  },
  {
   "cell_type": "code",
   "execution_count": 6,
   "metadata": {},
   "outputs": [
    {
     "data": {
      "image/png": "[encoded data removed]",
      "text/plain": [
       "<Figure size 432x288 with 1 Axes>"
      ]
     },
     "metadata": {
      "needs_background": "light"
     },
     "output_type": "display_data"
    }
   ],
   "source": [
    "plt.figure()\n",
    "\n",
    "plt.hist(df_comp_val[df_comp_val['status_group']=='non functional'][var],alpha=0.5,density=True);\n",
    "plt.hist(df_comp_val[df_comp_val['status_group']=='functional'][var],color='green',alpha=0.5,density=True);\n",
    "plt.hist(df_comp_val[df_comp_val['status_group']=='functional needs repair'][var],color='red',alpha=0.5,density=True);"
   ]
  },
  {
   "cell_type": "code",
   "execution_count": 7,
   "metadata": {},
   "outputs": [],
   "source": [
    "# no difference in distribution between target variables\n",
    "\n",
    "df_comp_val = df_comp_val.drop(labels=[var],axis=1)"
   ]
  },
  {
   "cell_type": "markdown",
   "metadata": {},
   "source": [
    "### basin"
   ]
  },
  {
   "cell_type": "code",
   "execution_count": 8,
   "metadata": {},
   "outputs": [
    {
     "data": {
      "text/plain": [
       "Lake Victoria              12849\n",
       "Pangani                    11143\n",
       "Rufiji                      9987\n",
       "Internal                    9642\n",
       "Lake Tanganyika             8052\n",
       "Wami / Ruvu                 7577\n",
       "Lake Nyasa                  6332\n",
       "Ruvuma / Southern Coast     5587\n",
       "Lake Rukwa                  3059\n",
       "Name: basin, dtype: int64"
      ]
     },
     "execution_count": 8,
     "metadata": {},
     "output_type": "execute_result"
    }
   ],
   "source": [
    "var = 'basin'\n",
    "var_red = var+'_reduced'\n",
    "\n",
    "limited_list = df_comp_val[var].value_counts()[-3:]\n",
    "num_unique = len(df_comp_val[var].unique())\n",
    "\n",
    "df_comp_val[var].value_counts()"
   ]
  },
  {
   "cell_type": "code",
   "execution_count": 9,
   "metadata": {},
   "outputs": [
    {
     "data": {
      "text/plain": [
       "other              14978\n",
       "Lake Victoria      12849\n",
       "Pangani            11143\n",
       "Rufiji              9987\n",
       "Internal            9642\n",
       "Lake Tanganyika     8052\n",
       "Wami / Ruvu         7577\n",
       "Name: basin_reduced, dtype: int64"
      ]
     },
     "execution_count": 9,
     "metadata": {},
     "output_type": "execute_result"
    }
   ],
   "source": [
    "df_comp_val[var_red] = df_comp_val[var]\n",
    "\n",
    "# Reduce number of categorical variables, encoding values with less than 1% prevalence to 'other'\n",
    "for idx in df_comp_val[df_comp_val[var_red].isin(limited_list.index.to_list())].index.tolist():\n",
    "    df_comp_val.loc[idx,var_red] = 'other'\n",
    "    \n",
    "df_comp_val[var_red].value_counts()"
   ]
  },
  {
   "cell_type": "code",
   "execution_count": 10,
   "metadata": {},
   "outputs": [
    {
     "data": {
      "image/png": "[encoded data removed]",
      "text/plain": [
       "<Figure size 1080x504 with 1 Axes>"
      ]
     },
     "metadata": {
      "needs_background": "light"
     },
     "output_type": "display_data"
    }
   ],
   "source": [
    "plt.figure(figsize=(15,7))\n",
    "\n",
    "sns.countplot(data=df_comp_val,x=var,hue='status_group')\n",
    "plt.xticks(rotation=45);"
   ]
  },
  {
   "cell_type": "code",
   "execution_count": 11,
   "metadata": {},
   "outputs": [],
   "source": [
    "df_comp_val = pd.concat([df_comp_val,pd.get_dummies(df_comp_val[var],prefix=var)],axis=1)"
   ]
  },
  {
   "cell_type": "code",
   "execution_count": 12,
   "metadata": {},
   "outputs": [],
   "source": [
    "df_comp_val = df_comp_val.drop(labels=[var,var_red],axis=1)"
   ]
  },
  {
   "cell_type": "markdown",
   "metadata": {},
   "source": [
    "### region"
   ]
  },
  {
   "cell_type": "code",
   "execution_count": 13,
   "metadata": {},
   "outputs": [
    {
     "data": {
      "text/plain": [
       "Kilimanjaro      5503\n",
       "Morogoro         5073\n",
       "Njombe           4574\n",
       "Arusha           4096\n",
       "Mbeya            4056\n",
       "Kagera           3884\n",
       "Kigoma           3533\n",
       "Simiyu           3405\n",
       "Pwani            3329\n",
       "Ruvuma           3306\n",
       "Tanga            3150\n",
       "Mwanza           2958\n",
       "Dodoma           2780\n",
       "Singida          2534\n",
       "Shinyanga        2525\n",
       "Tabora           2489\n",
       "Mara             2450\n",
       "Mtwara           2144\n",
       "Iringa           2006\n",
       "Manyara          1980\n",
       "Lindi            1920\n",
       "Songwe           1718\n",
       "Geita            1548\n",
       "Rukwa            1390\n",
       "Dar es Salaam    1025\n",
       "Katavi            852\n",
       "Name: region, dtype: int64"
      ]
     },
     "execution_count": 13,
     "metadata": {},
     "output_type": "execute_result"
    }
   ],
   "source": [
    "var = 'region'\n",
    "var_red = var+'_reduced'\n",
    "\n",
    "limited_list = df_comp_val[var].value_counts()[6:]\n",
    "num_unique = len(df_comp_val[var].unique())\n",
    "\n",
    "df_comp_val[var].value_counts()"
   ]
  },
  {
   "cell_type": "code",
   "execution_count": 14,
   "metadata": {},
   "outputs": [
    {
     "data": {
      "text/plain": [
       "other          47042\n",
       "Kilimanjaro     5503\n",
       "Morogoro        5073\n",
       "Njombe          4574\n",
       "Arusha          4096\n",
       "Mbeya           4056\n",
       "Kagera          3884\n",
       "Name: region_reduced, dtype: int64"
      ]
     },
     "execution_count": 14,
     "metadata": {},
     "output_type": "execute_result"
    }
   ],
   "source": [
    "df_comp_val[var_red] = df_comp_val[var]\n",
    "\n",
    "# Reduce number of categorical variables, encoding values with less than 1% prevalence to 'other'\n",
    "for idx in df_comp_val[df_comp_val[var_red].isin(limited_list.index.to_list())].index.tolist():\n",
    "    df_comp_val.loc[idx,var_red] = 'other'\n",
    "    \n",
    "df_comp_val[var_red].value_counts()"
   ]
  },
  {
   "cell_type": "code",
   "execution_count": 15,
   "metadata": {},
   "outputs": [
    {
     "data": {
      "image/png": "[encoded data removed]",
      "text/plain": [
       "<Figure size 1080x504 with 1 Axes>"
      ]
     },
     "metadata": {
      "needs_background": "light"
     },
     "output_type": "display_data"
    }
   ],
   "source": [
    "plt.figure(figsize=(15,7))\n",
    "\n",
    "sns.countplot(data=df_comp_val,x=var_red,hue='status_group')\n",
    "plt.xticks(rotation=45);"
   ]
  },
  {
   "cell_type": "code",
   "execution_count": 16,
   "metadata": {},
   "outputs": [],
   "source": [
    "df_comp_val = pd.concat([df_comp_val,pd.get_dummies(df_comp_val[var_red],prefix=var)],axis=1)"
   ]
  },
  {
   "cell_type": "code",
   "execution_count": 17,
   "metadata": {},
   "outputs": [],
   "source": [
    "df_comp_val = df_comp_val.drop(labels=[var,var_red],axis=1)"
   ]
  },
  {
   "cell_type": "markdown",
   "metadata": {},
   "source": [
    "## district_code"
   ]
  },
  {
   "cell_type": "code",
   "execution_count": 18,
   "metadata": {},
   "outputs": [
    {
     "data": {
      "text/plain": [
       "1     15299\n",
       "2     13907\n",
       "3     12521\n",
       "4     11253\n",
       "5      5428\n",
       "6      5108\n",
       "7      4166\n",
       "8      1282\n",
       "30     1256\n",
       "33     1063\n",
       "53      921\n",
       "43      653\n",
       "13      496\n",
       "23      360\n",
       "63      264\n",
       "62      127\n",
       "60       76\n",
       "0        27\n",
       "80       13\n",
       "67        8\n",
       "Name: district_code, dtype: int64"
      ]
     },
     "execution_count": 18,
     "metadata": {},
     "output_type": "execute_result"
    }
   ],
   "source": [
    "var = 'district_code'\n",
    "df_comp_val[var].value_counts()"
   ]
  },
  {
   "cell_type": "code",
   "execution_count": 19,
   "metadata": {},
   "outputs": [
    {
     "data": {
      "image/png": "[encoded data removed]",
      "text/plain": [
       "<Figure size 1080x504 with 1 Axes>"
      ]
     },
     "metadata": {
      "needs_background": "light"
     },
     "output_type": "display_data"
    }
   ],
   "source": [
    "plt.figure(figsize=(15,7))\n",
    "\n",
    "sns.countplot(data=df_comp_val,x=var,hue='status_group')\n",
    "plt.xticks(rotation=45);"
   ]
  },
  {
   "cell_type": "markdown",
   "metadata": {},
   "source": [
    "### lga"
   ]
  },
  {
   "cell_type": "code",
   "execution_count": 20,
   "metadata": {},
   "outputs": [
    {
     "data": {
      "text/plain": [
       "Wanging'ombe                  1676\n",
       "Moshi                         1547\n",
       "Arusha                        1458\n",
       "Rungwe                        1386\n",
       "Bagamoyo                      1242\n",
       "                              ... \n",
       "Mafinga Township Authority      32\n",
       "Masasi  Township Authority      13\n",
       "Mbeya Urban                      3\n",
       "Babati Urban                     3\n",
       "Tunduma                          2\n",
       "Name: lga, Length: 158, dtype: int64"
      ]
     },
     "execution_count": 20,
     "metadata": {},
     "output_type": "execute_result"
    }
   ],
   "source": [
    "var = 'lga'\n",
    "df_comp_val[var].value_counts()"
   ]
  },
  {
   "cell_type": "markdown",
   "metadata": {},
   "source": [
    "Too many unique values - diluting feature importance"
   ]
  },
  {
   "cell_type": "code",
   "execution_count": 21,
   "metadata": {},
   "outputs": [],
   "source": [
    "df_comp_val = df_comp_val.drop(labels=[var],axis=1)"
   ]
  },
  {
   "cell_type": "markdown",
   "metadata": {},
   "source": [
    "## population"
   ]
  },
  {
   "cell_type": "code",
   "execution_count": 22,
   "metadata": {},
   "outputs": [
    {
     "data": {
      "text/plain": [
       "<AxesSubplot:>"
      ]
     },
     "execution_count": 22,
     "metadata": {},
     "output_type": "execute_result"
    },
    {
     "data": {
      "image/png": "[encoded data removed]",
      "text/plain": [
       "<Figure size 432x288 with 1 Axes>"
      ]
     },
     "metadata": {
      "needs_background": "light"
     },
     "output_type": "display_data"
    }
   ],
   "source": [
    "var = 'population'\n",
    "\n",
    "df_comp_val[var].hist()"
   ]
  },
  {
   "cell_type": "code",
   "execution_count": 23,
   "metadata": {},
   "outputs": [],
   "source": [
    "df_comp_val[var+'_bin'] = pd.qcut(df_comp_val[var],5,duplicates='drop',labels=['0-40','40-60','60-80','80-100']).astype(str)"
   ]
  },
  {
   "cell_type": "code",
   "execution_count": 24,
   "metadata": {},
   "outputs": [
    {
     "data": {
      "image/png": "[encoded data removed]",
      "text/plain": [
       "<Figure size 1080x504 with 1 Axes>"
      ]
     },
     "metadata": {
      "needs_background": "light"
     },
     "output_type": "display_data"
    }
   ],
   "source": [
    "plt.figure(figsize=(15,7))\n",
    "\n",
    "sns.countplot(data=df_comp_val,x=var+'_bin',hue='status_group')\n",
    "plt.xticks(rotation=45);"
   ]
  },
  {
   "cell_type": "code",
   "execution_count": 25,
   "metadata": {},
   "outputs": [],
   "source": [
    "#df_comp_val = pd.concat([df_comp_val,pd.get_dummies(df_comp_val[var+'_bin'],prefix=var)],axis=1)"
   ]
  },
  {
   "cell_type": "code",
   "execution_count": 26,
   "metadata": {},
   "outputs": [],
   "source": [
    "df_comp_val = df_comp_val.drop(labels=[var+'_bin'],axis=1)"
   ]
  },
  {
   "cell_type": "markdown",
   "metadata": {},
   "source": [
    "### management"
   ]
  },
  {
   "cell_type": "code",
   "execution_count": 27,
   "metadata": {},
   "outputs": [
    {
     "data": {
      "text/plain": [
       "vwc                 50602\n",
       "wug                  8108\n",
       "water board          3688\n",
       "wua                  3118\n",
       "private operator     2504\n",
       "parastatal           2229\n",
       "water authority      1123\n",
       "other                1083\n",
       "company               859\n",
       "unknown               683\n",
       "other - school        126\n",
       "trust                 105\n",
       "Name: management, dtype: int64"
      ]
     },
     "execution_count": 27,
     "metadata": {},
     "output_type": "execute_result"
    }
   ],
   "source": [
    "var = 'management'\n",
    "var_red = var+'_reduced'\n",
    "\n",
    "limited_list = df_comp_val[var].value_counts()[6:]\n",
    "num_unique = len(df_comp_val[var].unique())\n",
    "\n",
    "df_comp_val[var].value_counts()"
   ]
  },
  {
   "cell_type": "code",
   "execution_count": 28,
   "metadata": {},
   "outputs": [
    {
     "data": {
      "text/plain": [
       "vwc                 50602\n",
       "wug                  8108\n",
       "other                3979\n",
       "water board          3688\n",
       "wua                  3118\n",
       "private operator     2504\n",
       "parastatal           2229\n",
       "Name: management_reduced, dtype: int64"
      ]
     },
     "execution_count": 28,
     "metadata": {},
     "output_type": "execute_result"
    }
   ],
   "source": [
    "df_comp_val[var_red] = df_comp_val[var]\n",
    "\n",
    "# Reduce number of categorical variables, encoding values with less than 1% prevalence to 'other'\n",
    "for idx in df_comp_val[df_comp_val[var_red].isin(limited_list.index.to_list())].index.tolist():\n",
    "    df_comp_val.loc[idx,var_red] = 'other'\n",
    "    \n",
    "df_comp_val[var_red].value_counts()"
   ]
  },
  {
   "cell_type": "code",
   "execution_count": 29,
   "metadata": {},
   "outputs": [
    {
     "data": {
      "image/png": "[encoded data removed]",
      "text/plain": [
       "<Figure size 1080x504 with 1 Axes>"
      ]
     },
     "metadata": {
      "needs_background": "light"
     },
     "output_type": "display_data"
    }
   ],
   "source": [
    "plt.figure(figsize=(15,7))\n",
    "\n",
    "sns.countplot(data=df_comp_val,x=var_red,hue='status_group')\n",
    "plt.xticks(rotation=45);"
   ]
  },
  {
   "cell_type": "code",
   "execution_count": 30,
   "metadata": {},
   "outputs": [],
   "source": [
    "df_comp_val = pd.concat([df_comp_val,pd.get_dummies(df_comp_val[var],prefix=var)],axis=1)"
   ]
  },
  {
   "cell_type": "code",
   "execution_count": 31,
   "metadata": {},
   "outputs": [],
   "source": [
    "df_comp_val = df_comp_val.drop(labels=[var,var_red],axis=1)"
   ]
  },
  {
   "cell_type": "markdown",
   "metadata": {},
   "source": [
    "### extraction_type_class"
   ]
  },
  {
   "cell_type": "code",
   "execution_count": 32,
   "metadata": {},
   "outputs": [
    {
     "data": {
      "text/plain": [
       "gravity         33262\n",
       "handpump        20603\n",
       "other            8097\n",
       "submersible      7772\n",
       "motorpump        3770\n",
       "rope pump         572\n",
       "wind-powered      152\n",
       "Name: extraction_type_class, dtype: int64"
      ]
     },
     "execution_count": 32,
     "metadata": {},
     "output_type": "execute_result"
    }
   ],
   "source": [
    "var = 'extraction_type_class'\n",
    "var_red = var+'_reduced'\n",
    "\n",
    "limited_list = df_comp_val[var].value_counts()[4:]\n",
    "num_unique = len(df_comp_val[var].unique())\n",
    "\n",
    "df_comp_val[var].value_counts()"
   ]
  },
  {
   "cell_type": "code",
   "execution_count": 33,
   "metadata": {},
   "outputs": [
    {
     "data": {
      "text/plain": [
       "gravity        33262\n",
       "handpump       20603\n",
       "other          12591\n",
       "submersible     7772\n",
       "Name: extraction_type_class_reduced, dtype: int64"
      ]
     },
     "execution_count": 33,
     "metadata": {},
     "output_type": "execute_result"
    }
   ],
   "source": [
    "df_comp_val[var_red] = df_comp_val[var]\n",
    "\n",
    "# Reduce number of categorical variables, encoding values with less than 1% prevalence to 'other'\n",
    "for idx in df_comp_val[df_comp_val[var_red].isin(limited_list.index.to_list())].index.tolist():\n",
    "    df_comp_val.loc[idx,var_red] = 'other'\n",
    "    \n",
    "df_comp_val[var_red].value_counts()"
   ]
  },
  {
   "cell_type": "code",
   "execution_count": 34,
   "metadata": {},
   "outputs": [
    {
     "data": {
      "image/png": "[encoded data removed]",
      "text/plain": [
       "<Figure size 1080x504 with 1 Axes>"
      ]
     },
     "metadata": {
      "needs_background": "light"
     },
     "output_type": "display_data"
    }
   ],
   "source": [
    "plt.figure(figsize=(15,7))\n",
    "\n",
    "sns.countplot(data=df_comp_val,x=var_red,hue='status_group')\n",
    "plt.xticks(rotation=45);"
   ]
  },
  {
   "cell_type": "code",
   "execution_count": 35,
   "metadata": {},
   "outputs": [],
   "source": [
    "df_comp_val = pd.concat([df_comp_val,pd.get_dummies(df_comp_val[var_red],prefix=var)],axis=1)"
   ]
  },
  {
   "cell_type": "code",
   "execution_count": 36,
   "metadata": {},
   "outputs": [],
   "source": [
    "df_comp_val = df_comp_val.drop(labels=[var,var_red],axis=1)"
   ]
  },
  {
   "cell_type": "markdown",
   "metadata": {},
   "source": [
    "### payment"
   ]
  },
  {
   "cell_type": "code",
   "execution_count": 37,
   "metadata": {},
   "outputs": [
    {
     "data": {
      "text/plain": [
       "never pay                31696\n",
       "pay per bucket           11261\n",
       "pay monthly              10396\n",
       "unknown                  10149\n",
       "pay when scheme fails     4842\n",
       "pay annually              4570\n",
       "other                     1314\n",
       "Name: payment, dtype: int64"
      ]
     },
     "execution_count": 37,
     "metadata": {},
     "output_type": "execute_result"
    }
   ],
   "source": [
    "var = 'payment'\n",
    "vvar_red = var+'_reduced'\n",
    "\n",
    "limited_list = df_comp_val[var].value_counts()[6:]\n",
    "num_unique = len(df_comp_val[var].unique())\n",
    "\n",
    "df_comp_val[var].value_counts()"
   ]
  },
  {
   "cell_type": "code",
   "execution_count": 38,
   "metadata": {},
   "outputs": [
    {
     "data": {
      "image/png": "[encoded data removed]",
      "text/plain": [
       "<Figure size 1080x504 with 1 Axes>"
      ]
     },
     "metadata": {
      "needs_background": "light"
     },
     "output_type": "display_data"
    }
   ],
   "source": [
    "plt.figure(figsize=(15,7))\n",
    "\n",
    "sns.countplot(data=df_comp_val,x=var,hue='status_group')\n",
    "plt.xticks(rotation=45);"
   ]
  },
  {
   "cell_type": "code",
   "execution_count": 39,
   "metadata": {},
   "outputs": [],
   "source": [
    "df_comp_val = pd.concat([df_comp_val,pd.get_dummies(df_comp_val[var],prefix=var)],axis=1)"
   ]
  },
  {
   "cell_type": "code",
   "execution_count": 40,
   "metadata": {},
   "outputs": [],
   "source": [
    "df_comp_val = df_comp_val.drop(labels=[var],axis=1)"
   ]
  },
  {
   "cell_type": "markdown",
   "metadata": {},
   "source": [
    "### water_quality"
   ]
  },
  {
   "cell_type": "code",
   "execution_count": 41,
   "metadata": {},
   "outputs": [
    {
     "name": "stdout",
     "output_type": "stream",
     "text": [
      "8 total labels, and 4 labels under 1.0%\n"
     ]
    },
    {
     "data": {
      "text/plain": [
       "coloured              623\n",
       "salty abandoned       423\n",
       "fluoride              244\n",
       "fluoride abandoned     23\n",
       "Name: water_quality, dtype: int64"
      ]
     },
     "execution_count": 41,
     "metadata": {},
     "output_type": "execute_result"
    }
   ],
   "source": [
    "var = 'water_quality'\n",
    "var_red = var+'_reduced'\n",
    "\n",
    "per = 0.01\n",
    "\n",
    "limited_list = df_comp_val[var].value_counts()[df_comp_val[var].value_counts(normalize=True)<=per]\n",
    "num_unique = len(df_comp_val[var].unique())\n",
    "\n",
    "print(str(num_unique)+' total labels, and '+str(len(limited_list.index))+' labels under '+str(per*100)+'%')\n",
    "\n",
    "df_comp_val[var][df_comp_val[var].isin(limited_list.index.to_list())].value_counts()"
   ]
  },
  {
   "cell_type": "code",
   "execution_count": 42,
   "metadata": {},
   "outputs": [
    {
     "data": {
      "text/plain": [
       "soft       63484\n",
       "salty       6081\n",
       "unknown     2345\n",
       "other       1313\n",
       "milky       1005\n",
       "Name: water_quality_reduced, dtype: int64"
      ]
     },
     "execution_count": 42,
     "metadata": {},
     "output_type": "execute_result"
    }
   ],
   "source": [
    "df_comp_val[var_red] = df_comp_val[var]\n",
    "\n",
    "# Reduce number of categorical variables, encoding values with less than 1% prevalence to 'other'\n",
    "for idx in df_comp_val[df_comp_val[var_red].isin(limited_list.index.to_list())].index.tolist():\n",
    "    df_comp_val.loc[idx,var_red] = 'other'\n",
    "    \n",
    "df_comp_val[var_red].value_counts()"
   ]
  },
  {
   "cell_type": "code",
   "execution_count": 43,
   "metadata": {},
   "outputs": [
    {
     "data": {
      "image/png": "[encoded data removed]",
      "text/plain": [
       "<Figure size 1080x504 with 1 Axes>"
      ]
     },
     "metadata": {
      "needs_background": "light"
     },
     "output_type": "display_data"
    }
   ],
   "source": [
    "plt.figure(figsize=(15,7))\n",
    "\n",
    "sns.countplot(data=df_comp_val,x=var_red,hue='status_group')\n",
    "plt.xticks(rotation=45);"
   ]
  },
  {
   "cell_type": "code",
   "execution_count": 44,
   "metadata": {},
   "outputs": [],
   "source": [
    "df_comp_val = pd.concat([df_comp_val,pd.get_dummies(df_comp_val[var_red],prefix=var)],axis=1)"
   ]
  },
  {
   "cell_type": "code",
   "execution_count": 45,
   "metadata": {},
   "outputs": [],
   "source": [
    "df_comp_val = df_comp_val.drop(labels=[var,var_red],axis=1)"
   ]
  },
  {
   "cell_type": "markdown",
   "metadata": {},
   "source": [
    "### quantity"
   ]
  },
  {
   "cell_type": "code",
   "execution_count": 46,
   "metadata": {},
   "outputs": [
    {
     "name": "stdout",
     "output_type": "stream",
     "text": [
      "5 total labels, and 0 labels under 1.0%\n"
     ]
    },
    {
     "data": {
      "text/plain": [
       "enough          41502\n",
       "insufficient    18894\n",
       "dry              7782\n",
       "seasonal         5075\n",
       "unknown           975\n",
       "Name: quantity, dtype: int64"
      ]
     },
     "execution_count": 46,
     "metadata": {},
     "output_type": "execute_result"
    }
   ],
   "source": [
    "var = 'quantity'\n",
    "var_red = var+'_reduced'\n",
    "\n",
    "per = 0.01\n",
    "\n",
    "limited_list = df_comp_val[var].value_counts()[df_comp_val[var].value_counts(normalize=True)<=per]\n",
    "num_unique = len(df_comp_val[var].unique())\n",
    "\n",
    "print(str(num_unique)+' total labels, and '+str(len(limited_list.index))+' labels under '+str(per*100)+'%')\n",
    "\n",
    "df_comp_val[var].value_counts()"
   ]
  },
  {
   "cell_type": "code",
   "execution_count": 47,
   "metadata": {},
   "outputs": [
    {
     "data": {
      "image/png": "[encoded data removed]",
      "text/plain": [
       "<Figure size 1080x504 with 1 Axes>"
      ]
     },
     "metadata": {
      "needs_background": "light"
     },
     "output_type": "display_data"
    }
   ],
   "source": [
    "plt.figure(figsize=(15,7))\n",
    "\n",
    "sns.countplot(data=df_comp_val,x=var,hue='status_group')\n",
    "plt.xticks(rotation=45);"
   ]
  },
  {
   "cell_type": "code",
   "execution_count": 48,
   "metadata": {},
   "outputs": [],
   "source": [
    "df_comp_val = pd.concat([df_comp_val,pd.get_dummies(df_comp_val[var],prefix=var)],axis=1)"
   ]
  },
  {
   "cell_type": "code",
   "execution_count": 49,
   "metadata": {},
   "outputs": [],
   "source": [
    "df_comp_val = df_comp_val.drop(labels=[var],axis=1)"
   ]
  },
  {
   "cell_type": "markdown",
   "metadata": {},
   "source": [
    "### source"
   ]
  },
  {
   "cell_type": "code",
   "execution_count": 50,
   "metadata": {},
   "outputs": [
    {
     "data": {
      "text/plain": [
       "spring                  21216\n",
       "shallow well            21127\n",
       "machine dbh             13814\n",
       "river                   11964\n",
       "rainwater harvesting     2862\n",
       "hand dtw                 1108\n",
       "lake                      950\n",
       "dam                       840\n",
       "other                     261\n",
       "unknown                    86\n",
       "Name: source, dtype: int64"
      ]
     },
     "execution_count": 50,
     "metadata": {},
     "output_type": "execute_result"
    }
   ],
   "source": [
    "var = 'source'\n",
    "var_red = var+'_reduced'\n",
    "\n",
    "limited_list = df_comp_val[var].value_counts()[4:]\n",
    "num_unique = len(df_comp_val[var].unique())\n",
    "\n",
    "df_comp_val[var].value_counts()"
   ]
  },
  {
   "cell_type": "code",
   "execution_count": 51,
   "metadata": {},
   "outputs": [
    {
     "data": {
      "text/plain": [
       "spring          21216\n",
       "shallow well    21127\n",
       "machine dbh     13814\n",
       "river           11964\n",
       "other            6107\n",
       "Name: source_reduced, dtype: int64"
      ]
     },
     "execution_count": 51,
     "metadata": {},
     "output_type": "execute_result"
    }
   ],
   "source": [
    "df_comp_val[var_red] = df_comp_val[var]\n",
    "\n",
    "# Reduce number of categorical variables, encoding values with less than 1% prevalence to 'other'\n",
    "for idx in df_comp_val[df_comp_val[var_red].isin(limited_list.index.to_list())].index.tolist():\n",
    "    df_comp_val.loc[idx,var_red] = 'other'\n",
    "    \n",
    "df_comp_val[var_red].value_counts()"
   ]
  },
  {
   "cell_type": "code",
   "execution_count": 52,
   "metadata": {},
   "outputs": [
    {
     "data": {
      "image/png": "[encoded data removed]",
      "text/plain": [
       "<Figure size 1080x504 with 1 Axes>"
      ]
     },
     "metadata": {
      "needs_background": "light"
     },
     "output_type": "display_data"
    }
   ],
   "source": [
    "plt.figure(figsize=(15,7))\n",
    "\n",
    "sns.countplot(data=df_comp_val,x=var_red,hue='status_group')\n",
    "plt.xticks(rotation=45);"
   ]
  },
  {
   "cell_type": "code",
   "execution_count": 53,
   "metadata": {},
   "outputs": [],
   "source": [
    "df_comp_val = pd.concat([df_comp_val,pd.get_dummies(df_comp_val[var],prefix=var)],axis=1)"
   ]
  },
  {
   "cell_type": "code",
   "execution_count": 54,
   "metadata": {},
   "outputs": [],
   "source": [
    "df_comp_val = df_comp_val.drop(labels=[var,var_red],axis=1)"
   ]
  },
  {
   "cell_type": "markdown",
   "metadata": {},
   "source": [
    "### source_class"
   ]
  },
  {
   "cell_type": "code",
   "execution_count": 55,
   "metadata": {},
   "outputs": [
    {
     "name": "stdout",
     "output_type": "stream",
     "text": [
      "3 total labels, and 1 labels under 1.0%\n"
     ]
    },
    {
     "data": {
      "text/plain": [
       "unknown    347\n",
       "Name: source_class, dtype: int64"
      ]
     },
     "execution_count": 55,
     "metadata": {},
     "output_type": "execute_result"
    }
   ],
   "source": [
    "var = 'source_class'\n",
    "var_red = var+'_reduced'\n",
    "\n",
    "per = 0.01\n",
    "\n",
    "limited_list = df_comp_val[var].value_counts()[df_comp_val[var].value_counts(normalize=True)<=per]\n",
    "num_unique = len(df_comp_val[var].unique())\n",
    "\n",
    "print(str(num_unique)+' total labels, and '+str(len(limited_list.index))+' labels under '+str(per*100)+'%')\n",
    "\n",
    "df_comp_val[var][df_comp_val[var].isin(limited_list.index.to_list())].value_counts()"
   ]
  },
  {
   "cell_type": "code",
   "execution_count": 56,
   "metadata": {},
   "outputs": [
    {
     "data": {
      "image/png": "[encoded data removed]",
      "text/plain": [
       "<Figure size 1080x504 with 1 Axes>"
      ]
     },
     "metadata": {
      "needs_background": "light"
     },
     "output_type": "display_data"
    }
   ],
   "source": [
    "plt.figure(figsize=(15,7))\n",
    "\n",
    "sns.countplot(data=df_comp_val,x=var,hue='status_group')\n",
    "plt.xticks(rotation=45);"
   ]
  },
  {
   "cell_type": "code",
   "execution_count": 57,
   "metadata": {},
   "outputs": [],
   "source": [
    "df_comp_val = pd.concat([df_comp_val,pd.get_dummies(df_comp_val[var],prefix=var)],axis=1)"
   ]
  },
  {
   "cell_type": "code",
   "execution_count": 58,
   "metadata": {},
   "outputs": [],
   "source": [
    "df_comp_val = df_comp_val.drop(labels=[var],axis=1)"
   ]
  },
  {
   "cell_type": "markdown",
   "metadata": {},
   "source": [
    "### waterpoint_type"
   ]
  },
  {
   "cell_type": "code",
   "execution_count": 59,
   "metadata": {},
   "outputs": [
    {
     "name": "stdout",
     "output_type": "stream",
     "text": [
      "7 total labels, and 3 labels under 5.0%\n"
     ]
    },
    {
     "data": {
      "text/plain": [
       "improved spring    959\n",
       "cattle trough      150\n",
       "dam                  8\n",
       "Name: waterpoint_type, dtype: int64"
      ]
     },
     "execution_count": 59,
     "metadata": {},
     "output_type": "execute_result"
    }
   ],
   "source": [
    "var = 'waterpoint_type'\n",
    "var_red = var+'_reduced'\n",
    "\n",
    "per = 0.05\n",
    "\n",
    "limited_list = df_comp_val[var].value_counts()[df_comp_val[var].value_counts(normalize=True)<=per]\n",
    "num_unique = len(df_comp_val[var].unique())\n",
    "\n",
    "print(str(num_unique)+' total labels, and '+str(len(limited_list.index))+' labels under '+str(per*100)+'%')\n",
    "\n",
    "df_comp_val[var][df_comp_val[var].isin(limited_list.index.to_list())].value_counts()"
   ]
  },
  {
   "cell_type": "code",
   "execution_count": 60,
   "metadata": {},
   "outputs": [
    {
     "data": {
      "text/plain": [
       "communal standpipe             35624\n",
       "hand pump                      21875\n",
       "other                           9121\n",
       "communal standpipe multiple     7608\n",
       "Name: waterpoint_type_reduced, dtype: int64"
      ]
     },
     "execution_count": 60,
     "metadata": {},
     "output_type": "execute_result"
    }
   ],
   "source": [
    "df_comp_val[var_red] = df_comp_val[var]\n",
    "\n",
    "# Reduce number of categorical variables, encoding values with less than 1% prevalence to 'other'\n",
    "for idx in df_comp_val[df_comp_val[var_red].isin(limited_list.index.to_list())].index.tolist():\n",
    "    df_comp_val.loc[idx,var_red] = 'other'\n",
    "    \n",
    "df_comp_val[var_red].value_counts()"
   ]
  },
  {
   "cell_type": "code",
   "execution_count": 61,
   "metadata": {},
   "outputs": [
    {
     "data": {
      "image/png": "[encoded data removed]",
      "text/plain": [
       "<Figure size 1080x504 with 1 Axes>"
      ]
     },
     "metadata": {
      "needs_background": "light"
     },
     "output_type": "display_data"
    }
   ],
   "source": [
    "plt.figure(figsize=(15,7))\n",
    "\n",
    "sns.countplot(data=df_comp_val,x=var_red,hue='status_group')\n",
    "plt.xticks(rotation=45);"
   ]
  },
  {
   "cell_type": "code",
   "execution_count": 62,
   "metadata": {},
   "outputs": [],
   "source": [
    "df_comp_val = pd.concat([df_comp_val,pd.get_dummies(df_comp_val[var_red],prefix=var)],axis=1)"
   ]
  },
  {
   "cell_type": "code",
   "execution_count": 63,
   "metadata": {},
   "outputs": [],
   "source": [
    "df_comp_val = df_comp_val.drop(labels=[var,var_red],axis=1)"
   ]
  },
  {
   "cell_type": "markdown",
   "metadata": {},
   "source": [
    "### pump_age"
   ]
  },
  {
   "cell_type": "code",
   "execution_count": 64,
   "metadata": {},
   "outputs": [
    {
     "name": "stdout",
     "output_type": "stream",
     "text": [
      "61 total labels, and 27 labels under 1.0%\n"
     ]
    },
    {
     "data": {
      "text/plain": [
       " 3    5208\n",
       " 2    4437\n",
       " 1    4281\n",
       " 4    3613\n",
       " 5    3612\n",
       "      ... \n",
       "-5       6\n",
       "-4       4\n",
       "-7       2\n",
       "-3       2\n",
       "-6       1\n",
       "Name: pump_age, Length: 61, dtype: int64"
      ]
     },
     "execution_count": 64,
     "metadata": {},
     "output_type": "execute_result"
    }
   ],
   "source": [
    "var = 'pump_age'\n",
    "var_red = var+'_reduced'\n",
    "\n",
    "per = 0.01\n",
    "\n",
    "limited_list = df_comp_val[var].value_counts()[df_comp_val[var].value_counts(normalize=True)<=per]\n",
    "num_unique = len(df_comp_val[var].unique())\n",
    "\n",
    "print(str(num_unique)+' total labels, and '+str(len(limited_list.index))+' labels under '+str(per*100)+'%')\n",
    "\n",
    "df_comp_val[var].value_counts()"
   ]
  },
  {
   "cell_type": "code",
   "execution_count": 65,
   "metadata": {},
   "outputs": [],
   "source": [
    "for idx in df_comp_val[df_comp_val[var]<0].index.tolist():\n",
    "    df_comp_val.loc[idx,var] = 0"
   ]
  },
  {
   "cell_type": "code",
   "execution_count": 66,
   "metadata": {},
   "outputs": [
    {
     "data": {
      "image/png": "[encoded data removed]",
      "text/plain": [
       "<Figure size 1080x504 with 1 Axes>"
      ]
     },
     "metadata": {
      "needs_background": "light"
     },
     "output_type": "display_data"
    }
   ],
   "source": [
    "plt.figure(figsize=(15,7))\n",
    "\n",
    "sns.countplot(data=df_comp_val,x=var,hue='status_group')\n",
    "plt.xticks(rotation=45);"
   ]
  },
  {
   "cell_type": "markdown",
   "metadata": {},
   "source": [
    "## Feature Review"
   ]
  },
  {
   "cell_type": "code",
   "execution_count": 67,
   "metadata": {},
   "outputs": [
    {
     "data": {
      "text/html": [
       "<div>\n",
       "<style scoped>\n",
       "    .dataframe tbody tr th:only-of-type {\n",
       "        vertical-align: middle;\n",
       "    }\n",
       "\n",
       "    .dataframe tbody tr th {\n",
       "        vertical-align: top;\n",
       "    }\n",
       "\n",
       "    .dataframe thead th {\n",
       "        text-align: right;\n",
       "    }\n",
       "</style>\n",
       "<table border=\"1\" class=\"dataframe\">\n",
       "  <thead>\n",
       "    <tr style=\"text-align: right;\">\n",
       "      <th></th>\n",
       "      <th>id</th>\n",
       "      <th>amount_tsh</th>\n",
       "      <th>longitude</th>\n",
       "      <th>latitude</th>\n",
       "      <th>district_code</th>\n",
       "      <th>population</th>\n",
       "      <th>public_meeting</th>\n",
       "      <th>permit</th>\n",
       "      <th>pump_age</th>\n",
       "      <th>status_group</th>\n",
       "      <th>...</th>\n",
       "      <th>source_shallow well</th>\n",
       "      <th>source_spring</th>\n",
       "      <th>source_unknown</th>\n",
       "      <th>source_class_groundwater</th>\n",
       "      <th>source_class_surface</th>\n",
       "      <th>source_class_unknown</th>\n",
       "      <th>waterpoint_type_communal standpipe</th>\n",
       "      <th>waterpoint_type_communal standpipe multiple</th>\n",
       "      <th>waterpoint_type_hand pump</th>\n",
       "      <th>waterpoint_type_other</th>\n",
       "    </tr>\n",
       "  </thead>\n",
       "  <tbody>\n",
       "    <tr>\n",
       "      <th>0</th>\n",
       "      <td>69572</td>\n",
       "      <td>6000.0</td>\n",
       "      <td>34.938093</td>\n",
       "      <td>-9.856322</td>\n",
       "      <td>5</td>\n",
       "      <td>109</td>\n",
       "      <td>1</td>\n",
       "      <td>0</td>\n",
       "      <td>12</td>\n",
       "      <td>functional</td>\n",
       "      <td>...</td>\n",
       "      <td>0</td>\n",
       "      <td>1</td>\n",
       "      <td>0</td>\n",
       "      <td>1</td>\n",
       "      <td>0</td>\n",
       "      <td>0</td>\n",
       "      <td>1</td>\n",
       "      <td>0</td>\n",
       "      <td>0</td>\n",
       "      <td>0</td>\n",
       "    </tr>\n",
       "    <tr>\n",
       "      <th>1</th>\n",
       "      <td>8776</td>\n",
       "      <td>0.0</td>\n",
       "      <td>34.698766</td>\n",
       "      <td>-2.147466</td>\n",
       "      <td>2</td>\n",
       "      <td>280</td>\n",
       "      <td>0</td>\n",
       "      <td>1</td>\n",
       "      <td>3</td>\n",
       "      <td>functional</td>\n",
       "      <td>...</td>\n",
       "      <td>0</td>\n",
       "      <td>0</td>\n",
       "      <td>0</td>\n",
       "      <td>0</td>\n",
       "      <td>1</td>\n",
       "      <td>0</td>\n",
       "      <td>1</td>\n",
       "      <td>0</td>\n",
       "      <td>0</td>\n",
       "      <td>0</td>\n",
       "    </tr>\n",
       "    <tr>\n",
       "      <th>2</th>\n",
       "      <td>34310</td>\n",
       "      <td>25.0</td>\n",
       "      <td>37.460664</td>\n",
       "      <td>-3.821329</td>\n",
       "      <td>4</td>\n",
       "      <td>250</td>\n",
       "      <td>1</td>\n",
       "      <td>1</td>\n",
       "      <td>4</td>\n",
       "      <td>functional</td>\n",
       "      <td>...</td>\n",
       "      <td>0</td>\n",
       "      <td>0</td>\n",
       "      <td>0</td>\n",
       "      <td>0</td>\n",
       "      <td>1</td>\n",
       "      <td>0</td>\n",
       "      <td>0</td>\n",
       "      <td>1</td>\n",
       "      <td>0</td>\n",
       "      <td>0</td>\n",
       "    </tr>\n",
       "  </tbody>\n",
       "</table>\n",
       "<p>3 rows × 76 columns</p>\n",
       "</div>"
      ],
      "text/plain": [
       "      id  amount_tsh  longitude  latitude  district_code  population  \\\n",
       "0  69572      6000.0  34.938093 -9.856322              5         109   \n",
       "1   8776         0.0  34.698766 -2.147466              2         280   \n",
       "2  34310        25.0  37.460664 -3.821329              4         250   \n",
       "\n",
       "   public_meeting  permit  pump_age status_group  ...  source_shallow well  \\\n",
       "0               1       0        12   functional  ...                    0   \n",
       "1               0       1         3   functional  ...                    0   \n",
       "2               1       1         4   functional  ...                    0   \n",
       "\n",
       "   source_spring  source_unknown  source_class_groundwater  \\\n",
       "0              1               0                         1   \n",
       "1              0               0                         0   \n",
       "2              0               0                         0   \n",
       "\n",
       "   source_class_surface  source_class_unknown  \\\n",
       "0                     0                     0   \n",
       "1                     1                     0   \n",
       "2                     1                     0   \n",
       "\n",
       "   waterpoint_type_communal standpipe  \\\n",
       "0                                   1   \n",
       "1                                   1   \n",
       "2                                   0   \n",
       "\n",
       "   waterpoint_type_communal standpipe multiple  waterpoint_type_hand pump  \\\n",
       "0                                            0                          0   \n",
       "1                                            0                          0   \n",
       "2                                            1                          0   \n",
       "\n",
       "   waterpoint_type_other  \n",
       "0                      0  \n",
       "1                      0  \n",
       "2                      0  \n",
       "\n",
       "[3 rows x 76 columns]"
      ]
     },
     "execution_count": 67,
     "metadata": {},
     "output_type": "execute_result"
    }
   ],
   "source": [
    "df_comp_val.iloc[:3,:]"
   ]
  },
  {
   "cell_type": "code",
   "execution_count": 68,
   "metadata": {},
   "outputs": [
    {
     "name": "stdout",
     "output_type": "stream",
     "text": [
      "<class 'pandas.core.frame.DataFrame'>\n",
      "RangeIndex: 74228 entries, 0 to 74227\n",
      "Data columns (total 76 columns):\n",
      " #   Column                                       Non-Null Count  Dtype  \n",
      "---  ------                                       --------------  -----  \n",
      " 0   id                                           74228 non-null  int64  \n",
      " 1   amount_tsh                                   74228 non-null  float64\n",
      " 2   longitude                                    74228 non-null  float64\n",
      " 3   latitude                                     74228 non-null  float64\n",
      " 4   district_code                                74228 non-null  int64  \n",
      " 5   population                                   74228 non-null  int64  \n",
      " 6   public_meeting                               74228 non-null  int64  \n",
      " 7   permit                                       74228 non-null  int64  \n",
      " 8   pump_age                                     74228 non-null  int64  \n",
      " 9   status_group                                 59384 non-null  object \n",
      " 10  basin_Internal                               74228 non-null  uint8  \n",
      " 11  basin_Lake Nyasa                             74228 non-null  uint8  \n",
      " 12  basin_Lake Rukwa                             74228 non-null  uint8  \n",
      " 13  basin_Lake Tanganyika                        74228 non-null  uint8  \n",
      " 14  basin_Lake Victoria                          74228 non-null  uint8  \n",
      " 15  basin_Pangani                                74228 non-null  uint8  \n",
      " 16  basin_Rufiji                                 74228 non-null  uint8  \n",
      " 17  basin_Ruvuma / Southern Coast                74228 non-null  uint8  \n",
      " 18  basin_Wami / Ruvu                            74228 non-null  uint8  \n",
      " 19  region_Arusha                                74228 non-null  uint8  \n",
      " 20  region_Kagera                                74228 non-null  uint8  \n",
      " 21  region_Kilimanjaro                           74228 non-null  uint8  \n",
      " 22  region_Mbeya                                 74228 non-null  uint8  \n",
      " 23  region_Morogoro                              74228 non-null  uint8  \n",
      " 24  region_Njombe                                74228 non-null  uint8  \n",
      " 25  region_other                                 74228 non-null  uint8  \n",
      " 26  management_company                           74228 non-null  uint8  \n",
      " 27  management_other                             74228 non-null  uint8  \n",
      " 28  management_other - school                    74228 non-null  uint8  \n",
      " 29  management_parastatal                        74228 non-null  uint8  \n",
      " 30  management_private operator                  74228 non-null  uint8  \n",
      " 31  management_trust                             74228 non-null  uint8  \n",
      " 32  management_unknown                           74228 non-null  uint8  \n",
      " 33  management_vwc                               74228 non-null  uint8  \n",
      " 34  management_water authority                   74228 non-null  uint8  \n",
      " 35  management_water board                       74228 non-null  uint8  \n",
      " 36  management_wua                               74228 non-null  uint8  \n",
      " 37  management_wug                               74228 non-null  uint8  \n",
      " 38  extraction_type_class_gravity                74228 non-null  uint8  \n",
      " 39  extraction_type_class_handpump               74228 non-null  uint8  \n",
      " 40  extraction_type_class_other                  74228 non-null  uint8  \n",
      " 41  extraction_type_class_submersible            74228 non-null  uint8  \n",
      " 42  payment_never pay                            74228 non-null  uint8  \n",
      " 43  payment_other                                74228 non-null  uint8  \n",
      " 44  payment_pay annually                         74228 non-null  uint8  \n",
      " 45  payment_pay monthly                          74228 non-null  uint8  \n",
      " 46  payment_pay per bucket                       74228 non-null  uint8  \n",
      " 47  payment_pay when scheme fails                74228 non-null  uint8  \n",
      " 48  payment_unknown                              74228 non-null  uint8  \n",
      " 49  water_quality_milky                          74228 non-null  uint8  \n",
      " 50  water_quality_other                          74228 non-null  uint8  \n",
      " 51  water_quality_salty                          74228 non-null  uint8  \n",
      " 52  water_quality_soft                           74228 non-null  uint8  \n",
      " 53  water_quality_unknown                        74228 non-null  uint8  \n",
      " 54  quantity_dry                                 74228 non-null  uint8  \n",
      " 55  quantity_enough                              74228 non-null  uint8  \n",
      " 56  quantity_insufficient                        74228 non-null  uint8  \n",
      " 57  quantity_seasonal                            74228 non-null  uint8  \n",
      " 58  quantity_unknown                             74228 non-null  uint8  \n",
      " 59  source_dam                                   74228 non-null  uint8  \n",
      " 60  source_hand dtw                              74228 non-null  uint8  \n",
      " 61  source_lake                                  74228 non-null  uint8  \n",
      " 62  source_machine dbh                           74228 non-null  uint8  \n",
      " 63  source_other                                 74228 non-null  uint8  \n",
      " 64  source_rainwater harvesting                  74228 non-null  uint8  \n",
      " 65  source_river                                 74228 non-null  uint8  \n",
      " 66  source_shallow well                          74228 non-null  uint8  \n",
      " 67  source_spring                                74228 non-null  uint8  \n",
      " 68  source_unknown                               74228 non-null  uint8  \n",
      " 69  source_class_groundwater                     74228 non-null  uint8  \n",
      " 70  source_class_surface                         74228 non-null  uint8  \n",
      " 71  source_class_unknown                         74228 non-null  uint8  \n",
      " 72  waterpoint_type_communal standpipe           74228 non-null  uint8  \n",
      " 73  waterpoint_type_communal standpipe multiple  74228 non-null  uint8  \n",
      " 74  waterpoint_type_hand pump                    74228 non-null  uint8  \n",
      " 75  waterpoint_type_other                        74228 non-null  uint8  \n",
      "dtypes: float64(3), int64(6), object(1), uint8(66)\n",
      "memory usage: 10.3+ MB\n"
     ]
    }
   ],
   "source": [
    "df_comp_val.info()"
   ]
  },
  {
   "cell_type": "code",
   "execution_count": 69,
   "metadata": {},
   "outputs": [],
   "source": [
    "train_index = df_train_val.id.tolist()\n",
    "test_index = df_test_val.id.tolist()\n",
    "\n",
    "df_train_val_new = df_comp_val[df_comp_val.id.isin(train_index)]\n",
    "\n",
    "\n",
    "df_train_val_new.to_csv(data_processed_dir+'training_data_encoded_impv1.csv',index=False)\n",
    "\n",
    "df_test_val_new = df_comp_val[df_comp_val.id.isin(test_index)]\n",
    "df_test_val_new.to_csv(data_processed_dir+'test_data_encoded_impv1.csv',index=False)"
   ]
  }
 ],
 "metadata": {
  "kernelspec": {
   "display_name": "Python 3",
   "language": "python",
   "name": "python3"
  },
  "language_info": {
   "codemirror_mode": {
    "name": "ipython",
    "version": 3
   },
   "file_extension": ".py",
   "mimetype": "text/x-python",
   "name": "python",
   "nbconvert_exporter": "python",
   "pygments_lexer": "ipython3",
   "version": "3.9.1"
  }
 },
 "nbformat": 4,
 "nbformat_minor": 4
}
